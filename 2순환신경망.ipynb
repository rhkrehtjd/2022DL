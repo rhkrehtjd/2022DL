{
 "cells": [
  {
   "cell_type": "code",
   "execution_count": 4,
   "id": "2eece48e-5748-475e-a5a9-a7060f5a8fdf",
   "metadata": {
    "id": "2eece48e-5748-475e-a5a9-a7060f5a8fdf"
   },
   "outputs": [],
   "source": [
    "import torch\n",
    "import numpy as np\n",
    "import pandas as pd\n",
    "import matplotlib.pyplot as plt\n",
    "import time "
   ]
  },
  {
   "cell_type": "code",
   "execution_count": 5,
   "id": "c06f7544-de47-46e5-9956-059b626e4f0d",
   "metadata": {
    "id": "c06f7544-de47-46e5-9956-059b626e4f0d"
   },
   "outputs": [],
   "source": [
    "def f(txt,mapping):\n",
    "    return [mapping[key] for key in txt] \n",
    "soft = torch.nn.Softmax(dim=1)"
   ]
  },
  {
   "cell_type": "markdown",
   "id": "7a44abfb-8416-404c-86fa-40c0f979d47d",
   "metadata": {
    "id": "7a44abfb-8416-404c-86fa-40c0f979d47d",
    "jp-MarkdownHeadingCollapsed": true,
    "tags": []
   },
   "source": [
    "## 예비학습: `net.parameters()`의 의미 "
   ]
  },
  {
   "cell_type": "markdown",
   "id": "895f4d74-8598-41a8-aea4-30417986626b",
   "metadata": {
    "id": "895f4d74-8598-41a8-aea4-30417986626b"
   },
   "source": [
    "9월27일 강의노트 중 \"`net.parameters()`의 의미?\"를 설명한다. "
   ]
  },
  {
   "cell_type": "markdown",
   "id": "8beb271b-c401-4423-b2a2-74c31f8c938e",
   "metadata": {
    "id": "8beb271b-c401-4423-b2a2-74c31f8c938e"
   },
   "source": [
    "`-` iterator, generator의 개념필요 \n",
    "- https://guebin.github.io/IP2022/2022/06/06/(14주차)-6월6일.html, 클래스공부 8단계 참고 \n"
   ]
  },
  {
   "cell_type": "markdown",
   "id": "4f537215-aee0-4f34-af4e-0fa2c226f95d",
   "metadata": {
    "id": "4f537215-aee0-4f34-af4e-0fa2c226f95d"
   },
   "source": [
    "`-` 탐구시작: 네트워크 생성 "
   ]
  },
  {
   "cell_type": "code",
   "execution_count": 13,
   "id": "0539ceed-9598-4835-85da-c68ed84df70d",
   "metadata": {
    "id": "0539ceed-9598-4835-85da-c68ed84df70d",
    "outputId": "c81a1cc9-a4a3-4ae5-bc96-3c1ea925a822"
   },
   "outputs": [
    {
     "data": {
      "text/plain": [
       "Parameter containing:\n",
       "tensor([[-0.3987]], requires_grad=True)"
      ]
     },
     "execution_count": 13,
     "metadata": {},
     "output_type": "execute_result"
    }
   ],
   "source": [
    "net = torch.nn.Linear(in_features=1,out_features=1)\n",
    "net.weight"
   ]
  },
  {
   "cell_type": "code",
   "execution_count": 14,
   "id": "e0d984a8-2e89-4ec3-9868-1039d7aeea57",
   "metadata": {
    "id": "e0d984a8-2e89-4ec3-9868-1039d7aeea57",
    "outputId": "7c8e2116-7521-41ad-be51-511b1b4d9694"
   },
   "outputs": [
    {
     "data": {
      "text/plain": [
       "Parameter containing:\n",
       "tensor([0.2192], requires_grad=True)"
      ]
     },
     "execution_count": 14,
     "metadata": {},
     "output_type": "execute_result"
    }
   ],
   "source": [
    "net.bias"
   ]
  },
  {
   "cell_type": "markdown",
   "id": "0a621e92-6d66-4bf7-a161-5b7d56ffe5b3",
   "metadata": {
    "id": "0a621e92-6d66-4bf7-a161-5b7d56ffe5b3"
   },
   "source": [
    "`-` torch.optim.SGD? 를 확인하면 params에 대한설명에 아래와 같이 되어있음 \n",
    "\n",
    "```\n",
    "params (iterable): iterable of parameters to optimize or dicts defining\n",
    "        parameter groups\n",
    "```"
   ]
  },
  {
   "cell_type": "markdown",
   "id": "28ec533c-fbad-4fa4-9569-de4cbcc5ee1d",
   "metadata": {
    "id": "28ec533c-fbad-4fa4-9569-de4cbcc5ee1d"
   },
   "source": [
    "`-` 설명을 읽어보면 params에 iterable object를 넣으라고 되어있음 (iterable object는 숨겨진 명령어로 `__iter__`를 가지고 있는 오브젝트를 의미)"
   ]
  },
  {
   "cell_type": "code",
   "execution_count": null,
   "id": "b6409ab2-6a69-47e3-9d96-4ceb2a62e3e9",
   "metadata": {
    "id": "b6409ab2-6a69-47e3-9d96-4ceb2a62e3e9",
    "outputId": "423f4031-ee6a-4578-ede0-fc9d748f7dfc"
   },
   "outputs": [
    {
     "data": {
      "text/plain": [
       "{'__iter__'}"
      ]
     },
     "execution_count": 188,
     "metadata": {},
     "output_type": "execute_result"
    }
   ],
   "source": [
    "set(dir(net.parameters())) & {'__iter__'}"
   ]
  },
  {
   "cell_type": "markdown",
   "id": "3d5b3c50-ad2c-4d49-a5f1-ec9b4df6c79e",
   "metadata": {
    "id": "3d5b3c50-ad2c-4d49-a5f1-ec9b4df6c79e"
   },
   "source": [
    "`-` 무슨의미? "
   ]
  },
  {
   "cell_type": "code",
   "execution_count": null,
   "id": "1a8913a2-61a6-4a19-b839-910b9688a7c1",
   "metadata": {
    "id": "1a8913a2-61a6-4a19-b839-910b9688a7c1",
    "outputId": "e00e0758-bd32-4f01-b7d3-5039bebcf61e"
   },
   "outputs": [
    {
     "name": "stdout",
     "output_type": "stream",
     "text": [
      "Parameter containing:\n",
      "tensor([[0.4607]], requires_grad=True)\n",
      "Parameter containing:\n",
      "tensor([-0.1656], requires_grad=True)\n"
     ]
    }
   ],
   "source": [
    "for param in net.parameters():\n",
    "    print(param)"
   ]
  },
  {
   "cell_type": "markdown",
   "id": "eb553ff3-d887-475d-9002-84f8426fd31c",
   "metadata": {
    "id": "eb553ff3-d887-475d-9002-84f8426fd31c"
   },
   "source": [
    "`-` 그냥 이건 이런느낌인데? "
   ]
  },
  {
   "cell_type": "code",
   "execution_count": null,
   "id": "29a0a97c-2d89-41bb-8238-490b814b647f",
   "metadata": {
    "id": "29a0a97c-2d89-41bb-8238-490b814b647f",
    "outputId": "8dfc27b6-c5d4-4d90-e673-0538a9896666"
   },
   "outputs": [
    {
     "name": "stdout",
     "output_type": "stream",
     "text": [
      "Parameter containing:\n",
      "tensor([[0.4607]], requires_grad=True)\n",
      "Parameter containing:\n",
      "tensor([-0.1656], requires_grad=True)\n"
     ]
    }
   ],
   "source": [
    "for param in [net.weight,net.bias]:\n",
    "    print(param)"
   ]
  },
  {
   "cell_type": "markdown",
   "id": "667202d4-9b87-4419-9c45-9d61091e60ea",
   "metadata": {
    "id": "667202d4-9b87-4419-9c45-9d61091e60ea"
   },
   "source": [
    "결론: `net.parameters()`는 net오브젝트에서 학습할 파라메터를 모두 모아 리스트같은 iterable object로 만드는 함수라 이해할 수 있다. "
   ]
  },
  {
   "cell_type": "markdown",
   "id": "84497c55-40c3-4c44-85a2-55c8ec9cc8a4",
   "metadata": {
    "id": "84497c55-40c3-4c44-85a2-55c8ec9cc8a4"
   },
   "source": [
    "`-` 응용예제1"
   ]
  },
  {
   "cell_type": "code",
   "execution_count": null,
   "id": "c22dc68d-a65b-405a-b05b-b346b0cb09dc",
   "metadata": {
    "id": "c22dc68d-a65b-405a-b05b-b346b0cb09dc"
   },
   "outputs": [],
   "source": [
    "df = pd.read_csv(\"https://raw.githubusercontent.com/guebin/DL2022/master/_notebooks/2022-09-22-regression.csv\") \n",
    "x=torch.tensor(df.x).float().reshape(100,1)\n",
    "y=torch.tensor(df.y).float().reshape(100,1)"
   ]
  },
  {
   "cell_type": "code",
   "execution_count": null,
   "id": "7c8795b3-23f6-4b5d-b0f1-29e53a038a84",
   "metadata": {
    "id": "7c8795b3-23f6-4b5d-b0f1-29e53a038a84"
   },
   "outputs": [],
   "source": [
    "b = torch.tensor(-5.0,requires_grad=True)\n",
    "w = torch.tensor(10.0,requires_grad=True)\n",
    "optimizr = torch.optim.SGD([b,w],lr=1/10) ## 이렇게 전달하면 됩니당!!"
   ]
  },
  {
   "cell_type": "code",
   "execution_count": null,
   "id": "6d3e86dd-4b82-4b9b-b48f-b9fe8aba9a27",
   "metadata": {
    "id": "6d3e86dd-4b82-4b9b-b48f-b9fe8aba9a27",
    "outputId": "bb6466b6-56f2-4072-d636-e145eec4987a"
   },
   "outputs": [
    {
     "data": {
      "text/plain": [
       "[<matplotlib.lines.Line2D at 0x7f99cc3e9b10>]"
      ]
     },
     "execution_count": 197,
     "metadata": {},
     "output_type": "execute_result"
    },
    {
     "data": {
      "image/png": "[encoded data removed]",
      "text/plain": [
       "<Figure size 432x288 with 1 Axes>"
      ]
     },
     "metadata": {
      "needs_background": "light"
     },
     "output_type": "display_data"
    }
   ],
   "source": [
    "plt.plot(x,y,'o')\n",
    "plt.plot(x,(w*x+b).data,'--')"
   ]
  },
  {
   "cell_type": "code",
   "execution_count": null,
   "id": "f727a7e0-5ff1-44a1-8eb9-6d8c8570b242",
   "metadata": {
    "id": "f727a7e0-5ff1-44a1-8eb9-6d8c8570b242"
   },
   "outputs": [],
   "source": [
    "for epoc in range(30):\n",
    "    ## step1\n",
    "    yhat = b+ w*x \n",
    "    ## step2\n",
    "    loss = torch.mean((y-yhat)**2)\n",
    "    ## step3\n",
    "    loss.backward()\n",
    "    ## step4 \n",
    "    optimizr.step()\n",
    "    optimizr.zero_grad()"
   ]
  },
  {
   "cell_type": "code",
   "execution_count": null,
   "id": "9c945e57-3556-4a0e-b71a-4d3d7734704a",
   "metadata": {
    "id": "9c945e57-3556-4a0e-b71a-4d3d7734704a",
    "outputId": "3368af57-23ef-41a9-8df4-d81e1d453dbd"
   },
   "outputs": [
    {
     "data": {
      "text/plain": [
       "[<matplotlib.lines.Line2D at 0x7f99cc2fe310>]"
      ]
     },
     "execution_count": 199,
     "metadata": {},
     "output_type": "execute_result"
    },
    {
     "data": {
      "image/png": "[encoded data removed]",
      "text/plain": [
       "<Figure size 432x288 with 1 Axes>"
      ]
     },
     "metadata": {
      "needs_background": "light"
     },
     "output_type": "display_data"
    }
   ],
   "source": [
    "plt.plot(x,y,'o')\n",
    "plt.plot(x,(w*x+b).data,'--')"
   ]
  },
  {
   "cell_type": "markdown",
   "id": "b76630ee-fcb8-4bf5-8d65-e0f1cd9e678a",
   "metadata": {
    "id": "b76630ee-fcb8-4bf5-8d65-e0f1cd9e678a"
   },
   "source": [
    "`-` 응용예제2"
   ]
  },
  {
   "cell_type": "code",
   "execution_count": null,
   "id": "1b14e5f4-42c6-4581-af46-7a1cdf4e79b4",
   "metadata": {
    "id": "1b14e5f4-42c6-4581-af46-7a1cdf4e79b4"
   },
   "outputs": [],
   "source": [
    "df = pd.read_csv(\"https://raw.githubusercontent.com/guebin/DL2022/master/_notebooks/2022-09-22-regression.csv\") \n",
    "x = torch.tensor(df.x).float().reshape(100,1)\n",
    "y = torch.tensor(df.y).float().reshape(100,1)\n",
    "X = torch.concat([torch.ones_like(x),x],axis=1)"
   ]
  },
  {
   "cell_type": "code",
   "execution_count": null,
   "id": "df8d7e2c-ff78-4c5f-a6c8-2e3cc9beff5e",
   "metadata": {
    "id": "df8d7e2c-ff78-4c5f-a6c8-2e3cc9beff5e"
   },
   "outputs": [],
   "source": [
    "What = torch.tensor([[-5.0],[10.0]],requires_grad=True)\n",
    "optimizr = torch.optim.SGD([What],lr=1/10) # What은 iterable 하지 않지만 [What]은 iterable 함"
   ]
  },
  {
   "cell_type": "code",
   "execution_count": null,
   "id": "848de8aa-c650-4017-b812-2bc7ef2e9d83",
   "metadata": {
    "id": "848de8aa-c650-4017-b812-2bc7ef2e9d83",
    "outputId": "ce0d9691-84b8-4231-b665-7437ab87ffb6"
   },
   "outputs": [
    {
     "data": {
      "text/plain": [
       "tensor([[-5.],\n",
       "        [10.]], requires_grad=True)"
      ]
     },
     "execution_count": 203,
     "metadata": {},
     "output_type": "execute_result"
    }
   ],
   "source": [
    "What"
   ]
  },
  {
   "cell_type": "code",
   "execution_count": null,
   "id": "2b01ba7b-e728-4889-88a3-4c3c85156ca2",
   "metadata": {
    "id": "2b01ba7b-e728-4889-88a3-4c3c85156ca2",
    "outputId": "666eaf51-cb20-42a3-d374-d81e44f5d67a"
   },
   "outputs": [
    {
     "data": {
      "text/plain": [
       "[<matplotlib.lines.Line2D at 0x7f99cc2c4790>]"
      ]
     },
     "execution_count": 204,
     "metadata": {},
     "output_type": "execute_result"
    },
    {
     "data": {
      "image/png": "[encoded data removed]",
      "text/plain": [
       "<Figure size 432x288 with 1 Axes>"
      ]
     },
     "metadata": {
      "needs_background": "light"
     },
     "output_type": "display_data"
    }
   ],
   "source": [
    "plt.plot(x,y,'o')\n",
    "plt.plot(x,(X@What).data,'--')"
   ]
  },
  {
   "cell_type": "code",
   "execution_count": null,
   "id": "7a7973f0-ce2b-45dd-bc4b-0be702a20941",
   "metadata": {
    "id": "7a7973f0-ce2b-45dd-bc4b-0be702a20941"
   },
   "outputs": [],
   "source": [
    "for epoc in range(30):\n",
    "    ## step1\n",
    "    yhat = X@What \n",
    "    ## step2 \n",
    "    loss = torch.mean((y-yhat)**2)\n",
    "    ## step3\n",
    "    loss.backward()\n",
    "    ## step4 \n",
    "    optimizr.step()\n",
    "    optimizr.zero_grad() "
   ]
  },
  {
   "cell_type": "code",
   "execution_count": null,
   "id": "c5e1d85d-c1b6-4eb2-bea0-5ce2c97d9225",
   "metadata": {
    "id": "c5e1d85d-c1b6-4eb2-bea0-5ce2c97d9225",
    "outputId": "6f531e89-5e27-4ca0-817a-b01aefafd320"
   },
   "outputs": [
    {
     "data": {
      "text/plain": [
       "[<matplotlib.lines.Line2D at 0x7f99cc2907d0>]"
      ]
     },
     "execution_count": 206,
     "metadata": {},
     "output_type": "execute_result"
    },
    {
     "data": {
      "image/png": "[encoded data removed]",
      "text/plain": [
       "<Figure size 432x288 with 1 Axes>"
      ]
     },
     "metadata": {
      "needs_background": "light"
     },
     "output_type": "display_data"
    }
   ],
   "source": [
    "plt.plot(x,y,'o')\n",
    "plt.plot(x,(X@What).data,'--')"
   ]
  },
  {
   "cell_type": "markdown",
   "id": "5555a252-a3eb-4bab-9175-3f05c251b179",
   "metadata": {
    "id": "5555a252-a3eb-4bab-9175-3f05c251b179",
    "tags": []
   },
   "source": [
    "## Exam4: AbAcAd"
   ]
  },
  {
   "cell_type": "code",
   "execution_count": 6,
   "id": "81f721ac-7bc9-41c6-b129-e00c1ce0e3eb",
   "metadata": {
    "id": "81f721ac-7bc9-41c6-b129-e00c1ce0e3eb",
    "outputId": "8354a894-3549-4da9-cee1-e632e91101d9"
   },
   "outputs": [],
   "source": [
    "txt = list('AbAcAd')*100"
   ]
  },
  {
   "cell_type": "code",
   "execution_count": 7,
   "id": "3a6aa4b9-4bf1-4077-9568-ea4756fcdc7b",
   "metadata": {
    "id": "3a6aa4b9-4bf1-4077-9568-ea4756fcdc7b"
   },
   "outputs": [],
   "source": [
    "txt_x = txt[:-1]\n",
    "txt_y = txt[1:]"
   ]
  },
  {
   "cell_type": "code",
   "execution_count": 8,
   "id": "a6f772ca-268e-4eb4-b29a-3d8d26375f48",
   "metadata": {
    "id": "a6f772ca-268e-4eb4-b29a-3d8d26375f48"
   },
   "outputs": [],
   "source": [
    "x = torch.tensor(f(txt_x,{'A':0,'b':1,'c':2,'d':3}))\n",
    "y = torch.tensor(f(txt_y,{'A':0,'b':1,'c':2,'d':3}))"
   ]
  },
  {
   "cell_type": "code",
   "execution_count": 9,
   "id": "0f8acf01-ce7a-412d-b47d-07c8006eecbc",
   "metadata": {
    "id": "0f8acf01-ce7a-412d-b47d-07c8006eecbc"
   },
   "outputs": [],
   "source": [
    "# 이번엔 원핫인코딩형태까지 미리 정리하자. (임베딩 레이어 안쓸예정)\n",
    "x= torch.nn.functional.one_hot(x).float()\n",
    "y= torch.nn.functional.one_hot(y).float()"
   ]
  },
  {
   "cell_type": "markdown",
   "id": "34425eb1-9ac4-4147-a6fa-cfa66ab992a1",
   "metadata": {
    "id": "34425eb1-9ac4-4147-a6fa-cfa66ab992a1"
   },
   "source": [
    "### 실패했던 풀이: 구현1"
   ]
  },
  {
   "cell_type": "markdown",
   "id": "05919b58-acb2-494b-880d-e5611f3d4b0c",
   "metadata": {
    "id": "05919b58-acb2-494b-880d-e5611f3d4b0c"
   },
   "source": [
    "`-` 저번시간의 실패한 풀이 \n",
    "\n",
    "```Python\n",
    "torch.manual_seed(43052)\n",
    "net = torch.nn.Sequential(\n",
    "    torch.nn.Embedding(4,2),# 원핫인코딩은 이미 구현했으므로 이 단계는 포함하지 않는다\n",
    "    torch.nn.Tanh(),\n",
    "    torch.nn.Linear(2,4)\n",
    ")\n",
    "loss_fn = torch.nn.CrossEntropyLoss()\n",
    "optimizr = torch.optim.Adam(net.parameters())\n",
    "```"
   ]
  },
  {
   "cell_type": "markdown",
   "id": "34e666e0-3cef-4a80-ad4c-923710655709",
   "metadata": {
    "id": "34e666e0-3cef-4a80-ad4c-923710655709"
   },
   "source": [
    "`-` Tanh까지만 클래스로 바꾸어서 구현 "
   ]
  },
  {
   "cell_type": "code",
   "execution_count": 11,
   "id": "bfd6c647-4079-43ac-b66a-452c434d20b1",
   "metadata": {
    "id": "bfd6c647-4079-43ac-b66a-452c434d20b1"
   },
   "outputs": [],
   "source": [
    "class Hnet(torch.nn.Module):\n",
    "    def __init__(self): # 생성자(Constructor): 객체가 생성될 때 '자동으로 호출'되는 메서드를 의미\n",
    "        super().__init__() # 부모 클래스인 torch.nn.Module의 생성자 함수를 그대로 데려온다 -> super().__init__()\n",
    "        self.i2h = torch.nn.Linear(4,2) # 임베딩 레이어 없으므로 선형변환 포함해야함, 원핫인코딩은 수행했음, hidden node : 2\n",
    "        self.tanh = torch.nn.Tanh() \n",
    "        # tanh에 들어갈 입력의 shape이 꼭 1일 필욘 없음, hidden node가 2였으면\n",
    "        # 활성화 함수에 입력 shape으로 2가 들어가도 됨\n",
    "    def forward(self,x):\n",
    "        hidden = self.tanh(self.i2h(x))\n",
    "        return hidden"
   ]
  },
  {
   "cell_type": "code",
   "execution_count": 12,
   "id": "4faac001-a67e-4263-840b-a3e01a7c8735",
   "metadata": {
    "id": "4faac001-a67e-4263-840b-a3e01a7c8735"
   },
   "outputs": [],
   "source": [
    "torch.manual_seed(43052) \n",
    "hnet = Hnet()\n",
    "linr = torch.nn.Linear(2,4) \n",
    "loss_fn = torch.nn.CrossEntropyLoss() # softmax\n",
    "optimizr = torch.optim.Adam(list(hnet.parameters())+list(linr.parameters()))"
   ]
  },
  {
   "cell_type": "code",
   "execution_count": 13,
   "id": "0f85a47a-4ed1-4513-a2dc-8234d766ce77",
   "metadata": {
    "id": "0f85a47a-4ed1-4513-a2dc-8234d766ce77"
   },
   "outputs": [],
   "source": [
    "for epoc in range(20):\n",
    "    hidden = hnet(x) \n",
    "    output = linr(hidden)\n",
    "    loss = loss_fn(output,y)\n",
    "    loss.backward()\n",
    "    optimizr.step()\n",
    "    optimizr.zero_grad()"
   ]
  },
  {
   "cell_type": "markdown",
   "id": "11e296fc-a676-466d-8b0a-c418023710ab",
   "metadata": {
    "id": "11e296fc-a676-466d-8b0a-c418023710ab"
   },
   "source": [
    "`-` linr(hnet(x)) 적합결과 <-- 이거랑"
   ]
  },
  {
   "cell_type": "code",
   "execution_count": 14,
   "id": "bb1fae17-9f3f-4f0a-a553-09e9de79fcf7",
   "metadata": {
    "id": "bb1fae17-9f3f-4f0a-a553-09e9de79fcf7",
    "outputId": "5f5307f4-e982-495e-c194-a58bcf014ce8"
   },
   "outputs": [
    {
     "data": {
      "text/plain": [
       "tensor([[-0.3589,  0.7921, -0.1970, -0.0302],\n",
       "        [-0.2912,  0.8140, -0.2032,  0.0178],\n",
       "        [-0.3589,  0.7921, -0.1970, -0.0302],\n",
       "        ...,\n",
       "        [-0.3589,  0.7921, -0.1970, -0.0302],\n",
       "        [-0.1065,  0.6307, -0.0874,  0.1821],\n",
       "        [-0.3589,  0.7921, -0.1970, -0.0302]], grad_fn=<AddmmBackward0>)"
      ]
     },
     "execution_count": 14,
     "metadata": {},
     "output_type": "execute_result"
    }
   ],
   "source": [
    "linr(hnet(x)) # softmax 포함 x"
   ]
  },
  {
   "cell_type": "markdown",
   "id": "425d084f-9b89-4417-82ba-a453a2f6159c",
   "metadata": {
    "id": "425d084f-9b89-4417-82ba-a453a2f6159c"
   },
   "source": [
    "### 실패했던 풀이: 구현2"
   ]
  },
  {
   "cell_type": "code",
   "execution_count": 53,
   "id": "4b5d34be-acca-4e8f-af62-70f5ba33f76c",
   "metadata": {
    "id": "4b5d34be-acca-4e8f-af62-70f5ba33f76c"
   },
   "outputs": [],
   "source": [
    "torch.manual_seed(43052) \n",
    "hnet = Hnet()\n",
    "linr = torch.nn.Linear(2,4)\n",
    "loss_fn = torch.nn.CrossEntropyLoss() \n",
    "optimizr = torch.optim.Adam(list(hnet.parameters())+list(linr.parameters()))"
   ]
  },
  {
   "cell_type": "code",
   "execution_count": 54,
   "id": "1cfa7d46-32bb-4e1b-b335-031d08603530",
   "metadata": {
    "id": "1cfa7d46-32bb-4e1b-b335-031d08603530"
   },
   "outputs": [],
   "source": [
    "T = len(x) # 599 = 100 * 6 - 1\n",
    "for epoc in range(20): \n",
    "    ## 1~2\n",
    "    loss = 0 \n",
    "    for t in range(T):\n",
    "        xt,yt = x[[t]], y[[t]]\n",
    "        ht = hnet(xt) \n",
    "        ot = linr(ht) \n",
    "        loss = loss + loss_fn(ot,yt) \n",
    "    ## 3 \n",
    "    loss.backward()\n",
    "    ## 4 \n",
    "    optimizr.step()\n",
    "    optimizr.zero_grad()"
   ]
  },
  {
   "cell_type": "markdown",
   "id": "998bb999-46ce-440b-a2cc-c52df48b203d",
   "metadata": {
    "id": "998bb999-46ce-440b-a2cc-c52df48b203d"
   },
   "source": [
    "`-` linr(hnet(x)) 적합결과 <-- 이거랑 동일하다"
   ]
  },
  {
   "cell_type": "code",
   "execution_count": 55,
   "id": "9d2b19fa-d86e-4e2a-911a-3dd217cfcfb6",
   "metadata": {
    "id": "9d2b19fa-d86e-4e2a-911a-3dd217cfcfb6",
    "outputId": "ea68c067-0474-4df8-d2b0-6b83fb4fa3d5"
   },
   "outputs": [
    {
     "data": {
      "text/plain": [
       "tensor([[-0.3589,  0.7921, -0.1970, -0.0302],\n",
       "        [-0.2912,  0.8140, -0.2032,  0.0178],\n",
       "        [-0.3589,  0.7921, -0.1970, -0.0302],\n",
       "        ...,\n",
       "        [-0.3589,  0.7921, -0.1970, -0.0302],\n",
       "        [-0.1065,  0.6307, -0.0874,  0.1821],\n",
       "        [-0.3589,  0.7921, -0.1970, -0.0302]], grad_fn=<AddmmBackward0>)"
      ]
     },
     "execution_count": 55,
     "metadata": {},
     "output_type": "execute_result"
    }
   ],
   "source": [
    "linr(hnet(x))"
   ]
  },
  {
   "cell_type": "markdown",
   "id": "caec7c34-5d2b-4742-bb1e-89ac1caf05c0",
   "metadata": {
    "id": "caec7c34-5d2b-4742-bb1e-89ac1caf05c0"
   },
   "source": [
    "### 순환신경망의 아이디어"
   ]
  },
  {
   "cell_type": "markdown",
   "id": "7abb185e-37af-418d-ab26-e8c33e967e1e",
   "metadata": {
    "id": "7abb185e-37af-418d-ab26-e8c33e967e1e"
   },
   "source": [
    "***${\\boldsymbol h}$에 대한 이해***"
   ]
  },
  {
   "cell_type": "markdown",
   "id": "cb4d9dd7-97ef-48e6-945b-1be73fa69c9c",
   "metadata": {
    "id": "cb4d9dd7-97ef-48e6-945b-1be73fa69c9c"
   },
   "source": [
    "> ${\\boldsymbol h}$는 문자열 'abcd'들을 숫자로 바꾼 또 다른 형식의 숫자표현이라 해석할 수 있음. \n",
    "- 즉 원핫인코딩과 다른 또 다른 형태의 숫자표현이라 해석할 수 있다. \n",
    "  - 원핫인코딩보다 더 (1) 액기스만 남은 느낌 + (2) 숙성된 느낌 \n",
    "  - h는 \"학습을 용이하게 하기 위해서 x를 적당히 선형적으로 전처리한 상태\"라고 이해가능"
   ]
  },
  {
   "cell_type": "markdown",
   "id": "49f9bee1-0291-406d-81c5-6eed5a1b2794",
   "metadata": {
    "id": "49f9bee1-0291-406d-81c5-6eed5a1b2794"
   },
   "source": [
    "결론: 사실 ${\\boldsymbol h}$는 잘 숙성되어있는 입력정보 ${\\bf X}$라고 생각할 수 있다. "
   ]
  },
  {
   "cell_type": "markdown",
   "id": "74f044a6-6673-4a1a-b985-a62abd0d29f6",
   "metadata": {
    "id": "74f044a6-6673-4a1a-b985-a62abd0d29f6"
   },
   "source": [
    "`*` 기존방식\n",
    "- $\\text{콩물: x} \\overset{\\text{숙성}}{\\longrightarrow} \\text{간장}$"
   ]
  },
  {
   "cell_type": "markdown",
   "id": "ba450c0b-1676-49ff-8841-72a1a76d7fca",
   "metadata": {
    "id": "ba450c0b-1676-49ff-8841-72a1a76d7fca"
   },
   "source": [
    "`*` 수백년 전통의 간장맛을 유지하는 방식\n",
    "\n",
    "- $\\text{콩물}_1 : x_1 \\overset{\\text{숙성}}{\\longrightarrow} \\text{간장}_1$\n",
    "- $\\text{콩물}_2 : x_2, \\text{간장}_1 \\overset{\\text{숙성}}{\\longrightarrow} \\text{간장}_2$\n",
    "- $\\text{콩물}_3 : x_3, \\text{간장}_2 \\overset{\\text{숙성}}{\\longrightarrow} \\text{간장}_3$"
   ]
  },
  {
   "cell_type": "markdown",
   "id": "fe817d7b-f8e7-4e89-bb3d-7e841e65f9a3",
   "metadata": {
    "id": "fe817d7b-f8e7-4e89-bb3d-7e841e65f9a3"
   },
   "source": [
    "`*` 수백년 전통의 간장맛을 유지하면서 조리를 한다면? \n",
    "\n",
    "- $\\text{콩물}_1 \\overset{\\text{숙성}}{\\longrightarrow} \\text{간장}_1 \\overset{\\text{조리}}{\\longrightarrow} \\text{간장계란밥}_1$\n",
    "- $\\text{콩물}_2, \\text{간장}_1 \\overset{\\text{숙성}}{\\longrightarrow} \\text{간장}_2 \\overset{\\text{조리}}{\\longrightarrow} \\text{간장계란밥}_2$\n",
    "- $\\text{콩물}_3, \\text{간장}_2 \\overset{\\text{숙성}}{\\longrightarrow} \\text{간장}_3 \\overset{\\text{조리}}{\\longrightarrow} \\text{간장계란밥}_3$"
   ]
  },
  {
   "cell_type": "markdown",
   "id": "16ce8ebc-e2f6-4210-9077-bc6b48164333",
   "metadata": {
    "id": "16ce8ebc-e2f6-4210-9077-bc6b48164333"
   },
   "source": [
    "`*` 알고리즘의 편의상 아래와 같이 생각해도 무방 \n",
    "\n",
    "- $\\text{콩물}_1, \\text{간장}_0 \\overset{\\text{숙성}}{\\longrightarrow} \\text{간장}_1 \\overset{\\text{조리}}{\\longrightarrow} \\text{간장계란밥}_1$, 이때 $\\text{간장}_0=\\text{맹물}$\n",
    "- $\\text{콩물}_2, \\text{간장}_1 \\overset{\\text{숙성}}{\\longrightarrow} \\text{간장}_2 \\overset{\\text{조리}}{\\longrightarrow} \\text{간장계란밥}_2$\n",
    "- $\\text{콩물}_3, \\text{간장}_2 \\overset{\\text{숙성}}{\\longrightarrow} \\text{간장}_3 \\overset{\\text{조리}}{\\longrightarrow} \\text{간장계란밥}_3$"
   ]
  },
  {
   "cell_type": "markdown",
   "id": "6979bb58-e8aa-4a2e-b034-9a795f9bcfcd",
   "metadata": {
    "id": "6979bb58-e8aa-4a2e-b034-9a795f9bcfcd"
   },
   "source": [
    "***아이디어***"
   ]
  },
  {
   "cell_type": "markdown",
   "id": "82669a96-6413-4fcf-992e-c447b1f564a3",
   "metadata": {
    "id": "82669a96-6413-4fcf-992e-c447b1f564a3"
   },
   "source": [
    "`*` 수백년 전통의 간장맛을 유지하면서 조리하는 과정을 수식으로? \n",
    "\n",
    "- $\\boldsymbol{x}_1, (\\boldsymbol{h}_0 = \\text{간장}_0 = 맹물 \\to 0으로 초기화) \\overset{\\text{숙성}}{\\longrightarrow} \\boldsymbol{h}_1 \\overset{\\text{조리}}{\\longrightarrow} \\hat{\\boldsymbol y}_1$\n",
    "- $\\boldsymbol{x}_2, \\boldsymbol{h}_1 \\overset{\\text{숙성}}{\\longrightarrow} \\boldsymbol{h}_2 \\overset{\\text{조리}}{\\longrightarrow} \\hat{\\boldsymbol y}_2$\n",
    "- $\\boldsymbol{x}_3, \\boldsymbol{h}_2 \\overset{\\text{숙성}}{\\longrightarrow} \\boldsymbol{h}_3 \\overset{\\text{조리}}{\\longrightarrow} \\hat{\\boldsymbol y}_3$"
   ]
  },
  {
   "cell_type": "markdown",
   "id": "8734d193-84d7-4743-9bc0-2793f2965bf9",
   "metadata": {
    "id": "8734d193-84d7-4743-9bc0-2793f2965bf9"
   },
   "source": [
    "이제 우리가 배울것은 (1) \"$\\text{콩물}_{t}$\"와 \"$\\text{간장}_{t-1}$\"로 \"$\\text{간장}_t$\"를 `숙성`하는 방법 (2) \"$\\text{간장}_t$\"로 \"$\\text{간장계란밥}_t$를 `조리`하는 방법이다 \n",
    "\n",
    "즉 `숙성`담당 네트워크와 `조리`담당 네트워크를 각각 만들어 학습하면 된다. "
   ]
  },
  {
   "cell_type": "markdown",
   "id": "cd220132-ab31-4235-8202-a2be3761c8a7",
   "metadata": {
    "id": "cd220132-ab31-4235-8202-a2be3761c8a7"
   },
   "source": [
    "#### ***바뀌는 구조***"
   ]
  },
  {
   "cell_type": "markdown",
   "id": "1a1a925d-6d12-4c7f-8982-28516f2bd3f0",
   "metadata": {
    "id": "1a1a925d-6d12-4c7f-8982-28516f2bd3f0"
   },
   "source": [
    "(1) $t=0$일 때\n",
    "\n",
    "${\\boldsymbol h}_0=[[0,0]]$ $\\leftarrow$ $\\text{간장}_0$은 맹물로 초기화"
   ]
  },
  {
   "cell_type": "markdown",
   "id": "f83b9599-cb6e-431f-b508-5587e04ef8ea",
   "metadata": {
    "id": "f83b9599-cb6e-431f-b508-5587e04ef8ea"
   },
   "source": [
    "---"
   ]
  },
  {
   "cell_type": "markdown",
   "id": "9cd7d0a0-1236-401f-8035-cef4ab9af1b3",
   "metadata": {
    "id": "9cd7d0a0-1236-401f-8035-cef4ab9af1b3"
   },
   "source": [
    "(2) $t=1$일 때\n",
    "\n",
    "${\\boldsymbol h}_1= \\tanh({\\boldsymbol x}_1{\\bf W}_{ih}+{\\boldsymbol h}_0{\\bf W}_{hh}+{\\boldsymbol b}_{ih}+{\\boldsymbol b}_{hh})$\n",
    "- tanh에 들어갈 입력값은 output이 2인 것이 들어가야 한다\n",
    "- ${\\boldsymbol x}_1$: (1,4) $\\to$ 원핫인코딩된 형태\n",
    "- ${\\bf W}_{ih}$: (4,2) $\\to$ output이 2가 되어야 하니까\n",
    "- ${\\boldsymbol h}_0$: (1,2) $\\to$ **맹물..........$\\to$ 씨간장의 시초 역할\n",
    "- ${\\bf W}_{hh}$: (2,2) $\\to$ output이 2가 되어야 하니까.. 그리고 다 더하려면 차원계속 유지해줘야 함\n",
    "- ${\\boldsymbol b}_{ih}$: (1,2)\n",
    "- ${\\boldsymbol b}_{hh}$: (1,2)\n",
    "\n",
    "${\\boldsymbol o}_1= {\\bf W}_{ho}{\\boldsymbol h}_1+{\\boldsymbol b}_{ho}$ $\\to$ 두번째 선형변환 \n",
    "- shape이 4가 될 것이다. \n",
    "\n",
    "$\\hat{\\boldsymbol y}_1 = \\text{soft}({\\boldsymbol o}_1)$\n",
    "\n",
    "---"
   ]
  },
  {
   "cell_type": "markdown",
   "id": "a525111d-c205-4b5b-9a7c-52ea52fadc16",
   "metadata": {
    "id": "a525111d-c205-4b5b-9a7c-52ea52fadc16"
   },
   "source": [
    "일반화된 알고리즘 "
   ]
  },
  {
   "cell_type": "markdown",
   "id": "18b62e3a-20f3-40b8-b513-14d829ae20ee",
   "metadata": {
    "id": "18b62e3a-20f3-40b8-b513-14d829ae20ee"
   },
   "source": [
    "***(ver1)***\n",
    "\n",
    "init $\\boldsymbol{h}_0$ \n",
    "\n",
    "for $t$ in $1:T$ \n",
    "\n",
    "- ${\\boldsymbol h}_t= \\tanh({\\boldsymbol x}_t{\\bf W}_{ih}+{\\boldsymbol h}_{t-1}{\\bf W}_{hh}+{\\boldsymbol b}_{ih}+{\\boldsymbol b}_{hh})$\n",
    "- ${\\boldsymbol o}_t= {\\bf W}_{ho}{\\boldsymbol h}_t+{\\boldsymbol b}_{ho}$\n",
    "- $\\hat{\\boldsymbol y}_t = \\text{soft}({\\boldsymbol o}_t)$\n",
    "    "
   ]
  },
  {
   "cell_type": "markdown",
   "id": "8f7a69da-a8fb-4c58-87ea-7c3f4a98d5f9",
   "metadata": {
    "id": "8f7a69da-a8fb-4c58-87ea-7c3f4a98d5f9"
   },
   "source": [
    "***(ver2)***\n",
    "\n",
    "```Python \n",
    "init hidden\n",
    "\n",
    "for t in 1:T \n",
    "    hidden = tanh(linr(x)+linr(hidden))\n",
    "    output = linr(hidden)\n",
    "    yt_hat = soft(output)\n",
    "```    "
   ]
  },
  {
   "cell_type": "markdown",
   "id": "d294fa0f-00bf-4f21-b104-8a330edb1932",
   "metadata": {
    "id": "d294fa0f-00bf-4f21-b104-8a330edb1932"
   },
   "source": [
    "---"
   ]
  },
  {
   "cell_type": "markdown",
   "id": "f3b02e8b-b97d-4854-84a3-fdb85879ace0",
   "metadata": {
    "id": "f3b02e8b-b97d-4854-84a3-fdb85879ace0"
   },
   "source": [
    "***전체알고리즘은 대충 아래와 같은 형식으로 구현될 수 있음***\n",
    "\n",
    "```Python \n",
    "### \n",
    "class rNNCell(torch.nn.Module):\n",
    "    def __init__(self):\n",
    "        super().__init__()\n",
    "        linr1 = torch.nn.Linear(?,?) \n",
    "        linr2 = torch.nn.Linear(?,?) # 과거의 씨간장 넣어주는 역할!!\n",
    "        tanh = torch.nn.Tanh()\n",
    "    def forward(self,x,hidden):\n",
    "        hidden = tanh(lrnr1(x)+lrnr2(hidden))\n",
    "        return hidden\n",
    "\n",
    "init ht\n",
    "rnncell = rNNCell()\n",
    "\n",
    "for t in 1:T \n",
    "    xt, yt = x[[t]], y[[t]] \n",
    "    ht = rnncell(xt, ht)\n",
    "    ot = linr(ht) \n",
    "    loss = loss + loss_fn(ot, yt)\n",
    "\n",
    "```    "
   ]
  },
  {
   "cell_type": "markdown",
   "id": "14166b71-c90e-42f9-8f82-a195583ba124",
   "metadata": {
    "id": "14166b71-c90e-42f9-8f82-a195583ba124"
   },
   "source": [
    "### 순환신경망 구현1 -- 성공 "
   ]
  },
  {
   "cell_type": "markdown",
   "id": "eaeb2367-c00f-4746-abf7-9fe22a246270",
   "metadata": {
    "id": "eaeb2367-c00f-4746-abf7-9fe22a246270"
   },
   "source": [
    "`(1)` 숙성담당 네트워크"
   ]
  },
  {
   "cell_type": "code",
   "execution_count": 60,
   "id": "5587a858-d70e-48f8-984d-835c2cb705e9",
   "metadata": {
    "id": "5587a858-d70e-48f8-984d-835c2cb705e9"
   },
   "outputs": [],
   "source": [
    "class rNNCell(torch.nn.Module):\n",
    "    def __init__(self):\n",
    "        super().__init__()\n",
    "        self.i2h = torch.nn.Linear(4,2) # hidden node : 2\n",
    "        self.h2h = torch.nn.Linear(2,2) \n",
    "        self.tanh = torch.nn.Tanh()\n",
    "    def forward(self,x,hidden):\n",
    "        hidden = self.tanh(self.i2h(x)+self.h2h(hidden))\n",
    "        return hidden"
   ]
  },
  {
   "cell_type": "code",
   "execution_count": 61,
   "id": "de156d68-cf75-467a-bfad-caece08400d8",
   "metadata": {
    "id": "de156d68-cf75-467a-bfad-caece08400d8"
   },
   "outputs": [],
   "source": [
    "torch.manual_seed(43052)\n",
    "rnncell = rNNCell() # 숙성담당 네트워크 "
   ]
  },
  {
   "cell_type": "markdown",
   "id": "381cfd4d-a0ec-4042-94e6-485dd305e7aa",
   "metadata": {
    "id": "381cfd4d-a0ec-4042-94e6-485dd305e7aa"
   },
   "source": [
    "`(2)` 조리담당 네트워크"
   ]
  },
  {
   "cell_type": "code",
   "execution_count": 62,
   "id": "4e411657-af50-4a9a-b158-16ea6e476d93",
   "metadata": {
    "id": "4e411657-af50-4a9a-b158-16ea6e476d93"
   },
   "outputs": [],
   "source": [
    "torch.manual_seed(43052)\n",
    "cook = torch.nn.Linear(2,4) "
   ]
  },
  {
   "cell_type": "markdown",
   "id": "3550b0ba-e04f-402c-b23c-b8d0ec32e9f5",
   "metadata": {
    "id": "3550b0ba-e04f-402c-b23c-b8d0ec32e9f5"
   },
   "source": [
    "`(3)` 손실함수, 옵티마이저 설계 "
   ]
  },
  {
   "cell_type": "code",
   "execution_count": 63,
   "id": "849d9b25-5b4d-43b6-b186-5278f90b649a",
   "metadata": {
    "id": "849d9b25-5b4d-43b6-b186-5278f90b649a"
   },
   "outputs": [],
   "source": [
    "loss_fn = torch.nn.CrossEntropyLoss() \n",
    "optimizr = torch.optim.Adam(list(rnncell.parameters())+list(cook.parameters()))"
   ]
  },
  {
   "cell_type": "markdown",
   "id": "adc2a343-efed-4859-b876-24395d8f961e",
   "metadata": {
    "id": "adc2a343-efed-4859-b876-24395d8f961e"
   },
   "source": [
    "`(4)` 학습 (6분정도 걸림)"
   ]
  },
  {
   "cell_type": "code",
   "execution_count": 64,
   "id": "58ddf624-260e-4a71-8062-10b54571245f",
   "metadata": {
    "id": "58ddf624-260e-4a71-8062-10b54571245f"
   },
   "outputs": [],
   "source": [
    "T = len(x) \n",
    "for epoc in range(5000): \n",
    "    ## 1~2\n",
    "    loss = 0 \n",
    "    ht = torch.zeros(1,2) # 맹물...! size 유의!\n",
    "    for t in range(T):\n",
    "        xt,yt = x[[t]], y[[t]]\n",
    "        ht = rnncell(xt,ht) \n",
    "        ot = cook(ht) # 조리\n",
    "        loss = loss + loss_fn(ot,yt) \n",
    "    ## 3 \n",
    "    loss.backward()\n",
    "    ## 4 \n",
    "    optimizr.step()\n",
    "    optimizr.zero_grad()"
   ]
  },
  {
   "cell_type": "markdown",
   "id": "4c856b53-3c59-4a01-aa8f-39c578f93dce",
   "metadata": {
    "id": "4c856b53-3c59-4a01-aa8f-39c578f93dce"
   },
   "source": [
    "`(5)` 시각화 "
   ]
  },
  {
   "cell_type": "code",
   "execution_count": 65,
   "id": "6e8c581b-8c85-47d7-85e0-fe62a5dbad42",
   "metadata": {
    "id": "6e8c581b-8c85-47d7-85e0-fe62a5dbad42"
   },
   "outputs": [],
   "source": [
    "T = len(x) \n",
    "hidden = torch.zeros(T,2) # 599년치 h를 담을 변수 \n",
    "_water = torch.zeros(1,2) # 맹물 씨간장 role... hidden의 시초 역할\\\n",
    "hidden[[0]] = rnncell(x[[0]],_water) \n",
    "for t in range(1,T):\n",
    "    hidden[[t]] = rnncell(x[[t]],hidden[[t-1]]) "
   ]
  },
  {
   "cell_type": "code",
   "execution_count": 66,
   "id": "1d970f35-5c96-455e-aa07-551b69073c06",
   "metadata": {
    "id": "1d970f35-5c96-455e-aa07-551b69073c06",
    "outputId": "03e6877f-fe05-4dbc-c4b0-d414bc909667"
   },
   "outputs": [
    {
     "data": {
      "text/plain": [
       "tensor([[1.6522e-02, 6.2036e-01, 1.0433e-01, 2.5879e-01],\n",
       "        [9.9965e-01, 6.5788e-05, 1.8450e-05, 2.6785e-04],\n",
       "        [7.6673e-05, 1.9704e-01, 8.0201e-01, 8.7218e-04],\n",
       "        ...,\n",
       "        [7.4634e-05, 1.9501e-01, 8.0407e-01, 8.4751e-04],\n",
       "        [9.4785e-01, 7.4711e-03, 6.1182e-04, 4.4064e-02],\n",
       "        [3.6306e-02, 1.2466e-01, 2.8862e-03, 8.3615e-01]],\n",
       "       grad_fn=<SoftmaxBackward0>)"
      ]
     },
     "execution_count": 66,
     "metadata": {},
     "output_type": "execute_result"
    }
   ],
   "source": [
    "yhat = soft(cook(hidden))\n",
    "yhat"
   ]
  },
  {
   "cell_type": "code",
   "execution_count": 82,
   "id": "6010e2e6-f535-4172-a9ff-27b068dff6f2",
   "metadata": {
    "id": "6010e2e6-f535-4172-a9ff-27b068dff6f2",
    "outputId": "275bc1cd-88da-4d9a-d85e-57f8737440a2"
   },
   "outputs": [
    {
     "data": {
      "text/plain": [
       "<matplotlib.colorbar.Colorbar at 0x7fed62beeb50>"
      ]
     },
     "execution_count": 82,
     "metadata": {},
     "output_type": "execute_result"
    },
    {
     "data": {
      "image/png": "[encoded data removed]",
      "text/plain": [
       "<Figure size 288x1080 with 2 Axes>"
      ]
     },
     "metadata": {
      "needs_background": "light"
     },
     "output_type": "display_data"
    }
   ],
   "source": [
    "plt.matshow(yhat.data[-15:]) # 뒤에서부터 15개 뽑음\n",
    "plt.colorbar()\n",
    "# A를 가장 잘 학습"
   ]
  },
  {
   "cell_type": "markdown",
   "id": "d5d78ee2-6994-48bd-82f6-4cf932b27345",
   "metadata": {
    "id": "d5d78ee2-6994-48bd-82f6-4cf932b27345"
   },
   "source": [
    "- 특징: yhat[:15], yhat[:-15] 의 적합결과가 다르다\n",
    "  - 왜? 간장계란밥은 간장이 중요한데, 간장은 시간이 갈수록 맛있어지니까.."
   ]
  },
  {
   "cell_type": "markdown",
   "id": "7b568025-c455-4d2d-b8d0-618301206099",
   "metadata": {
    "id": "7b568025-c455-4d2d-b8d0-618301206099"
   },
   "source": [
    "### 순환신경망 구현2 (with RNNCell) -- 성공 "
   ]
  },
  {
   "cell_type": "markdown",
   "id": "7ed2fcff-77bf-4328-a9ae-5c9d02fac5fc",
   "metadata": {
    "id": "7ed2fcff-77bf-4328-a9ae-5c9d02fac5fc"
   },
   "source": [
    "`(1)` 숙성네트워크"
   ]
  },
  {
   "cell_type": "markdown",
   "id": "e5ab9e0f-ef9b-46bf-a47d-88db3d916e58",
   "metadata": {
    "id": "e5ab9e0f-ef9b-46bf-a47d-88db3d916e58"
   },
   "source": [
    "선언"
   ]
  },
  {
   "cell_type": "code",
   "execution_count": 68,
   "id": "74f2dd61-3d39-47df-9b99-70f68d69947f",
   "metadata": {
    "id": "74f2dd61-3d39-47df-9b99-70f68d69947f"
   },
   "outputs": [],
   "source": [
    "rnncell = torch.nn.RNNCell(4,2)"
   ]
  },
  {
   "cell_type": "code",
   "execution_count": null,
   "id": "df303ace-91ad-4cd4-af92-5837ce53b4a7",
   "metadata": {
    "id": "df303ace-91ad-4cd4-af92-5837ce53b4a7"
   },
   "outputs": [],
   "source": [
    "torch.manual_seed(43052)\n",
    "_rnncell = rNNCell() # 이건 위에서 clss로 선언했었던 순환신경망"
   ]
  },
  {
   "cell_type": "code",
   "execution_count": 70,
   "id": "6c469858-1fe4-497a-9bbb-bd454259f8b8",
   "metadata": {
    "id": "6c469858-1fe4-497a-9bbb-bd454259f8b8"
   },
   "outputs": [],
   "source": [
    "# 가중치초기화 (순환신경망 구현1과 동일하도록)\n",
    "rnncell.weight_ih.data = _rnncell.i2h.weight.data \n",
    "rnncell.weight_hh.data = _rnncell.h2h.weight.data \n",
    "rnncell.bias_hh.data = _rnncell.h2h.bias.data \n",
    "rnncell.bias_ih.data = _rnncell.i2h.bias.data "
   ]
  },
  {
   "cell_type": "markdown",
   "id": "091059aa-e990-4480-ac4f-29a56949c57e",
   "metadata": {
    "id": "091059aa-e990-4480-ac4f-29a56949c57e"
   },
   "source": [
    "`(2)` 조리담당 네트워크"
   ]
  },
  {
   "cell_type": "code",
   "execution_count": 71,
   "id": "a33bcb59-ec67-4b6d-94b1-3237a83f235c",
   "metadata": {
    "id": "a33bcb59-ec67-4b6d-94b1-3237a83f235c"
   },
   "outputs": [],
   "source": [
    "torch.manual_seed(43052)\n",
    "cook = torch.nn.Linear(2,4) "
   ]
  },
  {
   "cell_type": "markdown",
   "id": "d9c0e55f-4b8e-4196-bdc3-c6ed4f69bfab",
   "metadata": {
    "id": "d9c0e55f-4b8e-4196-bdc3-c6ed4f69bfab"
   },
   "source": [
    "`(3)` 손실함수, 옵티마이저 설계 "
   ]
  },
  {
   "cell_type": "code",
   "execution_count": 72,
   "id": "1a8c6706-f2a3-4b17-855a-46ca041718d7",
   "metadata": {
    "id": "1a8c6706-f2a3-4b17-855a-46ca041718d7"
   },
   "outputs": [],
   "source": [
    "loss_fn = torch.nn.CrossEntropyLoss() \n",
    "optimizr = torch.optim.Adam(list(rnncell.parameters())+list(cook.parameters()))"
   ]
  },
  {
   "cell_type": "markdown",
   "id": "7850c80f-0ccc-4c90-9c19-799e4fdc7d5d",
   "metadata": {
    "id": "7850c80f-0ccc-4c90-9c19-799e4fdc7d5d"
   },
   "source": [
    "`(4)` 학습 (6분정도 걸림)"
   ]
  },
  {
   "cell_type": "code",
   "execution_count": 73,
   "id": "6ab1409b-5c46-4884-b8fd-9f9db3686308",
   "metadata": {
    "id": "6ab1409b-5c46-4884-b8fd-9f9db3686308"
   },
   "outputs": [],
   "source": [
    "T = len(x) \n",
    "for epoc in range(5000): \n",
    "    ## 1~2\n",
    "    loss = 0 \n",
    "    ht = torch.zeros(1,2) \n",
    "    for t in range(T):\n",
    "        xt,yt = x[[t]], y[[t]]\n",
    "        ht = rnncell(xt,ht) \n",
    "        ot = cook(ht) \n",
    "        loss = loss + loss_fn(ot,yt) \n",
    "    ## 3 \n",
    "    loss.backward()\n",
    "    ## 4 \n",
    "    optimizr.step()\n",
    "    optimizr.zero_grad()"
   ]
  },
  {
   "cell_type": "markdown",
   "id": "b15c1339-334a-45df-9aac-754584aa1f8f",
   "metadata": {
    "id": "b15c1339-334a-45df-9aac-754584aa1f8f"
   },
   "source": [
    "`(5)` 시각화 "
   ]
  },
  {
   "cell_type": "code",
   "execution_count": 74,
   "id": "148bda82-a63e-4a7c-8b89-10465313073a",
   "metadata": {
    "id": "148bda82-a63e-4a7c-8b89-10465313073a"
   },
   "outputs": [],
   "source": [
    "T = len(x) \n",
    "hidden = torch.zeros(T,2) # 599년치 h를 담을 변수 \n",
    "_water = torch.zeros(1,2) # 맹물 \n",
    "hidden[[0]] = rnncell(x[[0]],_water) \n",
    "for t in range(1,T):\n",
    "    hidden[[t]] = rnncell(x[[t]],hidden[[t-1]]) "
   ]
  },
  {
   "cell_type": "code",
   "execution_count": 75,
   "id": "811d26dc-8080-4be9-ba6c-fb95dde17e50",
   "metadata": {
    "id": "811d26dc-8080-4be9-ba6c-fb95dde17e50",
    "outputId": "713fe2ca-fdcb-4e48-d2c5-bfc4d7f6641e"
   },
   "outputs": [
    {
     "data": {
      "text/plain": [
       "tensor([[1.6522e-02, 6.2036e-01, 1.0433e-01, 2.5879e-01],\n",
       "        [9.9965e-01, 6.5788e-05, 1.8450e-05, 2.6785e-04],\n",
       "        [7.6673e-05, 1.9704e-01, 8.0201e-01, 8.7218e-04],\n",
       "        ...,\n",
       "        [7.4634e-05, 1.9501e-01, 8.0407e-01, 8.4751e-04],\n",
       "        [9.4785e-01, 7.4711e-03, 6.1182e-04, 4.4064e-02],\n",
       "        [3.6306e-02, 1.2466e-01, 2.8862e-03, 8.3615e-01]],\n",
       "       grad_fn=<SoftmaxBackward0>)"
      ]
     },
     "execution_count": 75,
     "metadata": {},
     "output_type": "execute_result"
    }
   ],
   "source": [
    "yhat = soft(cook(hidden))\n",
    "yhat"
   ]
  },
  {
   "cell_type": "code",
   "execution_count": 83,
   "id": "087953c9-c9fd-4fdc-8335-2cb7251c5b12",
   "metadata": {
    "id": "087953c9-c9fd-4fdc-8335-2cb7251c5b12",
    "outputId": "ee7a66fe-6f49-48b4-fe07-da70c9f2f8c8"
   },
   "outputs": [
    {
     "data": {
      "text/plain": [
       "<matplotlib.colorbar.Colorbar at 0x7fed73df3fa0>"
      ]
     },
     "execution_count": 83,
     "metadata": {},
     "output_type": "execute_result"
    },
    {
     "data": {
      "image/png": "[encoded data removed]",
      "text/plain": [
       "<Figure size 288x1080 with 2 Axes>"
      ]
     },
     "metadata": {
      "needs_background": "light"
     },
     "output_type": "display_data"
    }
   ],
   "source": [
    "plt.matshow(yhat.data[-15:])\n",
    "plt.colorbar()"
   ]
  },
  {
   "cell_type": "markdown",
   "id": "86e0553c-938a-4e06-be77-48e4d13aedda",
   "metadata": {},
   "source": [
    "----"
   ]
  },
  {
   "cell_type": "markdown",
   "id": "38442105-f410-46e2-9a7f-34da93296931",
   "metadata": {
    "id": "38442105-f410-46e2-9a7f-34da93296931"
   },
   "source": [
    "## 숙제 "
   ]
  },
  {
   "cell_type": "markdown",
   "id": "18e5aca5-f430-4683-9a40-07ae8215deb3",
   "metadata": {
    "id": "18e5aca5-f430-4683-9a40-07ae8215deb3"
   },
   "source": [
    "아래와 같은 자료가 있다고 가정하자. "
   ]
  },
  {
   "cell_type": "code",
   "execution_count": 84,
   "id": "0f62d0dc-ab6b-420c-8b3d-ef3142051c83",
   "metadata": {
    "id": "0f62d0dc-ab6b-420c-8b3d-ef3142051c83"
   },
   "outputs": [],
   "source": [
    "x = torch.rand([1000,1])*2-1\n",
    "y = 3.14 + 6.28*x + torch.randn([1000,1]) "
   ]
  },
  {
   "cell_type": "markdown",
   "id": "14137f20-1224-46bf-bd73-1448e08ee99c",
   "metadata": {
    "id": "14137f20-1224-46bf-bd73-1448e08ee99c"
   },
   "source": [
    "아래의 모형을 가정하고 $\\alpha_0,\\alpha_1,\\beta_0,\\beta_1$을 파이토치를 이용하여 추정하고자한다.\n",
    "\n",
    "- $y_i = \\alpha_0+\\beta_0+ \\beta_1x_i + \\alpha_1x_i + \\epsilon_i \\quad \\epsilon_i \\sim N(0,\\sigma^2)$ \n"
   ]
  },
  {
   "cell_type": "markdown",
   "id": "afdebada-f13e-4aa8-8dbd-a065c8bb860c",
   "metadata": {
    "id": "afdebada-f13e-4aa8-8dbd-a065c8bb860c"
   },
   "source": [
    "아래는 이를 수행하기 위한 코드이다. ???를 적절히 채워서 코드를 완성하라. "
   ]
  },
  {
   "cell_type": "code",
   "execution_count": 86,
   "id": "33d95157-aaeb-427a-af18-adb9691de977",
   "metadata": {
    "id": "33d95157-aaeb-427a-af18-adb9691de977"
   },
   "outputs": [],
   "source": [
    "alpha0 = torch.tensor([0.5], requires_grad=True)\n",
    "alpha1 = torch.tensor([[0.5]], requires_grad=True)\n",
    "beta0 = torch.tensor([0.7], requires_grad=True)\n",
    "beta1 = torch.tensor([[0.7]], requires_grad=True)"
   ]
  },
  {
   "cell_type": "code",
   "execution_count": 87,
   "id": "8e79521a-32b5-479d-a18d-319903a2ede0",
   "metadata": {
    "id": "8e79521a-32b5-479d-a18d-319903a2ede0"
   },
   "outputs": [],
   "source": [
    "loss_fn = torch.nn.MSELoss()\n",
    "optimizr = torch.optim.SGD([alpha0,beta0,alpha1,beta1], lr=1/10)"
   ]
  },
  {
   "cell_type": "code",
   "execution_count": 88,
   "id": "87ef9d49-57b5-499f-bf32-36c3b2b50c76",
   "metadata": {
    "id": "87ef9d49-57b5-499f-bf32-36c3b2b50c76"
   },
   "outputs": [],
   "source": [
    "for epoc in range(30):\n",
    "    ## 1\n",
    "    yhat = alpha0 + beta0 + alpha1*x + beta1*x \n",
    "    ## 2 \n",
    "    loss = loss_fn(yhat,y) \n",
    "    ## 3 \n",
    "    loss.backward()\n",
    "    ## 4 \n",
    "    optimizr.step()\n",
    "    optimizr.zero_grad()"
   ]
  },
  {
   "cell_type": "code",
   "execution_count": 89,
   "id": "d1748dad-756d-4924-8c4d-42c81de94490",
   "metadata": {
    "id": "d1748dad-756d-4924-8c4d-42c81de94490",
    "outputId": "69e08390-f97b-4110-837f-d22ad6a8cf94"
   },
   "outputs": [
    {
     "name": "stdout",
     "output_type": "stream",
     "text": [
      "tensor([3.0865], grad_fn=<AddBackward0>)\n"
     ]
    }
   ],
   "source": [
    "print(alpha0+beta0)"
   ]
  },
  {
   "cell_type": "markdown",
   "id": "bf6b3b6b-68b4-42ac-a1e3-d9f7850142a2",
   "metadata": {
    "id": "bf6b3b6b-68b4-42ac-a1e3-d9f7850142a2"
   },
   "source": [
    "- 3.14 근처"
   ]
  },
  {
   "cell_type": "code",
   "execution_count": 90,
   "id": "8c5eb855-49e8-48e2-a484-559c6440bcbd",
   "metadata": {
    "id": "8c5eb855-49e8-48e2-a484-559c6440bcbd",
    "outputId": "46c4e5cd-0322-4c7e-8347-e0ba00401aae"
   },
   "outputs": [
    {
     "name": "stdout",
     "output_type": "stream",
     "text": [
      "tensor([[6.2065]], grad_fn=<AddBackward0>)\n"
     ]
    }
   ],
   "source": [
    "print(alpha1+beta1)"
   ]
  },
  {
   "cell_type": "markdown",
   "id": "e9d074f8-4603-4549-b8fa-669d7f9d1e7a",
   "metadata": {
    "id": "e9d074f8-4603-4549-b8fa-669d7f9d1e7a"
   },
   "source": [
    "- 6.28 근처"
   ]
  },
  {
   "cell_type": "markdown",
   "id": "fc61cab5-a621-4db3-9f3c-db49f2c84f20",
   "metadata": {},
   "source": [
    "---"
   ]
  },
  {
   "cell_type": "markdown",
   "id": "211c093f-91a6-4c47-971c-b080dbcd4b02",
   "metadata": {},
   "source": [
    "---"
   ]
  },
  {
   "cell_type": "code",
   "execution_count": 14,
   "id": "53642aa5-28c1-4a58-a86e-7b574b02a957",
   "metadata": {
    "id": "53642aa5-28c1-4a58-a86e-7b574b02a957"
   },
   "outputs": [],
   "source": [
    "import torch\n",
    "import numpy as np\n",
    "import matplotlib.pyplot as plt"
   ]
  },
  {
   "cell_type": "code",
   "execution_count": 15,
   "id": "a9b33d03-ba9c-442b-9aac-6b9f1aa566d2",
   "metadata": {
    "id": "a9b33d03-ba9c-442b-9aac-6b9f1aa566d2"
   },
   "outputs": [],
   "source": [
    "def f(txt,mapping):\n",
    "    return [mapping[key] for key in txt] \n",
    "soft = torch.nn.Softmax(dim=1)"
   ]
  },
  {
   "cell_type": "markdown",
   "id": "8576104b-15f0-4d04-be33-37af8470393a",
   "metadata": {
    "id": "abf71704-d07f-4836-b64a-33c20bdb5ff0"
   },
   "source": [
    "## Exam4: AbAcAd (3)"
   ]
  },
  {
   "cell_type": "code",
   "execution_count": 16,
   "id": "2782a6ae-6b96-47f8-b4c7-b3d2fffe8e38",
   "metadata": {
    "id": "2782a6ae-6b96-47f8-b4c7-b3d2fffe8e38",
    "outputId": "9da9ed41-3beb-4892-88ce-cf3f507f7c33"
   },
   "outputs": [],
   "source": [
    "txt = list('AbAcAd')*100"
   ]
  },
  {
   "cell_type": "code",
   "execution_count": 17,
   "id": "2e6aee34-413a-42c1-bdc1-4fb371b80302",
   "metadata": {
    "id": "2e6aee34-413a-42c1-bdc1-4fb371b80302"
   },
   "outputs": [],
   "source": [
    "txt_x = txt[:-1]\n",
    "txt_y = txt[1:]"
   ]
  },
  {
   "cell_type": "code",
   "execution_count": 18,
   "id": "007a051e-83f9-48d8-a43a-6f8fef8d1a6b",
   "metadata": {
    "id": "007a051e-83f9-48d8-a43a-6f8fef8d1a6b"
   },
   "outputs": [],
   "source": [
    "x = torch.nn.functional.one_hot(torch.tensor(f(txt_x,{'A':0,'b':1,'c':2,'d':3}))).float()\n",
    "y = torch.nn.functional.one_hot(torch.tensor(f(txt_y,{'A':0,'b':1,'c':2,'d':3}))).float()"
   ]
  },
  {
   "cell_type": "markdown",
   "id": "4df39713-8a29-4aa5-8c8e-a40c6b712602",
   "metadata": {
    "id": "0548c7f7-c535-4e22-aab8-139674445385"
   },
   "source": [
    "### 순환신경망 구현2 (with RNNCell, hidden node 2) -- 성공 (복습)"
   ]
  },
  {
   "cell_type": "markdown",
   "id": "742eb92b-92ed-4e8d-937a-6bc845d5c848",
   "metadata": {
    "id": "9ca33b86-a15d-402e-b3b4-664f48d663de"
   },
   "source": [
    "`(1)` 숙성네트워크"
   ]
  },
  {
   "cell_type": "code",
   "execution_count": 19,
   "id": "32af0e3e-dfcb-4dce-aae2-6d6fab1d8313",
   "metadata": {
    "id": "32af0e3e-dfcb-4dce-aae2-6d6fab1d8313"
   },
   "outputs": [],
   "source": [
    "torch.manual_seed(43052)\n",
    "rnncell = torch.nn.RNNCell(4,2) # x:(n,4) , hidden:(n,2) "
   ]
  },
  {
   "cell_type": "markdown",
   "id": "ed1e7402-75b3-4e36-b3be-196d9cfe7d4b",
   "metadata": {
    "id": "0627e504-6b38-4595-a75d-5d977a89f366"
   },
   "source": [
    "`(2)` 조리네트워크"
   ]
  },
  {
   "cell_type": "code",
   "execution_count": 20,
   "id": "dcc7e7b0-a8e6-433a-8fe6-ed1ce01c51b2",
   "metadata": {
    "id": "dcc7e7b0-a8e6-433a-8fe6-ed1ce01c51b2"
   },
   "outputs": [],
   "source": [
    "torch.manual_seed(43052)\n",
    "cook = torch.nn.Linear(2,4) # 숙성된 2차원의 단어를 다시 4차원으로 바꿔줘야지 나중에 softmax 취할 수 있음"
   ]
  },
  {
   "cell_type": "markdown",
   "id": "6803de0b-00c0-497d-a3b7-fd9ff3227945",
   "metadata": {
    "id": "6eb4ee27-1d6b-47fa-879f-ca85be708938"
   },
   "source": [
    "`(3)` 손실함수와 옵티마이저 "
   ]
  },
  {
   "cell_type": "code",
   "execution_count": 21,
   "id": "647dd964-a13d-41f9-b9ee-457a33241ba0",
   "metadata": {
    "id": "647dd964-a13d-41f9-b9ee-457a33241ba0"
   },
   "outputs": [],
   "source": [
    "loss_fn = torch.nn.CrossEntropyLoss() \n",
    "optimizr = torch.optim.Adam(list(rnncell.parameters())+list(cook.parameters()))"
   ]
  },
  {
   "cell_type": "markdown",
   "id": "3fd02128-cd65-44bd-92f9-c1860cdb10af",
   "metadata": {
    "id": "88808619-fb5f-4ae7-9976-e187db2be0ad"
   },
   "source": [
    "`(4)` 학습"
   ]
  },
  {
   "cell_type": "code",
   "execution_count": 22,
   "id": "dc3a3d2a-b890-460c-95ac-9b740b88fb66",
   "metadata": {
    "id": "dc3a3d2a-b890-460c-95ac-9b740b88fb66"
   },
   "outputs": [],
   "source": [
    "T = len(x) \n",
    "for epoc in range(5000):\n",
    "    ## 1~2\n",
    "    loss = 0 \n",
    "    ht = torch.zeros(1,2) # 맹물\n",
    "    for t in range(T):\n",
    "        xt,yt = x[[t]], y[[t]]\n",
    "        ht = rnncell(xt,ht)\n",
    "        ot = cook(ht)\n",
    "        loss = loss + loss_fn(ot,yt) \n",
    "    ## 3 \n",
    "    loss.backward()\n",
    "    ## 4 \n",
    "    optimizr.step()\n",
    "    optimizr.zero_grad()"
   ]
  },
  {
   "cell_type": "markdown",
   "id": "a2c3633f-b015-48dd-aadb-3c6f439817d2",
   "metadata": {
    "id": "97bf429b-7383-45a8-bb5a-414d288be7b3"
   },
   "source": [
    "`(5)` 시각화 "
   ]
  },
  {
   "cell_type": "code",
   "execution_count": 23,
   "id": "777b5567-2077-4146-98d7-5830ca35103d",
   "metadata": {
    "id": "777b5567-2077-4146-98d7-5830ca35103d"
   },
   "outputs": [],
   "source": [
    "hidden = torch.zeros(len(x),2) "
   ]
  },
  {
   "cell_type": "code",
   "execution_count": 24,
   "id": "be7d87d2-5bf2-4638-892c-9dacc573ea89",
   "metadata": {
    "id": "be7d87d2-5bf2-4638-892c-9dacc573ea89"
   },
   "outputs": [],
   "source": [
    "# t=0 \n",
    "_water = torch.zeros(1,2)\n",
    "hidden[[0]] = rnncell(x[[0]],_water)\n",
    "# t=1~T \n",
    "for t in range(1,T):\n",
    "    hidden[[t]] = rnncell(x[[t]],hidden[[t-1]])"
   ]
  },
  {
   "cell_type": "code",
   "execution_count": 30,
   "id": "f276d67e-be2a-4f73-bf70-8ea1e80e272e",
   "metadata": {
    "id": "f276d67e-be2a-4f73-bf70-8ea1e80e272e",
    "outputId": "57a139c7-61eb-4343-dd46-a281313af390"
   },
   "outputs": [
    {
     "data": {
      "text/plain": [
       "tensor([[1.9725e-02, 1.5469e-03, 8.2766e-01, 1.5106e-01],\n",
       "        [9.1875e-01, 1.6513e-04, 6.7702e-02, 1.3384e-02],\n",
       "        [2.0031e-02, 1.0660e-03, 8.5248e-01, 1.2642e-01],\n",
       "        ...,\n",
       "        [1.9640e-02, 1.3568e-03, 8.3705e-01, 1.4196e-01],\n",
       "        [9.9564e-01, 1.3114e-05, 3.5069e-03, 8.4108e-04],\n",
       "        [3.5473e-03, 1.5670e-01, 1.4102e-01, 6.9873e-01]],\n",
       "       grad_fn=<SoftmaxBackward0>)"
      ]
     },
     "execution_count": 30,
     "metadata": {},
     "output_type": "execute_result"
    }
   ],
   "source": [
    "yhat = soft(cook(hidden))\n",
    "yhat"
   ]
  },
  {
   "cell_type": "code",
   "execution_count": 33,
   "id": "9de802b5-1799-4d8b-88bf-0414a8700907",
   "metadata": {
    "id": "9de802b5-1799-4d8b-88bf-0414a8700907",
    "outputId": "793f66f3-d358-4a4a-88aa-0826b64be653"
   },
   "outputs": [
    {
     "data": {
      "text/plain": [
       "<matplotlib.colorbar.Colorbar at 0x7f85a8b91430>"
      ]
     },
     "execution_count": 33,
     "metadata": {},
     "output_type": "execute_result"
    },
    {
     "data": {
      "image/png": "[encoded data removed]",
      "text/plain": [
       "<Figure size 288x1080 with 2 Axes>"
      ]
     },
     "metadata": {
      "needs_background": "light"
     },
     "output_type": "display_data"
    }
   ],
   "source": [
    "plt.matshow(yhat[:15].data,cmap='bwr')\n",
    "plt.colorbar()\n",
    "# 처음부터 15개"
   ]
  },
  {
   "cell_type": "code",
   "execution_count": 34,
   "id": "e52bde43-0443-44a1-8de2-5aac95242841",
   "metadata": {
    "id": "e52bde43-0443-44a1-8de2-5aac95242841",
    "outputId": "5515fa22-c57d-4f64-b830-05b862e42af2"
   },
   "outputs": [
    {
     "data": {
      "text/plain": [
       "<matplotlib.colorbar.Colorbar at 0x7f85a8fe2700>"
      ]
     },
     "execution_count": 34,
     "metadata": {},
     "output_type": "execute_result"
    },
    {
     "data": {
      "image/png": "[encoded data removed]",
      "text/plain": [
       "<Figure size 288x1080 with 2 Axes>"
      ]
     },
     "metadata": {
      "needs_background": "light"
     },
     "output_type": "display_data"
    }
   ],
   "source": [
    "plt.matshow(yhat[-15:].data,cmap='bwr')\n",
    "plt.colorbar()\n",
    "# 마지막 15개"
   ]
  },
  {
   "cell_type": "markdown",
   "id": "be0f2a83-7818-4312-ba09-7e822d257bb0",
   "metadata": {
    "id": "e38a13c8-0cd4-4c67-9f35-f124954f91d4"
   },
   "source": [
    "### 순환신경망 구현3 (with RNN, hidden node 2) -- 성공 "
   ]
  },
  {
   "cell_type": "markdown",
   "id": "87dfa975-6890-4ffa-9148-2d8c4f9daff6",
   "metadata": {
    "id": "c20d62d6-5aa5-47f7-8b25-2d3f51e066bc"
   },
   "source": [
    "(예비학습)"
   ]
  },
  {
   "cell_type": "markdown",
   "id": "f4e904e8-276e-418c-964e-a7c07857e95a",
   "metadata": {
    "id": "9594f176-f4c0-49c8-aeec-3e570f2658ff"
   },
   "source": [
    "`-` 네트워크학습이후 yhat을 구하려면 번거로웠음 \n",
    "\n",
    "```Python\n",
    "hidden = torch.zeros(T,2) \n",
    "_water = torch.zeros(1,2)\n",
    "hidden[[0]] = rnncell(x[[0]],_water)\n",
    "for t in range(1,T):\n",
    "    hidden[[t]] = rnncell(x[[t]],hidden[[t-1]])\n",
    "yhat = soft(cook(hidden))\n",
    "```"
   ]
  },
  {
   "cell_type": "markdown",
   "id": "946f32ca-9ca5-4de0-add9-0d18a32dca78",
   "metadata": {
    "id": "32f0d1c9-9fa5-4b0d-89a1-5879ca5bdf63"
   },
   "source": [
    "`-` 이렇게 하면 쉽게(?) 구할 수 있음 "
   ]
  },
  {
   "cell_type": "code",
   "execution_count": 35,
   "id": "343c746a-9355-4dcb-8f05-0f9c6258dc0a",
   "metadata": {
    "id": "343c746a-9355-4dcb-8f05-0f9c6258dc0a"
   },
   "outputs": [],
   "source": [
    "rnn = torch.nn.RNN(4,2)"
   ]
  },
  {
   "cell_type": "code",
   "execution_count": 36,
   "id": "d1d9b622-4f57-4c45-b075-697e29dfbc85",
   "metadata": {
    "id": "d1d9b622-4f57-4c45-b075-697e29dfbc85"
   },
   "outputs": [],
   "source": [
    "rnn.weight_hh_l0.data = rnncell.weight_hh.data \n",
    "rnn.weight_ih_l0.data = rnncell.weight_ih.data\n",
    "rnn.bias_hh_l0.data = rnncell.bias_hh.data\n",
    "rnn.bias_ih_l0.data = rnncell.bias_ih.data"
   ]
  },
  {
   "cell_type": "markdown",
   "id": "34c13854-b582-4c28-885b-7b9376a1cf61",
   "metadata": {
    "id": "65c3f636-9dc0-4d17-a5e2-0af86c5bc88c"
   },
   "source": [
    "`-` rnn(x,_water)의 결과는 (1) 599년치 간장 (2) 599번째 간장 이다 \n",
    "  - batch 형태로 반환됨을 알 수 있다. "
   ]
  },
  {
   "cell_type": "code",
   "execution_count": 37,
   "id": "804465fe-8039-4579-b280-ae00fb670dd4",
   "metadata": {
    "id": "804465fe-8039-4579-b280-ae00fb670dd4",
    "outputId": "50bd27c4-c5b7-4ed5-f276-d930294bf2ef"
   },
   "outputs": [
    {
     "data": {
      "text/plain": [
       "(tensor([[-0.9912, -0.9117],\n",
       "         [ 0.0698, -1.0000],\n",
       "         [-0.9927, -0.9682],\n",
       "         ...,\n",
       "         [-0.9935, -0.9315],\n",
       "         [ 0.5777, -1.0000],\n",
       "         [-0.9960, -0.0109]], grad_fn=<SqueezeBackward1>),\n",
       " tensor([[-0.9960, -0.0109]], grad_fn=<SqueezeBackward1>))"
      ]
     },
     "execution_count": 37,
     "metadata": {},
     "output_type": "execute_result"
    }
   ],
   "source": [
    "rnn(x,_water) \n",
    "# 이거랑(두번째 tuple 원소는 제외하고)\n",
    "# 지금은 rnncell에서 학습한 가중치와 편향들을 rnn에 넣어줘서 \n",
    "# rnn은 학습과정을 거치지 않았지만 학습이 된 것처럼 작동가능"
   ]
  },
  {
   "cell_type": "code",
   "execution_count": 39,
   "id": "149d90ff-af03-46e2-b94d-1115ce36dea2",
   "metadata": {},
   "outputs": [
    {
     "data": {
      "text/plain": [
       "tensor([[-0.9912, -0.9117],\n",
       "        [ 0.0698, -1.0000],\n",
       "        [-0.9927, -0.9682],\n",
       "        ...,\n",
       "        [-0.9935, -0.9315],\n",
       "        [ 0.5777, -1.0000],\n",
       "        [-0.9960, -0.0109]], grad_fn=<IndexPutBackward0>)"
      ]
     },
     "execution_count": 39,
     "metadata": {},
     "output_type": "execute_result"
    }
   ],
   "source": [
    "hidden # 이거랑 동일"
   ]
  },
  {
   "cell_type": "code",
   "execution_count": null,
   "id": "9d2772f0-db7d-4219-b61f-6cc32da465df",
   "metadata": {
    "id": "9d2772f0-db7d-4219-b61f-6cc32da465df",
    "outputId": "c1b6c445-e53d-4eee-88f6-936affb4a61c"
   },
   "outputs": [
    {
     "data": {
      "text/plain": [
       "tensor([[1.9725e-02, 1.5469e-03, 8.2766e-01, 1.5106e-01],\n",
       "        [9.1875e-01, 1.6513e-04, 6.7702e-02, 1.3384e-02],\n",
       "        [2.0031e-02, 1.0660e-03, 8.5248e-01, 1.2642e-01],\n",
       "        ...,\n",
       "        [1.9640e-02, 1.3568e-03, 8.3705e-01, 1.4196e-01],\n",
       "        [9.9564e-01, 1.3114e-05, 3.5069e-03, 8.4108e-04],\n",
       "        [3.5473e-03, 1.5670e-01, 1.4102e-01, 6.9873e-01]],\n",
       "       grad_fn=<SoftmaxBackward0>)"
      ]
     },
     "execution_count": 20,
     "metadata": {},
     "output_type": "execute_result"
    }
   ],
   "source": [
    "soft(cook(rnn(x,_water)[0]))"
   ]
  },
  {
   "cell_type": "markdown",
   "id": "8207738b-8b09-4033-8d29-ef65efeb158f",
   "metadata": {
    "id": "f8d5d955-e63b-4888-9c06-3e2335e4444e"
   },
   "source": [
    "> ***(예비학습결론) torch.nn.RNN(4,2)는 torch.nn.RNNCell(4,2)의 batch 버전이다. (for문이 포함된 버전이다)***"
   ]
  },
  {
   "cell_type": "markdown",
   "id": "b7294003-19a1-4c0e-8e26-fd5d8ca51402",
   "metadata": {
    "id": "a438c349-1c9f-49ac-b28a-bcf45f970550"
   },
   "source": [
    "---"
   ]
  },
  {
   "cell_type": "markdown",
   "id": "9f934bd3-23a2-410c-85a5-010bd7378527",
   "metadata": {
    "id": "a04b3594-af18-42cb-9342-4a47e1bea2ad"
   },
   "source": [
    "torch.nn.RNN(4,2)를 이용하여 구현하자. "
   ]
  },
  {
   "cell_type": "markdown",
   "id": "43ce8e00-75d3-4fc6-bf9d-eaed5699b00e",
   "metadata": {
    "id": "1fc60d13-b313-4cf1-be5e-6808f060d7ce"
   },
   "source": [
    "`(1)` 숙성네트워크"
   ]
  },
  {
   "cell_type": "markdown",
   "id": "e2cea963-ac1b-471c-82df-97355e53858a",
   "metadata": {
    "id": "d2683216-1660-49a2-a231-0d87d67f30c9"
   },
   "source": [
    "선언"
   ]
  },
  {
   "cell_type": "code",
   "execution_count": null,
   "id": "631cd15a-a140-427a-a65d-933342bcc1a2",
   "metadata": {
    "id": "631cd15a-a140-427a-a65d-933342bcc1a2"
   },
   "outputs": [],
   "source": [
    "rnn = torch.nn.RNN(4,2)"
   ]
  },
  {
   "cell_type": "markdown",
   "id": "346efdcd-a50b-4ecb-9622-20e22c0c24d6",
   "metadata": {
    "id": "e1d46a34-1164-42c4-8246-4b9b531dcb87"
   },
   "source": [
    "가중치초기화"
   ]
  },
  {
   "cell_type": "code",
   "execution_count": null,
   "id": "aa63141f-8d36-4092-8b16-40c9d237b1cf",
   "metadata": {
    "id": "aa63141f-8d36-4092-8b16-40c9d237b1cf"
   },
   "outputs": [],
   "source": [
    "torch.manual_seed(43052)\n",
    "_rnncell = torch.nn.RNNCell(4,2)"
   ]
  },
  {
   "cell_type": "code",
   "execution_count": null,
   "id": "572522b1-ecc1-49e4-9c47-a9813e7ac5b2",
   "metadata": {
    "id": "572522b1-ecc1-49e4-9c47-a9813e7ac5b2"
   },
   "outputs": [],
   "source": [
    "rnn.weight_hh_l0.data = _rnncell.weight_hh.data \n",
    "rnn.weight_ih_l0.data = _rnncell.weight_ih.data\n",
    "rnn.bias_hh_l0.data = _rnncell.bias_hh.data\n",
    "rnn.bias_ih_l0.data = _rnncell.bias_ih.data"
   ]
  },
  {
   "cell_type": "markdown",
   "id": "6d195ab4-dcc0-44f1-98cd-33319e4b89df",
   "metadata": {
    "id": "0bbb9f7b-92d0-4973-b5cb-71bc69b29d87"
   },
   "source": [
    "`(2)` 조리네트워크"
   ]
  },
  {
   "cell_type": "code",
   "execution_count": null,
   "id": "414f264b-8d2f-41e6-8380-bb7ac0a3edc5",
   "metadata": {
    "id": "414f264b-8d2f-41e6-8380-bb7ac0a3edc5"
   },
   "outputs": [],
   "source": [
    "torch.manual_seed(43052)\n",
    "cook = torch.nn.Linear(2,4) "
   ]
  },
  {
   "cell_type": "markdown",
   "id": "a920dc10-56d9-4d52-8abd-4f17c1a09407",
   "metadata": {
    "id": "673810b3-7df3-4101-9954-3732acab4b9a"
   },
   "source": [
    "`(3)` 손실함수와 옵티마이저"
   ]
  },
  {
   "cell_type": "code",
   "execution_count": null,
   "id": "a8e8a0fe-2a1e-43bd-a15a-5efcedefa74c",
   "metadata": {
    "id": "a8e8a0fe-2a1e-43bd-a15a-5efcedefa74c"
   },
   "outputs": [],
   "source": [
    "loss_fn = torch.nn.CrossEntropyLoss()\n",
    "optimizr = torch.optim.Adam(list(rnn.parameters())+list(cook.parameters()))"
   ]
  },
  {
   "cell_type": "markdown",
   "id": "f2f385da-086c-4786-8b6c-6820a052bb7e",
   "metadata": {
    "id": "fb901a70-c3bc-4f59-8532-18e67fafdb34"
   },
   "source": [
    "`(4)` 학습"
   ]
  },
  {
   "cell_type": "code",
   "execution_count": null,
   "id": "ed19620e-f845-4110-9f7d-8f39d4a89081",
   "metadata": {
    "id": "ed19620e-f845-4110-9f7d-8f39d4a89081"
   },
   "outputs": [],
   "source": [
    "_water = torch.zeros(1,2) \n",
    "for epoc in range(5000):\n",
    "    ## 1 \n",
    "    hidden,hT = rnn(x,_water)\n",
    "    output = cook(hidden) \n",
    "    ## 2 \n",
    "    loss = loss_fn(output,y)\n",
    "    ## 3 \n",
    "    loss.backward()\n",
    "    ## 4 \n",
    "    optimizr.step()\n",
    "    optimizr.zero_grad()"
   ]
  },
  {
   "cell_type": "markdown",
   "id": "0a0e14f2-2923-4a0e-8a11-a85c5293be09",
   "metadata": {
    "id": "68bd2d84-66e4-4b34-80f4-2a11cf6de273"
   },
   "source": [
    "`(5)` 시각화1: yhat"
   ]
  },
  {
   "cell_type": "markdown",
   "id": "8c5b3e24-8d6a-4fde-ab9a-2d09f5575c6a",
   "metadata": {},
   "source": [
    "- 애초에 torch.nn.RNNCell(4,2)이 batch 형태로 반환하기 때문에 시각화할 떄 yhat을 하나하나 쌓을 필요가 없음\n",
    "- 아! 그리고 이렇게 batch 형태로 5000번 학습하면 RNNCell이 더 유용한 거 아니야?라고 생각할 수 있는데\n",
    "  - 그럴까봐 다른 학습 과정에서는 이중 포문 구조로 설정하여 batch와 유사하게 학습이 가능하도록 모형을 구현했음\n",
    "> 그런데 RNNCell이 배치학습이긴 하지만 이것도 포문이 중첩이 된 것으로 생각 가능하다"
   ]
  },
  {
   "cell_type": "code",
   "execution_count": null,
   "id": "ed5cf72a-4616-4d61-9b4c-7ac2de95e2b5",
   "metadata": {
    "id": "ed5cf72a-4616-4d61-9b4c-7ac2de95e2b5"
   },
   "outputs": [],
   "source": [
    "yhat = soft(output)"
   ]
  },
  {
   "cell_type": "code",
   "execution_count": null,
   "id": "8e08d4ef-6ef3-48d1-a4db-848342ef7b39",
   "metadata": {
    "id": "8e08d4ef-6ef3-48d1-a4db-848342ef7b39",
    "outputId": "95ae31de-deaa-4c18-ed18-481361e71f56"
   },
   "outputs": [
    {
     "data": {
      "text/plain": [
       "<matplotlib.image.AxesImage at 0x7fe67c231310>"
      ]
     },
     "execution_count": 28,
     "metadata": {},
     "output_type": "execute_result"
    },
    {
     "data": {
      "image/png": "[encoded data removed]",
      "text/plain": [
       "<Figure size 288x1080 with 1 Axes>"
      ]
     },
     "metadata": {
      "needs_background": "light"
     },
     "output_type": "display_data"
    }
   ],
   "source": [
    "plt.matshow(yhat.data[:15],cmap='bwr')"
   ]
  },
  {
   "cell_type": "markdown",
   "id": "c28b6bc3-eef4-4de2-b3ee-4d10f9200426",
   "metadata": {
    "id": "0a8d6765-daf3-4158-95ee-7e7489a3d1e4"
   },
   "source": [
    "- 처음은 좀 틀렸음 ㅎㅎ"
   ]
  },
  {
   "cell_type": "code",
   "execution_count": null,
   "id": "eb80d35f-9eec-47fe-a494-e935f124eefe",
   "metadata": {
    "id": "eb80d35f-9eec-47fe-a494-e935f124eefe",
    "outputId": "47a086ae-aaf6-4b73-d203-c884c2946823"
   },
   "outputs": [
    {
     "data": {
      "text/plain": [
       "<matplotlib.image.AxesImage at 0x7fe67c1c5d90>"
      ]
     },
     "execution_count": 29,
     "metadata": {},
     "output_type": "execute_result"
    },
    {
     "data": {
      "image/png": "[encoded data removed]",
      "text/plain": [
       "<Figure size 288x1080 with 1 Axes>"
      ]
     },
     "metadata": {
      "needs_background": "light"
     },
     "output_type": "display_data"
    }
   ],
   "source": [
    "plt.matshow(yhat.data[-15:],cmap='bwr')"
   ]
  },
  {
   "cell_type": "markdown",
   "id": "2e848e24-bfd6-43f8-90c8-b3b7f09a8fd8",
   "metadata": {
    "id": "cf9f6776-1449-4025-8c8d-a38444f3dd7b"
   },
   "source": [
    "- 뒤에는 잘맞음 "
   ]
  },
  {
   "cell_type": "markdown",
   "id": "b1924fd3-1242-4d10-847f-007d1f8ef663",
   "metadata": {
    "id": "f5f266a2-ded7-46c1-99a2-5d9d806515d7"
   },
   "source": [
    "**실전팁: `_water` 대신에 `hT`를 대입 (사실 큰 차이는 없음)**"
   ]
  },
  {
   "cell_type": "code",
   "execution_count": null,
   "id": "abb578d5-aa3c-4284-b9d7-dcb569fe5ceb",
   "metadata": {
    "id": "abb578d5-aa3c-4284-b9d7-dcb569fe5ceb",
    "outputId": "6b788597-17e2-4aa7-f53c-f7688fb1544c"
   },
   "outputs": [
    {
     "data": {
      "text/plain": [
       "((tensor([[-0.9912, -0.9117],\n",
       "          [ 0.0698, -1.0000],\n",
       "          [-0.9927, -0.9682],\n",
       "          [ 0.5761, -1.0000],\n",
       "          [-0.9960, -0.0173],\n",
       "          [ 0.9960, -1.0000]], grad_fn=<SqueezeBackward1>),\n",
       "  tensor([[ 0.9960, -1.0000]], grad_fn=<SqueezeBackward1>)),\n",
       " (tensor([[-0.9713, -1.0000],\n",
       "          [ 0.0535, -1.0000],\n",
       "          [-0.9925, -0.9720],\n",
       "          [ 0.5759, -1.0000],\n",
       "          [-0.9960, -0.0180],\n",
       "          [ 0.9960, -1.0000]], grad_fn=<SqueezeBackward1>),\n",
       "  tensor([[ 0.9960, -1.0000]], grad_fn=<SqueezeBackward1>)))"
      ]
     },
     "execution_count": 30,
     "metadata": {},
     "output_type": "execute_result"
    }
   ],
   "source": [
    "rnn(x[:6],_water),rnn(x[:6],hT)"
   ]
  },
  {
   "cell_type": "markdown",
   "id": "76f9cc23-f605-48ed-9acf-f28a248819f2",
   "metadata": {
    "id": "74e7661b-fe51-4a4d-8008-ce63ce25c545"
   },
   "source": [
    "`(6)` 시각화2: hidden, yhat"
   ]
  },
  {
   "cell_type": "code",
   "execution_count": null,
   "id": "0c82d954-218e-4efb-b777-dddbb8fcc72a",
   "metadata": {
    "id": "0c82d954-218e-4efb-b777-dddbb8fcc72a"
   },
   "outputs": [],
   "source": [
    "combinded = torch.concat([hidden,yhat],axis=1)"
   ]
  },
  {
   "cell_type": "code",
   "execution_count": null,
   "id": "755a7e9c-e319-47a1-94be-f9207506c830",
   "metadata": {
    "id": "755a7e9c-e319-47a1-94be-f9207506c830",
    "outputId": "9b277ad9-72da-4476-804b-b2bd9305bdbe"
   },
   "outputs": [
    {
     "data": {
      "text/plain": [
       "<matplotlib.image.AxesImage at 0x7fe67c13b7d0>"
      ]
     },
     "execution_count": 32,
     "metadata": {},
     "output_type": "execute_result"
    },
    {
     "data": {
      "image/png": "[encoded data removed]",
      "text/plain": [
       "<Figure size 288x720 with 1 Axes>"
      ]
     },
     "metadata": {
      "needs_background": "light"
     },
     "output_type": "display_data"
    }
   ],
   "source": [
    "plt.matshow(combinded[-15:].data,cmap='bwr')"
   ]
  },
  {
   "cell_type": "markdown",
   "id": "6a0be9b5-9ae9-4509-9293-ecc529c15ed0",
   "metadata": {
    "id": "0910a7ee-015b-44d6-997c-7d867b64cb75"
   },
   "source": [
    "- 히든노드의 해석이 어려움. "
   ]
  },
  {
   "cell_type": "markdown",
   "id": "e3ce79fa-2fe6-429f-902c-31f6f381fd7f",
   "metadata": {
    "id": "ad4ebd0d-34a0-47ed-84fa-1be9045e5dd1"
   },
   "source": [
    "### 순환신경망 구현4 (with RNN, hidden node 3) -- 성공 "
   ]
  },
  {
   "cell_type": "markdown",
   "id": "653bd1c3-ad76-4aab-9eaf-f60826ddaa95",
   "metadata": {
    "id": "68f30509-b835-45de-8b32-56d201b00e38"
   },
   "source": [
    "`(1)` 숙성네트워크~ `(2)` 조리네트워크"
   ]
  },
  {
   "cell_type": "code",
   "execution_count": null,
   "id": "336f1525-dc47-45eb-9025-51cd05bed4ff",
   "metadata": {
    "id": "336f1525-dc47-45eb-9025-51cd05bed4ff"
   },
   "outputs": [],
   "source": [
    "torch.manual_seed(2) #1 \n",
    "rnn = torch.nn.RNN(4,3) #hidden node : 3\n",
    "cook = torch.nn.Linear(3,4) "
   ]
  },
  {
   "cell_type": "markdown",
   "id": "6c9926ef-39c1-47fa-b3db-31fb39d23136",
   "metadata": {
    "id": "26433b48-c160-4648-8b40-7e56d2cc7c5d"
   },
   "source": [
    "`(3)` 손실함수와 옵티마이저"
   ]
  },
  {
   "cell_type": "code",
   "execution_count": null,
   "id": "3ddef63e-e7b9-40b3-a670-1ab9847e6fd3",
   "metadata": {
    "id": "3ddef63e-e7b9-40b3-a670-1ab9847e6fd3"
   },
   "outputs": [],
   "source": [
    "loss_fn = torch.nn.CrossEntropyLoss()\n",
    "optimizr = torch.optim.Adam(list(rnn.parameters())+list(cook.parameters()))"
   ]
  },
  {
   "cell_type": "markdown",
   "id": "069d7c2a-c9b9-4b53-a6a7-c0cf6745382b",
   "metadata": {
    "id": "e295cc4c-1a36-4c58-a276-2b79651c0e7c"
   },
   "source": [
    "`(4)` 학습"
   ]
  },
  {
   "cell_type": "code",
   "execution_count": null,
   "id": "e7c81bd1-37d1-4590-887c-9fa575e27dfb",
   "metadata": {
    "id": "e7c81bd1-37d1-4590-887c-9fa575e27dfb"
   },
   "outputs": [],
   "source": [
    "_water = torch.zeros(1,3) \n",
    "for epoc in range(5000):\n",
    "    ## 1\n",
    "    hidden,hT = rnn(x,_water) \n",
    "    output = cook(hidden) \n",
    "    ## 2 \n",
    "    loss = loss_fn(output,y) \n",
    "    ## 3 \n",
    "    loss.backward()\n",
    "    ## 4 \n",
    "    optimizr.step()\n",
    "    optimizr.zero_grad()"
   ]
  },
  {
   "cell_type": "markdown",
   "id": "8c7bef79-4a88-4bf4-b33a-ee8d21c67fc2",
   "metadata": {
    "id": "92b7c75d-2051-4889-a03c-cdf6dc09cb2f"
   },
   "source": [
    "`(5)` 시각화1: yhat"
   ]
  },
  {
   "cell_type": "code",
   "execution_count": null,
   "id": "c5e83951-23d7-4271-ac7d-25ac4a0c542b",
   "metadata": {
    "id": "c5e83951-23d7-4271-ac7d-25ac4a0c542b"
   },
   "outputs": [],
   "source": [
    "yhat = soft(output)"
   ]
  },
  {
   "cell_type": "code",
   "execution_count": null,
   "id": "091fb1ca-cadb-464d-b708-2dcbc80ff909",
   "metadata": {
    "id": "091fb1ca-cadb-464d-b708-2dcbc80ff909",
    "outputId": "9aacd890-89c8-4da3-9d49-f56f4ed897cf"
   },
   "outputs": [
    {
     "data": {
      "text/plain": [
       "<matplotlib.image.AxesImage at 0x7fe67c04f550>"
      ]
     },
     "execution_count": 37,
     "metadata": {},
     "output_type": "execute_result"
    },
    {
     "data": {
      "image/png": "[encoded data removed]",
      "text/plain": [
       "<Figure size 288x1080 with 1 Axes>"
      ]
     },
     "metadata": {
      "needs_background": "light"
     },
     "output_type": "display_data"
    }
   ],
   "source": [
    "plt.matshow(yhat[-15:].data,cmap='bwr')"
   ]
  },
  {
   "cell_type": "markdown",
   "id": "74fbc504-0489-4867-91db-aa1b3574fbcb",
   "metadata": {
    "id": "650c116b-5bb7-4876-984b-7c5480e82cd1"
   },
   "source": [
    "`(6)` 시각화2: hidden(node : 3), yhat"
   ]
  },
  {
   "cell_type": "code",
   "execution_count": null,
   "id": "0893abfc-7033-46dd-80d7-38759a9fce75",
   "metadata": {
    "id": "0893abfc-7033-46dd-80d7-38759a9fce75"
   },
   "outputs": [],
   "source": [
    "combinded = torch.concat([hidden,yhat],axis=1)"
   ]
  },
  {
   "cell_type": "code",
   "execution_count": null,
   "id": "92de31dd-5e6c-427b-a246-0a51e67c46c4",
   "metadata": {
    "id": "92de31dd-5e6c-427b-a246-0a51e67c46c4",
    "outputId": "603f451b-527a-49b5-f17d-5d0d4fe1d3cc"
   },
   "outputs": [
    {
     "data": {
      "text/plain": [
       "<matplotlib.image.AxesImage at 0x7fe6747ba910>"
      ]
     },
     "execution_count": 39,
     "metadata": {},
     "output_type": "execute_result"
    },
    {
     "data": {
      "image/png": "[encoded data removed]",
      "text/plain": [
       "<Figure size 288x617.143 with 1 Axes>"
      ]
     },
     "metadata": {
      "needs_background": "light"
     },
     "output_type": "display_data"
    }
   ],
   "source": [
    "plt.matshow(combinded[-15:].data,cmap='bwr')"
   ]
  },
  {
   "cell_type": "markdown",
   "id": "917df6ed-1dde-4dd4-a580-ad398a562ee5",
   "metadata": {
    "id": "6494115f-e2e8-49b8-8c69-10e3a0adbb63"
   },
   "source": [
    "> ### 첫 번째, 두 번째 히든노드 $\\to$ bcd를 구분 \n",
    "> ### 세 번째 히든노드 $\\to$ 대소문자를 구분"
   ]
  },
  {
   "cell_type": "markdown",
   "id": "aae6fa11-f122-417d-85f0-607c5d117c35",
   "metadata": {
    "id": "5ab3722b-a85f-4e5e-8dec-272a38fc7c9c"
   },
   "source": [
    "## HW: hello 예제"
   ]
  },
  {
   "cell_type": "markdown",
   "id": "81b108ac-f319-45cd-beac-9e3652d46d4d",
   "metadata": {
    "id": "34a5009e-785d-4334-8851-538e7d744d2e"
   },
   "source": [
    "아래와 같이 hello가 반복되는 자료가 있다고 하자. "
   ]
  },
  {
   "cell_type": "code",
   "execution_count": 8,
   "id": "3926a8e6-9926-4158-84b8-df6c86b359c6",
   "metadata": {
    "id": "8dfc8d01-2a58-46e6-90e8-bd499fb56979"
   },
   "outputs": [],
   "source": [
    "txt = list('hello')*100\n",
    "\n",
    "txt_x = txt[:-1]\n",
    "txt_y = txt[1:]\n",
    "\n",
    "x = torch.nn.functional.one_hot(torch.tensor(f(txt_x,{'h':0,'e':1,'l':2,'o':3}))).float()\n",
    "y = torch.nn.functional.one_hot(torch.tensor(f(txt_y,{'h':0,'e':1,'l':2,'o':3}))).float()"
   ]
  },
  {
   "cell_type": "code",
   "execution_count": 9,
   "id": "783772cd-9e86-4f76-9478-1b60b4c9b4cb",
   "metadata": {
    "id": "336f1525-dc47-45eb-9025-51cd05bed4ff"
   },
   "outputs": [],
   "source": [
    "rnn = torch.nn.RNN(4,3) # hidden node : 3\n",
    "cook = torch.nn.Linear(3,4)"
   ]
  },
  {
   "cell_type": "markdown",
   "id": "dc055c7a-c635-410d-8e9a-91cfc3e038c3",
   "metadata": {
    "id": "26433b48-c160-4648-8b40-7e56d2cc7c5d"
   },
   "source": [
    "`(3)` 손실함수와 옵티마이저"
   ]
  },
  {
   "cell_type": "code",
   "execution_count": 10,
   "id": "992c273c-9d82-412c-af45-a65a12f43d6c",
   "metadata": {
    "id": "3ddef63e-e7b9-40b3-a670-1ab9847e6fd3"
   },
   "outputs": [],
   "source": [
    "loss_fn = torch.nn.CrossEntropyLoss()\n",
    "optimizr = torch.optim.Adam(list(rnn.parameters())+list(cook.parameters()))"
   ]
  },
  {
   "cell_type": "markdown",
   "id": "fdc8f0b0-48fd-449b-b6dd-4f4d72dd14de",
   "metadata": {
    "id": "e295cc4c-1a36-4c58-a276-2b79651c0e7c"
   },
   "source": [
    "`(4)` 학습"
   ]
  },
  {
   "cell_type": "code",
   "execution_count": 11,
   "id": "2d325739-621f-4ee2-8935-187f9d12de81",
   "metadata": {
    "id": "e7c81bd1-37d1-4590-887c-9fa575e27dfb"
   },
   "outputs": [],
   "source": [
    "_water = torch.zeros(1,3) \n",
    "for epoc in range(5000):\n",
    "    ## 1\n",
    "    hidden,hT = rnn(x,_water) # hT는 사실 사용하지 않으므로 그냥 under bar처리해도 됨\n",
    "    output = cook(hidden) \n",
    "    ## 2 \n",
    "    loss = loss_fn(output,y) \n",
    "    ## 3 \n",
    "    loss.backward()\n",
    "    ## 4 \n",
    "    optimizr.step()\n",
    "    optimizr.zero_grad()"
   ]
  },
  {
   "cell_type": "markdown",
   "id": "5dafe0d9-2f42-4bdc-b694-c5c1c24f85d9",
   "metadata": {
    "id": "92b7c75d-2051-4889-a03c-cdf6dc09cb2f"
   },
   "source": [
    "`(5)` 시각화1: yhat"
   ]
  },
  {
   "cell_type": "code",
   "execution_count": 12,
   "id": "1d998682-72e9-44b7-bff1-6f788ae243fe",
   "metadata": {
    "id": "c5e83951-23d7-4271-ac7d-25ac4a0c542b"
   },
   "outputs": [],
   "source": [
    "yhat = soft(output)"
   ]
  },
  {
   "cell_type": "code",
   "execution_count": 13,
   "id": "ae6a05ca-cf5e-42a0-9b18-53be8f19354b",
   "metadata": {
    "id": "091fb1ca-cadb-464d-b708-2dcbc80ff909",
    "outputId": "9aacd890-89c8-4da3-9d49-f56f4ed897cf"
   },
   "outputs": [
    {
     "data": {
      "text/plain": [
       "<matplotlib.image.AxesImage at 0x7ff22105fe80>"
      ]
     },
     "execution_count": 13,
     "metadata": {},
     "output_type": "execute_result"
    },
    {
     "data": {
      "image/png": "[encoded data removed]",
      "text/plain": [
       "<Figure size 288x1080 with 1 Axes>"
      ]
     },
     "metadata": {
      "needs_background": "light"
     },
     "output_type": "display_data"
    }
   ],
   "source": [
    "plt.matshow(yhat[-15:].data,cmap='bwr')"
   ]
  },
  {
   "cell_type": "markdown",
   "id": "ef8c03ea-90f6-4e9f-83e1-31230b2d4a3f",
   "metadata": {
    "id": "650c116b-5bb7-4876-984b-7c5480e82cd1"
   },
   "source": [
    "`(6)` 시각화2: hidden, yhat"
   ]
  },
  {
   "cell_type": "code",
   "execution_count": 14,
   "id": "a6dd1f99-9dfb-4125-8b92-3bfd5ca2f1c1",
   "metadata": {
    "id": "0893abfc-7033-46dd-80d7-38759a9fce75"
   },
   "outputs": [],
   "source": [
    "combinded = torch.concat([hidden,yhat],axis=1)"
   ]
  },
  {
   "cell_type": "code",
   "execution_count": 15,
   "id": "53a8f335-e1ee-49eb-9929-811c2e36e471",
   "metadata": {
    "id": "92de31dd-5e6c-427b-a246-0a51e67c46c4",
    "outputId": "603f451b-527a-49b5-f17d-5d0d4fe1d3cc"
   },
   "outputs": [
    {
     "data": {
      "text/plain": [
       "<matplotlib.image.AxesImage at 0x7ff221470ee0>"
      ]
     },
     "execution_count": 15,
     "metadata": {},
     "output_type": "execute_result"
    },
    {
     "data": {
      "image/png": "[encoded data removed]",
      "text/plain": [
       "<Figure size 288x617.143 with 1 Axes>"
      ]
     },
     "metadata": {
      "needs_background": "light"
     },
     "output_type": "display_data"
    }
   ],
   "source": [
    "plt.matshow(combinded[-15:].data,cmap='bwr')"
   ]
  }
 ],
 "metadata": {
  "colab": {
   "provenance": []
  },
  "kernelspec": {
   "display_name": "Python 3 (ipykernel)",
   "language": "python",
   "name": "python3"
  },
  "language_info": {
   "codemirror_mode": {
    "name": "ipython",
    "version": 3
   },
   "file_extension": ".py",
   "mimetype": "text/x-python",
   "name": "python",
   "nbconvert_exporter": "python",
   "pygments_lexer": "ipython3",
   "version": "3.9.12"
  }
 },
 "nbformat": 4,
 "nbformat_minor": 5
}
