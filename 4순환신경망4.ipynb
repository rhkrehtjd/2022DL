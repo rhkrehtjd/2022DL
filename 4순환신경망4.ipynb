{
 "cells": [
  {
   "cell_type": "code",
   "execution_count": 16,
   "id": "53642aa5-28c1-4a58-a86e-7b574b02a957",
   "metadata": {
    "id": "53642aa5-28c1-4a58-a86e-7b574b02a957"
   },
   "outputs": [],
   "source": [
    "import torch\n",
    "import numpy as np\n",
    "import matplotlib.pyplot as plt"
   ]
  },
  {
   "cell_type": "code",
   "execution_count": 17,
   "id": "a9b33d03-ba9c-442b-9aac-6b9f1aa566d2",
   "metadata": {
    "id": "a9b33d03-ba9c-442b-9aac-6b9f1aa566d2"
   },
   "outputs": [],
   "source": [
    "def f(txt,mapping):\n",
    "    return [mapping[key] for key in txt] \n",
    "soft = torch.nn.Softmax(dim=1)"
   ]
  },
  {
   "cell_type": "markdown",
   "id": "abf71704-d07f-4836-b64a-33c20bdb5ff0",
   "metadata": {
    "id": "abf71704-d07f-4836-b64a-33c20bdb5ff0"
   },
   "source": [
    "## Exam4: AbAcAd (3)"
   ]
  },
  {
   "cell_type": "code",
   "execution_count": 18,
   "id": "2782a6ae-6b96-47f8-b4c7-b3d2fffe8e38",
   "metadata": {
    "id": "2782a6ae-6b96-47f8-b4c7-b3d2fffe8e38",
    "outputId": "9da9ed41-3beb-4892-88ce-cf3f507f7c33"
   },
   "outputs": [],
   "source": [
    "txt = list('AbAcAd')*100"
   ]
  },
  {
   "cell_type": "code",
   "execution_count": 19,
   "id": "2e6aee34-413a-42c1-bdc1-4fb371b80302",
   "metadata": {
    "id": "2e6aee34-413a-42c1-bdc1-4fb371b80302"
   },
   "outputs": [],
   "source": [
    "txt_x = txt[:-1]\n",
    "txt_y = txt[1:]"
   ]
  },
  {
   "cell_type": "code",
   "execution_count": 20,
   "id": "007a051e-83f9-48d8-a43a-6f8fef8d1a6b",
   "metadata": {
    "id": "007a051e-83f9-48d8-a43a-6f8fef8d1a6b"
   },
   "outputs": [],
   "source": [
    "x = torch.nn.functional.one_hot(torch.tensor(f(txt_x,{'A':0,'b':1,'c':2,'d':3}))).float()\n",
    "y = torch.nn.functional.one_hot(torch.tensor(f(txt_y,{'A':0,'b':1,'c':2,'d':3}))).float()"
   ]
  },
  {
   "cell_type": "markdown",
   "id": "0548c7f7-c535-4e22-aab8-139674445385",
   "metadata": {
    "id": "0548c7f7-c535-4e22-aab8-139674445385"
   },
   "source": [
    "### 순환신경망 구현2 (with RNNCell, hidden node 2) -- 성공 (복습)"
   ]
  },
  {
   "cell_type": "markdown",
   "id": "9ca33b86-a15d-402e-b3b4-664f48d663de",
   "metadata": {
    "id": "9ca33b86-a15d-402e-b3b4-664f48d663de"
   },
   "source": [
    "`(1)` 숙성네트워크"
   ]
  },
  {
   "cell_type": "code",
   "execution_count": 24,
   "id": "32af0e3e-dfcb-4dce-aae2-6d6fab1d8313",
   "metadata": {
    "id": "32af0e3e-dfcb-4dce-aae2-6d6fab1d8313"
   },
   "outputs": [],
   "source": [
    "torch.manual_seed(43052)\n",
    "rnncell = torch.nn.RNNCell(4,2) # x:(n,4) , h:(n,2) "
   ]
  },
  {
   "cell_type": "markdown",
   "id": "0627e504-6b38-4595-a75d-5d977a89f366",
   "metadata": {
    "id": "0627e504-6b38-4595-a75d-5d977a89f366"
   },
   "source": [
    "`(2)` 조리네트워크"
   ]
  },
  {
   "cell_type": "code",
   "execution_count": 25,
   "id": "dcc7e7b0-a8e6-433a-8fe6-ed1ce01c51b2",
   "metadata": {
    "id": "dcc7e7b0-a8e6-433a-8fe6-ed1ce01c51b2"
   },
   "outputs": [],
   "source": [
    "torch.manual_seed(43052)\n",
    "cook = torch.nn.Linear(2,4) # 숙성된 2차원의 단어를 다시 4차원으로 바꿔줘야지 나중에 softmax 취할 수 있음"
   ]
  },
  {
   "cell_type": "markdown",
   "id": "6eb4ee27-1d6b-47fa-879f-ca85be708938",
   "metadata": {
    "id": "6eb4ee27-1d6b-47fa-879f-ca85be708938"
   },
   "source": [
    "`(3)` 손실함수와 옵티마이저 "
   ]
  },
  {
   "cell_type": "code",
   "execution_count": 26,
   "id": "647dd964-a13d-41f9-b9ee-457a33241ba0",
   "metadata": {
    "id": "647dd964-a13d-41f9-b9ee-457a33241ba0"
   },
   "outputs": [],
   "source": [
    "loss_fn = torch.nn.CrossEntropyLoss()\n",
    "optimizr = torch.optim.Adam(list(rnncell.parameters())+list(cook.parameters()))"
   ]
  },
  {
   "cell_type": "markdown",
   "id": "88808619-fb5f-4ae7-9976-e187db2be0ad",
   "metadata": {
    "id": "88808619-fb5f-4ae7-9976-e187db2be0ad"
   },
   "source": [
    "`(4)` 학습"
   ]
  },
  {
   "cell_type": "code",
   "execution_count": 27,
   "id": "dc3a3d2a-b890-460c-95ac-9b740b88fb66",
   "metadata": {
    "id": "dc3a3d2a-b890-460c-95ac-9b740b88fb66"
   },
   "outputs": [],
   "source": [
    "T = len(x) \n",
    "for epoc in range(5000):\n",
    "    ## 1~2\n",
    "    loss = 0 \n",
    "    ht = torch.zeros(1,2) \n",
    "    for t in range(T):\n",
    "        xt,yt = x[[t]], y[[t]]\n",
    "        ht = rnncell(xt,ht)\n",
    "        ot = cook(ht)\n",
    "        loss = loss + loss_fn(ot,yt) \n",
    "    ## 3 \n",
    "    loss.backward()\n",
    "    ## 4 \n",
    "    optimizr.step()\n",
    "    optimizr.zero_grad()"
   ]
  },
  {
   "cell_type": "markdown",
   "id": "97bf429b-7383-45a8-bb5a-414d288be7b3",
   "metadata": {
    "id": "97bf429b-7383-45a8-bb5a-414d288be7b3"
   },
   "source": [
    "`(5)` 시각화 "
   ]
  },
  {
   "cell_type": "code",
   "execution_count": 28,
   "id": "777b5567-2077-4146-98d7-5830ca35103d",
   "metadata": {
    "id": "777b5567-2077-4146-98d7-5830ca35103d"
   },
   "outputs": [],
   "source": [
    "hidden = torch.zeros(T,2) "
   ]
  },
  {
   "cell_type": "code",
   "execution_count": 29,
   "id": "be7d87d2-5bf2-4638-892c-9dacc573ea89",
   "metadata": {
    "id": "be7d87d2-5bf2-4638-892c-9dacc573ea89"
   },
   "outputs": [],
   "source": [
    "# t=0 \n",
    "_water = torch.zeros(1,2)\n",
    "hidden[[0]] = rnncell(x[[0]],_water)\n",
    "# t=1~T \n",
    "for t in range(1,T):\n",
    "    hidden[[t]] = rnncell(x[[t]],hidden[[t-1]])"
   ]
  },
  {
   "cell_type": "code",
   "execution_count": 30,
   "id": "f276d67e-be2a-4f73-bf70-8ea1e80e272e",
   "metadata": {
    "id": "f276d67e-be2a-4f73-bf70-8ea1e80e272e",
    "outputId": "57a139c7-61eb-4343-dd46-a281313af390"
   },
   "outputs": [
    {
     "data": {
      "text/plain": [
       "tensor([[1.9725e-02, 1.5469e-03, 8.2766e-01, 1.5106e-01],\n",
       "        [9.1875e-01, 1.6513e-04, 6.7702e-02, 1.3384e-02],\n",
       "        [2.0031e-02, 1.0660e-03, 8.5248e-01, 1.2642e-01],\n",
       "        ...,\n",
       "        [1.9640e-02, 1.3568e-03, 8.3705e-01, 1.4196e-01],\n",
       "        [9.9564e-01, 1.3114e-05, 3.5069e-03, 8.4108e-04],\n",
       "        [3.5473e-03, 1.5670e-01, 1.4102e-01, 6.9873e-01]],\n",
       "       grad_fn=<SoftmaxBackward0>)"
      ]
     },
     "execution_count": 30,
     "metadata": {},
     "output_type": "execute_result"
    }
   ],
   "source": [
    "yhat = soft(cook(hidden))\n",
    "yhat"
   ]
  },
  {
   "cell_type": "code",
   "execution_count": 33,
   "id": "9de802b5-1799-4d8b-88bf-0414a8700907",
   "metadata": {
    "id": "9de802b5-1799-4d8b-88bf-0414a8700907",
    "outputId": "793f66f3-d358-4a4a-88aa-0826b64be653"
   },
   "outputs": [
    {
     "data": {
      "text/plain": [
       "<matplotlib.colorbar.Colorbar at 0x7f85a8b91430>"
      ]
     },
     "execution_count": 33,
     "metadata": {},
     "output_type": "execute_result"
    },
    {
     "data": {
      "image/png": "[encoded data removed]",
      "text/plain": [
       "<Figure size 288x1080 with 2 Axes>"
      ]
     },
     "metadata": {
      "needs_background": "light"
     },
     "output_type": "display_data"
    }
   ],
   "source": [
    "plt.matshow(yhat[:15].data,cmap='bwr')\n",
    "plt.colorbar()\n",
    "# 처음부터 15개"
   ]
  },
  {
   "cell_type": "code",
   "execution_count": 34,
   "id": "e52bde43-0443-44a1-8de2-5aac95242841",
   "metadata": {
    "id": "e52bde43-0443-44a1-8de2-5aac95242841",
    "outputId": "5515fa22-c57d-4f64-b830-05b862e42af2"
   },
   "outputs": [
    {
     "data": {
      "text/plain": [
       "<matplotlib.colorbar.Colorbar at 0x7f85a8fe2700>"
      ]
     },
     "execution_count": 34,
     "metadata": {},
     "output_type": "execute_result"
    },
    {
     "data": {
      "image/png": "[encoded data removed]",
      "text/plain": [
       "<Figure size 288x1080 with 2 Axes>"
      ]
     },
     "metadata": {
      "needs_background": "light"
     },
     "output_type": "display_data"
    }
   ],
   "source": [
    "plt.matshow(yhat[-15:].data,cmap='bwr')\n",
    "plt.colorbar()\n",
    "# 마지막 15개"
   ]
  },
  {
   "cell_type": "markdown",
   "id": "e38a13c8-0cd4-4c67-9f35-f124954f91d4",
   "metadata": {
    "id": "e38a13c8-0cd4-4c67-9f35-f124954f91d4"
   },
   "source": [
    "### 순환신경망 구현3 (with RNN, hidden node 2) -- 성공 "
   ]
  },
  {
   "cell_type": "markdown",
   "id": "c20d62d6-5aa5-47f7-8b25-2d3f51e066bc",
   "metadata": {
    "id": "c20d62d6-5aa5-47f7-8b25-2d3f51e066bc"
   },
   "source": [
    "(예비학습)"
   ]
  },
  {
   "cell_type": "markdown",
   "id": "9594f176-f4c0-49c8-aeec-3e570f2658ff",
   "metadata": {
    "id": "9594f176-f4c0-49c8-aeec-3e570f2658ff"
   },
   "source": [
    "`-` 네트워크학습이후 yhat을 구하려면 번거로웠음 \n",
    "\n",
    "```Python\n",
    "hidden = torch.zeros(T,2) \n",
    "_water = torch.zeros(1,2)\n",
    "hidden[[0]] = rnncell(x[[0]],_water)\n",
    "for t in range(1,T):\n",
    "    hidden[[t]] = rnncell(x[[t]],hidden[[t-1]])\n",
    "yhat = soft(cook(hidden))\n",
    "```"
   ]
  },
  {
   "cell_type": "markdown",
   "id": "32f0d1c9-9fa5-4b0d-89a1-5879ca5bdf63",
   "metadata": {
    "id": "32f0d1c9-9fa5-4b0d-89a1-5879ca5bdf63"
   },
   "source": [
    "`-` 이렇게 하면 쉽게(?) 구할 수 있음 "
   ]
  },
  {
   "cell_type": "code",
   "execution_count": 35,
   "id": "343c746a-9355-4dcb-8f05-0f9c6258dc0a",
   "metadata": {
    "id": "343c746a-9355-4dcb-8f05-0f9c6258dc0a"
   },
   "outputs": [],
   "source": [
    "rnn = torch.nn.RNN(4,2)"
   ]
  },
  {
   "cell_type": "code",
   "execution_count": 36,
   "id": "d1d9b622-4f57-4c45-b075-697e29dfbc85",
   "metadata": {
    "id": "d1d9b622-4f57-4c45-b075-697e29dfbc85"
   },
   "outputs": [],
   "source": [
    "rnn.weight_hh_l0.data = rnncell.weight_hh.data \n",
    "rnn.weight_ih_l0.data = rnncell.weight_ih.data\n",
    "rnn.bias_hh_l0.data = rnncell.bias_hh.data\n",
    "rnn.bias_ih_l0.data = rnncell.bias_ih.data"
   ]
  },
  {
   "cell_type": "markdown",
   "id": "65c3f636-9dc0-4d17-a5e2-0af86c5bc88c",
   "metadata": {
    "id": "65c3f636-9dc0-4d17-a5e2-0af86c5bc88c"
   },
   "source": [
    "`-` rnn(x,_water)의 결과는 (1) 599년치 간장 (2) 599번째 간장 이다 "
   ]
  },
  {
   "cell_type": "code",
   "execution_count": 37,
   "id": "804465fe-8039-4579-b280-ae00fb670dd4",
   "metadata": {
    "id": "804465fe-8039-4579-b280-ae00fb670dd4",
    "outputId": "50bd27c4-c5b7-4ed5-f276-d930294bf2ef"
   },
   "outputs": [
    {
     "data": {
      "text/plain": [
       "(tensor([[-0.9912, -0.9117],\n",
       "         [ 0.0698, -1.0000],\n",
       "         [-0.9927, -0.9682],\n",
       "         ...,\n",
       "         [-0.9935, -0.9315],\n",
       "         [ 0.5777, -1.0000],\n",
       "         [-0.9960, -0.0109]], grad_fn=<SqueezeBackward1>),\n",
       " tensor([[-0.9960, -0.0109]], grad_fn=<SqueezeBackward1>))"
      ]
     },
     "execution_count": 37,
     "metadata": {},
     "output_type": "execute_result"
    }
   ],
   "source": [
    "rnn(x,_water)"
   ]
  },
  {
   "cell_type": "code",
   "execution_count": 39,
   "id": "149d90ff-af03-46e2-b94d-1115ce36dea2",
   "metadata": {},
   "outputs": [
    {
     "data": {
      "text/plain": [
       "tensor([[-0.9912, -0.9117],\n",
       "        [ 0.0698, -1.0000],\n",
       "        [-0.9927, -0.9682],\n",
       "        ...,\n",
       "        [-0.9935, -0.9315],\n",
       "        [ 0.5777, -1.0000],\n",
       "        [-0.9960, -0.0109]], grad_fn=<IndexPutBackward0>)"
      ]
     },
     "execution_count": 39,
     "metadata": {},
     "output_type": "execute_result"
    }
   ],
   "source": [
    "hidden"
   ]
  },
  {
   "cell_type": "code",
   "execution_count": null,
   "id": "9d2772f0-db7d-4219-b61f-6cc32da465df",
   "metadata": {
    "id": "9d2772f0-db7d-4219-b61f-6cc32da465df",
    "outputId": "c1b6c445-e53d-4eee-88f6-936affb4a61c"
   },
   "outputs": [
    {
     "data": {
      "text/plain": [
       "tensor([[1.9725e-02, 1.5469e-03, 8.2766e-01, 1.5106e-01],\n",
       "        [9.1875e-01, 1.6513e-04, 6.7702e-02, 1.3384e-02],\n",
       "        [2.0031e-02, 1.0660e-03, 8.5248e-01, 1.2642e-01],\n",
       "        ...,\n",
       "        [1.9640e-02, 1.3568e-03, 8.3705e-01, 1.4196e-01],\n",
       "        [9.9564e-01, 1.3114e-05, 3.5069e-03, 8.4108e-04],\n",
       "        [3.5473e-03, 1.5670e-01, 1.4102e-01, 6.9873e-01]],\n",
       "       grad_fn=<SoftmaxBackward0>)"
      ]
     },
     "execution_count": 20,
     "metadata": {},
     "output_type": "execute_result"
    }
   ],
   "source": [
    "soft(cook(rnn(x,_water)[0]))"
   ]
  },
  {
   "cell_type": "markdown",
   "id": "f8d5d955-e63b-4888-9c06-3e2335e4444e",
   "metadata": {
    "id": "f8d5d955-e63b-4888-9c06-3e2335e4444e"
   },
   "source": [
    "***(예비학습결론) torch.nn.RNN(4,2)는 torch.nn.RNNCell(4,2)의 batch 버전이다. (for문이 포함된 버전이다)***"
   ]
  },
  {
   "cell_type": "markdown",
   "id": "a438c349-1c9f-49ac-b28a-bcf45f970550",
   "metadata": {
    "id": "a438c349-1c9f-49ac-b28a-bcf45f970550"
   },
   "source": [
    "---"
   ]
  },
  {
   "cell_type": "markdown",
   "id": "a04b3594-af18-42cb-9342-4a47e1bea2ad",
   "metadata": {
    "id": "a04b3594-af18-42cb-9342-4a47e1bea2ad"
   },
   "source": [
    "torch.nn.RNN(4,2)를 이용하여 구현하자. "
   ]
  },
  {
   "cell_type": "markdown",
   "id": "1fc60d13-b313-4cf1-be5e-6808f060d7ce",
   "metadata": {
    "id": "1fc60d13-b313-4cf1-be5e-6808f060d7ce"
   },
   "source": [
    "`(1)` 숙성네트워크"
   ]
  },
  {
   "cell_type": "markdown",
   "id": "d2683216-1660-49a2-a231-0d87d67f30c9",
   "metadata": {
    "id": "d2683216-1660-49a2-a231-0d87d67f30c9"
   },
   "source": [
    "선언"
   ]
  },
  {
   "cell_type": "code",
   "execution_count": null,
   "id": "631cd15a-a140-427a-a65d-933342bcc1a2",
   "metadata": {
    "id": "631cd15a-a140-427a-a65d-933342bcc1a2"
   },
   "outputs": [],
   "source": [
    "rnn = torch.nn.RNN(4,2)"
   ]
  },
  {
   "cell_type": "markdown",
   "id": "e1d46a34-1164-42c4-8246-4b9b531dcb87",
   "metadata": {
    "id": "e1d46a34-1164-42c4-8246-4b9b531dcb87"
   },
   "source": [
    "가중치초기화"
   ]
  },
  {
   "cell_type": "code",
   "execution_count": null,
   "id": "aa63141f-8d36-4092-8b16-40c9d237b1cf",
   "metadata": {
    "id": "aa63141f-8d36-4092-8b16-40c9d237b1cf"
   },
   "outputs": [],
   "source": [
    "torch.manual_seed(43052)\n",
    "_rnncell = torch.nn.RNNCell(4,2)"
   ]
  },
  {
   "cell_type": "code",
   "execution_count": null,
   "id": "572522b1-ecc1-49e4-9c47-a9813e7ac5b2",
   "metadata": {
    "id": "572522b1-ecc1-49e4-9c47-a9813e7ac5b2"
   },
   "outputs": [],
   "source": [
    "rnn.weight_hh_l0.data = _rnncell.weight_hh.data \n",
    "rnn.weight_ih_l0.data = _rnncell.weight_ih.data\n",
    "rnn.bias_hh_l0.data = _rnncell.bias_hh.data\n",
    "rnn.bias_ih_l0.data = _rnncell.bias_ih.data"
   ]
  },
  {
   "cell_type": "markdown",
   "id": "0bbb9f7b-92d0-4973-b5cb-71bc69b29d87",
   "metadata": {
    "id": "0bbb9f7b-92d0-4973-b5cb-71bc69b29d87"
   },
   "source": [
    "`(2)` 조리네트워크"
   ]
  },
  {
   "cell_type": "code",
   "execution_count": null,
   "id": "414f264b-8d2f-41e6-8380-bb7ac0a3edc5",
   "metadata": {
    "id": "414f264b-8d2f-41e6-8380-bb7ac0a3edc5"
   },
   "outputs": [],
   "source": [
    "torch.manual_seed(43052)\n",
    "cook = torch.nn.Linear(2,4) "
   ]
  },
  {
   "cell_type": "markdown",
   "id": "673810b3-7df3-4101-9954-3732acab4b9a",
   "metadata": {
    "id": "673810b3-7df3-4101-9954-3732acab4b9a"
   },
   "source": [
    "`(3)` 손실함수와 옵티마이저"
   ]
  },
  {
   "cell_type": "code",
   "execution_count": null,
   "id": "a8e8a0fe-2a1e-43bd-a15a-5efcedefa74c",
   "metadata": {
    "id": "a8e8a0fe-2a1e-43bd-a15a-5efcedefa74c"
   },
   "outputs": [],
   "source": [
    "loss_fn = torch.nn.CrossEntropyLoss()\n",
    "optimizr = torch.optim.Adam(list(rnn.parameters())+list(cook.parameters()))"
   ]
  },
  {
   "cell_type": "markdown",
   "id": "fb901a70-c3bc-4f59-8532-18e67fafdb34",
   "metadata": {
    "id": "fb901a70-c3bc-4f59-8532-18e67fafdb34"
   },
   "source": [
    "`(4)` 학습"
   ]
  },
  {
   "cell_type": "code",
   "execution_count": null,
   "id": "ed19620e-f845-4110-9f7d-8f39d4a89081",
   "metadata": {
    "id": "ed19620e-f845-4110-9f7d-8f39d4a89081"
   },
   "outputs": [],
   "source": [
    "_water = torch.zeros(1,2) \n",
    "for epoc in range(5000):\n",
    "    ## 1 \n",
    "    hidden,hT = rnn(x,_water)\n",
    "    output = cook(hidden) \n",
    "    ## 2 \n",
    "    loss = loss_fn(output,y)\n",
    "    ## 3 \n",
    "    loss.backward()\n",
    "    ## 4 \n",
    "    optimizr.step()\n",
    "    optimizr.zero_grad()"
   ]
  },
  {
   "cell_type": "markdown",
   "id": "68bd2d84-66e4-4b34-80f4-2a11cf6de273",
   "metadata": {
    "id": "68bd2d84-66e4-4b34-80f4-2a11cf6de273"
   },
   "source": [
    "`(5)` 시각화1: yhat"
   ]
  },
  {
   "cell_type": "code",
   "execution_count": null,
   "id": "ed5cf72a-4616-4d61-9b4c-7ac2de95e2b5",
   "metadata": {
    "id": "ed5cf72a-4616-4d61-9b4c-7ac2de95e2b5"
   },
   "outputs": [],
   "source": [
    "yhat = soft(output)"
   ]
  },
  {
   "cell_type": "code",
   "execution_count": null,
   "id": "8e08d4ef-6ef3-48d1-a4db-848342ef7b39",
   "metadata": {
    "id": "8e08d4ef-6ef3-48d1-a4db-848342ef7b39",
    "outputId": "95ae31de-deaa-4c18-ed18-481361e71f56"
   },
   "outputs": [
    {
     "data": {
      "text/plain": [
       "<matplotlib.image.AxesImage at 0x7fe67c231310>"
      ]
     },
     "execution_count": 28,
     "metadata": {},
     "output_type": "execute_result"
    },
    {
     "data": {
      "image/png": "[encoded data removed]",
      "text/plain": [
       "<Figure size 288x1080 with 1 Axes>"
      ]
     },
     "metadata": {
      "needs_background": "light"
     },
     "output_type": "display_data"
    }
   ],
   "source": [
    "plt.matshow(yhat.data[:15],cmap='bwr')"
   ]
  },
  {
   "cell_type": "markdown",
   "id": "0a8d6765-daf3-4158-95ee-7e7489a3d1e4",
   "metadata": {
    "id": "0a8d6765-daf3-4158-95ee-7e7489a3d1e4"
   },
   "source": [
    "- 처음은 좀 틀렸음 ㅎㅎ"
   ]
  },
  {
   "cell_type": "code",
   "execution_count": null,
   "id": "eb80d35f-9eec-47fe-a494-e935f124eefe",
   "metadata": {
    "id": "eb80d35f-9eec-47fe-a494-e935f124eefe",
    "outputId": "47a086ae-aaf6-4b73-d203-c884c2946823"
   },
   "outputs": [
    {
     "data": {
      "text/plain": [
       "<matplotlib.image.AxesImage at 0x7fe67c1c5d90>"
      ]
     },
     "execution_count": 29,
     "metadata": {},
     "output_type": "execute_result"
    },
    {
     "data": {
      "image/png": "[encoded data removed]",
      "text/plain": [
       "<Figure size 288x1080 with 1 Axes>"
      ]
     },
     "metadata": {
      "needs_background": "light"
     },
     "output_type": "display_data"
    }
   ],
   "source": [
    "plt.matshow(yhat.data[-15:],cmap='bwr')"
   ]
  },
  {
   "cell_type": "markdown",
   "id": "cf9f6776-1449-4025-8c8d-a38444f3dd7b",
   "metadata": {
    "id": "cf9f6776-1449-4025-8c8d-a38444f3dd7b"
   },
   "source": [
    "- 뒤에는 잘맞음 "
   ]
  },
  {
   "cell_type": "markdown",
   "id": "f5f266a2-ded7-46c1-99a2-5d9d806515d7",
   "metadata": {
    "id": "f5f266a2-ded7-46c1-99a2-5d9d806515d7"
   },
   "source": [
    "**실전팁: `_water` 대신에 `hT`를 대입 (사실 큰 차이는 없음)**"
   ]
  },
  {
   "cell_type": "code",
   "execution_count": null,
   "id": "abb578d5-aa3c-4284-b9d7-dcb569fe5ceb",
   "metadata": {
    "id": "abb578d5-aa3c-4284-b9d7-dcb569fe5ceb",
    "outputId": "6b788597-17e2-4aa7-f53c-f7688fb1544c"
   },
   "outputs": [
    {
     "data": {
      "text/plain": [
       "((tensor([[-0.9912, -0.9117],\n",
       "          [ 0.0698, -1.0000],\n",
       "          [-0.9927, -0.9682],\n",
       "          [ 0.5761, -1.0000],\n",
       "          [-0.9960, -0.0173],\n",
       "          [ 0.9960, -1.0000]], grad_fn=<SqueezeBackward1>),\n",
       "  tensor([[ 0.9960, -1.0000]], grad_fn=<SqueezeBackward1>)),\n",
       " (tensor([[-0.9713, -1.0000],\n",
       "          [ 0.0535, -1.0000],\n",
       "          [-0.9925, -0.9720],\n",
       "          [ 0.5759, -1.0000],\n",
       "          [-0.9960, -0.0180],\n",
       "          [ 0.9960, -1.0000]], grad_fn=<SqueezeBackward1>),\n",
       "  tensor([[ 0.9960, -1.0000]], grad_fn=<SqueezeBackward1>)))"
      ]
     },
     "execution_count": 30,
     "metadata": {},
     "output_type": "execute_result"
    }
   ],
   "source": [
    "rnn(x[:6],_water),rnn(x[:6],hT)"
   ]
  },
  {
   "cell_type": "markdown",
   "id": "74e7661b-fe51-4a4d-8008-ce63ce25c545",
   "metadata": {
    "id": "74e7661b-fe51-4a4d-8008-ce63ce25c545"
   },
   "source": [
    "`(6)` 시각화2: hidden, yhat"
   ]
  },
  {
   "cell_type": "code",
   "execution_count": null,
   "id": "0c82d954-218e-4efb-b777-dddbb8fcc72a",
   "metadata": {
    "id": "0c82d954-218e-4efb-b777-dddbb8fcc72a"
   },
   "outputs": [],
   "source": [
    "combinded = torch.concat([hidden,yhat],axis=1)"
   ]
  },
  {
   "cell_type": "code",
   "execution_count": null,
   "id": "755a7e9c-e319-47a1-94be-f9207506c830",
   "metadata": {
    "id": "755a7e9c-e319-47a1-94be-f9207506c830",
    "outputId": "9b277ad9-72da-4476-804b-b2bd9305bdbe"
   },
   "outputs": [
    {
     "data": {
      "text/plain": [
       "<matplotlib.image.AxesImage at 0x7fe67c13b7d0>"
      ]
     },
     "execution_count": 32,
     "metadata": {},
     "output_type": "execute_result"
    },
    {
     "data": {
      "image/png": "[encoded data removed]",
      "text/plain": [
       "<Figure size 288x720 with 1 Axes>"
      ]
     },
     "metadata": {
      "needs_background": "light"
     },
     "output_type": "display_data"
    }
   ],
   "source": [
    "plt.matshow(combinded[-15:].data,cmap='bwr')"
   ]
  },
  {
   "cell_type": "markdown",
   "id": "0910a7ee-015b-44d6-997c-7d867b64cb75",
   "metadata": {
    "id": "0910a7ee-015b-44d6-997c-7d867b64cb75"
   },
   "source": [
    "- 히든노드의 해석이 어려움. "
   ]
  },
  {
   "cell_type": "markdown",
   "id": "ad4ebd0d-34a0-47ed-84fa-1be9045e5dd1",
   "metadata": {
    "id": "ad4ebd0d-34a0-47ed-84fa-1be9045e5dd1"
   },
   "source": [
    "### 순환신경망 구현4 (with RNN, hidden node 3) -- 성공 "
   ]
  },
  {
   "cell_type": "markdown",
   "id": "68f30509-b835-45de-8b32-56d201b00e38",
   "metadata": {
    "id": "68f30509-b835-45de-8b32-56d201b00e38"
   },
   "source": [
    "`(1)` 숙성네트워크~ `(2)` 조리네트워크"
   ]
  },
  {
   "cell_type": "code",
   "execution_count": null,
   "id": "336f1525-dc47-45eb-9025-51cd05bed4ff",
   "metadata": {
    "id": "336f1525-dc47-45eb-9025-51cd05bed4ff"
   },
   "outputs": [],
   "source": [
    "torch.manual_seed(2) #1 \n",
    "rnn = torch.nn.RNN(4,3) #hidden node : 3\n",
    "cook = torch.nn.Linear(3,4) "
   ]
  },
  {
   "cell_type": "markdown",
   "id": "26433b48-c160-4648-8b40-7e56d2cc7c5d",
   "metadata": {
    "id": "26433b48-c160-4648-8b40-7e56d2cc7c5d"
   },
   "source": [
    "`(3)` 손실함수와 옵티마이저"
   ]
  },
  {
   "cell_type": "code",
   "execution_count": null,
   "id": "3ddef63e-e7b9-40b3-a670-1ab9847e6fd3",
   "metadata": {
    "id": "3ddef63e-e7b9-40b3-a670-1ab9847e6fd3"
   },
   "outputs": [],
   "source": [
    "loss_fn = torch.nn.CrossEntropyLoss()\n",
    "optimizr = torch.optim.Adam(list(rnn.parameters())+list(cook.parameters()))"
   ]
  },
  {
   "cell_type": "markdown",
   "id": "e295cc4c-1a36-4c58-a276-2b79651c0e7c",
   "metadata": {
    "id": "e295cc4c-1a36-4c58-a276-2b79651c0e7c"
   },
   "source": [
    "`(4)` 학습"
   ]
  },
  {
   "cell_type": "code",
   "execution_count": null,
   "id": "e7c81bd1-37d1-4590-887c-9fa575e27dfb",
   "metadata": {
    "id": "e7c81bd1-37d1-4590-887c-9fa575e27dfb"
   },
   "outputs": [],
   "source": [
    "_water = torch.zeros(1,3) \n",
    "for epoc in range(5000):\n",
    "    ## 1\n",
    "    hidden,hT = rnn(x,_water) \n",
    "    output = cook(hidden) \n",
    "    ## 2 \n",
    "    loss = loss_fn(output,y) \n",
    "    ## 3 \n",
    "    loss.backward()\n",
    "    ## 4 \n",
    "    optimizr.step()\n",
    "    optimizr.zero_grad()"
   ]
  },
  {
   "cell_type": "markdown",
   "id": "92b7c75d-2051-4889-a03c-cdf6dc09cb2f",
   "metadata": {
    "id": "92b7c75d-2051-4889-a03c-cdf6dc09cb2f"
   },
   "source": [
    "`(5)` 시각화1: yhat"
   ]
  },
  {
   "cell_type": "code",
   "execution_count": null,
   "id": "c5e83951-23d7-4271-ac7d-25ac4a0c542b",
   "metadata": {
    "id": "c5e83951-23d7-4271-ac7d-25ac4a0c542b"
   },
   "outputs": [],
   "source": [
    "yhat = soft(output)"
   ]
  },
  {
   "cell_type": "code",
   "execution_count": null,
   "id": "091fb1ca-cadb-464d-b708-2dcbc80ff909",
   "metadata": {
    "id": "091fb1ca-cadb-464d-b708-2dcbc80ff909",
    "outputId": "9aacd890-89c8-4da3-9d49-f56f4ed897cf"
   },
   "outputs": [
    {
     "data": {
      "text/plain": [
       "<matplotlib.image.AxesImage at 0x7fe67c04f550>"
      ]
     },
     "execution_count": 37,
     "metadata": {},
     "output_type": "execute_result"
    },
    {
     "data": {
      "image/png": "[encoded data removed]",
      "text/plain": [
       "<Figure size 288x1080 with 1 Axes>"
      ]
     },
     "metadata": {
      "needs_background": "light"
     },
     "output_type": "display_data"
    }
   ],
   "source": [
    "plt.matshow(yhat[-15:].data,cmap='bwr')"
   ]
  },
  {
   "cell_type": "markdown",
   "id": "650c116b-5bb7-4876-984b-7c5480e82cd1",
   "metadata": {
    "id": "650c116b-5bb7-4876-984b-7c5480e82cd1"
   },
   "source": [
    "`(6)` 시각화2: hidden, yhat"
   ]
  },
  {
   "cell_type": "code",
   "execution_count": null,
   "id": "0893abfc-7033-46dd-80d7-38759a9fce75",
   "metadata": {
    "id": "0893abfc-7033-46dd-80d7-38759a9fce75"
   },
   "outputs": [],
   "source": [
    "combinded = torch.concat([hidden,yhat],axis=1)"
   ]
  },
  {
   "cell_type": "code",
   "execution_count": null,
   "id": "92de31dd-5e6c-427b-a246-0a51e67c46c4",
   "metadata": {
    "id": "92de31dd-5e6c-427b-a246-0a51e67c46c4",
    "outputId": "603f451b-527a-49b5-f17d-5d0d4fe1d3cc"
   },
   "outputs": [
    {
     "data": {
      "text/plain": [
       "<matplotlib.image.AxesImage at 0x7fe6747ba910>"
      ]
     },
     "execution_count": 39,
     "metadata": {},
     "output_type": "execute_result"
    },
    {
     "data": {
      "image/png": "[encoded data removed]",
      "text/plain": [
       "<Figure size 288x617.143 with 1 Axes>"
      ]
     },
     "metadata": {
      "needs_background": "light"
     },
     "output_type": "display_data"
    }
   ],
   "source": [
    "plt.matshow(combinded[-15:].data,cmap='bwr')"
   ]
  },
  {
   "cell_type": "markdown",
   "id": "6494115f-e2e8-49b8-8c69-10e3a0adbb63",
   "metadata": {
    "id": "6494115f-e2e8-49b8-8c69-10e3a0adbb63"
   },
   "source": [
    "- 세번째 히든노드 = 대소문자를 구분\n",
    "- 1,2 히든노드 = bcd를 구분 "
   ]
  },
  {
   "cell_type": "markdown",
   "id": "5ab3722b-a85f-4e5e-8dec-272a38fc7c9c",
   "metadata": {
    "id": "5ab3722b-a85f-4e5e-8dec-272a38fc7c9c"
   },
   "source": [
    "## HW: hello 예제"
   ]
  },
  {
   "cell_type": "markdown",
   "id": "34a5009e-785d-4334-8851-538e7d744d2e",
   "metadata": {
    "id": "34a5009e-785d-4334-8851-538e7d744d2e"
   },
   "source": [
    "아래와 같이 hello가 반복되는 자료가 있다고 하자. "
   ]
  },
  {
   "cell_type": "code",
   "execution_count": 8,
   "id": "3926a8e6-9926-4158-84b8-df6c86b359c6",
   "metadata": {
    "id": "8dfc8d01-2a58-46e6-90e8-bd499fb56979"
   },
   "outputs": [],
   "source": [
    "txt = list('hello')*100\n",
    "\n",
    "txt_x = txt[:-1]\n",
    "txt_y = txt[1:]\n",
    "\n",
    "x = torch.nn.functional.one_hot(torch.tensor(f(txt_x,{'h':0,'e':1,'l':2,'o':3}))).float()\n",
    "y = torch.nn.functional.one_hot(torch.tensor(f(txt_y,{'h':0,'e':1,'l':2,'o':3}))).float()"
   ]
  },
  {
   "cell_type": "code",
   "execution_count": 9,
   "id": "783772cd-9e86-4f76-9478-1b60b4c9b4cb",
   "metadata": {
    "id": "336f1525-dc47-45eb-9025-51cd05bed4ff"
   },
   "outputs": [],
   "source": [
    "rnn = torch.nn.RNN(4,3) \n",
    "cook = torch.nn.Linear(3,4)"
   ]
  },
  {
   "cell_type": "markdown",
   "id": "9d1bb31a-e4eb-47d1-a77e-96aa2be48506",
   "metadata": {
    "id": "26433b48-c160-4648-8b40-7e56d2cc7c5d"
   },
   "source": [
    "`(3)` 손실함수와 옵티마이저"
   ]
  },
  {
   "cell_type": "code",
   "execution_count": 10,
   "id": "992c273c-9d82-412c-af45-a65a12f43d6c",
   "metadata": {
    "id": "3ddef63e-e7b9-40b3-a670-1ab9847e6fd3"
   },
   "outputs": [],
   "source": [
    "loss_fn = torch.nn.CrossEntropyLoss()\n",
    "optimizr = torch.optim.Adam(list(rnn.parameters())+list(cook.parameters()))"
   ]
  },
  {
   "cell_type": "markdown",
   "id": "ef4fdc68-594a-4927-b924-8aa6ef4ea21b",
   "metadata": {
    "id": "e295cc4c-1a36-4c58-a276-2b79651c0e7c"
   },
   "source": [
    "`(4)` 학습"
   ]
  },
  {
   "cell_type": "code",
   "execution_count": 11,
   "id": "2d325739-621f-4ee2-8935-187f9d12de81",
   "metadata": {
    "id": "e7c81bd1-37d1-4590-887c-9fa575e27dfb"
   },
   "outputs": [],
   "source": [
    "_water = torch.zeros(1,3) \n",
    "for epoc in range(5000):\n",
    "    ## 1\n",
    "    hidden,hT = rnn(x,_water) \n",
    "    output = cook(hidden) \n",
    "    ## 2 \n",
    "    loss = loss_fn(output,y) \n",
    "    ## 3 \n",
    "    loss.backward()\n",
    "    ## 4 \n",
    "    optimizr.step()\n",
    "    optimizr.zero_grad()"
   ]
  },
  {
   "cell_type": "markdown",
   "id": "04730a49-d3ae-4936-a812-34378c22d7aa",
   "metadata": {
    "id": "92b7c75d-2051-4889-a03c-cdf6dc09cb2f"
   },
   "source": [
    "`(5)` 시각화1: yhat"
   ]
  },
  {
   "cell_type": "code",
   "execution_count": 12,
   "id": "1d998682-72e9-44b7-bff1-6f788ae243fe",
   "metadata": {
    "id": "c5e83951-23d7-4271-ac7d-25ac4a0c542b"
   },
   "outputs": [],
   "source": [
    "yhat = soft(output)"
   ]
  },
  {
   "cell_type": "code",
   "execution_count": 13,
   "id": "ae6a05ca-cf5e-42a0-9b18-53be8f19354b",
   "metadata": {
    "id": "091fb1ca-cadb-464d-b708-2dcbc80ff909",
    "outputId": "9aacd890-89c8-4da3-9d49-f56f4ed897cf"
   },
   "outputs": [
    {
     "data": {
      "text/plain": [
       "<matplotlib.image.AxesImage at 0x7ff22105fe80>"
      ]
     },
     "execution_count": 13,
     "metadata": {},
     "output_type": "execute_result"
    },
    {
     "data": {
      "image/png": "[encoded data removed]",
      "text/plain": [
       "<Figure size 288x1080 with 1 Axes>"
      ]
     },
     "metadata": {
      "needs_background": "light"
     },
     "output_type": "display_data"
    }
   ],
   "source": [
    "plt.matshow(yhat[-15:].data,cmap='bwr')"
   ]
  },
  {
   "cell_type": "markdown",
   "id": "3107a385-9681-40d9-8786-5d747e16d03c",
   "metadata": {
    "id": "650c116b-5bb7-4876-984b-7c5480e82cd1"
   },
   "source": [
    "`(6)` 시각화2: hidden, yhat"
   ]
  },
  {
   "cell_type": "code",
   "execution_count": 14,
   "id": "a6dd1f99-9dfb-4125-8b92-3bfd5ca2f1c1",
   "metadata": {
    "id": "0893abfc-7033-46dd-80d7-38759a9fce75"
   },
   "outputs": [],
   "source": [
    "combinded = torch.concat([hidden,yhat],axis=1)"
   ]
  },
  {
   "cell_type": "code",
   "execution_count": 15,
   "id": "53a8f335-e1ee-49eb-9929-811c2e36e471",
   "metadata": {
    "id": "92de31dd-5e6c-427b-a246-0a51e67c46c4",
    "outputId": "603f451b-527a-49b5-f17d-5d0d4fe1d3cc"
   },
   "outputs": [
    {
     "data": {
      "text/plain": [
       "<matplotlib.image.AxesImage at 0x7ff221470ee0>"
      ]
     },
     "execution_count": 15,
     "metadata": {},
     "output_type": "execute_result"
    },
    {
     "data": {
      "image/png": "[encoded data removed]",
      "text/plain": [
       "<Figure size 288x617.143 with 1 Axes>"
      ]
     },
     "metadata": {
      "needs_background": "light"
     },
     "output_type": "display_data"
    }
   ],
   "source": [
    "plt.matshow(combinded[-15:].data,cmap='bwr')"
   ]
  }
 ],
 "metadata": {
  "colab": {
   "provenance": []
  },
  "kernelspec": {
   "display_name": "Python 3 (ipykernel)",
   "language": "python",
   "name": "python3"
  },
  "language_info": {
   "codemirror_mode": {
    "name": "ipython",
    "version": 3
   },
   "file_extension": ".py",
   "mimetype": "text/x-python",
   "name": "python",
   "nbconvert_exporter": "python",
   "pygments_lexer": "ipython3",
   "version": "3.9.12"
  }
 },
 "nbformat": 4,
 "nbformat_minor": 5
}
