{
 "cells": [
  {
   "cell_type": "code",
   "execution_count": 1,
   "id": "bf3167d4-c0ba-44a1-a287-2e9c9d89453b",
   "metadata": {},
   "outputs": [],
   "source": [
    "import torch\n",
    "import matplotlib.pyplot as plt\n",
    "import time"
   ]
  },
  {
   "cell_type": "code",
   "execution_count": 2,
   "id": "3a17a160-3a92-4bfe-8d6c-0d8c80fa65ed",
   "metadata": {},
   "outputs": [],
   "source": [
    "def f(txt,mapping):\n",
    "    return [mapping[key] for key in txt] \n",
    "sig = torch.nn.Sigmoid()\n",
    "soft = torch.nn.Softmax(dim=1)\n",
    "tanh = torch.nn.Tanh()"
   ]
  },
  {
   "cell_type": "markdown",
   "id": "c5bd1b98-112a-4c20-80d2-ea0aabf3dc40",
   "metadata": {},
   "source": [
    "## GPU 실험"
   ]
  },
  {
   "cell_type": "markdown",
   "id": "da53c2bd-d0e7-4998-b158-28dc6560d883",
   "metadata": {},
   "source": [
    "### 20000 len + 20 hidden nodes"
   ]
  },
  {
   "cell_type": "markdown",
   "id": "a79a61c7-d562-4101-ba69-9416aabb8bff",
   "metadata": {},
   "source": [
    "#### ***cpu***"
   ]
  },
  {
   "cell_type": "code",
   "execution_count": 3,
   "id": "07a3d0f9-02b5-4d98-a920-ed7de73dad65",
   "metadata": {},
   "outputs": [],
   "source": [
    "x = torch.randn([20000,4]) \n",
    "y = torch.randn([20000,4]) "
   ]
  },
  {
   "cell_type": "code",
   "execution_count": 5,
   "id": "b54d27eb-f24d-40e6-a939-15cbea8b0f0e",
   "metadata": {},
   "outputs": [],
   "source": [
    "rnn = torch.nn.RNN(4,20) # 입력 shape = 4, hidden node = 20 , 원핫인코딩 x \n",
    "linr = torch.nn.Linear(20,4) # \n",
    "optimizr = torch.optim.Adam(list(rnn.parameters())+list(linr.parameters()))\n",
    "loss_fn = torch.nn.MSELoss() "
   ]
  },
  {
   "cell_type": "code",
   "execution_count": 6,
   "id": "675b31d5-a8a6-4f6a-b45e-c2f715648d56",
   "metadata": {},
   "outputs": [
    {
     "data": {
      "text/plain": [
       "93.01761960983276"
      ]
     },
     "execution_count": 6,
     "metadata": {},
     "output_type": "execute_result"
    }
   ],
   "source": [
    "t1 = time.time()\n",
    "for epoc in range(100):\n",
    "    ## 1 \n",
    "    _water = torch.zeros(1,20)\n",
    "    hidden, hT = rnn(x,_water) \n",
    "    yhat = linr(hidden) \n",
    "    ## 2 \n",
    "    loss = loss_fn(yhat,y) \n",
    "    ## 3\n",
    "    loss.backward() \n",
    "    ## 4 \n",
    "    optimizr.step()\n",
    "    optimizr.zero_grad()\n",
    "t2 = time.time()\n",
    "t2 - t1 "
   ]
  },
  {
   "cell_type": "markdown",
   "id": "0d91798a-7fe8-4811-b614-36de0285159a",
   "metadata": {},
   "source": [
    "#### ***gpu***"
   ]
  },
  {
   "cell_type": "code",
   "execution_count": 9,
   "id": "3ac8d27f-9d90-4a0d-a0f8-722a3da0c9a0",
   "metadata": {},
   "outputs": [],
   "source": [
    "x = torch.randn([20000,4]).to(\"cuda:0\")\n",
    "y = torch.randn([20000,4]).to(\"cuda:0\")"
   ]
  },
  {
   "cell_type": "code",
   "execution_count": 10,
   "id": "44af2480-b68f-478c-b15f-d35098ab792f",
   "metadata": {},
   "outputs": [],
   "source": [
    "rnn = torch.nn.RNN(4,20).to(\"cuda:0\")\n",
    "linr = torch.nn.Linear(20,4).to(\"cuda:0\")\n",
    "optimizr = torch.optim.Adam(list(rnn.parameters())+list(linr.parameters()))\n",
    "loss_fn = torch.nn.MSELoss() "
   ]
  },
  {
   "cell_type": "code",
   "execution_count": 11,
   "id": "fb129a86-0825-43c5-a471-9af86e948ace",
   "metadata": {},
   "outputs": [
    {
     "data": {
      "text/plain": [
       "3.2665085792541504"
      ]
     },
     "execution_count": 11,
     "metadata": {},
     "output_type": "execute_result"
    }
   ],
   "source": [
    "t1 = time.time()\n",
    "for epoc in range(100):\n",
    "    ## 1 \n",
    "    _water = torch.zeros(1,20).to(\"cuda:0\")\n",
    "    hidden, hT = rnn(x,_water) \n",
    "    yhat = linr(hidden) \n",
    "    ## 2 \n",
    "    loss = loss_fn(yhat,y) \n",
    "    ## 3\n",
    "    loss.backward() \n",
    "    ## 4 \n",
    "    optimizr.step()\n",
    "    optimizr.zero_grad()\n",
    "t2 = time.time()\n",
    "t2 - t1 "
   ]
  },
  {
   "cell_type": "markdown",
   "id": "49abc8ef-c3c3-40db-93ec-4406da3d85b4",
   "metadata": {},
   "source": [
    "### 20000 len + 20 hidden nodes + 역전파주석처리 "
   ]
  },
  {
   "cell_type": "markdown",
   "id": "705bcbca-5e73-4c70-b801-79e60ab56135",
   "metadata": {},
   "source": [
    "#### ***cpu***"
   ]
  },
  {
   "cell_type": "code",
   "execution_count": 31,
   "id": "f534ed65-28cc-4e39-b15b-786a25ab0785",
   "metadata": {},
   "outputs": [],
   "source": [
    "x = torch.randn([20000,4]) \n",
    "y = torch.randn([20000,4]) "
   ]
  },
  {
   "cell_type": "code",
   "execution_count": 32,
   "id": "b3f8aa24-6706-4838-88c2-98b3a8d5b576",
   "metadata": {},
   "outputs": [],
   "source": [
    "rnn = torch.nn.RNN(4,20) \n",
    "linr = torch.nn.Linear(20,4) \n",
    "optimizr = torch.optim.Adam(list(rnn.parameters())+list(linr.parameters()))\n",
    "loss_fn = torch.nn.MSELoss() "
   ]
  },
  {
   "cell_type": "code",
   "execution_count": 33,
   "id": "19f73fd6-3905-44bd-8db9-c049d9c2f76e",
   "metadata": {},
   "outputs": [
    {
     "data": {
      "text/plain": [
       "18.851768255233765"
      ]
     },
     "execution_count": 33,
     "metadata": {},
     "output_type": "execute_result"
    }
   ],
   "source": [
    "t1 = time.time()\n",
    "for epoc in range(100):\n",
    "    ## 1 \n",
    "    _water = torch.zeros(1,20)\n",
    "    hidden, hT = rnn(x,_water) \n",
    "    yhat = linr(hidden) \n",
    "    ## 2 \n",
    "    loss = loss_fn(yhat,y) \n",
    "    ## 3\n",
    "    #loss.backward() \n",
    "    ## 4 \n",
    "    optimizr.step()\n",
    "    optimizr.zero_grad()\n",
    "t2 = time.time()\n",
    "t2 - t1 "
   ]
  },
  {
   "cell_type": "markdown",
   "id": "6530c050-7613-4144-8515-d2e2d3c9705e",
   "metadata": {},
   "source": [
    "#### ***gpu***"
   ]
  },
  {
   "cell_type": "code",
   "execution_count": 34,
   "id": "1e3008c0-9dce-454f-8f6d-f9f8b6b7d232",
   "metadata": {},
   "outputs": [],
   "source": [
    "x = torch.randn([20000,4]).to(\"cuda:0\")\n",
    "y = torch.randn([20000,4]).to(\"cuda:0\")"
   ]
  },
  {
   "cell_type": "code",
   "execution_count": 35,
   "id": "df803e99-2e51-4a2e-9d39-4662242457fb",
   "metadata": {},
   "outputs": [],
   "source": [
    "rnn = torch.nn.RNN(4,20).to(\"cuda:0\")\n",
    "linr = torch.nn.Linear(20,4).to(\"cuda:0\")\n",
    "optimizr = torch.optim.Adam(list(rnn.parameters())+list(linr.parameters()))\n",
    "loss_fn = torch.nn.MSELoss() "
   ]
  },
  {
   "cell_type": "code",
   "execution_count": 36,
   "id": "f4ce490b-cc6f-416a-a9c9-42377c7afed2",
   "metadata": {},
   "outputs": [
    {
     "data": {
      "text/plain": [
       "1.2901742458343506"
      ]
     },
     "execution_count": 36,
     "metadata": {},
     "output_type": "execute_result"
    }
   ],
   "source": [
    "t1 = time.time()\n",
    "for epoc in range(100):\n",
    "    ## 1 \n",
    "    _water = torch.zeros(1,20).to(\"cuda:0\")\n",
    "    hidden, hT = rnn(x,_water) \n",
    "    yhat = linr(hidden) \n",
    "    ## 2 \n",
    "    loss = loss_fn(yhat,y) \n",
    "    ## 3\n",
    "    #loss.backward() \n",
    "    ## 4 \n",
    "    optimizr.step()\n",
    "    optimizr.zero_grad()\n",
    "t2 = time.time()\n",
    "t2 - t1 "
   ]
  },
  {
   "cell_type": "markdown",
   "id": "935ea662-88e8-45b2-8503-564dfb4974bd",
   "metadata": {},
   "source": [
    "### 2000 len + 20 hidden nodes "
   ]
  },
  {
   "cell_type": "markdown",
   "id": "667e769b-281d-4bc9-96d0-9e6f6d7d767e",
   "metadata": {},
   "source": [
    "#### ***cpu***"
   ]
  },
  {
   "cell_type": "code",
   "execution_count": 37,
   "id": "83867770-ce20-4ec8-be5f-74f199896a56",
   "metadata": {},
   "outputs": [],
   "source": [
    "x = torch.randn([2000,4]) \n",
    "y = torch.randn([2000,4]) "
   ]
  },
  {
   "cell_type": "code",
   "execution_count": 38,
   "id": "4a353713-095d-47ed-a2dd-648bc23ee831",
   "metadata": {},
   "outputs": [],
   "source": [
    "rnn = torch.nn.RNN(4,20) \n",
    "linr = torch.nn.Linear(20,4) \n",
    "optimizr = torch.optim.Adam(list(rnn.parameters())+list(linr.parameters()))\n",
    "loss_fn = torch.nn.MSELoss() "
   ]
  },
  {
   "cell_type": "code",
   "execution_count": 39,
   "id": "7cbd7901-8e9c-40d4-bf59-2bf840f78dea",
   "metadata": {},
   "outputs": [
    {
     "data": {
      "text/plain": [
       "6.533619165420532"
      ]
     },
     "execution_count": 39,
     "metadata": {},
     "output_type": "execute_result"
    }
   ],
   "source": [
    "t1 = time.time()\n",
    "for epoc in range(100):\n",
    "    ## 1 \n",
    "    _water = torch.zeros(1,20)\n",
    "    hidden, hT = rnn(x,_water) \n",
    "    yhat = linr(hidden) \n",
    "    ## 2 \n",
    "    loss = loss_fn(yhat,y) \n",
    "    ## 3\n",
    "    loss.backward() \n",
    "    ## 4 \n",
    "    optimizr.step()\n",
    "    optimizr.zero_grad()\n",
    "t2 = time.time()\n",
    "t2 - t1 "
   ]
  },
  {
   "cell_type": "markdown",
   "id": "20cfeb01-5dfb-4d67-a278-50bc20de12fe",
   "metadata": {},
   "source": [
    "#### ***gpu***"
   ]
  },
  {
   "cell_type": "code",
   "execution_count": 40,
   "id": "a8ae111f-921b-4d73-8526-4a0b9b47bf0d",
   "metadata": {},
   "outputs": [],
   "source": [
    "x = torch.randn([2000,4]).to(\"cuda:0\")\n",
    "y = torch.randn([2000,4]).to(\"cuda:0\")"
   ]
  },
  {
   "cell_type": "code",
   "execution_count": 41,
   "id": "96fe931c-7ca0-42c7-8227-9f1dcf0027e0",
   "metadata": {},
   "outputs": [],
   "source": [
    "rnn = torch.nn.RNN(4,20).to(\"cuda:0\")\n",
    "linr = torch.nn.Linear(20,4).to(\"cuda:0\")\n",
    "optimizr = torch.optim.Adam(list(rnn.parameters())+list(linr.parameters()))\n",
    "loss_fn = torch.nn.MSELoss() "
   ]
  },
  {
   "cell_type": "code",
   "execution_count": 42,
   "id": "da5f8ad9-de29-48c1-ba60-1146034f4071",
   "metadata": {},
   "outputs": [
    {
     "data": {
      "text/plain": [
       "0.7532594203948975"
      ]
     },
     "execution_count": 42,
     "metadata": {},
     "output_type": "execute_result"
    }
   ],
   "source": [
    "t1 = time.time()\n",
    "for epoc in range(100):\n",
    "    ## 1 \n",
    "    _water = torch.zeros(1,20).to(\"cuda:0\")\n",
    "    hidden, hT = rnn(x,_water) \n",
    "    yhat = linr(hidden) \n",
    "    ## 2 \n",
    "    loss = loss_fn(yhat,y) \n",
    "    ## 3\n",
    "    loss.backward() \n",
    "    ## 4 \n",
    "    optimizr.step()\n",
    "    optimizr.zero_grad()\n",
    "t2 = time.time()\n",
    "t2 - t1 "
   ]
  },
  {
   "cell_type": "markdown",
   "id": "061b9b95-3e63-4356-9101-519b59e0059a",
   "metadata": {},
   "source": [
    "### 2000 len + 20 hidden nodes + 역전파주석처리"
   ]
  },
  {
   "cell_type": "markdown",
   "id": "afbdf778-4e16-4688-bd94-11c5e2ba9322",
   "metadata": {},
   "source": [
    "#### ***cpu***"
   ]
  },
  {
   "cell_type": "code",
   "execution_count": 67,
   "id": "1c3083b2-750f-425b-862a-675daa74507c",
   "metadata": {},
   "outputs": [],
   "source": [
    "x = torch.randn([2000,4]) \n",
    "y = torch.randn([2000,4]) "
   ]
  },
  {
   "cell_type": "code",
   "execution_count": 68,
   "id": "e0540377-434b-4ef6-9eab-8072ad29ffac",
   "metadata": {},
   "outputs": [],
   "source": [
    "rnn = torch.nn.RNN(4,20) \n",
    "linr = torch.nn.Linear(20,4) \n",
    "optimizr = torch.optim.Adam(list(rnn.parameters())+list(linr.parameters()))\n",
    "loss_fn = torch.nn.MSELoss() "
   ]
  },
  {
   "cell_type": "code",
   "execution_count": 69,
   "id": "4601c14e-ee6c-4a7f-bc65-d11643f8987e",
   "metadata": {},
   "outputs": [
    {
     "data": {
      "text/plain": [
       "1.2477965354919434"
      ]
     },
     "execution_count": 69,
     "metadata": {},
     "output_type": "execute_result"
    }
   ],
   "source": [
    "t1 = time.time()\n",
    "for epoc in range(100):\n",
    "    ## 1 \n",
    "    _water = torch.zeros(1,20)\n",
    "    hidden, hT = rnn(x,_water) \n",
    "    yhat = linr(hidden) \n",
    "    ## 2 \n",
    "    loss = loss_fn(yhat,y) \n",
    "    ## 3\n",
    "    #loss.backward() \n",
    "    ## 4 \n",
    "    optimizr.step()\n",
    "    optimizr.zero_grad()\n",
    "t2 = time.time()\n",
    "t2 - t1 "
   ]
  },
  {
   "cell_type": "markdown",
   "id": "b204de4b-d89c-4b4b-9325-7e54566aa765",
   "metadata": {},
   "source": [
    "#### ***gpu***"
   ]
  },
  {
   "cell_type": "code",
   "execution_count": 70,
   "id": "5367d3be-a7b4-48ef-83ed-134d9cf597c0",
   "metadata": {},
   "outputs": [],
   "source": [
    "x = torch.randn([2000,4]).to(\"cuda:0\")\n",
    "y = torch.randn([2000,4]).to(\"cuda:0\")"
   ]
  },
  {
   "cell_type": "code",
   "execution_count": 71,
   "id": "79bb1c8e-9a49-4a01-9036-6604d0acdb3c",
   "metadata": {},
   "outputs": [],
   "source": [
    "rnn = torch.nn.RNN(4,20).to(\"cuda:0\")\n",
    "linr = torch.nn.Linear(20,4).to(\"cuda:0\")\n",
    "optimizr = torch.optim.Adam(list(rnn.parameters())+list(linr.parameters()))\n",
    "loss_fn = torch.nn.MSELoss() "
   ]
  },
  {
   "cell_type": "code",
   "execution_count": 72,
   "id": "9dd8ec8c-e0c4-4a63-ba7e-b9959fca9774",
   "metadata": {},
   "outputs": [
    {
     "data": {
      "text/plain": [
       "0.14130854606628418"
      ]
     },
     "execution_count": 72,
     "metadata": {},
     "output_type": "execute_result"
    }
   ],
   "source": [
    "t1 = time.time()\n",
    "for epoc in range(100):\n",
    "    ## 1 \n",
    "    _water = torch.zeros(1,20).to(\"cuda:0\")\n",
    "    hidden, hT = rnn(x,_water) \n",
    "    yhat = linr(hidden) \n",
    "    ## 2 \n",
    "    loss = loss_fn(yhat,y) \n",
    "    ## 3\n",
    "    #loss.backward() \n",
    "    ## 4 \n",
    "    optimizr.step()\n",
    "    optimizr.zero_grad()\n",
    "t2 = time.time()\n",
    "t2 - t1 "
   ]
  },
  {
   "cell_type": "markdown",
   "id": "9665837a-88e6-47a3-9485-a1822b740a53",
   "metadata": {},
   "source": [
    "### 2000 len + 5000 hidden nodes "
   ]
  },
  {
   "cell_type": "markdown",
   "id": "6099c591-31ea-4983-84aa-a5b116948360",
   "metadata": {},
   "source": [
    "#### ***cpu***"
   ]
  },
  {
   "cell_type": "code",
   "execution_count": 80,
   "id": "1d679676-bdfc-42e0-9746-d80d71da094d",
   "metadata": {},
   "outputs": [],
   "source": [
    "x = torch.randn([2000,4]) \n",
    "y = torch.randn([2000,4]) "
   ]
  },
  {
   "cell_type": "code",
   "execution_count": 81,
   "id": "c6feb416-1b73-4a69-8a99-92cb9fa31dbf",
   "metadata": {},
   "outputs": [],
   "source": [
    "rnn = torch.nn.RNN(4,1000) \n",
    "linr = torch.nn.Linear(1000,4) \n",
    "optimizr = torch.optim.Adam(list(rnn.parameters())+list(linr.parameters()))\n",
    "loss_fn = torch.nn.MSELoss() "
   ]
  },
  {
   "cell_type": "code",
   "execution_count": 83,
   "id": "7e63d9c3-2071-495b-8f36-bb64f32277fc",
   "metadata": {},
   "outputs": [
    {
     "data": {
      "text/plain": [
       "58.99820685386658"
      ]
     },
     "execution_count": 83,
     "metadata": {},
     "output_type": "execute_result"
    }
   ],
   "source": [
    "t1 = time.time()\n",
    "for epoc in range(100):\n",
    "    ## 1 \n",
    "    _water = torch.zeros(1,1000)\n",
    "    hidden, hT = rnn(x,_water) \n",
    "    yhat = linr(hidden) \n",
    "    ## 2 \n",
    "    loss = loss_fn(yhat,y) \n",
    "    ## 3\n",
    "    loss.backward() \n",
    "    ## 4 \n",
    "    optimizr.step()\n",
    "    optimizr.zero_grad()\n",
    "t2 = time.time()\n",
    "t2 - t1 "
   ]
  },
  {
   "cell_type": "markdown",
   "id": "8feb77fc-9f34-4a2f-9265-20107466a9f3",
   "metadata": {},
   "source": [
    "#### ***gpu***"
   ]
  },
  {
   "cell_type": "code",
   "execution_count": 84,
   "id": "6a0e24c7-3407-466d-a620-e2434be8eee2",
   "metadata": {},
   "outputs": [],
   "source": [
    "x = torch.randn([2000,4]).to(\"cuda:0\")\n",
    "y = torch.randn([2000,4]).to(\"cuda:0\")"
   ]
  },
  {
   "cell_type": "code",
   "execution_count": 85,
   "id": "03a691f7-e2ab-4a0e-91a8-dc0b53fd637d",
   "metadata": {},
   "outputs": [],
   "source": [
    "rnn = torch.nn.RNN(4,1000).to(\"cuda:0\")\n",
    "linr = torch.nn.Linear(1000,4).to(\"cuda:0\")\n",
    "optimizr = torch.optim.Adam(list(rnn.parameters())+list(linr.parameters()))\n",
    "loss_fn = torch.nn.MSELoss() "
   ]
  },
  {
   "cell_type": "code",
   "execution_count": 86,
   "id": "9f644326-432a-4510-b80a-89d787ddfaa4",
   "metadata": {},
   "outputs": [
    {
     "data": {
      "text/plain": [
       "4.7596595287323"
      ]
     },
     "execution_count": 86,
     "metadata": {},
     "output_type": "execute_result"
    }
   ],
   "source": [
    "t1 = time.time()\n",
    "for epoc in range(100):\n",
    "    ## 1 \n",
    "    _water = torch.zeros(1,1000).to(\"cuda:0\")\n",
    "    hidden, hT = rnn(x,_water) \n",
    "    yhat = linr(hidden) \n",
    "    ## 2 \n",
    "    loss = loss_fn(yhat,y) \n",
    "    ## 3\n",
    "    loss.backward() \n",
    "    ## 4 \n",
    "    optimizr.step()\n",
    "    optimizr.zero_grad()\n",
    "t2 = time.time()\n",
    "t2 - t1 "
   ]
  },
  {
   "cell_type": "markdown",
   "id": "76df1822-8084-46bb-a4a1-d779858a9fd8",
   "metadata": {},
   "source": [
    "### 2000 len + 5000 hidden nodes + 역전파주석처리"
   ]
  },
  {
   "cell_type": "markdown",
   "id": "c12f5f2e-eb34-4f0c-83f3-b9217362622c",
   "metadata": {},
   "source": [
    "#### ***cpu***"
   ]
  },
  {
   "cell_type": "code",
   "execution_count": 91,
   "id": "e022369c-d57d-4430-adc9-1d03b39c7270",
   "metadata": {},
   "outputs": [],
   "source": [
    "x = torch.randn([2000,4]) \n",
    "y = torch.randn([2000,4]) "
   ]
  },
  {
   "cell_type": "code",
   "execution_count": 92,
   "id": "f71456d0-49fe-4b12-8ce1-b69335713342",
   "metadata": {},
   "outputs": [],
   "source": [
    "rnn = torch.nn.RNN(4,1000) \n",
    "linr = torch.nn.Linear(1000,4) \n",
    "optimizr = torch.optim.Adam(list(rnn.parameters())+list(linr.parameters()))\n",
    "loss_fn = torch.nn.MSELoss() "
   ]
  },
  {
   "cell_type": "code",
   "execution_count": 93,
   "id": "d25639e8-6687-420d-ae06-03116803c3da",
   "metadata": {},
   "outputs": [
    {
     "data": {
      "text/plain": [
       "13.163657188415527"
      ]
     },
     "execution_count": 93,
     "metadata": {},
     "output_type": "execute_result"
    }
   ],
   "source": [
    "t1 = time.time()\n",
    "for epoc in range(100):\n",
    "    ## 1 \n",
    "    _water = torch.zeros(1,1000)\n",
    "    hidden, hT = rnn(x,_water) \n",
    "    yhat = linr(hidden) \n",
    "    ## 2 \n",
    "    loss = loss_fn(yhat,y) \n",
    "    ## 3\n",
    "    #loss.backward() \n",
    "    ## 4 \n",
    "    optimizr.step()\n",
    "    optimizr.zero_grad()\n",
    "t2 = time.time()\n",
    "t2 - t1 "
   ]
  },
  {
   "cell_type": "markdown",
   "id": "27d7318b-ab91-4858-ab46-bbc3d9cc0593",
   "metadata": {},
   "source": [
    "#### ***gpu***"
   ]
  },
  {
   "cell_type": "code",
   "execution_count": 94,
   "id": "09af36bf-ac85-41f2-96dc-6ce9f120d890",
   "metadata": {},
   "outputs": [],
   "source": [
    "x = torch.randn([2000,4]).to(\"cuda:0\")\n",
    "y = torch.randn([2000,4]).to(\"cuda:0\")"
   ]
  },
  {
   "cell_type": "code",
   "execution_count": 95,
   "id": "12bef390-4c5c-4100-888d-763c9b8923ea",
   "metadata": {},
   "outputs": [],
   "source": [
    "rnn = torch.nn.RNN(4,1000).to(\"cuda:0\")\n",
    "linr = torch.nn.Linear(1000,4).to(\"cuda:0\")\n",
    "optimizr = torch.optim.Adam(list(rnn.parameters())+list(linr.parameters()))\n",
    "loss_fn = torch.nn.MSELoss() "
   ]
  },
  {
   "cell_type": "code",
   "execution_count": 96,
   "id": "5cf969e0-af43-4c63-a07f-6f68603c33bd",
   "metadata": {},
   "outputs": [
    {
     "data": {
      "text/plain": [
       "2.2989864349365234"
      ]
     },
     "execution_count": 96,
     "metadata": {},
     "output_type": "execute_result"
    }
   ],
   "source": [
    "t1 = time.time()\n",
    "for epoc in range(100):\n",
    "    ## 1 \n",
    "    _water = torch.zeros(1,1000).to(\"cuda:0\")\n",
    "    hidden, hT = rnn(x,_water) \n",
    "    yhat = linr(hidden) \n",
    "    ## 2 \n",
    "    loss = loss_fn(yhat,y) \n",
    "    ## 3\n",
    "    #loss.backward() \n",
    "    ## 4 \n",
    "    optimizr.step()\n",
    "    optimizr.zero_grad()\n",
    "t2 = time.time()\n",
    "t2 - t1 "
   ]
  },
  {
   "cell_type": "markdown",
   "id": "2136d795-1f39-461c-ac02-ab6bf47467ce",
   "metadata": {},
   "source": [
    "### 실험결과 요약 "
   ]
  },
  {
   "cell_type": "markdown",
   "id": "ed006a97-ae6b-4912-b9f1-7eb809b9c655",
   "metadata": {},
   "source": [
    "|len |# of hidden nodes | backward |cpu | gpu| ratio| \n",
    "|:-:|:-:|:-:|:-:|:-:|:-:|\n",
    "|20000 | 20| O | 93.02 | 3.26 | 28.53 |\n",
    "|20000 | 20| X | 18.85 | 1.29 | 14.61 | \n",
    "|2000 | 20| O | 6.53 | 0.75 | 8.70 | \n",
    "|2000 | 20| X | 1.25 | 0.14 | 8.93 |\n",
    "|2000 | 1000| O | 58.99 | 4.75 | 12.41 | \n",
    "|2000 | 1000| X | 13.16 | 2.29 | 5.74 |"
   ]
  },
  {
   "cell_type": "markdown",
   "id": "de37870e-7096-4a14-a4dd-05b9562fb20f",
   "metadata": {},
   "source": [
    "## Exam5: abcabC"
   ]
  },
  {
   "cell_type": "markdown",
   "id": "5d2c1046-60d2-4381-a5df-b26b4461d169",
   "metadata": {},
   "source": [
    "### data "
   ]
  },
  {
   "cell_type": "code",
   "execution_count": 160,
   "id": "0c59a71b-679f-4e05-a931-b4ed0bffce0c",
   "metadata": {},
   "outputs": [
    {
     "data": {
      "text/plain": [
       "['a', 'b', 'c', 'a', 'b', 'C', 'a', 'b']"
      ]
     },
     "execution_count": 160,
     "metadata": {},
     "output_type": "execute_result"
    }
   ],
   "source": [
    "txt = list('abcabC')*100\n",
    "txt[:8]"
   ]
  },
  {
   "cell_type": "code",
   "execution_count": 161,
   "id": "def8bc47-2323-43f8-a090-b4fbbb3fd466",
   "metadata": {},
   "outputs": [],
   "source": [
    "txt_x = txt[:-1] \n",
    "txt_y = txt[1:]"
   ]
  },
  {
   "cell_type": "code",
   "execution_count": 162,
   "id": "416d47f9-dcd9-4471-978a-f208dbdfb771",
   "metadata": {},
   "outputs": [],
   "source": [
    "mapping = {'a':0,'b':1,'c':2,'C':3} \n",
    "x= torch.nn.functional.one_hot(torch.tensor(f(txt_x,mapping))).float()\n",
    "y= torch.nn.functional.one_hot(torch.tensor(f(txt_y,mapping))).float()"
   ]
  },
  {
   "cell_type": "code",
   "execution_count": 163,
   "id": "10d3961d-e9d2-448e-b2e6-e07fa591383f",
   "metadata": {},
   "outputs": [],
   "source": [
    "x = x.to(\"cuda:0\")\n",
    "y = y.to(\"cuda:0\") "
   ]
  },
  {
   "cell_type": "code",
   "execution_count": 164,
   "id": "d9f19e8d-49a5-42ef-9dd1-f405b0073ed2",
   "metadata": {},
   "outputs": [
    {
     "data": {
      "text/plain": [
       "torch.Size([599, 4])"
      ]
     },
     "execution_count": 164,
     "metadata": {},
     "output_type": "execute_result"
    }
   ],
   "source": [
    "x.shape"
   ]
  },
  {
   "cell_type": "markdown",
   "id": "0e62f989-8c31-4d20-822a-156f6eba65ec",
   "metadata": {},
   "source": [
    "- 사용된 문자는 형식상 4개지만 \n",
    "- 문맥상 따져보면 6개라고 생각할 수 있음 a1,a2,b1,b2,c,C\n",
    "  - node수 2개로는 어려울 것 같음\n",
    "  - node수는 3개로 하자"
   ]
  },
  {
   "cell_type": "markdown",
   "id": "ec241ce9-438f-4a8b-ab09-74d576a559af",
   "metadata": {},
   "source": [
    "### RNN "
   ]
  },
  {
   "cell_type": "code",
   "execution_count": 110,
   "id": "322c9987-0ca4-4b6e-b192-f32908f1fa6f",
   "metadata": {},
   "outputs": [],
   "source": [
    "torch.manual_seed(43052) \n",
    "rnn = torch.nn.RNN(4,3) \n",
    "linr = torch.nn.Linear(3,4) \n",
    "loss_fn = torch.nn.CrossEntropyLoss()\n",
    "optimizr = torch.optim.Adam(list(rnn.parameters())+ list(linr.parameters()))"
   ]
  },
  {
   "cell_type": "code",
   "execution_count": 111,
   "id": "24ebe116-ccb3-4791-8297-fde76594a827",
   "metadata": {},
   "outputs": [
    {
     "data": {
      "text/plain": [
       "Linear(in_features=3, out_features=4, bias=True)"
      ]
     },
     "execution_count": 111,
     "metadata": {},
     "output_type": "execute_result"
    }
   ],
   "source": [
    "rnn.to(\"cuda:0\") \n",
    "linr.to(\"cuda:0\")"
   ]
  },
  {
   "cell_type": "markdown",
   "id": "39458418-b39c-4f40-96de-6d2422e4abbe",
   "metadata": {},
   "source": [
    "`-` 3000 epochs"
   ]
  },
  {
   "cell_type": "code",
   "execution_count": 112,
   "id": "7baf9ecc-1add-49c9-bf14-03adafa21164",
   "metadata": {},
   "outputs": [],
   "source": [
    "for epoc in range(3000):\n",
    "    ## 1 \n",
    "    _water = torch.zeros(1,3).to(\"cuda:0\") # hidden node수가 3개니까 _water도 1x3이어야 함\n",
    "    hidden, hT = rnn(x,_water)\n",
    "    output = linr(hidden) \n",
    "    ## 2 \n",
    "    loss = loss_fn(output,y) \n",
    "    ## 3 \n",
    "    loss.backward()\n",
    "    ## 4 \n",
    "    optimizr.step()\n",
    "    optimizr.zero_grad()"
   ]
  },
  {
   "cell_type": "code",
   "execution_count": 116,
   "id": "2f13dd6f-20ed-415b-acfb-201d03b6106c",
   "metadata": {},
   "outputs": [],
   "source": [
    "yhat = soft(output)\n",
    "combinded  = torch.concat([hidden,yhat],axis=1).data.to(\"cpu\")"
   ]
  },
  {
   "cell_type": "code",
   "execution_count": 118,
   "id": "62a3a912-4047-41d0-9d89-d9bd1bbdb6eb",
   "metadata": {},
   "outputs": [
    {
     "data": {
      "text/plain": [
       "<matplotlib.image.AxesImage at 0x7f47e032f890>"
      ]
     },
     "execution_count": 118,
     "metadata": {},
     "output_type": "execute_result"
    },
    {
     "data": {
      "image/png": "[encoded data removed]",
      "text/plain": [
       "<Figure size 336x288 with 1 Axes>"
      ]
     },
     "metadata": {
      "needs_background": "light"
     },
     "output_type": "display_data"
    }
   ],
   "source": [
    "plt.matshow(combinded[-6:],cmap='bwr')"
   ]
  },
  {
   "cell_type": "markdown",
   "id": "e023e5da-bdd8-4ee7-b41b-de820124083f",
   "metadata": {},
   "source": [
    "`-` 6000 epochs"
   ]
  },
  {
   "cell_type": "code",
   "execution_count": 119,
   "id": "e8830b6a-acdf-405d-ad8b-e38c5ca728b7",
   "metadata": {},
   "outputs": [],
   "source": [
    "for epoc in range(3000):\n",
    "    ## 1 \n",
    "    _water = torch.zeros(1,3).to(\"cuda:0\")\n",
    "    hidden, hT = rnn(x,_water)\n",
    "    output = linr(hidden) \n",
    "    ## 2 \n",
    "    loss = loss_fn(output,y) \n",
    "    ## 3 \n",
    "    loss.backward()\n",
    "    ## 4 \n",
    "    optimizr.step()\n",
    "    optimizr.zero_grad()"
   ]
  },
  {
   "cell_type": "code",
   "execution_count": 120,
   "id": "6e29e512-7222-4fd1-9050-d4fda765657a",
   "metadata": {},
   "outputs": [],
   "source": [
    "yhat = soft(output)\n",
    "combinded  = torch.concat([hidden,yhat],axis=1).data.to(\"cpu\")"
   ]
  },
  {
   "cell_type": "code",
   "execution_count": 121,
   "id": "cadc92b6-7d7c-4e86-b3fd-58f3ae19be6d",
   "metadata": {},
   "outputs": [
    {
     "data": {
      "text/plain": [
       "<matplotlib.image.AxesImage at 0x7f47e1078b90>"
      ]
     },
     "execution_count": 121,
     "metadata": {},
     "output_type": "execute_result"
    },
    {
     "data": {
      "image/png": "[encoded data removed]",
      "text/plain": [
       "<Figure size 336x288 with 1 Axes>"
      ]
     },
     "metadata": {
      "needs_background": "light"
     },
     "output_type": "display_data"
    }
   ],
   "source": [
    "plt.matshow(combinded[-6:],cmap='bwr')"
   ]
  },
  {
   "cell_type": "markdown",
   "id": "b8da80c1-a8ed-4987-b999-ca3bd3d42c23",
   "metadata": {},
   "source": [
    "`-` 9000 epochs"
   ]
  },
  {
   "cell_type": "code",
   "execution_count": 122,
   "id": "49b78b65-524a-4631-82f4-cc7bb8300157",
   "metadata": {},
   "outputs": [],
   "source": [
    "for epoc in range(3000):\n",
    "    ## 1 \n",
    "    _water = torch.zeros(1,3).to(\"cuda:0\")\n",
    "    hidden, hT = rnn(x,_water)\n",
    "    output = linr(hidden) \n",
    "    ## 2 \n",
    "    loss = loss_fn(output,y) \n",
    "    ## 3 \n",
    "    loss.backward()\n",
    "    ## 4 \n",
    "    optimizr.step()\n",
    "    optimizr.zero_grad()"
   ]
  },
  {
   "cell_type": "code",
   "execution_count": 123,
   "id": "9e64928b-955b-40b2-90e5-515db94d38e2",
   "metadata": {},
   "outputs": [],
   "source": [
    "yhat = soft(output)\n",
    "combinded  = torch.concat([hidden,yhat],axis=1).data.to(\"cpu\")"
   ]
  },
  {
   "cell_type": "code",
   "execution_count": 124,
   "id": "7843008c-27fd-49fb-b019-7808fbd10139",
   "metadata": {},
   "outputs": [
    {
     "data": {
      "text/plain": [
       "<matplotlib.image.AxesImage at 0x7f47e0358590>"
      ]
     },
     "execution_count": 124,
     "metadata": {},
     "output_type": "execute_result"
    },
    {
     "data": {
      "image/png": "[encoded data removed]",
      "text/plain": [
       "<Figure size 336x288 with 1 Axes>"
      ]
     },
     "metadata": {
      "needs_background": "light"
     },
     "output_type": "display_data"
    }
   ],
   "source": [
    "plt.matshow(combinded[-6:],cmap='bwr')"
   ]
  },
  {
   "cell_type": "markdown",
   "id": "9081c1ec-82ec-4494-baea-1290b94db968",
   "metadata": {},
   "source": [
    "`-` 12000 epochs"
   ]
  },
  {
   "cell_type": "code",
   "execution_count": 125,
   "id": "14f31e65-e8ae-4734-82b3-639968d290be",
   "metadata": {},
   "outputs": [],
   "source": [
    "for epoc in range(3000):\n",
    "    ## 1 \n",
    "    _water = torch.zeros(1,3).to(\"cuda:0\")\n",
    "    hidden, hT = rnn(x,_water)\n",
    "    output = linr(hidden) \n",
    "    ## 2 \n",
    "    loss = loss_fn(output,y) \n",
    "    ## 3 \n",
    "    loss.backward()\n",
    "    ## 4 \n",
    "    optimizr.step()\n",
    "    optimizr.zero_grad()"
   ]
  },
  {
   "cell_type": "code",
   "execution_count": 126,
   "id": "1a8c90d8-3517-4116-b58a-af3c07d08a4d",
   "metadata": {},
   "outputs": [],
   "source": [
    "yhat = soft(output)\n",
    "combinded  = torch.concat([hidden,yhat],axis=1).data.to(\"cpu\")"
   ]
  },
  {
   "cell_type": "code",
   "execution_count": 127,
   "id": "90f626c1-2fc3-45a8-9c0f-b780cbab7cac",
   "metadata": {},
   "outputs": [
    {
     "data": {
      "text/plain": [
       "<matplotlib.image.AxesImage at 0x7f47e2de6f10>"
      ]
     },
     "execution_count": 127,
     "metadata": {},
     "output_type": "execute_result"
    },
    {
     "data": {
      "image/png": "[encoded data removed]",
      "text/plain": [
       "<Figure size 336x288 with 1 Axes>"
      ]
     },
     "metadata": {
      "needs_background": "light"
     },
     "output_type": "display_data"
    }
   ],
   "source": [
    "plt.matshow(combinded[-6:],cmap='bwr')"
   ]
  },
  {
   "cell_type": "markdown",
   "id": "6a175346-36dd-40ed-8ef5-12d21e666219",
   "metadata": {},
   "source": [
    "`-` 15000 epochs"
   ]
  },
  {
   "cell_type": "code",
   "execution_count": 128,
   "id": "a4e42f71-de71-4b88-bf8c-560b182fef63",
   "metadata": {},
   "outputs": [],
   "source": [
    "for epoc in range(3000):\n",
    "    ## 1 \n",
    "    _water = torch.zeros(1,3).to(\"cuda:0\")\n",
    "    hidden, hT = rnn(x,_water)\n",
    "    output = linr(hidden) \n",
    "    ## 2 \n",
    "    loss = loss_fn(output,y) \n",
    "    ## 3 \n",
    "    loss.backward()\n",
    "    ## 4 \n",
    "    optimizr.step()\n",
    "    optimizr.zero_grad()"
   ]
  },
  {
   "cell_type": "code",
   "execution_count": 129,
   "id": "aa5c704a-b7ba-44f5-90d1-d4eeec2f197d",
   "metadata": {},
   "outputs": [],
   "source": [
    "yhat = soft(output)\n",
    "combinded  = torch.concat([hidden,yhat],axis=1).data.to(\"cpu\")"
   ]
  },
  {
   "cell_type": "code",
   "execution_count": 132,
   "id": "c38c64cc-f44a-4e19-baa8-12d38d732f81",
   "metadata": {},
   "outputs": [
    {
     "data": {
      "text/plain": [
       "<matplotlib.image.AxesImage at 0x7f47cc12ae50>"
      ]
     },
     "execution_count": 132,
     "metadata": {},
     "output_type": "execute_result"
    },
    {
     "data": {
      "image/png": "[encoded data removed]",
      "text/plain": [
       "<Figure size 336x288 with 1 Axes>"
      ]
     },
     "metadata": {
      "needs_background": "light"
     },
     "output_type": "display_data"
    }
   ],
   "source": [
    "plt.matshow(combinded[-6:],cmap='bwr')"
   ]
  },
  {
   "cell_type": "markdown",
   "id": "34f8e328-ca37-402b-8e98-25cda8649c7c",
   "metadata": {},
   "source": [
    "### LSTM "
   ]
  },
  {
   "cell_type": "markdown",
   "id": "75170db2-076b-4bdc-8804-d831d4a973c5",
   "metadata": {},
   "source": [
    "`-` LSTM "
   ]
  },
  {
   "cell_type": "code",
   "execution_count": 133,
   "id": "20f2c369-0b0c-4e8f-b7f2-583d67819752",
   "metadata": {},
   "outputs": [],
   "source": [
    "torch.manual_seed(43052) \n",
    "lstm = torch.nn.LSTM(4,3) \n",
    "linr = torch.nn.Linear(3,4) \n",
    "loss_fn = torch.nn.CrossEntropyLoss()\n",
    "optimizr = torch.optim.Adam(list(lstm.parameters())+ list(linr.parameters()))"
   ]
  },
  {
   "cell_type": "code",
   "execution_count": 134,
   "id": "644446e4-c001-497c-81d9-518152821306",
   "metadata": {},
   "outputs": [
    {
     "data": {
      "text/plain": [
       "Linear(in_features=3, out_features=4, bias=True)"
      ]
     },
     "execution_count": 134,
     "metadata": {},
     "output_type": "execute_result"
    }
   ],
   "source": [
    "lstm.to(\"cuda:0\") \n",
    "linr.to(\"cuda:0\")"
   ]
  },
  {
   "cell_type": "markdown",
   "id": "76a5a1d5-f8e8-4f72-b65c-60b553feb8aa",
   "metadata": {},
   "source": [
    "`-` 3000 epochs"
   ]
  },
  {
   "cell_type": "code",
   "execution_count": 136,
   "id": "222e4865-a73d-46dc-88c9-86e788c01056",
   "metadata": {},
   "outputs": [],
   "source": [
    "for epoc in range(3000):\n",
    "    ## 1 \n",
    "    _water = torch.zeros(1,3).to(\"cuda:0\")\n",
    "    hidden, (hT,cT) = lstm(x,(_water,_water))\n",
    "    output = linr(hidden) \n",
    "    ## 2 \n",
    "    loss = loss_fn(output,y) \n",
    "    ## 3 \n",
    "    loss.backward()\n",
    "    ## 4 \n",
    "    optimizr.step()\n",
    "    optimizr.zero_grad()"
   ]
  },
  {
   "cell_type": "code",
   "execution_count": 139,
   "id": "887a94ec-0c2e-4071-8c33-d4159013e521",
   "metadata": {},
   "outputs": [],
   "source": [
    "yhat = soft(output)\n",
    "combinded  = torch.concat([hidden,yhat],axis=1).data.to(\"cpu\")"
   ]
  },
  {
   "cell_type": "code",
   "execution_count": 141,
   "id": "088e4aa7-567d-4439-b477-974c92775cf9",
   "metadata": {},
   "outputs": [
    {
     "data": {
      "text/plain": [
       "<matplotlib.image.AxesImage at 0x7f47cc0608d0>"
      ]
     },
     "execution_count": 141,
     "metadata": {},
     "output_type": "execute_result"
    },
    {
     "data": {
      "image/png": "[encoded data removed]",
      "text/plain": [
       "<Figure size 336x288 with 1 Axes>"
      ]
     },
     "metadata": {
      "needs_background": "light"
     },
     "output_type": "display_data"
    }
   ],
   "source": [
    "plt.matshow(combinded[-6:],cmap='bwr',vmin=-1,vmax=1)"
   ]
  },
  {
   "cell_type": "markdown",
   "id": "66ef5987-082f-44b0-84b8-68c1a8e22d82",
   "metadata": {},
   "source": [
    "- 애매하게 찍힘\n",
    "  - 0,1,2열에 흰색칸이 있음을 통해 알 수 있다. "
   ]
  },
  {
   "cell_type": "markdown",
   "id": "9353743c-0dc8-4e35-90f4-2396e6bbc8a2",
   "metadata": {},
   "source": [
    "`-` 6000 epochs"
   ]
  },
  {
   "cell_type": "code",
   "execution_count": 142,
   "id": "f1af8b61-a0ab-476f-a68a-7b7e745d7f86",
   "metadata": {},
   "outputs": [],
   "source": [
    "for epoc in range(3000):\n",
    "    ## 1 \n",
    "    _water = torch.zeros(1,3).to(\"cuda:0\")\n",
    "    hidden, (hT,cT) = lstm(x,(_water,_water))\n",
    "    output = linr(hidden) \n",
    "    ## 2 \n",
    "    loss = loss_fn(output,y) \n",
    "    ## 3 \n",
    "    loss.backward()\n",
    "    ## 4 \n",
    "    optimizr.step()\n",
    "    optimizr.zero_grad()"
   ]
  },
  {
   "cell_type": "code",
   "execution_count": 143,
   "id": "95d0e9bf-1867-46dd-8742-e3f03257040b",
   "metadata": {},
   "outputs": [],
   "source": [
    "yhat = soft(output)\n",
    "combinded  = torch.concat([hidden,yhat],axis=1).data.to(\"cpu\")"
   ]
  },
  {
   "cell_type": "code",
   "execution_count": 144,
   "id": "0e0314d2-fca4-404a-bbbf-ff348801f03a",
   "metadata": {},
   "outputs": [
    {
     "data": {
      "text/plain": [
       "<matplotlib.image.AxesImage at 0x7f47c61dd750>"
      ]
     },
     "execution_count": 144,
     "metadata": {},
     "output_type": "execute_result"
    },
    {
     "data": {
      "image/png": "[encoded data removed]",
      "text/plain": [
       "<Figure size 336x288 with 1 Axes>"
      ]
     },
     "metadata": {
      "needs_background": "light"
     },
     "output_type": "display_data"
    }
   ],
   "source": [
    "plt.matshow(combinded[-6:],cmap='bwr',vmin=-1,vmax=1)"
   ]
  },
  {
   "cell_type": "markdown",
   "id": "b8f2c0a3-5653-4ca8-b77b-6f3c130d7e0d",
   "metadata": {},
   "source": [
    "### RNN vs LSTM 성능비교실험"
   ]
  },
  {
   "cell_type": "markdown",
   "id": "f6416724-8cda-452f-b821-5bed83d4986d",
   "metadata": {},
   "source": [
    "`-` RNN "
   ]
  },
  {
   "cell_type": "code",
   "execution_count": 167,
   "id": "ace0800b-06ce-4c58-b2ef-94c5f0cd6d0d",
   "metadata": {},
   "outputs": [
    {
     "data": {
      "image/png": "[encoded data removed]",
      "text/plain": [
       "<Figure size 720x720 with 25 Axes>"
      ]
     },
     "metadata": {
      "needs_background": "light"
     },
     "output_type": "display_data"
    }
   ],
   "source": [
    "fig, ax = plt.subplots(5,5,figsize=(10,10))\n",
    "for i in range(5):\n",
    "    for j in range(5):\n",
    "        rnn = torch.nn.RNN(4,3).to(\"cuda:0\")\n",
    "        linr = torch.nn.Linear(3,4).to(\"cuda:0\")\n",
    "        loss_fn = torch.nn.CrossEntropyLoss()\n",
    "        optimizr = torch.optim.Adam(list(rnn.parameters())+list(linr.parameters()),lr=0.1)\n",
    "        _water = torch.zeros(1,3).to(\"cuda:0\")\n",
    "        for epoc in range(3000):\n",
    "            ## 1\n",
    "            hidden, hT = rnn(x,_water)\n",
    "            output = linr(hidden)\n",
    "            ## 2\n",
    "            loss = loss_fn(output,y)\n",
    "            ## 3\n",
    "            loss.backward()\n",
    "            ## 4 \n",
    "            optimizr.step()\n",
    "            optimizr.zero_grad()\n",
    "        yhat=soft(output)    \n",
    "        combind = torch.concat([hidden,yhat],axis=1)\n",
    "        ax[i][j].matshow(combind.to(\"cpu\").data[-6:],cmap='bwr',vmin=-1,vmax=1)\n",
    "fig.suptitle(r\"$RNN$\",size=20)\n",
    "fig.tight_layout()"
   ]
  },
  {
   "cell_type": "markdown",
   "id": "f568f851-f11d-4660-a4dd-0583e6d57dc2",
   "metadata": {},
   "source": [
    "`-` LSTM"
   ]
  },
  {
   "cell_type": "code",
   "execution_count": 168,
   "id": "65d289f3-b469-4cac-b7f9-9a891f61adc9",
   "metadata": {},
   "outputs": [
    {
     "data": {
      "image/png": "[encoded data removed]",
      "text/plain": [
       "<Figure size 720x720 with 25 Axes>"
      ]
     },
     "metadata": {
      "needs_background": "light"
     },
     "output_type": "display_data"
    }
   ],
   "source": [
    "fig, ax = plt.subplots(5,5,figsize=(10,10))\n",
    "for i in range(5):\n",
    "    for j in range(5):\n",
    "        lstm = torch.nn.LSTM(4,3).to(\"cuda:0\")\n",
    "        linr = torch.nn.Linear(3,4).to(\"cuda:0\")\n",
    "        loss_fn = torch.nn.CrossEntropyLoss()\n",
    "        optimizr = torch.optim.Adam(list(lstm.parameters())+list(linr.parameters()),lr=0.1)\n",
    "        _water = torch.zeros(1,3).to(\"cuda:0\")\n",
    "        for epoc in range(3000):\n",
    "            ## 1\n",
    "            hidden, (hT,cT) = lstm(x,(_water,_water))\n",
    "            output = linr(hidden)\n",
    "            ## 2\n",
    "            loss = loss_fn(output,y)\n",
    "            ## 3\n",
    "            loss.backward()\n",
    "            ## 4 \n",
    "            optimizr.step()\n",
    "            optimizr.zero_grad()\n",
    "        yhat=soft(output)    \n",
    "        combind = torch.concat([hidden,yhat],axis=1)\n",
    "        ax[i][j].matshow(combind.to(\"cpu\").data[-6:],cmap='bwr',vmin=-1,vmax=1)\n",
    "fig.suptitle(r\"$LSTM$\",size=20)\n",
    "fig.tight_layout()"
   ]
  },
  {
   "cell_type": "markdown",
   "id": "cb103814-3bdc-4d9d-8c71-eab993c9b191",
   "metadata": {},
   "source": [
    "## Exam6: abcdabcD"
   ]
  },
  {
   "cell_type": "markdown",
   "id": "c7ec76f7-7376-410b-a0d7-089b989109c4",
   "metadata": {
    "tags": []
   },
   "source": [
    "### data"
   ]
  },
  {
   "cell_type": "code",
   "execution_count": 169,
   "id": "8435c1e2-985d-449c-a5e7-6cc80ad9d723",
   "metadata": {},
   "outputs": [
    {
     "data": {
      "text/plain": [
       "['a', 'b', 'c', 'd', 'a', 'b', 'c', 'D']"
      ]
     },
     "execution_count": 169,
     "metadata": {},
     "output_type": "execute_result"
    }
   ],
   "source": [
    "txt = list('abcdabcD')*100\n",
    "txt[:8]"
   ]
  },
  {
   "cell_type": "code",
   "execution_count": 170,
   "id": "bc4c6896-50e9-456d-a08b-1a02c6f2814d",
   "metadata": {},
   "outputs": [],
   "source": [
    "txt_x = txt[:-1]\n",
    "txt_y = txt[1:]"
   ]
  },
  {
   "cell_type": "code",
   "execution_count": 171,
   "id": "0b71d61b-400d-4f47-814d-5bedb8550377",
   "metadata": {},
   "outputs": [],
   "source": [
    "mapping = {'a':0, 'b':1, 'c':2, 'd':3, 'D':4}\n",
    "x = torch.nn.functional.one_hot(torch.tensor(f(txt_x,mapping))).float()\n",
    "y = torch.nn.functional.one_hot(torch.tensor(f(txt_y,mapping))).float()"
   ]
  },
  {
   "cell_type": "code",
   "execution_count": 172,
   "id": "7cf64687-2337-4770-9999-5002fbff2a6c",
   "metadata": {},
   "outputs": [],
   "source": [
    "x=x.to(\"cuda:0\")\n",
    "y=y.to(\"cuda:0\")"
   ]
  },
  {
   "cell_type": "markdown",
   "id": "1682a011-597b-4163-a42c-4aa4e84cb432",
   "metadata": {
    "tags": []
   },
   "source": [
    "### RNN vs LSTM 성능비교실험"
   ]
  },
  {
   "cell_type": "markdown",
   "id": "326a076b-5fee-417e-8abb-80aee11bc70a",
   "metadata": {},
   "source": [
    "`-` RNN "
   ]
  },
  {
   "cell_type": "code",
   "execution_count": 173,
   "id": "1076b8ff-ded3-42f8-8e8a-c573adbf62ec",
   "metadata": {},
   "outputs": [
    {
     "data": {
      "image/png": "[encoded data removed]",
      "text/plain": [
       "<Figure size 720x720 with 25 Axes>"
      ]
     },
     "metadata": {
      "needs_background": "light"
     },
     "output_type": "display_data"
    }
   ],
   "source": [
    "fig, ax = plt.subplots(5,5,figsize=(10,10))\n",
    "for i in range(5):\n",
    "    for j in range(5):\n",
    "        rnn = torch.nn.RNN(5,4).to(\"cuda:0\")\n",
    "        linr = torch.nn.Linear(4,5).to(\"cuda:0\")\n",
    "        loss_fn = torch.nn.CrossEntropyLoss()\n",
    "        optimizr = torch.optim.Adam(list(rnn.parameters())+list(linr.parameters()),lr=0.1)\n",
    "        _water = torch.zeros(1,4).to(\"cuda:0\")\n",
    "        for epoc in range(3000):\n",
    "            ## 1\n",
    "            hidden, hT = rnn(x,_water)\n",
    "            output = linr(hidden)\n",
    "            ## 2\n",
    "            loss = loss_fn(output,y)\n",
    "            ## 3\n",
    "            loss.backward()\n",
    "            ## 4 \n",
    "            optimizr.step()\n",
    "            optimizr.zero_grad()\n",
    "        yhat=soft(output)    \n",
    "        combind = torch.concat([hidden,yhat],axis=1)\n",
    "        ax[i][j].matshow(combind.to(\"cpu\").data[-8:],cmap='bwr',vmin=-1,vmax=1)\n",
    "fig.suptitle(r\"$RNN$\",size=20)\n",
    "fig.tight_layout()"
   ]
  },
  {
   "cell_type": "markdown",
   "id": "2d206f74-8bda-407c-b156-b6c60872ad48",
   "metadata": {},
   "source": [
    "`-` LSTM"
   ]
  },
  {
   "cell_type": "code",
   "execution_count": 174,
   "id": "b1f493f6-9ceb-4529-a496-62979d729735",
   "metadata": {},
   "outputs": [
    {
     "data": {
      "image/png": "[encoded data removed]",
      "text/plain": [
       "<Figure size 720x720 with 25 Axes>"
      ]
     },
     "metadata": {
      "needs_background": "light"
     },
     "output_type": "display_data"
    }
   ],
   "source": [
    "fig, ax = plt.subplots(5,5,figsize=(10,10))\n",
    "for i in range(5):\n",
    "    for j in range(5):\n",
    "        lstm = torch.nn.LSTM(5,4).to(\"cuda:0\")\n",
    "        linr = torch.nn.Linear(4,5).to(\"cuda:0\")\n",
    "        loss_fn = torch.nn.CrossEntropyLoss()\n",
    "        optimizr = torch.optim.Adam(list(lstm.parameters())+list(linr.parameters()),lr=0.1)\n",
    "        _water = torch.zeros(1,4).to(\"cuda:0\")\n",
    "        for epoc in range(3000):\n",
    "            ## 1\n",
    "            hidden, (hT,cT) = lstm(x,(_water,_water))\n",
    "            output = linr(hidden)\n",
    "            ## 2\n",
    "            loss = loss_fn(output,y)\n",
    "            ## 3\n",
    "            loss.backward()\n",
    "            ## 4 \n",
    "            optimizr.step()\n",
    "            optimizr.zero_grad()\n",
    "        yhat=soft(output)    \n",
    "        combind = torch.concat([hidden,yhat],axis=1)\n",
    "        ax[i][j].matshow(combind.to(\"cpu\").data[-8:],cmap='bwr',vmin=-1,vmax=1)\n",
    "fig.suptitle(r\"$LSTM$\",size=20)\n",
    "fig.tight_layout()"
   ]
  },
  {
   "cell_type": "markdown",
   "id": "80a630da-54a7-45c7-b4b2-b1a37a643b5b",
   "metadata": {},
   "source": [
    "`-` 관찰1: LSTM이 확실히 장기기억에 강하다. "
   ]
  },
  {
   "cell_type": "markdown",
   "id": "d02ab5f2-5170-40d2-bf29-57b2cbec7fba",
   "metadata": {},
   "source": [
    "`-` 관찰2: LSTM은 hidden에 0이 잘 나온다. \n",
    "- 사실 확실히 구분되는 특징을 판별할때는 -1,1 로 히든레이어 값들이 설정되면 명확하다. \n",
    "- 히든레이어에 -1~1사이의 값이 나온다면 애매한 판단이 내려지게 된다. \n",
    "- 그런데 이 애매한 판단이 어떻게 보면 문맥의 뉘앙스를 이해하는데 더 잘 맞다.\n",
    "- 그런데 RNN은 -1,1로 셋팅된 상황에서 -1~1로의 변화가 더디다는 것이 문제임. "
   ]
  }
 ],
 "metadata": {
  "kernelspec": {
   "display_name": "Python 3 (ipykernel)",
   "language": "python",
   "name": "python3"
  },
  "language_info": {
   "codemirror_mode": {
    "name": "ipython",
    "version": 3
   },
   "file_extension": ".py",
   "mimetype": "text/x-python",
   "name": "python",
   "nbconvert_exporter": "python",
   "pygments_lexer": "ipython3",
   "version": "3.9.12"
  }
 },
 "nbformat": 4,
 "nbformat_minor": 5
}
