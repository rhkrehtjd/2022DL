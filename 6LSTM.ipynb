{
 "cells": [
  {
   "cell_type": "code",
   "execution_count": 1,
   "id": "ae2c26f0-f0fd-492d-a58b-01832309ad94",
   "metadata": {},
   "outputs": [],
   "source": [
    "import torch\n",
    "import matplotlib.pyplot as plt"
   ]
  },
  {
   "cell_type": "code",
   "execution_count": 2,
   "id": "3eefed13-c2b8-4735-9089-442726c1b93c",
   "metadata": {},
   "outputs": [],
   "source": [
    "def f(txt,mapping):\n",
    "    return [mapping[key] for key in txt] \n",
    "sig = torch.nn.Sigmoid()\n",
    "soft = torch.nn.Softmax(dim=1)\n",
    "tanh = torch.nn.Tanh()"
   ]
  },
  {
   "cell_type": "markdown",
   "id": "745e0f37-6017-4d31-82ed-58addbc4db3f",
   "metadata": {},
   "source": [
    "## LSTM의 계산과정"
   ]
  },
  {
   "cell_type": "markdown",
   "id": "6ccf2f0f-a4a8-4672-a774-01b14f47f801",
   "metadata": {},
   "source": [
    "### data: abaB"
   ]
  },
  {
   "cell_type": "code",
   "execution_count": 3,
   "id": "b5f9ab82-df24-40cb-b4a2-be56a6e1b50d",
   "metadata": {},
   "outputs": [],
   "source": [
    "txt = list('abaB')*100"
   ]
  },
  {
   "cell_type": "code",
   "execution_count": 4,
   "id": "3dc6cdc6-b006-48e1-ace7-c521f22b1a3c",
   "metadata": {},
   "outputs": [],
   "source": [
    "txt_x = txt[:-1]\n",
    "txt_y = txt[1:]"
   ]
  },
  {
   "cell_type": "code",
   "execution_count": 6,
   "id": "48c6098d-6086-48ab-bcc9-7d98499656d6",
   "metadata": {},
   "outputs": [],
   "source": [
    "mapping = {'a':0, 'b':1, 'B':2}\n",
    "x = torch.nn.functional.one_hot(torch.tensor(f(txt_x,mapping))).float()\n",
    "y = torch.nn.functional.one_hot(torch.tensor(f(txt_y,mapping))).float()"
   ]
  },
  {
   "cell_type": "markdown",
   "id": "0f55bc7b-5093-4a07-98b2-c4c55e51be99",
   "metadata": {},
   "source": [
    "### 1 epoch ver1 (with torch.nn.LSTMCell)"
   ]
  },
  {
   "cell_type": "code",
   "execution_count": 7,
   "id": "f3800bd9-a6ba-4874-ae1d-9700482f8a41",
   "metadata": {},
   "outputs": [],
   "source": [
    "torch.manual_seed(43052) \n",
    "lstm_cell = torch.nn.LSTMCell(3,2) \n",
    "linr = torch.nn.Linear(2,3)\n",
    "loss_fn = torch.nn.CrossEntropyLoss() \n",
    "optimizr = torch.optim.Adam(list(lstm_cell.parameters())+list(linr.parameters()),lr=0.1)"
   ]
  },
  {
   "cell_type": "code",
   "execution_count": 8,
   "id": "0ccec311-be58-41e1-8f17-fb631702092f",
   "metadata": {},
   "outputs": [],
   "source": [
    "T = len(x) \n",
    "for epoc in range(1):\n",
    "    ht = torch.zeros(1,2)\n",
    "    ct = torch.zeros(1,2)\n",
    "    # LSTM에선 맹물이 2개 필요 -> ht,ct\n",
    "    loss = 0 \n",
    "    ## 1~2\n",
    "    for t in range(T):\n",
    "        xt,yt = x[[t]], y[[t]]\n",
    "        ht,ct = lstm_cell(xt,(ht,ct))\n",
    "        ot = linr(ht) \n",
    "        loss = loss + loss_fn(ot,yt)\n",
    "    loss = loss / T # MSE ?\n",
    "    ## 3 \n",
    "    loss.backward()\n",
    "    ## 4 \n",
    "    optimizr.step()\n",
    "    optimizr.zero_grad()"
   ]
  },
  {
   "cell_type": "code",
   "execution_count": 9,
   "id": "ac253024-3f20-41e9-80c7-66fc109178a6",
   "metadata": {},
   "outputs": [
    {
     "data": {
      "text/plain": [
       "(tensor([[-0.0406,  0.2505]], grad_fn=<MulBackward0>),\n",
       " tensor([[-0.0975,  0.7134]], grad_fn=<AddBackward0>))"
      ]
     },
     "execution_count": 9,
     "metadata": {},
     "output_type": "execute_result"
    }
   ],
   "source": [
    "# conclusion\n",
    "ht,ct "
   ]
  },
  {
   "cell_type": "markdown",
   "id": "d52fbf3a-aedb-469b-8187-1e3043538eec",
   "metadata": {},
   "source": [
    "### 1 epoch ver2 (완전 손으로 구현) "
   ]
  },
  {
   "cell_type": "markdown",
   "id": "38e7b384-9e28-416b-abb7-61e9e02e60cb",
   "metadata": {},
   "source": [
    "#### ***t=0 $\\to$ t=1  (1 epoch)***"
   ]
  },
  {
   "cell_type": "markdown",
   "id": "caf3b7cd-cf6f-4cde-8f00-e84bd09fb69d",
   "metadata": {},
   "source": [
    "`-` lstm_cell 을 이용한 계산 (결과비교용)"
   ]
  },
  {
   "cell_type": "code",
   "execution_count": 10,
   "id": "a50aa762-17cd-4288-80b4-9ffe442440b6",
   "metadata": {},
   "outputs": [],
   "source": [
    "torch.manual_seed(43052) \n",
    "lstm_cell = torch.nn.LSTMCell(3,2) \n",
    "linr = torch.nn.Linear(2,3)\n",
    "loss_fn = torch.nn.CrossEntropyLoss() \n",
    "optimizr = torch.optim.Adam(list(lstm_cell.parameters())+list(linr.parameters()),lr=0.1)"
   ]
  },
  {
   "cell_type": "code",
   "execution_count": 11,
   "id": "1aeec5dd-a264-4232-ac79-c65732d66bf3",
   "metadata": {},
   "outputs": [],
   "source": [
    "T = len(x) \n",
    "for epoc in range(1):\n",
    "    ht = torch.zeros(1,2)\n",
    "    ct = torch.zeros(1,2)\n",
    "    loss = 0 \n",
    "    ## 1~2\n",
    "    \n",
    "    # ver1에서는 range(T)였음\n",
    "    for t in range(1): #\n",
    "        xt,yt = x[[t]], y[[t]]\n",
    "        ht,ct = lstm_cell(xt,(ht,ct))\n",
    "    #     ot = linr(ht) \n",
    "    #     loss = loss + loss_fn(ot,yt)\n",
    "    # loss = loss / T\n",
    "    # ## 3 \n",
    "    # loss.backward()\n",
    "    # ## 4 \n",
    "    # optimizr.step()\n",
    "    # optimizr.zero_grad()"
   ]
  },
  {
   "cell_type": "code",
   "execution_count": 12,
   "id": "3612da96-1153-4839-b512-40c1ce923788",
   "metadata": {},
   "outputs": [
    {
     "data": {
      "text/plain": [
       "(tensor([[-0.0541,  0.0892]], grad_fn=<MulBackward0>),\n",
       " tensor([[-0.1347,  0.2339]], grad_fn=<AddBackward0>))"
      ]
     },
     "execution_count": 12,
     "metadata": {},
     "output_type": "execute_result"
    }
   ],
   "source": [
    "ht,ct "
   ]
  },
  {
   "cell_type": "markdown",
   "id": "dbf5cd50-c644-441f-91f3-3332deb74fe1",
   "metadata": {},
   "source": [
    "- 이런결과를 어떻게 만드는걸까? "
   ]
  },
  {
   "cell_type": "markdown",
   "id": "c6b5da2c-d488-4d37-87e8-5c1169c16e76",
   "metadata": {},
   "source": [
    "`-` 직접계산 "
   ]
  },
  {
   "cell_type": "code",
   "execution_count": 18,
   "id": "72aa3e65-93cc-4c93-b41b-c7b8bc74a63f",
   "metadata": {},
   "outputs": [],
   "source": [
    "ht = torch.zeros(1,2)\n",
    "ct = torch.zeros(1,2)"
   ]
  },
  {
   "cell_type": "code",
   "execution_count": 19,
   "id": "acce5238-3b90-4953-a4e0-3ecf8a1be6b0",
   "metadata": {},
   "outputs": [],
   "source": [
    "_ifgo = xt @ lstm_cell.weight_ih.T + \\\n",
    "        ht @ lstm_cell.weight_hh.T + \\\n",
    "        lstm_cell.bias_ih + \\\n",
    "        lstm_cell.bias_hh"
   ]
  },
  {
   "cell_type": "code",
   "execution_count": 20,
   "id": "cdc855b8-0418-4ed1-aff9-0e15ba9fdee7",
   "metadata": {},
   "outputs": [
    {
     "data": {
      "text/plain": [
       "tensor([[ 0.0728,  0.1561,  0.0693,  0.5941, -0.2661,  0.4648, -0.3884, -0.4536]],\n",
       "       grad_fn=<AddBackward0>)"
      ]
     },
     "execution_count": 20,
     "metadata": {},
     "output_type": "execute_result"
    }
   ],
   "source": [
    "_ifgo # 8개의 반환값"
   ]
  },
  {
   "cell_type": "code",
   "execution_count": 27,
   "id": "6fd4d59f-9496-42f5-9a39-932880f2f6c1",
   "metadata": {},
   "outputs": [],
   "source": [
    "input_gate = sig(_ifgo[:,0:2])\n",
    "forget_gate = sig(_ifgo[:,2:4])\n",
    "gt = tanh(_ifgo[:,4:6])\n",
    "output_gate = sig(_ifgo[:,6:8])"
   ]
  },
  {
   "cell_type": "code",
   "execution_count": 28,
   "id": "d97b6642-47e6-45e1-a3d7-b227c756c31f",
   "metadata": {},
   "outputs": [],
   "source": [
    "ct = forget_gate * ct + input_gate * gt\n",
    "ht = output_gate * tanh(ct)"
   ]
  },
  {
   "cell_type": "code",
   "execution_count": 29,
   "id": "9e5fc425-9edc-4371-9605-f970852810c0",
   "metadata": {},
   "outputs": [
    {
     "data": {
      "text/plain": [
       "(tensor([[-0.0541,  0.0892]], grad_fn=<MulBackward0>),\n",
       " tensor([[-0.1347,  0.2339]], grad_fn=<AddBackward0>))"
      ]
     },
     "execution_count": 29,
     "metadata": {},
     "output_type": "execute_result"
    }
   ],
   "source": [
    "ht,ct"
   ]
  },
  {
   "cell_type": "markdown",
   "id": "a6ea3db1-5ce0-453e-b55a-56321d61842f",
   "metadata": {
    "tags": []
   },
   "source": [
    "#### ***t=0 $\\to$ t=T (not to t=1)***"
   ]
  },
  {
   "cell_type": "code",
   "execution_count": 21,
   "id": "46aba172-cd71-4119-8e5d-f12c63318d80",
   "metadata": {},
   "outputs": [],
   "source": [
    "torch.manual_seed(43052) \n",
    "lstm_cell = torch.nn.LSTMCell(3,2) \n",
    "linr = torch.nn.Linear(2,3)\n",
    "loss_fn = torch.nn.CrossEntropyLoss() \n",
    "optimizr = torch.optim.Adam(list(lstm_cell.parameters())+list(linr.parameters()),lr=0.1)"
   ]
  },
  {
   "cell_type": "code",
   "execution_count": 22,
   "id": "c829ddcc-42ea-4115-be90-8c88a6c97ba3",
   "metadata": {},
   "outputs": [],
   "source": [
    "T = len(x) \n",
    "for epoc in range(1):\n",
    "    ht = torch.zeros(1,2)\n",
    "    ct = torch.zeros(1,2)\n",
    "    loss = 0 \n",
    "    ## 1~2\n",
    "    for t in range(T):\n",
    "        xt,yt = x[[t]], y[[t]]\n",
    "        \n",
    "        ## lstm_cell step1: calculate _ifgo \n",
    "        _ifgo = xt @ lstm_cell.weight_ih.T + ht @ lstm_cell.weight_hh.T + lstm_cell.bias_ih + lstm_cell.bias_hh\n",
    "        ## lstm_cell step2: decompose _ifgo \n",
    "        input_gate = sig(_ifgo[:,0:2])\n",
    "        forget_gate = sig(_ifgo[:,2:4])\n",
    "        gt = tanh(_ifgo[:,4:6])\n",
    "        output_gate = sig(_ifgo[:,6:8])\n",
    "        ## lstm_cell step3: calculate ht,ct \n",
    "        ct = forget_gate * ct + input_gate * gt\n",
    "        ht = output_gate * tanh(ct)\n",
    "        \n",
    "    #     ot = linr(ht) \n",
    "    #     loss = loss + loss_fn(ot,yt)\n",
    "    # loss = loss / T\n",
    "    # ## 3 \n",
    "    # loss.backward()\n",
    "    # ## 4 \n",
    "    # optimizr.step()\n",
    "    # optimizr.zero_grad()"
   ]
  },
  {
   "cell_type": "code",
   "execution_count": 24,
   "id": "d9115b51-b70d-4846-91a2-12d262147e40",
   "metadata": {},
   "outputs": [
    {
     "data": {
      "text/plain": [
       "(tensor([[-0.0406,  0.2505]], grad_fn=<MulBackward0>),\n",
       " tensor([[-0.0975,  0.7134]], grad_fn=<AddBackward0>))"
      ]
     },
     "execution_count": 24,
     "metadata": {},
     "output_type": "execute_result"
    }
   ],
   "source": [
    "ht,ct"
   ]
  },
  {
   "cell_type": "markdown",
   "id": "5231f21f-7a4f-41ec-82b4-de871fdbc8ea",
   "metadata": {},
   "source": [
    "### 1 epoch ver3 (with torch.nn.LSTM)"
   ]
  },
  {
   "cell_type": "code",
   "execution_count": 42,
   "id": "4eb3357e-cba5-44e0-ac21-4a679f077c4f",
   "metadata": {},
   "outputs": [],
   "source": [
    "torch.manual_seed(43052) \n",
    "lstm_cell = torch.nn.LSTMCell(3,2)\n",
    "linr = torch.nn.Linear(2,3) "
   ]
  },
  {
   "cell_type": "code",
   "execution_count": 43,
   "id": "ea3fddfd-6565-4250-83be-735b7f726bc3",
   "metadata": {},
   "outputs": [],
   "source": [
    "lstm = torch.nn.LSTM(3,2) \n",
    "# torch.nn.LSTMCell이 아니라 torch.nn.LSTM을 이용!"
   ]
  },
  {
   "cell_type": "code",
   "execution_count": 44,
   "id": "9ad025c3-b2cd-4be4-9f61-a6746bd1dd0d",
   "metadata": {},
   "outputs": [],
   "source": [
    "lstm.weight_hh_l0.data = lstm_cell.weight_hh.data \n",
    "lstm.bias_hh_l0.data = lstm_cell.bias_hh.data \n",
    "lstm.weight_ih_l0.data = lstm_cell.weight_ih.data \n",
    "lstm.bias_ih_l0.data = lstm_cell.bias_ih.data "
   ]
  },
  {
   "cell_type": "code",
   "execution_count": 45,
   "id": "a6a9377c-75df-4cd1-8587-e00a6131cad7",
   "metadata": {},
   "outputs": [],
   "source": [
    "loss_fn = torch.nn.CrossEntropyLoss()\n",
    "optimizr = torch.optim.Adam(list(lstm.parameters()) + list(linr.parameters()), lr=0.1) "
   ]
  },
  {
   "cell_type": "code",
   "execution_count": 46,
   "id": "6e4dd495-19b4-42b3-9af8-82d028bf6e6e",
   "metadata": {},
   "outputs": [],
   "source": [
    "_water = torch.zeros(1,2) \n",
    "for epoc in range(1): \n",
    "    ## step1 \n",
    "    hidden, (ht,ct) = lstm(x,(_water,_water)) # for i in range(T)가 필요 X\n",
    "    output = linr(hidden)\n",
    "    \n",
    "    # ## step2\n",
    "    # loss = loss_fn(output,y) \n",
    "    # ## step3\n",
    "    # loss.backward()\n",
    "    # ## step4 \n",
    "    # optimizr.step()\n",
    "    # optimizr.zero_grad() "
   ]
  },
  {
   "cell_type": "code",
   "execution_count": 47,
   "id": "4e00bfd2-86c7-4791-afc6-ad877653f8a7",
   "metadata": {},
   "outputs": [
    {
     "data": {
      "text/plain": [
       "(tensor([[-0.0406,  0.2505]], grad_fn=<SqueezeBackward1>),\n",
       " tensor([[-0.0975,  0.7134]], grad_fn=<SqueezeBackward1>))"
      ]
     },
     "execution_count": 47,
     "metadata": {},
     "output_type": "execute_result"
    }
   ],
   "source": [
    "ht,ct"
   ]
  },
  {
   "cell_type": "markdown",
   "id": "fed4b9c0-5463-4d99-aea7-2b5c7bbdf32f",
   "metadata": {},
   "source": [
    "## LSTM은 왜 강한가? "
   ]
  },
  {
   "cell_type": "markdown",
   "id": "040c726b-038b-4a0c-8879-6d54e44e0d5b",
   "metadata": {},
   "source": [
    "### data: abaB"
   ]
  },
  {
   "cell_type": "code",
   "execution_count": 25,
   "id": "8996bdf7-bc16-4f2d-b29d-015b5c8fa876",
   "metadata": {},
   "outputs": [],
   "source": [
    "txt = list('abaB')*100"
   ]
  },
  {
   "cell_type": "code",
   "execution_count": 49,
   "id": "33d8c458-6919-44b3-b59d-dcd597291c70",
   "metadata": {},
   "outputs": [],
   "source": [
    "n_words = 3"
   ]
  },
  {
   "cell_type": "code",
   "execution_count": 50,
   "id": "6a7f14c0-3795-46f1-b245-a6d1d273b29d",
   "metadata": {},
   "outputs": [],
   "source": [
    "mapping = {'a':0, 'b':1, 'B':2}"
   ]
  },
  {
   "cell_type": "code",
   "execution_count": 51,
   "id": "9456f321-7eac-4010-8dd0-8c51f1bb8265",
   "metadata": {},
   "outputs": [],
   "source": [
    "txt_x = txt[:-1]\n",
    "txt_y = txt[1:]"
   ]
  },
  {
   "cell_type": "code",
   "execution_count": 53,
   "id": "cce45a25-cd91-4b13-a9df-34e7adba65b1",
   "metadata": {},
   "outputs": [],
   "source": [
    "x = torch.nn.functional.one_hot(torch.tensor(f(txt_x,mapping))).float()\n",
    "y = torch.nn.functional.one_hot(torch.tensor(f(txt_y,mapping))).float()"
   ]
  },
  {
   "cell_type": "markdown",
   "id": "34438ca0-eb8b-48f3-a3cd-e9c08b39330e",
   "metadata": {},
   "source": [
    "### 1000 epoch "
   ]
  },
  {
   "cell_type": "code",
   "execution_count": 108,
   "id": "7ff25378-05ec-407c-93cb-d800359e9234",
   "metadata": {},
   "outputs": [],
   "source": [
    "torch.manual_seed(43052) \n",
    "lstm = torch.nn.LSTM(3,2) \n",
    "linr = torch.nn.Linear(2,3) "
   ]
  },
  {
   "cell_type": "code",
   "execution_count": 109,
   "id": "151673a8-4132-42ae-a068-58e0e2368277",
   "metadata": {},
   "outputs": [],
   "source": [
    "loss_fn = torch.nn.CrossEntropyLoss() \n",
    "optimizr = torch.optim.Adam(list(lstm.parameters())+ list(linr.parameters()),lr=0.1)"
   ]
  },
  {
   "cell_type": "code",
   "execution_count": 110,
   "id": "5e2db029-2608-4f90-993d-625c4825c7ea",
   "metadata": {},
   "outputs": [],
   "source": [
    "_water = torch.zeros(1,2) \n",
    "for epoc in range(1000): \n",
    "    ## step1 \n",
    "    hidden, (ht,ct) = lstm(x,(_water,_water))\n",
    "    output = linr(hidden)\n",
    "    ## step2\n",
    "    loss = loss_fn(output,y) \n",
    "    ## step3\n",
    "    loss.backward()\n",
    "    ## step4 \n",
    "    optimizr.step()\n",
    "    optimizr.zero_grad() "
   ]
  },
  {
   "cell_type": "markdown",
   "id": "5cef7672-2f52-40ec-ba58-efada98b7d46",
   "metadata": {
    "tags": []
   },
   "source": [
    "### 시각화 "
   ]
  },
  {
   "cell_type": "code",
   "execution_count": 117,
   "id": "75308621-5da4-4e84-b930-23a52392dc9d",
   "metadata": {},
   "outputs": [],
   "source": [
    "T = len(x)\n",
    "input_gate = torch.zeros(T,2)\n",
    "forget_gate = torch.zeros(T,2)\n",
    "output_gate = torch.zeros(T,2)\n",
    "g = torch.zeros(T,2)\n",
    "cell = torch.zeros(T,2)\n",
    "h = torch.zeros(T,2) "
   ]
  },
  {
   "cell_type": "code",
   "execution_count": 118,
   "id": "3dc854c5-874a-4491-a759-ab318dd4bdb6",
   "metadata": {},
   "outputs": [],
   "source": [
    "for t in range(T): \n",
    "    ## 1: calculate _ifgo \n",
    "    _ifgo = x[[t]] @ lstm.weight_ih_l0.T + h[[t]] @ lstm.weight_hh_l0.T + lstm.bias_ih_l0 + lstm.bias_hh_l0 \n",
    "    ## 2: decompose _ifgo \n",
    "    input_gate[[t]] = sig(_ifgo[:,0:2])\n",
    "    forget_gate[[t]] = sig(_ifgo[:,2:4])\n",
    "    g[[t]] = tanh(_ifgo[:,4:6])\n",
    "    output_gate[[t]] = sig(_ifgo[:,6:8])\n",
    "    ## 3: calculate ht,ct \n",
    "    cell[[t]] = forget_gate[[t]] * cell[[t]] + input_gate[[t]] * g[[t]]\n",
    "    h[[t]] = output_gate[[t]] * tanh(cell[[t]])"
   ]
  },
  {
   "cell_type": "code",
   "execution_count": 120,
   "id": "b2dfa180-f918-4e96-a3c5-e1f8c5f68ecb",
   "metadata": {},
   "outputs": [],
   "source": [
    "combinded1 = torch.concat([input_gate,forget_gate,output_gate],axis=1)\n",
    "combinded2 = torch.concat([g,cell,h,soft(output)],axis=1)"
   ]
  },
  {
   "cell_type": "code",
   "execution_count": 143,
   "id": "77db5ef4-1a26-4059-a403-f667add86d41",
   "metadata": {},
   "outputs": [
    {
     "data": {
      "image/png": "[encoded data removed]",
      "text/plain": [
       "<Figure size 288x384 with 1 Axes>"
      ]
     },
     "metadata": {
      "needs_background": "light"
     },
     "output_type": "display_data"
    },
    {
     "data": {
      "image/png": "[encoded data removed]",
      "text/plain": [
       "<Figure size 324x288 with 1 Axes>"
      ]
     },
     "metadata": {
      "needs_background": "light"
     },
     "output_type": "display_data"
    }
   ],
   "source": [
    "plt.matshow(combinded1[-8:].data,cmap='bwr',vmin=-1,vmax=1);\n",
    "plt.xticks(range(combinded1.shape[-1]),labels=['i']*2 + ['f']*2 + ['o']*2);\n",
    "plt.matshow(combinded2[-8:].data,cmap='bwr',vmin=-1,vmax=1)\n",
    "plt.xticks(range(combinded2.shape[-1]),labels=['g']*2 + ['c']*2 + ['h']*2 + ['yhat']*3);"
   ]
  },
  {
   "cell_type": "markdown",
   "id": "66a8149b-e6d3-47cc-8031-462ebf63ba5d",
   "metadata": {},
   "source": [
    "- 상단그림은 게이트의 값들만 시각화, 하단그림은 게이트 이외의 값들을 시각화 "
   ]
  },
  {
   "cell_type": "markdown",
   "id": "6188e6b6-12e5-4a26-bd87-78f6436f9d06",
   "metadata": {},
   "source": [
    "### 시각화의 해석I "
   ]
  },
  {
   "cell_type": "code",
   "execution_count": 145,
   "id": "84757059-8a63-4b89-bc38-90b11caea7d8",
   "metadata": {},
   "outputs": [
    {
     "data": {
      "image/png": "[encoded data removed]",
      "text/plain": [
       "<Figure size 288x384 with 1 Axes>"
      ]
     },
     "metadata": {
      "needs_background": "light"
     },
     "output_type": "display_data"
    }
   ],
   "source": [
    "plt.matshow(combinded1[-8:].data,cmap='bwr',vmin=-1,vmax=1);\n",
    "plt.xticks(range(combinded1.shape[-1]),labels=['i']*2 + ['f']*2 + ['o']*2);"
   ]
  },
  {
   "cell_type": "markdown",
   "id": "77a6caec-3001-4488-9e15-da0d213dd830",
   "metadata": {},
   "source": [
    "`-` input_gate, forget_gate, output_gate는 모두 0~1 사이의 값을 가진다. "
   ]
  },
  {
   "cell_type": "markdown",
   "id": "67b46627-8ccd-4e3b-baa2-46ed51fa7320",
   "metadata": {},
   "source": [
    "`-` 이 값들은 각각 모두 ${\\boldsymbol g}_t, {\\boldsymbol c}_{t-1}, \\tanh({\\boldsymbol c}_t)$에 곱해진다. 따라서 input_gate, forget_gate, output_gate 는 gate의 역할로 비유가능하다. (1이면 통과, 0이면 차단)\n",
    "\n",
    "- input_gate: ${\\boldsymbol g}_t$의 값을 얼만큼 통과시킬지 0~1사이의 숫자로 결정 \n",
    "- forget_gate: ${\\boldsymbol c}_{t-1}$의 값을 얼만큼 통과시킬지 0~1사이의 숫자로 결정 \n",
    "- output_gate: $\\tanh({\\boldsymbol c}_t)$의 값을 얼만큼 통과시킬지 0~1사이의 숫자로 결정 "
   ]
  },
  {
   "cell_type": "markdown",
   "id": "333e8b44-5271-4206-aa32-aa9a936a2ce4",
   "metadata": {},
   "source": [
    "### 시각화의 해석II"
   ]
  },
  {
   "cell_type": "code",
   "execution_count": 142,
   "id": "e03278f9-87a1-4668-97ff-883cdb9f03fd",
   "metadata": {},
   "outputs": [
    {
     "data": {
      "image/png": "[encoded data removed]",
      "text/plain": [
       "<Figure size 324x288 with 1 Axes>"
      ]
     },
     "metadata": {
      "needs_background": "light"
     },
     "output_type": "display_data"
    }
   ],
   "source": [
    "plt.matshow(combinded2[-8:].data,cmap='bwr',vmin=-1,vmax=1)\n",
    "plt.xticks(range(combinded2.shape[-1]),labels=['g']*2 + ['c']*2 + ['h']*2 + ['yhat']*3);"
   ]
  },
  {
   "cell_type": "markdown",
   "id": "64e59f98-f844-49bd-9075-baa866e98333",
   "metadata": {},
   "source": [
    "`-` 결국 ${\\boldsymbol g}_t\\to {\\boldsymbol c}_t \\to {\\boldsymbol h}_t \\to \\hat{\\boldsymbol y}$ 의 느낌이다. (${\\boldsymbol h}_t$를 계산하기 위해서는 ${\\boldsymbol c}_t$가 필요했고 ${\\boldsymbol c}_t$를 계산하기 위해서는 ${\\boldsymbol c}_{t-1}$과 ${\\boldsymbol g}_t$가 필요했음) \n",
    "\n",
    "- ${\\boldsymbol h}_t= \\tanh({\\boldsymbol c}_t) \\odot {\\boldsymbol o}_t$\n",
    "- ${\\boldsymbol c}_t ={\\boldsymbol c}_{t-1} \\odot {\\boldsymbol f}_t + {\\boldsymbol g}_{t} \\odot {\\boldsymbol i}_t$"
   ]
  },
  {
   "cell_type": "markdown",
   "id": "ff62d96a-c82a-4b9e-be92-f0bbf2293f1d",
   "metadata": {},
   "source": [
    "`-` ${\\boldsymbol g}_t,{\\boldsymbol c}_t,{\\boldsymbol h}_t$ 모두 ${\\boldsymbol x}_t$의 정보를 숙성시켜 가지고 있는 느낌이 든다. "
   ]
  },
  {
   "cell_type": "markdown",
   "id": "e441b995-5872-4289-8ac7-8428ae1fda60",
   "metadata": {},
   "source": [
    "`-` ${\\boldsymbol g}_t$ 특징: 보통 -1,1 중 하나의 값을 가지도록 학습되어 있다. (마치 RNN의 hidden node처럼!) \n",
    "- $\\boldsymbol{g}_t = \\tanh({\\boldsymbol x}_t {\\bf W}_{ig} + {\\boldsymbol h}_{t-1} {\\bf W}_{hg}+ {\\boldsymbol b}_{ig}+{\\boldsymbol b}_{hg})$"
   ]
  },
  {
   "cell_type": "markdown",
   "id": "75e82b46-2fce-40fe-a1ac-302f6d9b3c7e",
   "metadata": {},
   "source": [
    "`-` ${\\boldsymbol c}_t$ 특징: ${\\boldsymbol g}_t$와 매우 비슷하지만 약간 다른값을 가진다. 그래서 ${\\boldsymbol g}_t$와는 달리 -1,1 이외의 값도 종종 등장. "
   ]
  },
  {
   "cell_type": "code",
   "execution_count": 249,
   "id": "5411fc29-dfec-4612-a321-5b3ea35a73c1",
   "metadata": {},
   "outputs": [
    {
     "name": "stdout",
     "output_type": "stream",
     "text": [
      "first row: gt=tensor([ 0.9999, -0.9999]), ct=tensor([ 0.9647, -0.9984])\n",
      "second row: gt=tensor([ 0.9970, -0.9554]), ct=tensor([ 0.3592, -0.9373])\n"
     ]
    }
   ],
   "source": [
    "print(\"first row: gt={}, ct={}\".format(g[-8].data, cell[-8].data))\n",
    "print(\"second row: gt={}, ct={}\".format(g[-7].data, cell[-7].data))\n",
    "#g[-7], cell[-7]"
   ]
  },
  {
   "cell_type": "markdown",
   "id": "0239dac9-39c3-405f-9f3c-72ef2944ccba",
   "metadata": {},
   "source": [
    "`-` ${\\boldsymbol h}_t$ 특징: (1) ${\\boldsymbol c}_t$의 느낌이 있음 하지만 약간의 변형이 있음. (2) -1~1 사이에의 값을 훨씬 다양하게 가진다. (tanh때문)"
   ]
  },
  {
   "cell_type": "code",
   "execution_count": 251,
   "id": "f5361016-3b77-4711-9447-686c1051b3ed",
   "metadata": {},
   "outputs": [
    {
     "name": "stdout",
     "output_type": "stream",
     "text": [
      "first row: gt=tensor([ 0.9999, -0.9999]), ct=tensor([ 0.9647, -0.9984]), ht=tensor([ 0.7370, -0.3323])\n",
      "second row: gt=tensor([ 0.9970, -0.9554]), ct=tensor([ 0.3592, -0.9373]), ht=tensor([ 0.0604, -0.6951])\n"
     ]
    }
   ],
   "source": [
    "print(\"first row: gt={}, ct={}, ht={}\".format(g[-8].data, cell[-8].data,h[-8].data))\n",
    "print(\"second row: gt={}, ct={}, ht={}\".format(g[-7].data, cell[-7].data,h[-7].data))\n",
    "#g[-7], cell[-7]"
   ]
  },
  {
   "cell_type": "markdown",
   "id": "64c8c44c-6751-43b9-8586-3bac9a43d0e1",
   "metadata": {},
   "source": [
    "`-` 예전의문 해결\n",
    "- 실험적으로 살펴보니 LSTM이 RNN보다 장기기억에 유리했음.\n",
    "- 그 이유: RNN은 ${\\boldsymbol h}_t$의 값이 -1 혹은 1로 결정되는 경우가 많았음. 그러나 경우에 따라서는 ${\\boldsymbol h}_t$이 -1~1의 값을 가지는 것이 문맥적 뉘앙스를 포착하기에는 유리한데 LSTM이 이러한 방식으로 학습되는 경우가 많았음. \n",
    "- 왜 LSTM의 ${\\boldsymbol h}_t$은 -1,1 이외의 값을 쉽게 가질 수 있는가? \n",
    "  - (1) gate들의 역할 \n",
    "  - (2) 마지막에 취해지는 tanh 때문 "
   ]
  },
  {
   "cell_type": "markdown",
   "id": "de63a0af-667e-49e0-a6ca-172dcc4e2ce3",
   "metadata": {},
   "source": [
    "### LSTM의 알고리즘 리뷰 I (수식위주)"
   ]
  },
  {
   "cell_type": "markdown",
   "id": "42659c0e-403a-4a2c-8098-7479f12a951c",
   "metadata": {},
   "source": [
    "> **(step1)** calculate ${\\tt ifgo}$"
   ]
  },
  {
   "cell_type": "markdown",
   "id": "269fa103-a8f0-415b-8783-5ccb949ef64f",
   "metadata": {},
   "source": [
    "${\\tt ifgo} = {\\boldsymbol x}_t  \\big[{\\bf W}_{ii} | {\\bf W}_{if}| {\\bf W}_{ig} |{\\bf W}_{io}\\big] + {\\boldsymbol h}_{t-1}  \\big[ {\\bf W}_{hi}|{\\bf W}_{hf} |{\\bf W}_{hg} | {\\bf W}_{ho} \\big] + bias$\n",
    "\n",
    "$=\\big[{\\boldsymbol x}_t{\\bf W}_{ii} + {\\boldsymbol h}_{t-1}{\\bf W}_{hi} ~\\big|~ {\\boldsymbol x}_t{\\bf W}_{if}+ {\\boldsymbol h}_{t-1}{\\bf W}_{hf}~ \\big|~ {\\boldsymbol x}_t{\\bf W}_{ig} + {\\boldsymbol h}_{t-1}{\\bf W}_{hg}  ~\\big|~ {\\boldsymbol x}_t{\\bf W}_{io} + {\\boldsymbol h}_{t-1}{\\bf W}_{ho} \\big] + bias$"
   ]
  },
  {
   "cell_type": "markdown",
   "id": "817bed7a-55f4-42a8-b23c-7e92f4b88b1a",
   "metadata": {},
   "source": [
    "참고: 위의 수식은 아래코드에 해당하는 부분\n",
    "\n",
    "```Python\n",
    "ifgo = xt @ lstm_cell.weight_ih.T + ht @ lstm_cell.weight_hh.T + lstm_cell.bias_ih + lstm_cell.bias_hh\n",
    "```"
   ]
  },
  {
   "cell_type": "markdown",
   "id": "e4ee4294-f4de-46e7-9d49-33ce32916659",
   "metadata": {},
   "source": [
    "> **(step2)** decompose ${\\tt ifgo}$ and get ${\\boldsymbol i}_t$, ${\\boldsymbol f}_t$, ${\\boldsymbol g}_t$, ${\\boldsymbol o}_t$"
   ]
  },
  {
   "cell_type": "markdown",
   "id": "8959840e-9e17-4c67-b90d-fc4bd0eb1195",
   "metadata": {},
   "source": [
    "${\\boldsymbol i}_t = \\sigma({\\boldsymbol x}_t {\\bf W}_{ii} + {\\boldsymbol h}_{t-1} {\\bf W}_{hi} +bias )$ "
   ]
  },
  {
   "cell_type": "markdown",
   "id": "ce22f25e-d08a-4517-be00-b581809d3bbd",
   "metadata": {},
   "source": [
    "${\\boldsymbol f}_t = \\sigma({\\boldsymbol x}_t {\\bf W}_{if} + {\\boldsymbol h}_{t-1} {\\bf W}_{hf} +bias )$ "
   ]
  },
  {
   "cell_type": "markdown",
   "id": "29785c55-dd2e-48ab-bcbc-ab97dd94e8fc",
   "metadata": {},
   "source": [
    "${\\boldsymbol g}_t = \\tanh({\\boldsymbol x}_t {\\bf W}_{ig} + {\\boldsymbol h}_{t-1} {\\bf W}_{hg} +bias )$ "
   ]
  },
  {
   "cell_type": "markdown",
   "id": "8cfd4110-3876-413a-9944-7b209a0d7d4e",
   "metadata": {},
   "source": [
    "${\\boldsymbol o}_t = \\sigma({\\boldsymbol x}_t {\\bf W}_{io} + {\\boldsymbol h}_{t-1} {\\bf W}_{ho} +bias )$ "
   ]
  },
  {
   "cell_type": "markdown",
   "id": "1baf16dc-6583-462f-ac0b-980fbe2dbfbd",
   "metadata": {},
   "source": [
    "> **(step3)** calculate ${\\boldsymbol c}_t$ and ${\\boldsymbol h}_t$"
   ]
  },
  {
   "cell_type": "markdown",
   "id": "49d59a21-391b-4e14-bd65-36a453f929c0",
   "metadata": {},
   "source": [
    "${\\boldsymbol c}_t = {\\boldsymbol i}_t \\odot {\\boldsymbol g}_t+ {\\boldsymbol f}_t \\odot {\\boldsymbol c}_{t-1}$"
   ]
  },
  {
   "cell_type": "markdown",
   "id": "0b22263f-472b-4f99-a8cd-d26a37e96fb2",
   "metadata": {},
   "source": [
    "${\\boldsymbol h}_t = \\tanh({\\boldsymbol o}_t \\odot {\\boldsymbol c}_t)$"
   ]
  },
  {
   "cell_type": "markdown",
   "id": "31f63182-8435-482a-aa53-cf7087180883",
   "metadata": {},
   "source": [
    "### LSTM의 알고리즘 리뷰 II (느낌위주)"
   ]
  },
  {
   "cell_type": "markdown",
   "id": "4ec64a2e-7c50-4334-b678-c0efb2d23061",
   "metadata": {},
   "source": [
    "`-` 느낌1: RNN이 콩물에서 간장을 한번에 숙성시키는 방법이라면 LSTM은 콩물에서 간장을 3차로 나누어 숙성하는 느낌이다. \n",
    "- 콩물: ${\\boldsymbol x}_t$\n",
    "- 1차숙성: ${\\boldsymbol g}_t$\n",
    "- 2차숙성: ${\\boldsymbol c}_t$ \n",
    "- 3차숙성: ${\\boldsymbol h}_t$ "
   ]
  },
  {
   "cell_type": "markdown",
   "id": "0c25378b-88a5-49c8-817b-368dbf4d6a6e",
   "metadata": {},
   "source": [
    "`-` 느낌2: ${\\boldsymbol g}_t$에 대하여\n",
    "- 계산방법: ${\\boldsymbol x}_t$와 ${\\boldsymbol h}_{t-1}$를 ${\\bf W}_{ig}, {\\bf W}_{hg}$를 이용해 선형결합하고 $\\tanh$를 취한 결과\n",
    "- RNN에서 간장을 만들던 그 수식에서 $h_t$를 $g_t$로 바꾼것 \n",
    "- 크게 2가지의 의미를 가진다 (1) 과거와 현재의 결합 (2) 활성화함수 $\\tanh$를 적용 "
   ]
  },
  {
   "cell_type": "markdown",
   "id": "7c8e6567-0f80-4357-8048-a6d42945baea",
   "metadata": {},
   "source": [
    "`-` 느낌3: ${\\boldsymbol c}_t$에 대하여 (1)\n",
    "- 계산방법: ${\\boldsymbol g}_{t}$와 ${\\boldsymbol c}_{t-1}$를 요소별로 선택하고 더하는 과정 \n",
    "- $g_t$는 (1) 과거와 현재의 결합 (2) 활성화함수 tanh를 적용으로 나누어지는데 이중에서 (1) 과거와 현재의 정보를 결합하는 과정만 해당한다. 차이점은 요소별 선택 후 덧셈\n",
    "- 이러한 결합을 쓰는 이유? 게이트를 이용하여 과거와 현재의 정보를 제어 (일반적인 설명, 솔직히 내가 좋아하는 설명은 아님)"
   ]
  },
  {
   "cell_type": "markdown",
   "id": "d44944c0-4d27-4c06-8d15-9fea911b6e87",
   "metadata": {},
   "source": [
    "`-` 느낌4: ${\\boldsymbol c}_t$에 대하여 (2) \n",
    "  - ${\\boldsymbol c}_t$는 왜 과거와 현재의 정보를 제어한다고 볼 수 있는가? "
   ]
  },
  {
   "cell_type": "markdown",
   "id": "7a584f55-a829-43d0-84f3-b7984cb8040f",
   "metadata": {},
   "source": [
    "$t=1$ 시점 계산과정관찰"
   ]
  },
  {
   "cell_type": "code",
   "execution_count": 266,
   "id": "51c3074a-c0f6-4215-b172-3ac2077a8c0e",
   "metadata": {},
   "outputs": [
    {
     "data": {
      "text/plain": [
       "(tensor([0.9065, 0.9999], grad_fn=<SelectBackward0>),\n",
       " tensor([0.9931, 0.9999], grad_fn=<SelectBackward0>),\n",
       " tensor([0.9931, 0.0014], grad_fn=<SelectBackward0>),\n",
       " tensor([ 0.3592, -0.9373], grad_fn=<SelectBackward0>))"
      ]
     },
     "execution_count": 266,
     "metadata": {},
     "output_type": "execute_result"
    }
   ],
   "source": [
    "input_gate[1],g[1],forget_gate[1],cell[0]"
   ]
  },
  {
   "cell_type": "markdown",
   "id": "770edf5a-649d-4828-b309-12e1aad51b8d",
   "metadata": {},
   "source": [
    "$[0.9,1.0] \\odot {\\boldsymbol g}_t + [1.0,0.0] \\odot {\\boldsymbol c}_{t-1}$"
   ]
  },
  {
   "cell_type": "markdown",
   "id": "042dc177-a9d8-4557-8782-4d2e2ed93781",
   "metadata": {},
   "source": [
    "- forget_gate는 $c_{t-1}$의 첫번째 원소는 기억하고, 두번째 원소는 잊으라고 말하고 있음 // forget_gate는 과거($c_{t-1}$)의 정보를 얼마나 잊을지 (= 얼마나 기억할지) 를 결정한다고 해석할 수 있다. \n",
    "- input_gate는 $g_{t}$의 첫번째 원소와 두번째 원소를 모두 기억하되 두번째 원소를 좀 더 중요하게 기억하라고 말하고 있음 // input_gate는 현재($g_{t}$)의 정보를 얼만큼 강하게 반영할지 결정한다. \n",
    "- 이 둘을 조합하면 ${\\boldsymbol c}_t$가 현재와 과거의 정보중 어떠한 정보를 더 중시하면서 기억할지 결정한다고 볼 수 있다. "
   ]
  },
  {
   "cell_type": "markdown",
   "id": "17d4fff7-f123-4efc-ac87-882ba3c95810",
   "metadata": {},
   "source": [
    "> 이 설명은 제가 좀 싫어해요, 싫어하는 이유는 (1) \"기억의 정도를 조절한다\"와 \"망각의 정도를 조절한다\"는 사실 같은말임. 그래서 forget_gate의 용어가 모호함. (2) 기억과 망각을 조정하는 방식으로 꼭 gate의 개념을 사용해야 하는건 아님"
   ]
  },
  {
   "cell_type": "markdown",
   "id": "97266b33-3628-4978-91a5-c1437601632e",
   "metadata": {},
   "source": [
    "`-` 느낌5: ${\\boldsymbol c}_t$에 대하여 (3) \n",
    "\n",
    "- 사실상 LSTM 알고리즘의 꽃이라 할 수 있음. \n",
    "- LSTM은 long short term memory의 약자임. 기존의 RNN은 장기기억을 활용함에 약점이 있는데 LSTM은 단기기억/장기기억 모두 잘 활용함. \n",
    "- LSTM이 장기기억을 잘 활용하는 비법은 바로 ${\\boldsymbol c}_t$에 있다."
   ]
  },
  {
   "cell_type": "markdown",
   "id": "f6f2a89e-eaf5-4e55-b8f5-cf4671c202e4",
   "metadata": {},
   "source": [
    "`-` 느낌6: ${\\boldsymbol h}_t$에 대하여\n",
    "- 계산방법: $\\tanh({\\boldsymbol c}_t)$를 요소별로 선택 "
   ]
  },
  {
   "cell_type": "markdown",
   "id": "f010f9fc-e505-4539-9e44-ee3e443127eb",
   "metadata": {},
   "source": [
    "`-` RNN, LSTM의 변수들 비교 테이블 "
   ]
  },
  {
   "cell_type": "markdown",
   "id": "3ab5aa84-0049-4233-80a3-9e1ac8434302",
   "metadata": {},
   "source": [
    "||과거정보|현재정보|과거와 현재의 결합방식|활성화|느낌|비고|\n",
    "|:-:|:-:|:-:|:-:|:-:|:-:|:-:|\n",
    "|RNN-${\\boldsymbol h}_t$|${\\boldsymbol h}_{t-1}$|${\\boldsymbol x}_t$|$\\times$ $\\to$ $+$|$\\tanh$|간장|\n",
    "|||||||\n",
    "|LSTM-${\\boldsymbol g}_t$|${\\boldsymbol h}_{t-1}$|${\\boldsymbol x}_t$|$\\times$ $\\to$ $+$|$\\tanh$|1차간장|\n",
    "|LSTM-${\\boldsymbol c}_t$|${\\boldsymbol c}_{t-1}$|${\\boldsymbol g}_t$|$\\odot$ $\\to$ $+$ |None|2차간장|gate를 열림정도를 판단할때 ${\\boldsymbol x}_t$와 ${\\boldsymbol h}_{t-1}$을 이용|\n",
    "|LSTM-${\\boldsymbol h}_t$|None|${\\boldsymbol c}_t$|None|$\\tanh$, $\\odot$|3차간장|gate를 열림정도를 판단할때 ${\\boldsymbol x}_t$와 ${\\boldsymbol h}_{t-1}$을 이용|\n"
   ]
  },
  {
   "cell_type": "markdown",
   "id": "72af53e5-75cd-4410-83f7-8fc13c25573c",
   "metadata": {},
   "source": [
    "- RNN은 기억할 과거정보가 ${\\boldsymbol h}_{t-1}$ 하나이지만 LSTM은 ${\\boldsymbol c}_{t-1}$, ${\\boldsymbol h}_{t-1}$ 2개이다. "
   ]
  },
  {
   "cell_type": "markdown",
   "id": "4ca779c7-969f-4b13-837a-cbdc0829673b",
   "metadata": {},
   "source": [
    "`-` 알고리즘리뷰 : \n",
    "- 콩물,과거3차간장 $\\overset{\\times,+,\\tanh}{\\longrightarrow}$ 현재1차간장\n",
    "- 현재1차간장, 과거2차간장 $\\overset{\\odot,+,\\tanh}{\\longrightarrow}$ 현재2차간장\n",
    "- 현재2차간장 $\\overset{\\tanh,\\odot}{\\longrightarrow}$ 현재3차간장"
   ]
  },
  {
   "cell_type": "markdown",
   "id": "0ca8679d-6e18-4449-af3b-6c49d1dd583c",
   "metadata": {},
   "source": [
    "### LSTM이 강한이유 "
   ]
  },
  {
   "cell_type": "markdown",
   "id": "0b4df91d-a26b-4318-be8c-adf0b8e4a5c3",
   "metadata": {},
   "source": [
    "`-` LSTM이 장기기억에 유리함. 그 이유는 input, forget, output gate 들이 과거기억을 위한 역할을 하기 때문. \n",
    "- 비판: 아키텍처에 대한 이론적 근거는 없음. 장기기억을 위하여 꼭 LSTM같은 구조일 필요는 없음. (왜 3차간장을 만들때 tanh를 써야하는지? 게이트는 꼭3개이어야 하는지?)"
   ]
  },
  {
   "cell_type": "markdown",
   "id": "65112335-157a-42bf-8a9b-504d84562097",
   "metadata": {},
   "source": [
    "`-` 저는 사실 아까 살펴본 아래의 이유로 이해하고 있습니다. \n",
    "- 실험적으로 살펴보니 LSTM이 RNN보다 장기기억에 유리했음.\n",
    "- 그 이유: RRN은 ${\\boldsymbol h}_t$의 값이 -1 혹은 1로 결정되는 경우가 많았음. 그러나 경우에 따라서는 ${\\boldsymbol h}_t$이 -1~1의 값을 가지는 것이 문맥적 뉘앙스를 포착하기에는 유리한데 LSTM이 이러한 방식으로 학습되는 경우가 많았음. \n",
    "- 왜 LSTM의 ${\\boldsymbol h}_t$은 -1,1 이외의 값을 쉽게 가질 수 있는가? (1) gate들의 역할 (2) 마지막에 취해지는 tanh 때문 "
   ]
  }
 ],
 "metadata": {
  "kernelspec": {
   "display_name": "Python 3 (ipykernel)",
   "language": "python",
   "name": "python3"
  },
  "language_info": {
   "codemirror_mode": {
    "name": "ipython",
    "version": 3
   },
   "file_extension": ".py",
   "mimetype": "text/x-python",
   "name": "python",
   "nbconvert_exporter": "python",
   "pygments_lexer": "ipython3",
   "version": "3.9.12"
  }
 },
 "nbformat": 4,
 "nbformat_minor": 5
}
