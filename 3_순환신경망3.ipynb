{
 "cells": [
  {
   "cell_type": "code",
   "execution_count": 1,
   "id": "2eece48e-5748-475e-a5a9-a7060f5a8fdf",
   "metadata": {
    "id": "2eece48e-5748-475e-a5a9-a7060f5a8fdf"
   },
   "outputs": [],
   "source": [
    "import torch\n",
    "import numpy as np\n",
    "import pandas as pd\n",
    "import matplotlib.pyplot as plt\n",
    "import time "
   ]
  },
  {
   "cell_type": "code",
   "execution_count": 2,
   "id": "c06f7544-de47-46e5-9956-059b626e4f0d",
   "metadata": {
    "id": "c06f7544-de47-46e5-9956-059b626e4f0d"
   },
   "outputs": [],
   "source": [
    "def f(txt,mapping):\n",
    "    return [mapping[key] for key in txt] \n",
    "soft = torch.nn.Softmax(dim=1)"
   ]
  },
  {
   "cell_type": "markdown",
   "id": "7a44abfb-8416-404c-86fa-40c0f979d47d",
   "metadata": {
    "id": "7a44abfb-8416-404c-86fa-40c0f979d47d",
    "jp-MarkdownHeadingCollapsed": true,
    "tags": []
   },
   "source": [
    "## 예비학습: `net.parameters()`의 의미 "
   ]
  },
  {
   "cell_type": "markdown",
   "id": "895f4d74-8598-41a8-aea4-30417986626b",
   "metadata": {
    "id": "895f4d74-8598-41a8-aea4-30417986626b"
   },
   "source": [
    "9월27일 강의노트 중 \"`net.parameters()`의 의미?\"를 설명한다. "
   ]
  },
  {
   "cell_type": "markdown",
   "id": "8beb271b-c401-4423-b2a2-74c31f8c938e",
   "metadata": {
    "id": "8beb271b-c401-4423-b2a2-74c31f8c938e"
   },
   "source": [
    "`-` iterator, generator의 개념필요 \n",
    "- https://guebin.github.io/IP2022/2022/06/06/(14주차)-6월6일.html, 클래스공부 8단계 참고 \n"
   ]
  },
  {
   "cell_type": "markdown",
   "id": "4f537215-aee0-4f34-af4e-0fa2c226f95d",
   "metadata": {
    "id": "4f537215-aee0-4f34-af4e-0fa2c226f95d"
   },
   "source": [
    "`-` 탐구시작: 네트워크 생성 "
   ]
  },
  {
   "cell_type": "code",
   "execution_count": null,
   "id": "0539ceed-9598-4835-85da-c68ed84df70d",
   "metadata": {
    "id": "0539ceed-9598-4835-85da-c68ed84df70d",
    "outputId": "c81a1cc9-a4a3-4ae5-bc96-3c1ea925a822"
   },
   "outputs": [
    {
     "data": {
      "text/plain": [
       "Parameter containing:\n",
       "tensor([[0.4607]], requires_grad=True)"
      ]
     },
     "execution_count": 186,
     "metadata": {},
     "output_type": "execute_result"
    }
   ],
   "source": [
    "net = torch.nn.Linear(in_features=1,out_features=1)\n",
    "net.weight"
   ]
  },
  {
   "cell_type": "code",
   "execution_count": null,
   "id": "e0d984a8-2e89-4ec3-9868-1039d7aeea57",
   "metadata": {
    "id": "e0d984a8-2e89-4ec3-9868-1039d7aeea57",
    "outputId": "7c8e2116-7521-41ad-be51-511b1b4d9694"
   },
   "outputs": [
    {
     "data": {
      "text/plain": [
       "Parameter containing:\n",
       "tensor([-0.1656], requires_grad=True)"
      ]
     },
     "execution_count": 187,
     "metadata": {},
     "output_type": "execute_result"
    }
   ],
   "source": [
    "net.bias"
   ]
  },
  {
   "cell_type": "markdown",
   "id": "0a621e92-6d66-4bf7-a161-5b7d56ffe5b3",
   "metadata": {
    "id": "0a621e92-6d66-4bf7-a161-5b7d56ffe5b3"
   },
   "source": [
    "`-` torch.optim.SGD? 를 확인하면 params에 대한설명에 아래와 같이 되어있음 \n",
    "\n",
    "```\n",
    "params (iterable): iterable of parameters to optimize or dicts defining\n",
    "        parameter groups\n",
    "```"
   ]
  },
  {
   "cell_type": "markdown",
   "id": "28ec533c-fbad-4fa4-9569-de4cbcc5ee1d",
   "metadata": {
    "id": "28ec533c-fbad-4fa4-9569-de4cbcc5ee1d"
   },
   "source": [
    "`-` 설명을 읽어보면 params에 iterable object를 넣으라고 되어있음 (iterable object는 숨겨진 명령어로 `__iter__`를 가지고 있는 오브젝트를 의미)"
   ]
  },
  {
   "cell_type": "code",
   "execution_count": null,
   "id": "b6409ab2-6a69-47e3-9d96-4ceb2a62e3e9",
   "metadata": {
    "id": "b6409ab2-6a69-47e3-9d96-4ceb2a62e3e9",
    "outputId": "423f4031-ee6a-4578-ede0-fc9d748f7dfc"
   },
   "outputs": [
    {
     "data": {
      "text/plain": [
       "{'__iter__'}"
      ]
     },
     "execution_count": 188,
     "metadata": {},
     "output_type": "execute_result"
    }
   ],
   "source": [
    "set(dir(net.parameters())) & {'__iter__'}"
   ]
  },
  {
   "cell_type": "markdown",
   "id": "3d5b3c50-ad2c-4d49-a5f1-ec9b4df6c79e",
   "metadata": {
    "id": "3d5b3c50-ad2c-4d49-a5f1-ec9b4df6c79e"
   },
   "source": [
    "`-` 무슨의미? "
   ]
  },
  {
   "cell_type": "code",
   "execution_count": null,
   "id": "1a8913a2-61a6-4a19-b839-910b9688a7c1",
   "metadata": {
    "id": "1a8913a2-61a6-4a19-b839-910b9688a7c1",
    "outputId": "e00e0758-bd32-4f01-b7d3-5039bebcf61e"
   },
   "outputs": [
    {
     "name": "stdout",
     "output_type": "stream",
     "text": [
      "Parameter containing:\n",
      "tensor([[0.4607]], requires_grad=True)\n",
      "Parameter containing:\n",
      "tensor([-0.1656], requires_grad=True)\n"
     ]
    }
   ],
   "source": [
    "for param in net.parameters():\n",
    "    print(param)"
   ]
  },
  {
   "cell_type": "markdown",
   "id": "eb553ff3-d887-475d-9002-84f8426fd31c",
   "metadata": {
    "id": "eb553ff3-d887-475d-9002-84f8426fd31c"
   },
   "source": [
    "`-` 그냥 이건 이런느낌인데? "
   ]
  },
  {
   "cell_type": "code",
   "execution_count": null,
   "id": "29a0a97c-2d89-41bb-8238-490b814b647f",
   "metadata": {
    "id": "29a0a97c-2d89-41bb-8238-490b814b647f",
    "outputId": "8dfc27b6-c5d4-4d90-e673-0538a9896666"
   },
   "outputs": [
    {
     "name": "stdout",
     "output_type": "stream",
     "text": [
      "Parameter containing:\n",
      "tensor([[0.4607]], requires_grad=True)\n",
      "Parameter containing:\n",
      "tensor([-0.1656], requires_grad=True)\n"
     ]
    }
   ],
   "source": [
    "for param in [net.weight,net.bias]:\n",
    "    print(param)"
   ]
  },
  {
   "cell_type": "markdown",
   "id": "667202d4-9b87-4419-9c45-9d61091e60ea",
   "metadata": {
    "id": "667202d4-9b87-4419-9c45-9d61091e60ea"
   },
   "source": [
    "결론: `net.parameters()`는 net오브젝트에서 학습할 파라메터를 모두 모아 리스트같은 iterable object로 만드는 함수라 이해할 수 있다. "
   ]
  },
  {
   "cell_type": "markdown",
   "id": "84497c55-40c3-4c44-85a2-55c8ec9cc8a4",
   "metadata": {
    "id": "84497c55-40c3-4c44-85a2-55c8ec9cc8a4"
   },
   "source": [
    "`-` 응용예제1"
   ]
  },
  {
   "cell_type": "code",
   "execution_count": null,
   "id": "c22dc68d-a65b-405a-b05b-b346b0cb09dc",
   "metadata": {
    "id": "c22dc68d-a65b-405a-b05b-b346b0cb09dc"
   },
   "outputs": [],
   "source": [
    "df = pd.read_csv(\"https://raw.githubusercontent.com/guebin/DL2022/master/_notebooks/2022-09-22-regression.csv\") \n",
    "x=torch.tensor(df.x).float().reshape(100,1)\n",
    "y=torch.tensor(df.y).float().reshape(100,1)"
   ]
  },
  {
   "cell_type": "code",
   "execution_count": null,
   "id": "7c8795b3-23f6-4b5d-b0f1-29e53a038a84",
   "metadata": {
    "id": "7c8795b3-23f6-4b5d-b0f1-29e53a038a84"
   },
   "outputs": [],
   "source": [
    "b = torch.tensor(-5.0,requires_grad=True)\n",
    "w = torch.tensor(10.0,requires_grad=True)\n",
    "optimizr = torch.optim.SGD([b,w],lr=1/10) ## 이렇게 전달하면 됩니당!!"
   ]
  },
  {
   "cell_type": "code",
   "execution_count": null,
   "id": "6d3e86dd-4b82-4b9b-b48f-b9fe8aba9a27",
   "metadata": {
    "id": "6d3e86dd-4b82-4b9b-b48f-b9fe8aba9a27",
    "outputId": "bb6466b6-56f2-4072-d636-e145eec4987a"
   },
   "outputs": [
    {
     "data": {
      "text/plain": [
       "[<matplotlib.lines.Line2D at 0x7f99cc3e9b10>]"
      ]
     },
     "execution_count": 197,
     "metadata": {},
     "output_type": "execute_result"
    },
    {
     "data": {
      "image/png": "[encoded data removed]",
      "text/plain": [
       "<Figure size 432x288 with 1 Axes>"
      ]
     },
     "metadata": {
      "needs_background": "light"
     },
     "output_type": "display_data"
    }
   ],
   "source": [
    "plt.plot(x,y,'o')\n",
    "plt.plot(x,(w*x+b).data,'--')"
   ]
  },
  {
   "cell_type": "code",
   "execution_count": null,
   "id": "f727a7e0-5ff1-44a1-8eb9-6d8c8570b242",
   "metadata": {
    "id": "f727a7e0-5ff1-44a1-8eb9-6d8c8570b242"
   },
   "outputs": [],
   "source": [
    "for epoc in range(30):\n",
    "    ## step1\n",
    "    yhat = b+ w*x \n",
    "    ## step2\n",
    "    loss = torch.mean((y-yhat)**2)\n",
    "    ## step3\n",
    "    loss.backward()\n",
    "    ## step4 \n",
    "    optimizr.step()\n",
    "    optimizr.zero_grad()"
   ]
  },
  {
   "cell_type": "code",
   "execution_count": null,
   "id": "9c945e57-3556-4a0e-b71a-4d3d7734704a",
   "metadata": {
    "id": "9c945e57-3556-4a0e-b71a-4d3d7734704a",
    "outputId": "3368af57-23ef-41a9-8df4-d81e1d453dbd"
   },
   "outputs": [
    {
     "data": {
      "text/plain": [
       "[<matplotlib.lines.Line2D at 0x7f99cc2fe310>]"
      ]
     },
     "execution_count": 199,
     "metadata": {},
     "output_type": "execute_result"
    },
    {
     "data": {
      "image/png": "[encoded data removed]",
      "text/plain": [
       "<Figure size 432x288 with 1 Axes>"
      ]
     },
     "metadata": {
      "needs_background": "light"
     },
     "output_type": "display_data"
    }
   ],
   "source": [
    "plt.plot(x,y,'o')\n",
    "plt.plot(x,(w*x+b).data,'--')"
   ]
  },
  {
   "cell_type": "markdown",
   "id": "b76630ee-fcb8-4bf5-8d65-e0f1cd9e678a",
   "metadata": {
    "id": "b76630ee-fcb8-4bf5-8d65-e0f1cd9e678a"
   },
   "source": [
    "`-` 응용예제2"
   ]
  },
  {
   "cell_type": "code",
   "execution_count": null,
   "id": "1b14e5f4-42c6-4581-af46-7a1cdf4e79b4",
   "metadata": {
    "id": "1b14e5f4-42c6-4581-af46-7a1cdf4e79b4"
   },
   "outputs": [],
   "source": [
    "df = pd.read_csv(\"https://raw.githubusercontent.com/guebin/DL2022/master/_notebooks/2022-09-22-regression.csv\") \n",
    "x = torch.tensor(df.x).float().reshape(100,1)\n",
    "y = torch.tensor(df.y).float().reshape(100,1)\n",
    "X = torch.concat([torch.ones_like(x),x],axis=1)"
   ]
  },
  {
   "cell_type": "code",
   "execution_count": null,
   "id": "df8d7e2c-ff78-4c5f-a6c8-2e3cc9beff5e",
   "metadata": {
    "id": "df8d7e2c-ff78-4c5f-a6c8-2e3cc9beff5e"
   },
   "outputs": [],
   "source": [
    "What = torch.tensor([[-5.0],[10.0]],requires_grad=True)\n",
    "optimizr = torch.optim.SGD([What],lr=1/10) # What은 iterable 하지 않지만 [What]은 iterable 함"
   ]
  },
  {
   "cell_type": "code",
   "execution_count": null,
   "id": "848de8aa-c650-4017-b812-2bc7ef2e9d83",
   "metadata": {
    "id": "848de8aa-c650-4017-b812-2bc7ef2e9d83",
    "outputId": "ce0d9691-84b8-4231-b665-7437ab87ffb6"
   },
   "outputs": [
    {
     "data": {
      "text/plain": [
       "tensor([[-5.],\n",
       "        [10.]], requires_grad=True)"
      ]
     },
     "execution_count": 203,
     "metadata": {},
     "output_type": "execute_result"
    }
   ],
   "source": [
    "What"
   ]
  },
  {
   "cell_type": "code",
   "execution_count": null,
   "id": "2b01ba7b-e728-4889-88a3-4c3c85156ca2",
   "metadata": {
    "id": "2b01ba7b-e728-4889-88a3-4c3c85156ca2",
    "outputId": "666eaf51-cb20-42a3-d374-d81e44f5d67a"
   },
   "outputs": [
    {
     "data": {
      "text/plain": [
       "[<matplotlib.lines.Line2D at 0x7f99cc2c4790>]"
      ]
     },
     "execution_count": 204,
     "metadata": {},
     "output_type": "execute_result"
    },
    {
     "data": {
      "image/png": "[encoded data removed]",
      "text/plain": [
       "<Figure size 432x288 with 1 Axes>"
      ]
     },
     "metadata": {
      "needs_background": "light"
     },
     "output_type": "display_data"
    }
   ],
   "source": [
    "plt.plot(x,y,'o')\n",
    "plt.plot(x,(X@What).data,'--')"
   ]
  },
  {
   "cell_type": "code",
   "execution_count": null,
   "id": "7a7973f0-ce2b-45dd-bc4b-0be702a20941",
   "metadata": {
    "id": "7a7973f0-ce2b-45dd-bc4b-0be702a20941"
   },
   "outputs": [],
   "source": [
    "for epoc in range(30):\n",
    "    ## step1\n",
    "    yhat = X@What \n",
    "    ## step2 \n",
    "    loss = torch.mean((y-yhat)**2)\n",
    "    ## step3\n",
    "    loss.backward()\n",
    "    ## step4 \n",
    "    optimizr.step()\n",
    "    optimizr.zero_grad() "
   ]
  },
  {
   "cell_type": "code",
   "execution_count": null,
   "id": "c5e1d85d-c1b6-4eb2-bea0-5ce2c97d9225",
   "metadata": {
    "id": "c5e1d85d-c1b6-4eb2-bea0-5ce2c97d9225",
    "outputId": "6f531e89-5e27-4ca0-817a-b01aefafd320"
   },
   "outputs": [
    {
     "data": {
      "text/plain": [
       "[<matplotlib.lines.Line2D at 0x7f99cc2907d0>]"
      ]
     },
     "execution_count": 206,
     "metadata": {},
     "output_type": "execute_result"
    },
    {
     "data": {
      "image/png": "[encoded data removed]",
      "text/plain": [
       "<Figure size 432x288 with 1 Axes>"
      ]
     },
     "metadata": {
      "needs_background": "light"
     },
     "output_type": "display_data"
    }
   ],
   "source": [
    "plt.plot(x,y,'o')\n",
    "plt.plot(x,(X@What).data,'--')"
   ]
  },
  {
   "cell_type": "markdown",
   "id": "5555a252-a3eb-4bab-9175-3f05c251b179",
   "metadata": {
    "id": "5555a252-a3eb-4bab-9175-3f05c251b179"
   },
   "source": [
    "## Exam4: AbAcAd"
   ]
  },
  {
   "cell_type": "markdown",
   "id": "7a6e668d-dfe1-4b52-9347-93bb62db8ac1",
   "metadata": {
    "id": "7a6e668d-dfe1-4b52-9347-93bb62db8ac1"
   },
   "source": [
    "### data"
   ]
  },
  {
   "cell_type": "markdown",
   "id": "dfb004f4-78fb-4011-96ee-d3e847476103",
   "metadata": {
    "id": "dfb004f4-78fb-4011-96ee-d3e847476103"
   },
   "source": [
    "`-` 기존의 정리방식"
   ]
  },
  {
   "cell_type": "code",
   "execution_count": 3,
   "id": "81f721ac-7bc9-41c6-b129-e00c1ce0e3eb",
   "metadata": {
    "id": "81f721ac-7bc9-41c6-b129-e00c1ce0e3eb",
    "outputId": "8354a894-3549-4da9-cee1-e632e91101d9"
   },
   "outputs": [
    {
     "data": {
      "text/plain": [
       "['A', 'b', 'A', 'c', 'A', 'd', 'A', 'b', 'A', 'c']"
      ]
     },
     "execution_count": 3,
     "metadata": {},
     "output_type": "execute_result"
    }
   ],
   "source": [
    "txt = list('AbAcAd')*100\n",
    "txt[:10]"
   ]
  },
  {
   "cell_type": "code",
   "execution_count": 4,
   "id": "3a6aa4b9-4bf1-4077-9568-ea4756fcdc7b",
   "metadata": {
    "id": "3a6aa4b9-4bf1-4077-9568-ea4756fcdc7b"
   },
   "outputs": [],
   "source": [
    "txt_x = txt[:-1]\n",
    "txt_y = txt[1:]"
   ]
  },
  {
   "cell_type": "code",
   "execution_count": 5,
   "id": "278974f0-0792-4712-b52e-2b6fc659d139",
   "metadata": {
    "id": "278974f0-0792-4712-b52e-2b6fc659d139",
    "outputId": "f2cec0db-6b73-40ca-f2ed-ac39cdb2a82d"
   },
   "outputs": [
    {
     "data": {
      "text/plain": [
       "(['A', 'b', 'A', 'c', 'A'], ['b', 'A', 'c', 'A', 'd'])"
      ]
     },
     "execution_count": 5,
     "metadata": {},
     "output_type": "execute_result"
    }
   ],
   "source": [
    "txt_x[:5],txt_y[:5]"
   ]
  },
  {
   "cell_type": "code",
   "execution_count": 6,
   "id": "a6f772ca-268e-4eb4-b29a-3d8d26375f48",
   "metadata": {
    "id": "a6f772ca-268e-4eb4-b29a-3d8d26375f48"
   },
   "outputs": [],
   "source": [
    "x = torch.tensor(f(txt_x,{'A':0,'b':1,'c':2,'d':3}))\n",
    "y = torch.tensor(f(txt_y,{'A':0,'b':1,'c':2,'d':3}))"
   ]
  },
  {
   "cell_type": "code",
   "execution_count": 7,
   "id": "6b2e005b-23b7-440b-abb7-a4ed9f45c7ff",
   "metadata": {
    "id": "6b2e005b-23b7-440b-abb7-a4ed9f45c7ff",
    "outputId": "27503fd5-7f24-4441-ac1a-f97f26b40b2d"
   },
   "outputs": [
    {
     "data": {
      "text/plain": [
       "(tensor([0, 1, 0, 2, 0, 3, 0, 1]), tensor([1, 0, 2, 0, 3, 0, 1, 0]))"
      ]
     },
     "execution_count": 7,
     "metadata": {},
     "output_type": "execute_result"
    }
   ],
   "source": [
    "x[:8],y[:8]"
   ]
  },
  {
   "cell_type": "markdown",
   "id": "5628f6fa-727b-4990-a23e-898ed9094893",
   "metadata": {
    "id": "5628f6fa-727b-4990-a23e-898ed9094893"
   },
   "source": [
    "`-` 이번엔 원핫인코딩형태까지 미리 정리하자. (임베딩 레이어 안쓸예정)"
   ]
  },
  {
   "cell_type": "code",
   "execution_count": 8,
   "id": "0f8acf01-ce7a-412d-b47d-07c8006eecbc",
   "metadata": {
    "id": "0f8acf01-ce7a-412d-b47d-07c8006eecbc"
   },
   "outputs": [],
   "source": [
    "x= torch.nn.functional.one_hot(x).float()\n",
    "y= torch.nn.functional.one_hot(y).float()"
   ]
  },
  {
   "cell_type": "code",
   "execution_count": 9,
   "id": "81df630f-2995-4dea-b9dd-67ca80d58587",
   "metadata": {
    "id": "81df630f-2995-4dea-b9dd-67ca80d58587",
    "outputId": "03a444c9-f225-4731-b399-4dc8c63dfb5c"
   },
   "outputs": [
    {
     "data": {
      "text/plain": [
       "(tensor([[1., 0., 0., 0.],\n",
       "         [0., 1., 0., 0.],\n",
       "         [1., 0., 0., 0.],\n",
       "         ...,\n",
       "         [1., 0., 0., 0.],\n",
       "         [0., 0., 1., 0.],\n",
       "         [1., 0., 0., 0.]]),\n",
       " tensor([[0., 1., 0., 0.],\n",
       "         [1., 0., 0., 0.],\n",
       "         [0., 0., 1., 0.],\n",
       "         ...,\n",
       "         [0., 0., 1., 0.],\n",
       "         [1., 0., 0., 0.],\n",
       "         [0., 0., 0., 1.]]))"
      ]
     },
     "execution_count": 9,
     "metadata": {},
     "output_type": "execute_result"
    }
   ],
   "source": [
    "x,y"
   ]
  },
  {
   "cell_type": "markdown",
   "id": "34425eb1-9ac4-4147-a6fa-cfa66ab992a1",
   "metadata": {
    "id": "34425eb1-9ac4-4147-a6fa-cfa66ab992a1"
   },
   "source": [
    "### 실패했던 풀이: 구현1"
   ]
  },
  {
   "cell_type": "markdown",
   "id": "05919b58-acb2-494b-880d-e5611f3d4b0c",
   "metadata": {
    "id": "05919b58-acb2-494b-880d-e5611f3d4b0c"
   },
   "source": [
    "`-` 저번시간의 실패한 풀이 \n",
    "\n",
    "```Python\n",
    "torch.manual_seed(43052)\n",
    "net = torch.nn.Sequential(\n",
    "    torch.nn.Embedding(num_embeddings=4,embedding_dim=2),\n",
    "    torch.nn.Tanh(),\n",
    "    torch.nn.Linear(in_features=2,out_features=4)\n",
    ")\n",
    "loss_fn = torch.nn.CrossEntropyLoss()\n",
    "optimizr = torch.optim.Adam(net.parameters())\n",
    "```"
   ]
  },
  {
   "cell_type": "markdown",
   "id": "34e666e0-3cef-4a80-ad4c-923710655709",
   "metadata": {
    "id": "34e666e0-3cef-4a80-ad4c-923710655709"
   },
   "source": [
    "`-` Tanh까지만 클래스로 바꾸어서 구현 \n",
    "- 클래스를 이용하는 방법: https://guebin.github.io/DL2022/2022/11/01/(9주차)-11월1일.html#로지스틱-모형을-이용한-풀이"
   ]
  },
  {
   "cell_type": "code",
   "execution_count": 21,
   "id": "bfd6c647-4079-43ac-b66a-452c434d20b1",
   "metadata": {
    "id": "bfd6c647-4079-43ac-b66a-452c434d20b1"
   },
   "outputs": [],
   "source": [
    "class Hnet(torch.nn.Module):\n",
    "    def __init__(self): # 생성자(Constructor): 객체가 생성될 때 '자동으로 호출'되는 메서드를 의미\n",
    "        super().__init__() # 부모 클래스인 torch.nn.Module의 생성자 함수를 그대로 데려온다 -> super().__init__()\n",
    "        self.i2h = torch.nn.Linear(in_features=4,out_features=2)\n",
    "        self.tanh = torch.nn.Tanh()\n",
    "    def forward(self,x): # 진행..\n",
    "        hidden = self.tanh(self.i2h(x))\n",
    "        return hidden"
   ]
  },
  {
   "cell_type": "markdown",
   "id": "a1874d44-e282-4ccd-b87c-0d6288248c89",
   "metadata": {
    "id": "a1874d44-e282-4ccd-b87c-0d6288248c89"
   },
   "source": [
    "`-` for문돌릴준비"
   ]
  },
  {
   "cell_type": "code",
   "execution_count": 22,
   "id": "4faac001-a67e-4263-840b-a3e01a7c8735",
   "metadata": {
    "id": "4faac001-a67e-4263-840b-a3e01a7c8735"
   },
   "outputs": [],
   "source": [
    "torch.manual_seed(43052) \n",
    "hnet = Hnet()\n",
    "linr = torch.nn.Linear(in_features=2,out_features=4)\n",
    "loss_fn = torch.nn.CrossEntropyLoss() \n",
    "optimizr = torch.optim.Adam(list(hnet.parameters())+list(linr.parameters()))"
   ]
  },
  {
   "cell_type": "markdown",
   "id": "c1ced396-50e2-43a3-a94f-6f0900a16a1c",
   "metadata": {
    "id": "c1ced396-50e2-43a3-a94f-6f0900a16a1c"
   },
   "source": [
    "`-` for문: 20회반복"
   ]
  },
  {
   "cell_type": "code",
   "execution_count": 23,
   "id": "0f85a47a-4ed1-4513-a2dc-8234d766ce77",
   "metadata": {
    "id": "0f85a47a-4ed1-4513-a2dc-8234d766ce77"
   },
   "outputs": [],
   "source": [
    "for epoc in range(20): \n",
    "    ## 1 \n",
    "    ## 2 \n",
    "    hidden = hnet(x) \n",
    "    output = linr(hidden)\n",
    "    loss = loss_fn(output,y)\n",
    "    ## 3 \n",
    "    loss.backward()\n",
    "    ## 4 \n",
    "    optimizr.step()\n",
    "    optimizr.zero_grad()"
   ]
  },
  {
   "cell_type": "markdown",
   "id": "11e296fc-a676-466d-8b0a-c418023710ab",
   "metadata": {
    "id": "11e296fc-a676-466d-8b0a-c418023710ab"
   },
   "source": [
    "`-` linr(hnet(x)) 적합결과 <-- 이거랑"
   ]
  },
  {
   "cell_type": "code",
   "execution_count": 29,
   "id": "bb1fae17-9f3f-4f0a-a553-09e9de79fcf7",
   "metadata": {
    "id": "bb1fae17-9f3f-4f0a-a553-09e9de79fcf7",
    "outputId": "5f5307f4-e982-495e-c194-a58bcf014ce8"
   },
   "outputs": [
    {
     "data": {
      "text/plain": [
       "tensor([[-0.3589,  0.7921, -0.1970, -0.0302],\n",
       "        [-0.2912,  0.8140, -0.2032,  0.0178],\n",
       "        [-0.3589,  0.7921, -0.1970, -0.0302],\n",
       "        ...,\n",
       "        [-0.3589,  0.7921, -0.1970, -0.0302],\n",
       "        [-0.1065,  0.6307, -0.0874,  0.1821],\n",
       "        [-0.3589,  0.7921, -0.1970, -0.0302]], grad_fn=<AddmmBackward0>)"
      ]
     },
     "execution_count": 29,
     "metadata": {},
     "output_type": "execute_result"
    }
   ],
   "source": [
    "linr(hnet(x))"
   ]
  },
  {
   "cell_type": "markdown",
   "id": "425d084f-9b89-4417-82ba-a453a2f6159c",
   "metadata": {
    "id": "425d084f-9b89-4417-82ba-a453a2f6159c"
   },
   "source": [
    "### 실패했던 풀이: 구현2"
   ]
  },
  {
   "cell_type": "markdown",
   "id": "c9f129eb-3631-4c7f-9a22-3676c263493d",
   "metadata": {
    "id": "c9f129eb-3631-4c7f-9a22-3676c263493d"
   },
   "source": [
    "`-` for문돌릴준비 \n",
    "  - net 새로 생성"
   ]
  },
  {
   "cell_type": "code",
   "execution_count": 30,
   "id": "4b5d34be-acca-4e8f-af62-70f5ba33f76c",
   "metadata": {
    "id": "4b5d34be-acca-4e8f-af62-70f5ba33f76c"
   },
   "outputs": [],
   "source": [
    "torch.manual_seed(43052) \n",
    "hnet = Hnet()\n",
    "linr = torch.nn.Linear(in_features=2,out_features=4)\n",
    "loss_fn = torch.nn.CrossEntropyLoss() \n",
    "optimizr = torch.optim.Adam(list(hnet.parameters())+list(linr.parameters()))"
   ]
  },
  {
   "cell_type": "markdown",
   "id": "50a9c02c-30d1-4c17-a514-038bd77aef0a",
   "metadata": {
    "id": "50a9c02c-30d1-4c17-a514-038bd77aef0a"
   },
   "source": [
    "`-` for문: 20회 반복"
   ]
  },
  {
   "cell_type": "code",
   "execution_count": 31,
   "id": "1cfa7d46-32bb-4e1b-b335-031d08603530",
   "metadata": {
    "id": "1cfa7d46-32bb-4e1b-b335-031d08603530"
   },
   "outputs": [],
   "source": [
    "T = len(x) # 599\n",
    "for epoc in range(20): \n",
    "    ## 1~2\n",
    "    loss = 0 \n",
    "    for t in range(T):\n",
    "        xt,yt = x[[t]], y[[t]]\n",
    "        ht = hnet(xt) \n",
    "        ot = linr(ht) \n",
    "        loss = loss + loss_fn(ot,yt) \n",
    "    ## 3 \n",
    "    loss.backward()\n",
    "    ## 4 \n",
    "    optimizr.step()\n",
    "    optimizr.zero_grad()"
   ]
  },
  {
   "cell_type": "markdown",
   "id": "998bb999-46ce-440b-a2cc-c52df48b203d",
   "metadata": {
    "id": "998bb999-46ce-440b-a2cc-c52df48b203d"
   },
   "source": [
    "`-` linr(hnet(x)) 적합결과 <-- 이거랑 동일하다"
   ]
  },
  {
   "cell_type": "code",
   "execution_count": 32,
   "id": "9d2b19fa-d86e-4e2a-911a-3dd217cfcfb6",
   "metadata": {
    "id": "9d2b19fa-d86e-4e2a-911a-3dd217cfcfb6",
    "outputId": "ea68c067-0474-4df8-d2b0-6b83fb4fa3d5"
   },
   "outputs": [
    {
     "data": {
      "text/plain": [
       "tensor([[-0.3589,  0.7921, -0.1970, -0.0302],\n",
       "        [-0.2912,  0.8140, -0.2032,  0.0178],\n",
       "        [-0.3589,  0.7921, -0.1970, -0.0302],\n",
       "        ...,\n",
       "        [-0.3589,  0.7921, -0.1970, -0.0302],\n",
       "        [-0.1065,  0.6307, -0.0874,  0.1821],\n",
       "        [-0.3589,  0.7921, -0.1970, -0.0302]], grad_fn=<AddmmBackward0>)"
      ]
     },
     "execution_count": 32,
     "metadata": {},
     "output_type": "execute_result"
    }
   ],
   "source": [
    "linr(hnet(x))"
   ]
  },
  {
   "cell_type": "markdown",
   "id": "caec7c34-5d2b-4742-bb1e-89ac1caf05c0",
   "metadata": {
    "id": "caec7c34-5d2b-4742-bb1e-89ac1caf05c0"
   },
   "source": [
    "### 순환신경망의 아이디어"
   ]
  },
  {
   "cell_type": "markdown",
   "id": "7fe0f644-b990-4eb9-a9f7-6b86c2b3ad9d",
   "metadata": {
    "id": "7fe0f644-b990-4eb9-a9f7-6b86c2b3ad9d"
   },
   "source": [
    "#### ***모티브***"
   ]
  },
  {
   "cell_type": "markdown",
   "id": "7abb185e-37af-418d-ab26-e8c33e967e1e",
   "metadata": {
    "id": "7abb185e-37af-418d-ab26-e8c33e967e1e"
   },
   "source": [
    "***(예비생각1) ${\\boldsymbol h}$에 대한 이해***"
   ]
  },
  {
   "cell_type": "markdown",
   "id": "cb4d9dd7-97ef-48e6-945b-1be73fa69c9c",
   "metadata": {
    "id": "cb4d9dd7-97ef-48e6-945b-1be73fa69c9c"
   },
   "source": [
    "${\\boldsymbol h}$는 사실 문자열 'abcd'들을 숫자로 바꾼 또 다른 형식의 숫자표현이라 해석할 수 있음. \n",
    "- 즉 원핫인코딩과 다른 또 다른 형태의 숫자표현이라 해석할 수 있다. \n",
    "  - (사실 원핫인코딩보다 약간 더 (1) 액기스만 남은 느낌 + (2) 숙성된 느낌을 준다) \n",
    "- (why1) h는 \"학습을 용이하게 하기 위해서 x를 적당히 선형적으로 전처리한 상태\"라고 이해가능\n",
    "- (why2) 실제로 예시를 살펴보면 그러했다. "
   ]
  },
  {
   "cell_type": "markdown",
   "id": "49f9bee1-0291-406d-81c5-6eed5a1b2794",
   "metadata": {
    "id": "49f9bee1-0291-406d-81c5-6eed5a1b2794"
   },
   "source": [
    "결론: 사실 ${\\boldsymbol h}$는 잘 숙성되어있는 입력정보 ${\\bf X}$ 그 자체로 해석 할 수 있다. "
   ]
  },
  {
   "cell_type": "markdown",
   "id": "f87cf3b8-5608-4e33-89a3-58a6cb690368",
   "metadata": {
    "id": "f87cf3b8-5608-4e33-89a3-58a6cb690368"
   },
   "source": [
    "***(예비생각2) [수백년전통을 이어가는 방법](https://www.joongang.co.kr/article/24087690#home)***"
   ]
  },
  {
   "cell_type": "markdown",
   "id": "80b9dc5d-43a5-41cc-898a-90fd3de599a3",
   "metadata": {
    "id": "80b9dc5d-43a5-41cc-898a-90fd3de599a3"
   },
   "source": [
    "```\n",
    "“1리터에 500만원에 낙찰된 적 있습니다.”\n",
    "“2kg에 1억원 정도 추산됩니다.”\n",
    "“20여 종 종자장을 블렌딩해 100ml에 5000만원씩 분양 예정입니다.”\n",
    "\n",
    "모두 씨간장(종자장) 가격에 관한 실제 일화다.\n",
    "\n",
    "(중략...)\n",
    "\n",
    "위스키나 와인처럼 블렌딩을 하기도 한다. \n",
    "새로 담근 간장에 씨간장을 넣거나, 씨간장독에 햇간장을 넣어 맛을 유지하기도 한다. \n",
    "이를 겹장(또는 덧장)이라 한다. \n",
    "몇몇 종갓집에선 씨간장 잇기를 몇백 년째 해오고 있다. \n",
    "매년 새로 간장을 담가야 이어갈 수 있으니 불씨 꺼트리지 않는 것처럼 굉장히 어려운 일이다.\n",
    "이렇게 하는 이유는 집집마다 내려오는 고유 장맛을 잃지 않기 위함이다. \n",
    "씨간장이란 그만큼 소중한 주방의 자산이며 정체성이다.\n",
    "```"
   ]
  },
  {
   "cell_type": "markdown",
   "id": "6b20364f-8da2-4987-a402-09a61ad911ee",
   "metadata": {
    "id": "6b20364f-8da2-4987-a402-09a61ad911ee"
   },
   "source": [
    "덧장: 새로운간장을 만들때, 옛날간장을 섞어서 만듬 "
   ]
  },
  {
   "cell_type": "markdown",
   "id": "74f044a6-6673-4a1a-b985-a62abd0d29f6",
   "metadata": {
    "id": "74f044a6-6673-4a1a-b985-a62abd0d29f6"
   },
   "source": [
    "`*` 기존방식\n",
    "- $\\text{콩물} \\overset{\\text{숙성}}{\\longrightarrow} \\text{간장}$"
   ]
  },
  {
   "cell_type": "markdown",
   "id": "ba450c0b-1676-49ff-8841-72a1a76d7fca",
   "metadata": {
    "id": "ba450c0b-1676-49ff-8841-72a1a76d7fca"
   },
   "source": [
    "`*` 수백년 전통의 간장맛을 유지하는 방식\n",
    "\n",
    "- $\\text{콩물}_1 \\overset{\\text{숙성}}{\\longrightarrow} \\text{간장}_1$\n",
    "- $\\text{콩물}_2, \\text{간장}_1 \\overset{\\text{숙성}}{\\longrightarrow} \\text{간장}_2$\n",
    "- $\\text{콩물}_3, \\text{간장}_2 \\overset{\\text{숙성}}{\\longrightarrow} \\text{간장}_3$"
   ]
  },
  {
   "cell_type": "markdown",
   "id": "fe817d7b-f8e7-4e89-bb3d-7e841e65f9a3",
   "metadata": {
    "id": "fe817d7b-f8e7-4e89-bb3d-7e841e65f9a3"
   },
   "source": [
    "`*` 수백년 전통의 간장맛을 유지하면서 조리를 한다면? \n",
    "\n",
    "- $\\text{콩물}_1 \\overset{\\text{숙성}}{\\longrightarrow} \\text{간장}_1 \\overset{\\text{조리}}{\\longrightarrow} \\text{간장계란밥}_1$\n",
    "- $\\text{콩물}_2, \\text{간장}_1 \\overset{\\text{숙성}}{\\longrightarrow} \\text{간장}_2 \\overset{\\text{조리}}{\\longrightarrow} \\text{간장계란밥}_2$\n",
    "- $\\text{콩물}_3, \\text{간장}_2 \\overset{\\text{숙성}}{\\longrightarrow} \\text{간장}_3 \\overset{\\text{조리}}{\\longrightarrow} \\text{간장계란밥}_3$"
   ]
  },
  {
   "cell_type": "markdown",
   "id": "8f6f32af-2d43-450b-8cb1-0daf58a50dd1",
   "metadata": {
    "id": "8f6f32af-2d43-450b-8cb1-0daf58a50dd1"
   },
   "source": [
    "점점 맛있는 간장계란밥이 탄생함 "
   ]
  },
  {
   "cell_type": "markdown",
   "id": "16ce8ebc-e2f6-4210-9077-bc6b48164333",
   "metadata": {
    "id": "16ce8ebc-e2f6-4210-9077-bc6b48164333"
   },
   "source": [
    "`*` 알고리즘의 편의상 아래와 같이 생각해도 무방 \n",
    "\n",
    "- $\\text{콩물}_1, \\text{간장}_0 \\overset{\\text{숙성}}{\\longrightarrow} \\text{간장}_1 \\overset{\\text{조리}}{\\longrightarrow} \\text{간장계란밥}_1$, $\\text{간장}_0=\\text{맹물}$\n",
    "- $\\text{콩물}_2, \\text{간장}_1 \\overset{\\text{숙성}}{\\longrightarrow} \\text{간장}_2 \\overset{\\text{조리}}{\\longrightarrow} \\text{간장계란밥}_2$\n",
    "- $\\text{콩물}_3, \\text{간장}_2 \\overset{\\text{숙성}}{\\longrightarrow} \\text{간장}_3 \\overset{\\text{조리}}{\\longrightarrow} \\text{간장계란밥}_3$"
   ]
  },
  {
   "cell_type": "markdown",
   "id": "6979bb58-e8aa-4a2e-b034-9a795f9bcfcd",
   "metadata": {
    "id": "6979bb58-e8aa-4a2e-b034-9a795f9bcfcd"
   },
   "source": [
    "***아이디어***"
   ]
  },
  {
   "cell_type": "markdown",
   "id": "82669a96-6413-4fcf-992e-c447b1f564a3",
   "metadata": {
    "id": "82669a96-6413-4fcf-992e-c447b1f564a3"
   },
   "source": [
    "`*` 수백년 전통의 간장맛을 유지하면서 조리하는 과정을 수식으로? \n",
    "\n",
    "- $\\boldsymbol{x}_1, (\\boldsymbol{h}_0 = 맹물 \\to 0으로 초기화) \\overset{\\text{숙성}}{\\longrightarrow} \\boldsymbol{h}_1 \\overset{\\text{조리}}{\\longrightarrow} \\hat{\\boldsymbol y}_1$\n",
    "- $\\boldsymbol{x}_2, \\boldsymbol{h}_1 \\overset{\\text{숙성}}{\\longrightarrow} \\boldsymbol{h}_2 \\overset{\\text{조리}}{\\longrightarrow} \\hat{\\boldsymbol y}_2$\n",
    "- $\\boldsymbol{x}_3, \\boldsymbol{h}_2 \\overset{\\text{숙성}}{\\longrightarrow} \\boldsymbol{h}_3 \\overset{\\text{조리}}{\\longrightarrow} \\hat{\\boldsymbol y}_3$"
   ]
  },
  {
   "cell_type": "markdown",
   "id": "8734d193-84d7-4743-9bc0-2793f2965bf9",
   "metadata": {
    "id": "8734d193-84d7-4743-9bc0-2793f2965bf9"
   },
   "source": [
    "이제 우리가 배울것은 (1) \"$\\text{콩물}_{t}$\"와 \"$\\text{간장}_{t-1}$\"로 \"$\\text{간장}_t$\"를 `숙성`하는 방법 (2) \"$\\text{간장}_t$\"로 \"$\\text{간장계란밥}_t$를 `조리`하는 방법이다 \n",
    "\n",
    "즉 `숙성`담당 네트워크와 `조리`담당 네트워크를 각각 만들어 학습하면 된다. "
   ]
  },
  {
   "cell_type": "markdown",
   "id": "cd220132-ab31-4235-8202-a2be3761c8a7",
   "metadata": {
    "id": "cd220132-ab31-4235-8202-a2be3761c8a7"
   },
   "source": [
    "#### ***바뀌는 구조***"
   ]
  },
  {
   "cell_type": "markdown",
   "id": "1a1a925d-6d12-4c7f-8982-28516f2bd3f0",
   "metadata": {
    "id": "1a1a925d-6d12-4c7f-8982-28516f2bd3f0"
   },
   "source": [
    "(1) $t=0$\n",
    "\n",
    "${\\boldsymbol h}_0=[[0,0]]$ $\\leftarrow$ $\\text{간장}_0$은 맹물로 초기화"
   ]
  },
  {
   "cell_type": "markdown",
   "id": "f83b9599-cb6e-431f-b508-5587e04ef8ea",
   "metadata": {
    "id": "f83b9599-cb6e-431f-b508-5587e04ef8ea"
   },
   "source": [
    "---"
   ]
  },
  {
   "cell_type": "markdown",
   "id": "9cd7d0a0-1236-401f-8035-cef4ab9af1b3",
   "metadata": {
    "id": "9cd7d0a0-1236-401f-8035-cef4ab9af1b3"
   },
   "source": [
    "(2) $t=1$ \n",
    "\n",
    "${\\boldsymbol h}_1= \\tanh({\\boldsymbol x}_1{\\bf W}_{ih}+{\\boldsymbol h}_0{\\bf W}_{hh}+{\\boldsymbol b}_{ih}+{\\boldsymbol b}_{hh})$\n",
    "- ${\\boldsymbol x}_1$: (1,4) $\\to$ 원핫인코딩된 형태\n",
    "- ${\\bf W}_{ih}$: (4,2) $\\to$ output이 2가 되어야 하니까\n",
    "- ${\\boldsymbol h}_0$: (1,2) $\\to$ 맹물..........$\\to$ 과거의 씨간장을 넣어주기 위해서...\n",
    "- ${\\bf W}_{hh}$: (2,2) $\\to$ output이 2가 되어야 하니까.. 그리고 다 더하려면 차원계속 유지해줘야 함\n",
    "- ${\\boldsymbol b}_{ih}$: (1,2)\n",
    "- ${\\boldsymbol b}_{hh}$: (1,2)\n",
    "\n",
    "${\\boldsymbol o}_1= {\\bf W}_{ho}{\\boldsymbol h}_1+{\\boldsymbol b}_{ho}$ $\\to$ 두번째 선형변환?.. \n",
    "\n",
    "$\\hat{\\boldsymbol y}_1 = \\text{soft}({\\boldsymbol o}_1)$\n",
    "\n",
    "---"
   ]
  },
  {
   "cell_type": "markdown",
   "id": "a525111d-c205-4b5b-9a7c-52ea52fadc16",
   "metadata": {
    "id": "a525111d-c205-4b5b-9a7c-52ea52fadc16"
   },
   "source": [
    "일반화된 알고리즘 "
   ]
  },
  {
   "cell_type": "markdown",
   "id": "18b62e3a-20f3-40b8-b513-14d829ae20ee",
   "metadata": {
    "id": "18b62e3a-20f3-40b8-b513-14d829ae20ee"
   },
   "source": [
    "***(ver1)***\n",
    "\n",
    "init $\\boldsymbol{h}_0$ \n",
    "\n",
    "for $t$ in $1:T$ \n",
    "\n",
    "- ${\\boldsymbol h}_t= \\tanh({\\boldsymbol x}_t{\\bf W}_{ih}+{\\boldsymbol h}_{t-1}{\\bf W}_{hh}+{\\boldsymbol b}_{ih}+{\\boldsymbol b}_{hh})$\n",
    "- ${\\boldsymbol o}_t= {\\bf W}_{ho}{\\boldsymbol h}_1+{\\boldsymbol b}_{ho}$\n",
    "- $\\hat{\\boldsymbol y}_t = \\text{soft}({\\boldsymbol o}_t)$\n",
    "    "
   ]
  },
  {
   "cell_type": "markdown",
   "id": "8f7a69da-a8fb-4c58-87ea-7c3f4a98d5f9",
   "metadata": {
    "id": "8f7a69da-a8fb-4c58-87ea-7c3f4a98d5f9"
   },
   "source": [
    "***(ver2)***\n",
    "\n",
    "```Python \n",
    "init hidden\n",
    "\n",
    "for t in 1:T \n",
    "    hidden = tanh(linr(x)+linr(hidden))\n",
    "    output = linr(hidden)\n",
    "    yt_hat = soft(output)\n",
    "```    "
   ]
  },
  {
   "cell_type": "markdown",
   "id": "73bac8bb-611e-473b-8f84-f7fa0cf508e3",
   "metadata": {
    "id": "73bac8bb-611e-473b-8f84-f7fa0cf508e3"
   },
   "source": [
    "- 코드상으로는 $h_t$와 $h_{t-1}$의 구분이 교모하게 사라진다. (그래서 오히려 좋아)"
   ]
  },
  {
   "cell_type": "markdown",
   "id": "d294fa0f-00bf-4f21-b104-8a330edb1932",
   "metadata": {
    "id": "d294fa0f-00bf-4f21-b104-8a330edb1932"
   },
   "source": [
    "---"
   ]
  },
  {
   "cell_type": "markdown",
   "id": "f3b02e8b-b97d-4854-84a3-fdb85879ace0",
   "metadata": {
    "id": "f3b02e8b-b97d-4854-84a3-fdb85879ace0"
   },
   "source": [
    "***전체알고리즘은 대충 아래와 같은 형식으로 구현될 수 있음***\n",
    "\n",
    "```Python \n",
    "### \n",
    "class rNNCell(torch.nn.Module):\n",
    "    def __init__(self):\n",
    "        super().__init__()\n",
    "        linr1 = torch.nn.Linear(?,?) \n",
    "        linr2 = torch.nn.Linear(?,?) # 과거의 씨간장 넣어주는 역할?\n",
    "        tanh = torch.nn.Tanh()\n",
    "    def forward(self,x,hidden):\n",
    "        hidden = tanh(lrnr1(x)+lrnr2(hidden))\n",
    "        return hidden\n",
    "\n",
    "init ht\n",
    "rnncell = rNNCell()\n",
    "\n",
    "for t in 1:T \n",
    "    xt, yt = x[[t]], y[[t]] \n",
    "    ht = rnncell(xt, ht)\n",
    "    ot = linr(ht) \n",
    "    loss = loss + loss_fn(ot, yt)\n",
    "\n",
    "```    "
   ]
  },
  {
   "cell_type": "markdown",
   "id": "14166b71-c90e-42f9-8f82-a195583ba124",
   "metadata": {
    "id": "14166b71-c90e-42f9-8f82-a195583ba124"
   },
   "source": [
    "### 순환신경망 구현1 -- 성공 "
   ]
  },
  {
   "cell_type": "markdown",
   "id": "eaeb2367-c00f-4746-abf7-9fe22a246270",
   "metadata": {
    "id": "eaeb2367-c00f-4746-abf7-9fe22a246270"
   },
   "source": [
    "`(1)` 숙성담당 네트워크"
   ]
  },
  {
   "cell_type": "code",
   "execution_count": 34,
   "id": "5587a858-d70e-48f8-984d-835c2cb705e9",
   "metadata": {
    "id": "5587a858-d70e-48f8-984d-835c2cb705e9"
   },
   "outputs": [],
   "source": [
    "class rNNCell(torch.nn.Module):\n",
    "    def __init__(self):\n",
    "        super().__init__()\n",
    "        self.i2h = torch.nn.Linear(4,2) \n",
    "        self.h2h = torch.nn.Linear(2,2) \n",
    "        self.tanh = torch.nn.Tanh()\n",
    "    def forward(self,x,hidden):\n",
    "        hidden = self.tanh(self.i2h(x)+self.h2h(hidden))\n",
    "        return hidden"
   ]
  },
  {
   "cell_type": "code",
   "execution_count": 35,
   "id": "de156d68-cf75-467a-bfad-caece08400d8",
   "metadata": {
    "id": "de156d68-cf75-467a-bfad-caece08400d8"
   },
   "outputs": [],
   "source": [
    "torch.manual_seed(43052)\n",
    "rnncell = rNNCell() # 숙성담당 네트워크 "
   ]
  },
  {
   "cell_type": "markdown",
   "id": "381cfd4d-a0ec-4042-94e6-485dd305e7aa",
   "metadata": {
    "id": "381cfd4d-a0ec-4042-94e6-485dd305e7aa"
   },
   "source": [
    "`(2)` 조리담당 네트워크"
   ]
  },
  {
   "cell_type": "code",
   "execution_count": 36,
   "id": "4e411657-af50-4a9a-b158-16ea6e476d93",
   "metadata": {
    "id": "4e411657-af50-4a9a-b158-16ea6e476d93"
   },
   "outputs": [],
   "source": [
    "torch.manual_seed(43052)\n",
    "cook = torch.nn.Linear(2,4) "
   ]
  },
  {
   "cell_type": "markdown",
   "id": "3550b0ba-e04f-402c-b23c-b8d0ec32e9f5",
   "metadata": {
    "id": "3550b0ba-e04f-402c-b23c-b8d0ec32e9f5"
   },
   "source": [
    "`(3)` 손실함수, 옵티마이저 설계 "
   ]
  },
  {
   "cell_type": "code",
   "execution_count": 37,
   "id": "849d9b25-5b4d-43b6-b186-5278f90b649a",
   "metadata": {
    "id": "849d9b25-5b4d-43b6-b186-5278f90b649a"
   },
   "outputs": [],
   "source": [
    "loss_fn = torch.nn.CrossEntropyLoss() \n",
    "optimizr = torch.optim.Adam(list(rnncell.parameters())+list(cook.parameters()))"
   ]
  },
  {
   "cell_type": "markdown",
   "id": "adc2a343-efed-4859-b876-24395d8f961e",
   "metadata": {
    "id": "adc2a343-efed-4859-b876-24395d8f961e"
   },
   "source": [
    "`(4)` 학습 (6분정도 걸림)"
   ]
  },
  {
   "cell_type": "code",
   "execution_count": null,
   "id": "58ddf624-260e-4a71-8062-10b54571245f",
   "metadata": {
    "id": "58ddf624-260e-4a71-8062-10b54571245f"
   },
   "outputs": [],
   "source": [
    "T = len(x) \n",
    "for epoc in range(5000): \n",
    "    ## 1~2\n",
    "    loss = 0 \n",
    "    ht = torch.zeros(1,2) \n",
    "    for t in range(T):\n",
    "        xt,yt = x[[t]], y[[t]]\n",
    "        ht = rnncell(xt,ht) \n",
    "        ot = cook(ht) \n",
    "        loss = loss + loss_fn(ot,yt) \n",
    "    ## 3 \n",
    "    loss.backward()\n",
    "    ## 4 \n",
    "    optimizr.step()\n",
    "    optimizr.zero_grad()"
   ]
  },
  {
   "cell_type": "markdown",
   "id": "4c856b53-3c59-4a01-aa8f-39c578f93dce",
   "metadata": {
    "id": "4c856b53-3c59-4a01-aa8f-39c578f93dce"
   },
   "source": [
    "`(5)` 시각화 "
   ]
  },
  {
   "cell_type": "code",
   "execution_count": null,
   "id": "6e8c581b-8c85-47d7-85e0-fe62a5dbad42",
   "metadata": {
    "id": "6e8c581b-8c85-47d7-85e0-fe62a5dbad42"
   },
   "outputs": [],
   "source": [
    "T = len(x) \n",
    "hidden = torch.zeros(T,2) # 599년치 h를 담을 변수 \n",
    "_water = torch.zeros(1,2) # 맹물 씨간장 role\n",
    "hidden[[0]] = rnncell(x[[0]],_water) \n",
    "for t in range(1,T):\n",
    "    hidden[[t]] = rnncell(x[[t]],hidden[[t-1]]) "
   ]
  },
  {
   "cell_type": "code",
   "execution_count": null,
   "id": "1d970f35-5c96-455e-aa07-551b69073c06",
   "metadata": {
    "id": "1d970f35-5c96-455e-aa07-551b69073c06",
    "outputId": "03e6877f-fe05-4dbc-c4b0-d414bc909667"
   },
   "outputs": [
    {
     "data": {
      "text/plain": [
       "tensor([[1.6522e-02, 6.2036e-01, 1.0433e-01, 2.5879e-01],\n",
       "        [9.9965e-01, 6.5788e-05, 1.8450e-05, 2.6785e-04],\n",
       "        [7.6673e-05, 1.9704e-01, 8.0201e-01, 8.7218e-04],\n",
       "        ...,\n",
       "        [7.4634e-05, 1.9501e-01, 8.0407e-01, 8.4751e-04],\n",
       "        [9.4785e-01, 7.4711e-03, 6.1182e-04, 4.4064e-02],\n",
       "        [3.6306e-02, 1.2466e-01, 2.8862e-03, 8.3615e-01]],\n",
       "       grad_fn=<SoftmaxBackward0>)"
      ]
     },
     "execution_count": 96,
     "metadata": {},
     "output_type": "execute_result"
    }
   ],
   "source": [
    "yhat = soft(cook(hidden))\n",
    "yhat"
   ]
  },
  {
   "cell_type": "code",
   "execution_count": null,
   "id": "6010e2e6-f535-4172-a9ff-27b068dff6f2",
   "metadata": {
    "id": "6010e2e6-f535-4172-a9ff-27b068dff6f2",
    "outputId": "275bc1cd-88da-4d9a-d85e-57f8737440a2"
   },
   "outputs": [
    {
     "data": {
      "text/plain": [
       "<matplotlib.image.AxesImage at 0x7f99cd09c4d0>"
      ]
     },
     "execution_count": 98,
     "metadata": {},
     "output_type": "execute_result"
    },
    {
     "data": {
      "image/png": "[encoded data removed]",
      "text/plain": [
       "<Figure size 288x1080 with 1 Axes>"
      ]
     },
     "metadata": {
      "needs_background": "light"
     },
     "output_type": "display_data"
    }
   ],
   "source": [
    "plt.matshow(yhat.data[-15:])"
   ]
  },
  {
   "cell_type": "markdown",
   "id": "d5d78ee2-6994-48bd-82f6-4cf932b27345",
   "metadata": {
    "id": "d5d78ee2-6994-48bd-82f6-4cf932b27345"
   },
   "source": [
    "- 아주 특이한 특징: yhat[:15], yhat[:-15] 의 적합결과가 다르다\n",
    "- 왜? 간장계란밥은 간장이 중요한데, 간장은 시간이 갈수록 맛있어지니까.."
   ]
  },
  {
   "cell_type": "markdown",
   "id": "7b568025-c455-4d2d-b8d0-618301206099",
   "metadata": {
    "id": "7b568025-c455-4d2d-b8d0-618301206099"
   },
   "source": [
    "### 순환신경망 구현2 (with RNNCell) -- 성공 "
   ]
  },
  {
   "cell_type": "markdown",
   "id": "d070fa42-5e5e-4842-b373-abc31d623290",
   "metadata": {
    "id": "d070fa42-5e5e-4842-b373-abc31d623290"
   },
   "source": [
    "ref: https://pytorch.org/docs/stable/generated/torch.nn.RNNCell.html"
   ]
  },
  {
   "cell_type": "markdown",
   "id": "7ed2fcff-77bf-4328-a9ae-5c9d02fac5fc",
   "metadata": {
    "id": "7ed2fcff-77bf-4328-a9ae-5c9d02fac5fc"
   },
   "source": [
    "`(1)` 숙성네트워크"
   ]
  },
  {
   "cell_type": "markdown",
   "id": "e5ab9e0f-ef9b-46bf-a47d-88db3d916e58",
   "metadata": {
    "id": "e5ab9e0f-ef9b-46bf-a47d-88db3d916e58"
   },
   "source": [
    "선언"
   ]
  },
  {
   "cell_type": "code",
   "execution_count": null,
   "id": "74f2dd61-3d39-47df-9b99-70f68d69947f",
   "metadata": {
    "id": "74f2dd61-3d39-47df-9b99-70f68d69947f"
   },
   "outputs": [],
   "source": [
    "rnncell = torch.nn.RNNCell(4,2)"
   ]
  },
  {
   "cell_type": "markdown",
   "id": "bce47c32-3842-4e0e-93d5-1c234bb29f4c",
   "metadata": {
    "id": "bce47c32-3842-4e0e-93d5-1c234bb29f4c"
   },
   "source": [
    "가중치초기화 (순환신경망 구현1과 동일하도록)"
   ]
  },
  {
   "cell_type": "code",
   "execution_count": null,
   "id": "df303ace-91ad-4cd4-af92-5837ce53b4a7",
   "metadata": {
    "id": "df303ace-91ad-4cd4-af92-5837ce53b4a7"
   },
   "outputs": [],
   "source": [
    "torch.manual_seed(43052)\n",
    "_rnncell = rNNCell()"
   ]
  },
  {
   "cell_type": "code",
   "execution_count": null,
   "id": "6c469858-1fe4-497a-9bbb-bd454259f8b8",
   "metadata": {
    "id": "6c469858-1fe4-497a-9bbb-bd454259f8b8"
   },
   "outputs": [],
   "source": [
    "rnncell.weight_ih.data = _rnncell.i2h.weight.data \n",
    "rnncell.weight_hh.data = _rnncell.h2h.weight.data \n",
    "rnncell.bias_hh.data = _rnncell.h2h.bias.data \n",
    "rnncell.bias_ih.data = _rnncell.i2h.bias.data "
   ]
  },
  {
   "cell_type": "markdown",
   "id": "091059aa-e990-4480-ac4f-29a56949c57e",
   "metadata": {
    "id": "091059aa-e990-4480-ac4f-29a56949c57e"
   },
   "source": [
    "`(2)` 조리담당 네트워크"
   ]
  },
  {
   "cell_type": "code",
   "execution_count": null,
   "id": "a33bcb59-ec67-4b6d-94b1-3237a83f235c",
   "metadata": {
    "id": "a33bcb59-ec67-4b6d-94b1-3237a83f235c"
   },
   "outputs": [],
   "source": [
    "torch.manual_seed(43052)\n",
    "cook = torch.nn.Linear(2,4) "
   ]
  },
  {
   "cell_type": "markdown",
   "id": "d9c0e55f-4b8e-4196-bdc3-c6ed4f69bfab",
   "metadata": {
    "id": "d9c0e55f-4b8e-4196-bdc3-c6ed4f69bfab"
   },
   "source": [
    "`(3)` 손실함수, 옵티마이저 설계 "
   ]
  },
  {
   "cell_type": "code",
   "execution_count": null,
   "id": "1a8c6706-f2a3-4b17-855a-46ca041718d7",
   "metadata": {
    "id": "1a8c6706-f2a3-4b17-855a-46ca041718d7"
   },
   "outputs": [],
   "source": [
    "loss_fn = torch.nn.CrossEntropyLoss() \n",
    "optimizr = torch.optim.Adam(list(rnncell.parameters())+list(cook.parameters()))"
   ]
  },
  {
   "cell_type": "markdown",
   "id": "7850c80f-0ccc-4c90-9c19-799e4fdc7d5d",
   "metadata": {
    "id": "7850c80f-0ccc-4c90-9c19-799e4fdc7d5d"
   },
   "source": [
    "`(4)` 학습 (6분정도 걸림)"
   ]
  },
  {
   "cell_type": "code",
   "execution_count": null,
   "id": "6ab1409b-5c46-4884-b8fd-9f9db3686308",
   "metadata": {
    "id": "6ab1409b-5c46-4884-b8fd-9f9db3686308"
   },
   "outputs": [],
   "source": [
    "T = len(x) \n",
    "for epoc in range(5000): \n",
    "    ## 1~2\n",
    "    loss = 0 \n",
    "    ht = torch.zeros(1,2) \n",
    "    for t in range(T):\n",
    "        xt,yt = x[[t]], y[[t]]\n",
    "        ht = rnncell(xt,ht) \n",
    "        ot = cook(ht) \n",
    "        loss = loss + loss_fn(ot,yt) \n",
    "    ## 3 \n",
    "    loss.backward()\n",
    "    ## 4 \n",
    "    optimizr.step()\n",
    "    optimizr.zero_grad()"
   ]
  },
  {
   "cell_type": "markdown",
   "id": "b15c1339-334a-45df-9aac-754584aa1f8f",
   "metadata": {
    "id": "b15c1339-334a-45df-9aac-754584aa1f8f"
   },
   "source": [
    "`(5)` 시각화 "
   ]
  },
  {
   "cell_type": "code",
   "execution_count": null,
   "id": "148bda82-a63e-4a7c-8b89-10465313073a",
   "metadata": {
    "id": "148bda82-a63e-4a7c-8b89-10465313073a"
   },
   "outputs": [],
   "source": [
    "T = len(x) \n",
    "hidden = torch.zeros(T,2) # 599년치 h를 담을 변수 \n",
    "_water = torch.zeros(1,2) # 맹물 \n",
    "hidden[[0]] = rnncell(x[[0]],_water) \n",
    "for t in range(1,T):\n",
    "    hidden[[t]] = rnncell(x[[t]],hidden[[t-1]]) "
   ]
  },
  {
   "cell_type": "code",
   "execution_count": null,
   "id": "811d26dc-8080-4be9-ba6c-fb95dde17e50",
   "metadata": {
    "id": "811d26dc-8080-4be9-ba6c-fb95dde17e50",
    "outputId": "713fe2ca-fdcb-4e48-d2c5-bfc4d7f6641e"
   },
   "outputs": [
    {
     "data": {
      "text/plain": [
       "tensor([[1.6522e-02, 6.2036e-01, 1.0433e-01, 2.5879e-01],\n",
       "        [9.9965e-01, 6.5788e-05, 1.8450e-05, 2.6785e-04],\n",
       "        [7.6673e-05, 1.9704e-01, 8.0201e-01, 8.7218e-04],\n",
       "        ...,\n",
       "        [7.4634e-05, 1.9501e-01, 8.0407e-01, 8.4751e-04],\n",
       "        [9.4785e-01, 7.4711e-03, 6.1182e-04, 4.4064e-02],\n",
       "        [3.6306e-02, 1.2466e-01, 2.8862e-03, 8.3615e-01]],\n",
       "       grad_fn=<SoftmaxBackward0>)"
      ]
     },
     "execution_count": 127,
     "metadata": {},
     "output_type": "execute_result"
    }
   ],
   "source": [
    "yhat = soft(cook(hidden))\n",
    "yhat"
   ]
  },
  {
   "cell_type": "code",
   "execution_count": null,
   "id": "087953c9-c9fd-4fdc-8335-2cb7251c5b12",
   "metadata": {
    "id": "087953c9-c9fd-4fdc-8335-2cb7251c5b12",
    "outputId": "ee7a66fe-6f49-48b4-fe07-da70c9f2f8c8"
   },
   "outputs": [
    {
     "data": {
      "text/plain": [
       "<matplotlib.image.AxesImage at 0x7f99ce91b850>"
      ]
     },
     "execution_count": 128,
     "metadata": {},
     "output_type": "execute_result"
    },
    {
     "data": {
      "image/png": "[encoded data removed]",
      "text/plain": [
       "<Figure size 288x1080 with 1 Axes>"
      ]
     },
     "metadata": {
      "needs_background": "light"
     },
     "output_type": "display_data"
    }
   ],
   "source": [
    "plt.matshow(yhat.data[-15:])"
   ]
  },
  {
   "cell_type": "markdown",
   "id": "38442105-f410-46e2-9a7f-34da93296931",
   "metadata": {
    "id": "38442105-f410-46e2-9a7f-34da93296931"
   },
   "source": [
    "## 숙제 "
   ]
  },
  {
   "cell_type": "markdown",
   "id": "18e5aca5-f430-4683-9a40-07ae8215deb3",
   "metadata": {
    "id": "18e5aca5-f430-4683-9a40-07ae8215deb3"
   },
   "source": [
    "아래와 같은 자료가 있다고 가정하자. "
   ]
  },
  {
   "cell_type": "code",
   "execution_count": 38,
   "id": "0f62d0dc-ab6b-420c-8b3d-ef3142051c83",
   "metadata": {
    "id": "0f62d0dc-ab6b-420c-8b3d-ef3142051c83"
   },
   "outputs": [],
   "source": [
    "x = torch.rand([1000,1])*2-1\n",
    "y = 3.14 + 6.28*x + torch.randn([1000,1]) "
   ]
  },
  {
   "cell_type": "code",
   "execution_count": 40,
   "id": "24e92601-fe77-41b8-a0cc-2285a9a78cac",
   "metadata": {
    "id": "24e92601-fe77-41b8-a0cc-2285a9a78cac",
    "outputId": "0f989dc7-40f4-4744-af5e-6fe4c950a3cc"
   },
   "outputs": [
    {
     "data": {
      "text/plain": [
       "[<matplotlib.lines.Line2D at 0x7f852105bfd0>]"
      ]
     },
     "execution_count": 40,
     "metadata": {},
     "output_type": "execute_result"
    },
    {
     "data": {
      "image/png": "[encoded data removed]",
      "text/plain": [
       "<Figure size 432x288 with 1 Axes>"
      ]
     },
     "metadata": {
      "needs_background": "light"
     },
     "output_type": "display_data"
    }
   ],
   "source": [
    "plt.plot(x,y,'o',alpha=0.1)"
   ]
  },
  {
   "cell_type": "markdown",
   "id": "14137f20-1224-46bf-bd73-1448e08ee99c",
   "metadata": {
    "id": "14137f20-1224-46bf-bd73-1448e08ee99c"
   },
   "source": [
    "아래의 모형을 가정하고 $\\alpha_0,\\alpha_1,\\beta_0,\\beta_1$을 파이토치를 이용하여 추정하고자한다.\n",
    "\n",
    "- $y_i = \\alpha_0+\\beta_0+ \\beta_1x_i + \\alpha_1x_i + \\epsilon_i \\quad \\epsilon_i \\sim N(0,\\sigma^2)$ \n"
   ]
  },
  {
   "cell_type": "markdown",
   "id": "afdebada-f13e-4aa8-8dbd-a065c8bb860c",
   "metadata": {
    "id": "afdebada-f13e-4aa8-8dbd-a065c8bb860c"
   },
   "source": [
    "아래는 이를 수행하기 위한 코드이다. ???를 적절히 채워서 코드를 완성하라. "
   ]
  },
  {
   "cell_type": "code",
   "execution_count": 41,
   "id": "33d95157-aaeb-427a-af18-adb9691de977",
   "metadata": {
    "id": "33d95157-aaeb-427a-af18-adb9691de977"
   },
   "outputs": [],
   "source": [
    "alpha0 = torch.tensor([0.5], requires_grad=True)\n",
    "alpha1 = torch.tensor([[0.5]], requires_grad=True)\n",
    "beta0 = torch.tensor([0.7], requires_grad=True)\n",
    "beta1 = torch.tensor([[0.7]], requires_grad=True)"
   ]
  },
  {
   "cell_type": "code",
   "execution_count": 42,
   "id": "8e79521a-32b5-479d-a18d-319903a2ede0",
   "metadata": {
    "id": "8e79521a-32b5-479d-a18d-319903a2ede0"
   },
   "outputs": [],
   "source": [
    "loss_fn = torch.nn.MSELoss()\n",
    "optimizr = torch.optim.SGD([alpha0,beta0,alpha1,beta1], lr=1/10)"
   ]
  },
  {
   "cell_type": "code",
   "execution_count": 43,
   "id": "87ef9d49-57b5-499f-bf32-36c3b2b50c76",
   "metadata": {
    "id": "87ef9d49-57b5-499f-bf32-36c3b2b50c76"
   },
   "outputs": [],
   "source": [
    "for epoc in range(30):\n",
    "    ## 1\n",
    "    yhat = alpha0 + beta0 + alpha1*x + beta1*x \n",
    "    ## 2 \n",
    "    loss = loss_fn(yhat,y) \n",
    "    ## 3 \n",
    "    loss.backward()\n",
    "    ## 4 \n",
    "    optimizr.step()\n",
    "    optimizr.zero_grad()"
   ]
  },
  {
   "cell_type": "code",
   "execution_count": 44,
   "id": "d1748dad-756d-4924-8c4d-42c81de94490",
   "metadata": {
    "id": "d1748dad-756d-4924-8c4d-42c81de94490",
    "outputId": "69e08390-f97b-4110-837f-d22ad6a8cf94"
   },
   "outputs": [
    {
     "name": "stdout",
     "output_type": "stream",
     "text": [
      "tensor([3.1731], grad_fn=<AddBackward0>)\n"
     ]
    }
   ],
   "source": [
    "print(alpha0+beta0)"
   ]
  },
  {
   "cell_type": "markdown",
   "id": "bf6b3b6b-68b4-42ac-a1e3-d9f7850142a2",
   "metadata": {
    "id": "bf6b3b6b-68b4-42ac-a1e3-d9f7850142a2"
   },
   "source": [
    "- 3.14 근처"
   ]
  },
  {
   "cell_type": "code",
   "execution_count": 45,
   "id": "8c5eb855-49e8-48e2-a484-559c6440bcbd",
   "metadata": {
    "id": "8c5eb855-49e8-48e2-a484-559c6440bcbd",
    "outputId": "46c4e5cd-0322-4c7e-8347-e0ba00401aae"
   },
   "outputs": [
    {
     "name": "stdout",
     "output_type": "stream",
     "text": [
      "tensor([[6.2082]], grad_fn=<AddBackward0>)\n"
     ]
    }
   ],
   "source": [
    "print(alpha1+beta1)"
   ]
  },
  {
   "cell_type": "markdown",
   "id": "e9d074f8-4603-4549-b8fa-669d7f9d1e7a",
   "metadata": {
    "id": "e9d074f8-4603-4549-b8fa-669d7f9d1e7a"
   },
   "source": [
    "- 6.28 근처"
   ]
  }
 ],
 "metadata": {
  "colab": {
   "provenance": []
  },
  "kernelspec": {
   "display_name": "Python 3 (ipykernel)",
   "language": "python",
   "name": "python3"
  },
  "language_info": {
   "codemirror_mode": {
    "name": "ipython",
    "version": 3
   },
   "file_extension": ".py",
   "mimetype": "text/x-python",
   "name": "python",
   "nbconvert_exporter": "python",
   "pygments_lexer": "ipython3",
   "version": "3.9.12"
  }
 },
 "nbformat": 4,
 "nbformat_minor": 5
}
