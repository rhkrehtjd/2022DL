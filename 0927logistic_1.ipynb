{
 "cells": [
  {
   "cell_type": "markdown",
   "id": "ff0f21ff-c327-44ee-ae11-2300cd481f2c",
   "metadata": {
    "id": "ff0f21ff-c327-44ee-ae11-2300cd481f2c",
    "tags": []
   },
   "source": [
    "# (4주차) 9월27일 -- draft\n",
    "> 딥러닝의 기초 - 회귀분석(3)-- step 4의 다른표현 (옵티마이저)\n",
    "\n",
    "- toc:true\n",
    "- branch: master\n",
    "- badges: true\n",
    "- comments: true\n",
    "- author: 최규빈"
   ]
  },
  {
   "cell_type": "markdown",
   "id": "0b6be4e2-1722-44bd-90ae-ade5484bca76",
   "metadata": {
    "id": "0b6be4e2-1722-44bd-90ae-ade5484bca76"
   },
   "source": [
    "## Imports"
   ]
  },
  {
   "cell_type": "code",
   "execution_count": 36,
   "id": "f8c29346-1869-4a86-b806-71a7722377bf",
   "metadata": {
    "id": "f8c29346-1869-4a86-b806-71a7722377bf"
   },
   "outputs": [],
   "source": [
    "import torch\n",
    "import pandas as pd\n",
    "import numpy as np\n",
    "import matplotlib.pyplot as plt "
   ]
  },
  {
   "cell_type": "markdown",
   "id": "d39e95a9-7a71-46a8-942f-547b967e5769",
   "metadata": {
    "id": "d39e95a9-7a71-46a8-942f-547b967e5769"
   },
   "source": [
    "## step1의 다른버전 (복습 + $\\alpha$)"
   ]
  },
  {
   "cell_type": "code",
   "execution_count": 37,
   "id": "a126f2da-df64-44f8-a527-dfde44acae3b",
   "metadata": {
    "colab": {
     "base_uri": "https://localhost:8080/",
     "height": 423
    },
    "id": "a126f2da-df64-44f8-a527-dfde44acae3b",
    "outputId": "6b119bd5-e88c-47c8-8228-edb5a4790276"
   },
   "outputs": [
    {
     "data": {
      "text/html": [
       "<div>\n",
       "<style scoped>\n",
       "    .dataframe tbody tr th:only-of-type {\n",
       "        vertical-align: middle;\n",
       "    }\n",
       "\n",
       "    .dataframe tbody tr th {\n",
       "        vertical-align: top;\n",
       "    }\n",
       "\n",
       "    .dataframe thead th {\n",
       "        text-align: right;\n",
       "    }\n",
       "</style>\n",
       "<table border=\"1\" class=\"dataframe\">\n",
       "  <thead>\n",
       "    <tr style=\"text-align: right;\">\n",
       "      <th></th>\n",
       "      <th>x</th>\n",
       "      <th>y</th>\n",
       "    </tr>\n",
       "  </thead>\n",
       "  <tbody>\n",
       "    <tr>\n",
       "      <th>0</th>\n",
       "      <td>-2.482113</td>\n",
       "      <td>-8.542024</td>\n",
       "    </tr>\n",
       "  </tbody>\n",
       "</table>\n",
       "</div>"
      ],
      "text/plain": [
       "          x         y\n",
       "0 -2.482113 -8.542024"
      ]
     },
     "execution_count": 37,
     "metadata": {},
     "output_type": "execute_result"
    }
   ],
   "source": [
    "df = pd.read_csv(\"https://raw.githubusercontent.com/guebin/DL2022/master/_notebooks/2022-09-22-regression.csv\") \n",
    "df.head(1)"
   ]
  },
  {
   "cell_type": "markdown",
   "id": "b2829ad6-2865-483d-99e7-ab66c6c9b62d",
   "metadata": {
    "id": "b2829ad6-2865-483d-99e7-ab66c6c9b62d"
   },
   "source": [
    "`-` 분석을 위해 df -> tensor로 변환"
   ]
  },
  {
   "cell_type": "code",
   "execution_count": 38,
   "id": "88831b2a-0f68-49fd-8836-31a71df24b24",
   "metadata": {
    "id": "88831b2a-0f68-49fd-8836-31a71df24b24"
   },
   "outputs": [],
   "source": [
    "x= torch.tensor(df.x,dtype=torch.float32).reshape(100,1)\n",
    "y= torch.tensor(df.y,dtype=torch.float32).reshape(100,1)\n",
    "X= torch.tensor([[1]*100,x]).T"
   ]
  },
  {
   "cell_type": "markdown",
   "id": "671634d1-1bdd-4b26-9ea4-62e2b5e67396",
   "metadata": {
    "id": "671634d1-1bdd-4b26-9ea4-62e2b5e67396"
   },
   "source": [
    "### ver1: net = torch.nn.Linear(1,1,bias=True) "
   ]
  },
  {
   "cell_type": "markdown",
   "id": "c76766db-93e2-45cc-acc4-cc3fbf8183e2",
   "metadata": {
    "id": "c76766db-93e2-45cc-acc4-cc3fbf8183e2"
   },
   "source": [
    "`-` step1: yhat"
   ]
  },
  {
   "cell_type": "code",
   "execution_count": 39,
   "id": "70fc2d97-3d0a-4dba-884a-8e27f9fc1b3b",
   "metadata": {
    "id": "70fc2d97-3d0a-4dba-884a-8e27f9fc1b3b",
    "outputId": "40baff06-ac8c-4918-bcee-48eda2deea97"
   },
   "outputs": [
    {
     "data": {
      "text/plain": [
       "(tensor([[0.0488]]), tensor([0.2542]))"
      ]
     },
     "execution_count": 39,
     "metadata": {},
     "output_type": "execute_result"
    }
   ],
   "source": [
    "net = torch.nn.Linear(in_features=1,out_features=1)\n",
    "# net = torch.nn.Linear(1,1) 동일\n",
    "net.weight.data, net.bias.data"
   ]
  },
  {
   "cell_type": "code",
   "execution_count": 40,
   "id": "4c2f8202-a0bd-40e5-83ca-8e4962500dd5",
   "metadata": {
    "id": "4c2f8202-a0bd-40e5-83ca-8e4962500dd5",
    "outputId": "17658e90-7411-44e5-c558-1699289fe7be"
   },
   "outputs": [
    {
     "data": {
      "text/plain": [
       "(tensor([[10.]]), tensor([-5.]))"
      ]
     },
     "execution_count": 40,
     "metadata": {},
     "output_type": "execute_result"
    }
   ],
   "source": [
    "net.weight.data = torch.tensor([[10.0]])\n",
    "net.bias.data = torch.tensor([-5.0])                         \n",
    "net.weight.data, net.bias.data"
   ]
  },
  {
   "cell_type": "code",
   "execution_count": 41,
   "id": "2cd74400-b0dd-4ebd-b9a4-934a821cfc2b",
   "metadata": {
    "id": "2cd74400-b0dd-4ebd-b9a4-934a821cfc2b"
   },
   "outputs": [],
   "source": [
    "# yhat 생성\n",
    "yhat = net(x)"
   ]
  },
  {
   "cell_type": "markdown",
   "id": "c3a2d385-34cf-4c7e-830b-c42a5b2526e1",
   "metadata": {
    "id": "c3a2d385-34cf-4c7e-830b-c42a5b2526e1"
   },
   "source": [
    "`-` step2: loss "
   ]
  },
  {
   "cell_type": "code",
   "execution_count": 42,
   "id": "b845a902-8f38-4d9f-a12e-db1f8c1036dd",
   "metadata": {
    "id": "b845a902-8f38-4d9f-a12e-db1f8c1036dd",
    "outputId": "12b4fa7b-43a7-4ab7-b2b0-a4d801e8d9f6"
   },
   "outputs": [
    {
     "data": {
      "text/plain": [
       "tensor(85.8769, grad_fn=<MseLossBackward0>)"
      ]
     },
     "execution_count": 42,
     "metadata": {},
     "output_type": "execute_result"
    }
   ],
   "source": [
    "loss = torch.mean((y-yhat)**2)\n",
    "loss \n",
    "# 아니면\n",
    "loss_fn = torch.nn.MSELoss()\n",
    "loss = loss_fn(y,yhat); loss"
   ]
  },
  {
   "cell_type": "markdown",
   "id": "cafdffcb-4b40-4069-91d5-b6e4b5682dd4",
   "metadata": {
    "id": "cafdffcb-4b40-4069-91d5-b6e4b5682dd4"
   },
   "source": [
    "`-` step3: 미분 "
   ]
  },
  {
   "cell_type": "markdown",
   "id": "b6c002b5-dadf-4337-9a58-d5971c3c7ddb",
   "metadata": {
    "id": "b6c002b5-dadf-4337-9a58-d5971c3c7ddb"
   },
   "source": [
    "(미분전상황)"
   ]
  },
  {
   "cell_type": "code",
   "execution_count": 43,
   "id": "b2c435bd-efb2-4ba5-a42a-45f40d696cc2",
   "metadata": {
    "id": "b2c435bd-efb2-4ba5-a42a-45f40d696cc2",
    "outputId": "560d0c5c-47d2-476d-bfaa-65bb33904403"
   },
   "outputs": [
    {
     "data": {
      "text/plain": [
       "(Parameter containing:\n",
       " tensor([[10.]], requires_grad=True),\n",
       " Parameter containing:\n",
       " tensor([-5.], requires_grad=True))"
      ]
     },
     "execution_count": 43,
     "metadata": {},
     "output_type": "execute_result"
    }
   ],
   "source": [
    "net.weight, net.bias"
   ]
  },
  {
   "cell_type": "code",
   "execution_count": 44,
   "id": "c5f8ec83-d25a-4d7c-8717-f02ee61a40ea",
   "metadata": {
    "id": "c5f8ec83-d25a-4d7c-8717-f02ee61a40ea",
    "outputId": "26348cd8-e1cf-427f-ae8a-ce6e6563e5f6"
   },
   "outputs": [
    {
     "data": {
      "text/plain": [
       "(None, None)"
      ]
     },
     "execution_count": 44,
     "metadata": {},
     "output_type": "execute_result"
    }
   ],
   "source": [
    "net.weight.grad, net.bias.grad\n",
    "# 아직 미분안 했으니 미분계수 값이 저장되어 있지 않음"
   ]
  },
  {
   "cell_type": "markdown",
   "id": "9cc9d411-9edc-410c-a94d-4c0d1aee5133",
   "metadata": {
    "id": "9cc9d411-9edc-410c-a94d-4c0d1aee5133"
   },
   "source": [
    "(미분)"
   ]
  },
  {
   "cell_type": "code",
   "execution_count": 23,
   "id": "76acb431-c318-4dac-9cbb-5931d40171a5",
   "metadata": {
    "id": "76acb431-c318-4dac-9cbb-5931d40171a5"
   },
   "outputs": [],
   "source": [
    "loss.backward()  \n",
    "# 미분과정의 다른 ver은 없다"
   ]
  },
  {
   "cell_type": "markdown",
   "id": "87e03e19-6172-4236-b8f5-93dc3299889d",
   "metadata": {
    "id": "87e03e19-6172-4236-b8f5-93dc3299889d"
   },
   "source": [
    "(미분후상황)"
   ]
  },
  {
   "cell_type": "code",
   "execution_count": 24,
   "id": "3608e957-876c-42ac-9ecf-dfb8f7666079",
   "metadata": {
    "id": "3608e957-876c-42ac-9ecf-dfb8f7666079",
    "outputId": "5b8953fe-3779-481f-c390-66459580b3c4"
   },
   "outputs": [
    {
     "data": {
      "text/plain": [
       "(Parameter containing:\n",
       " tensor([[10.]], requires_grad=True),\n",
       " Parameter containing:\n",
       " tensor([-5.], requires_grad=True))"
      ]
     },
     "execution_count": 24,
     "metadata": {},
     "output_type": "execute_result"
    }
   ],
   "source": [
    "net.weight, net.bias"
   ]
  },
  {
   "cell_type": "code",
   "execution_count": 25,
   "id": "ccc7969f-21f3-4df6-b6cd-8ef1931922eb",
   "metadata": {
    "id": "ccc7969f-21f3-4df6-b6cd-8ef1931922eb",
    "outputId": "d4c1586c-9377-45a0-9803-e4e8092d93c5"
   },
   "outputs": [
    {
     "data": {
      "text/plain": [
       "(tensor([[11.8893]]), tensor([-13.4225]))"
      ]
     },
     "execution_count": 25,
     "metadata": {},
     "output_type": "execute_result"
    }
   ],
   "source": [
    "net.weight.grad, net.bias.grad"
   ]
  },
  {
   "cell_type": "markdown",
   "id": "6e540447-df8c-48bb-b6c5-76ed86a7f6b5",
   "metadata": {
    "id": "6e540447-df8c-48bb-b6c5-76ed86a7f6b5"
   },
   "source": [
    "`-` step4: update "
   ]
  },
  {
   "cell_type": "code",
   "execution_count": 26,
   "id": "fe9574b8-a6a8-4bb4-9a70-0d6e484d9959",
   "metadata": {
    "id": "fe9574b8-a6a8-4bb4-9a70-0d6e484d9959"
   },
   "outputs": [],
   "source": [
    "net.weight.data = net.weight.data - 1/10 * net.weight.grad \n",
    "net.bias.data = net.bias.data - 1/10 * net.bias.grad"
   ]
  },
  {
   "cell_type": "code",
   "execution_count": 27,
   "id": "0e0a6e3d-c218-4e88-b3d8-84b69a4e7918",
   "metadata": {
    "id": "0e0a6e3d-c218-4e88-b3d8-84b69a4e7918",
    "outputId": "1218d186-b116-44f5-f224-1626cab8c658"
   },
   "outputs": [
    {
     "data": {
      "text/plain": [
       "(tensor([[8.8111]]), tensor([-3.6577]))"
      ]
     },
     "execution_count": 27,
     "metadata": {},
     "output_type": "execute_result"
    }
   ],
   "source": [
    "net.weight.data,net.bias.data"
   ]
  },
  {
   "cell_type": "markdown",
   "id": "40dff6c0-c8a8-449b-a918-14457b32da39",
   "metadata": {
    "id": "40dff6c0-c8a8-449b-a918-14457b32da39"
   },
   "source": [
    "`-` 반복 "
   ]
  },
  {
   "cell_type": "markdown",
   "id": "ee52f888-78dc-4d8c-a8e1-49d1a39242e9",
   "metadata": {
    "id": "ee52f888-78dc-4d8c-a8e1-49d1a39242e9"
   },
   "source": [
    "(code before)"
   ]
  },
  {
   "cell_type": "code",
   "execution_count": 45,
   "id": "968b6f16-e3be-4b2d-9b2b-c39ce5b041e1",
   "metadata": {
    "id": "968b6f16-e3be-4b2d-9b2b-c39ce5b041e1"
   },
   "outputs": [],
   "source": [
    "What = torch.tensor([[-5.0],[10.0]],requires_grad=True) \n",
    "# requires_grad = True는 net 생성해서 yhat만들 땐 안 해줘도 됨"
   ]
  },
  {
   "cell_type": "code",
   "execution_count": 46,
   "id": "05683c59-a185-4ce6-be1e-d553452f9ffe",
   "metadata": {
    "id": "05683c59-a185-4ce6-be1e-d553452f9ffe",
    "outputId": "9ac2b906-5aca-4d1a-ef1f-25e93e56f0d7"
   },
   "outputs": [
    {
     "data": {
      "text/plain": [
       "[<matplotlib.lines.Line2D at 0x7fe598073370>]"
      ]
     },
     "execution_count": 46,
     "metadata": {},
     "output_type": "execute_result"
    },
    {
     "data": {
      "image/png": "[encoded data removed]",
      "text/plain": [
       "<Figure size 432x288 with 1 Axes>"
      ]
     },
     "metadata": {
      "needs_background": "light"
     },
     "output_type": "display_data"
    }
   ],
   "source": [
    "plt.plot(x,y,'o')\n",
    "plt.plot(x,(X@What).data,'--')"
   ]
  },
  {
   "cell_type": "code",
   "execution_count": 51,
   "id": "9011446c-6f33-42d8-8d65-7de44094b096",
   "metadata": {
    "id": "9011446c-6f33-42d8-8d65-7de44094b096"
   },
   "outputs": [],
   "source": [
    "for epoc in range(30):\n",
    "    ## step1 \n",
    "    yhat = X@What     \n",
    "    ## step2\n",
    "    loss = torch.mean((y-yhat)**2) \n",
    "    ## step3 \n",
    "    loss.backward()\n",
    "    ## step4 \n",
    "    What.data = What.data - 1/10 * What.grad # SSE가 아니라 MSE를 구했기 때문에 학습률을 1/10으로 설정.\n",
    "    What.grad = None # 미분값이 누적되지 않고, 계속 초기화시켜주는 것"
   ]
  },
  {
   "cell_type": "code",
   "execution_count": 52,
   "id": "296db64a-18ed-4972-b3e2-a1f85fdbf48b",
   "metadata": {
    "id": "296db64a-18ed-4972-b3e2-a1f85fdbf48b",
    "outputId": "a75d17ac-1578-463e-abc7-6d3f15f21579"
   },
   "outputs": [
    {
     "data": {
      "text/plain": [
       "[<matplotlib.lines.Line2D at 0x7fe5b173c1c0>]"
      ]
     },
     "execution_count": 52,
     "metadata": {},
     "output_type": "execute_result"
    },
    {
     "data": {
      "image/png": "[encoded data removed]",
      "text/plain": [
       "<Figure size 432x288 with 1 Axes>"
      ]
     },
     "metadata": {
      "needs_background": "light"
     },
     "output_type": "display_data"
    }
   ],
   "source": [
    "plt.plot(x,y,'o')\n",
    "plt.plot(x,(X@What).data,'--')"
   ]
  },
  {
   "cell_type": "markdown",
   "id": "82535245-bc13-41a4-903f-d9526f0ea81a",
   "metadata": {
    "id": "82535245-bc13-41a4-903f-d9526f0ea81a"
   },
   "source": [
    "(code after) "
   ]
  },
  {
   "cell_type": "code",
   "execution_count": 53,
   "id": "5b253247-3752-4970-8c21-48fb8cc62e03",
   "metadata": {
    "id": "5b253247-3752-4970-8c21-48fb8cc62e03"
   },
   "outputs": [],
   "source": [
    "net = torch.nn.Linear(in_features=1,out_features=1)\n",
    "net.weight.data = torch.tensor([[10.0]])\n",
    "net.bias.data = torch.tensor([-5.0]) "
   ]
  },
  {
   "cell_type": "code",
   "execution_count": 54,
   "id": "39112991-c294-4f77-9610-30d0ed230d18",
   "metadata": {
    "id": "39112991-c294-4f77-9610-30d0ed230d18",
    "outputId": "02275616-3516-4d1f-feef-3d8f31adc4d7"
   },
   "outputs": [
    {
     "data": {
      "text/plain": [
       "[<matplotlib.lines.Line2D at 0x7fe590070220>]"
      ]
     },
     "execution_count": 54,
     "metadata": {},
     "output_type": "execute_result"
    },
    {
     "data": {
      "image/png": "[encoded data removed]",
      "text/plain": [
       "<Figure size 432x288 with 1 Axes>"
      ]
     },
     "metadata": {
      "needs_background": "light"
     },
     "output_type": "display_data"
    }
   ],
   "source": [
    "plt.plot(x,y,'o')\n",
    "plt.plot(x,net(x).data,'--')"
   ]
  },
  {
   "cell_type": "code",
   "execution_count": 55,
   "id": "83e2fc07-5fc7-4663-aa72-5e19de1fc4d8",
   "metadata": {
    "id": "83e2fc07-5fc7-4663-aa72-5e19de1fc4d8"
   },
   "outputs": [],
   "source": [
    "for epoc in range(30):\n",
    "    ## step1 \n",
    "    yhat = net(x)\n",
    "    ## step2\n",
    "    loss = torch.mean((y-yhat)**2) \n",
    "    ## step3 \n",
    "    loss.backward()\n",
    "    ## step4 (이게 엄청 귀찮아지네??) \n",
    "    net.weight.data = net.weight.data - 1/10 * net.weight.grad \n",
    "    net.bias.data = net.bias.data - 1/10 * net.bias.grad\n",
    "    net.weight.grad = None \n",
    "    net.bias.grad = None \n",
    "    \n",
    "    # net 생성해서 yhat 만들 때 말고 그냥 What 사용했을 떈, requires_grad = True도 해줘야되고,\n",
    "    # 청소는 What.grad = None 한 번만 해주면 된다. "
   ]
  },
  {
   "cell_type": "code",
   "execution_count": 56,
   "id": "1bdfe616-46b6-4867-88c2-ebd74256f2c2",
   "metadata": {
    "id": "1bdfe616-46b6-4867-88c2-ebd74256f2c2",
    "outputId": "e06f55fb-14c0-4ce4-a765-b660ab386736"
   },
   "outputs": [
    {
     "data": {
      "text/plain": [
       "[<matplotlib.lines.Line2D at 0x7fe5d0f3c040>]"
      ]
     },
     "execution_count": 56,
     "metadata": {},
     "output_type": "execute_result"
    },
    {
     "data": {
      "image/png": "[encoded data removed]",
      "text/plain": [
       "<Figure size 432x288 with 1 Axes>"
      ]
     },
     "metadata": {
      "needs_background": "light"
     },
     "output_type": "display_data"
    }
   ],
   "source": [
    "plt.plot(x,y,'o')\n",
    "plt.plot(x,net(x).data,'--')"
   ]
  },
  {
   "cell_type": "markdown",
   "id": "6b01c441-e6e3-43ea-9a73-2c489dcfb5c8",
   "metadata": {
    "id": "6b01c441-e6e3-43ea-9a73-2c489dcfb5c8"
   },
   "source": [
    "### ver2: net = torch.nn.Linear(2,1,bias=False) "
   ]
  },
  {
   "cell_type": "markdown",
   "id": "337cf085-ac2c-457f-a17a-48ae37ed0ee4",
   "metadata": {
    "id": "337cf085-ac2c-457f-a17a-48ae37ed0ee4"
   },
   "source": [
    "`-` step1: yhat"
   ]
  },
  {
   "cell_type": "code",
   "execution_count": 57,
   "id": "35c166a4-c984-46be-be2b-88aaa1890e53",
   "metadata": {
    "id": "35c166a4-c984-46be-be2b-88aaa1890e53"
   },
   "outputs": [],
   "source": [
    "net = torch.nn.Linear(in_features=2,out_features=1,bias=False) "
   ]
  },
  {
   "cell_type": "code",
   "execution_count": 58,
   "id": "ecaeb508-d737-4d33-b298-c811f4a1c6c1",
   "metadata": {
    "id": "ecaeb508-d737-4d33-b298-c811f4a1c6c1",
    "outputId": "b76dc0f7-7f9b-4f62-d1aa-5b5ff7a864f4"
   },
   "outputs": [
    {
     "data": {
      "text/plain": [
       "Parameter containing:\n",
       "tensor([[0.4089, 0.5575]], requires_grad=True)"
      ]
     },
     "execution_count": 58,
     "metadata": {},
     "output_type": "execute_result"
    }
   ],
   "source": [
    "net.weight\n",
    "# 각각 w0,w1을 의미함"
   ]
  },
  {
   "cell_type": "code",
   "execution_count": 59,
   "id": "6c5aa888-dfdd-4299-b6ea-0e83e7615188",
   "metadata": {
    "id": "6c5aa888-dfdd-4299-b6ea-0e83e7615188",
    "outputId": "91d9cac6-c64f-41ed-f260-327d41022fc5"
   },
   "outputs": [
    {
     "data": {
      "text/plain": [
       "Parameter containing:\n",
       "tensor([[-5., 10.]], requires_grad=True)"
      ]
     },
     "execution_count": 59,
     "metadata": {},
     "output_type": "execute_result"
    }
   ],
   "source": [
    "net.weight.data = torch.tensor([[-5.0, 10.0]])\n",
    "net.weight"
   ]
  },
  {
   "cell_type": "code",
   "execution_count": 60,
   "id": "fa421f86-04cd-4265-b9cf-0cabf7da0c1e",
   "metadata": {
    "id": "fa421f86-04cd-4265-b9cf-0cabf7da0c1e"
   },
   "outputs": [],
   "source": [
    "yhat=net(X)"
   ]
  },
  {
   "cell_type": "markdown",
   "id": "0f307a91-7b39-4600-ae1e-3e2ea649d2d4",
   "metadata": {
    "id": "0f307a91-7b39-4600-ae1e-3e2ea649d2d4"
   },
   "source": [
    "`-` step2: loss"
   ]
  },
  {
   "cell_type": "code",
   "execution_count": 61,
   "id": "92f8a814-0609-424a-8090-5ca25e627557",
   "metadata": {
    "id": "92f8a814-0609-424a-8090-5ca25e627557",
    "outputId": "1919aad1-12f9-4527-be97-d8df7ce95eb7"
   },
   "outputs": [
    {
     "data": {
      "text/plain": [
       "tensor(85.8769, grad_fn=<MeanBackward0>)"
      ]
     },
     "execution_count": 61,
     "metadata": {},
     "output_type": "execute_result"
    }
   ],
   "source": [
    "loss = torch.mean((y-yhat)**2)\n",
    "loss"
   ]
  },
  {
   "cell_type": "markdown",
   "id": "a60286ad-4eb1-46c4-a429-60e42df37815",
   "metadata": {
    "id": "a60286ad-4eb1-46c4-a429-60e42df37815"
   },
   "source": [
    "`-` step3: 미분 "
   ]
  },
  {
   "cell_type": "markdown",
   "id": "b2619644-3ebc-4f49-b32e-c91ae9903709",
   "metadata": {
    "id": "b2619644-3ebc-4f49-b32e-c91ae9903709"
   },
   "source": [
    "(미분전상황) "
   ]
  },
  {
   "cell_type": "code",
   "execution_count": 62,
   "id": "231fbbb2-48a7-4c74-a305-cdabc047061b",
   "metadata": {
    "id": "231fbbb2-48a7-4c74-a305-cdabc047061b",
    "outputId": "3956e916-b30c-491c-b944-0ae5e20d3321"
   },
   "outputs": [
    {
     "data": {
      "text/plain": [
       "tensor([[-5., 10.]])"
      ]
     },
     "execution_count": 62,
     "metadata": {},
     "output_type": "execute_result"
    }
   ],
   "source": [
    "net.weight.data"
   ]
  },
  {
   "cell_type": "code",
   "execution_count": 63,
   "id": "52593821-20ae-4882-9c0b-9c6673d5221b",
   "metadata": {
    "id": "52593821-20ae-4882-9c0b-9c6673d5221b"
   },
   "outputs": [],
   "source": [
    "net.weight.grad"
   ]
  },
  {
   "cell_type": "markdown",
   "id": "f6831789-6b06-4acf-8948-cb754679c565",
   "metadata": {
    "id": "f6831789-6b06-4acf-8948-cb754679c565"
   },
   "source": [
    "(미분) "
   ]
  },
  {
   "cell_type": "code",
   "execution_count": 64,
   "id": "7720d56d-04bb-475e-a6bf-89aa92933062",
   "metadata": {
    "id": "7720d56d-04bb-475e-a6bf-89aa92933062"
   },
   "outputs": [],
   "source": [
    "loss.backward()"
   ]
  },
  {
   "cell_type": "markdown",
   "id": "38c6ccaa-8017-43a1-b88c-f5f92cfa4581",
   "metadata": {
    "id": "38c6ccaa-8017-43a1-b88c-f5f92cfa4581"
   },
   "source": [
    "(미분후상황) "
   ]
  },
  {
   "cell_type": "code",
   "execution_count": 65,
   "id": "87f85ab1-147e-42aa-b839-adb859aae663",
   "metadata": {
    "id": "87f85ab1-147e-42aa-b839-adb859aae663",
    "outputId": "71d4eb52-a0e5-42f7-8b34-6b52c9c71d81"
   },
   "outputs": [
    {
     "data": {
      "text/plain": [
       "tensor([[-5., 10.]])"
      ]
     },
     "execution_count": 65,
     "metadata": {},
     "output_type": "execute_result"
    }
   ],
   "source": [
    "net.weight.data"
   ]
  },
  {
   "cell_type": "code",
   "execution_count": 66,
   "id": "027ed494-85f5-4c07-9dfe-b734d08b05ad",
   "metadata": {
    "id": "027ed494-85f5-4c07-9dfe-b734d08b05ad",
    "outputId": "fcef26a0-20dc-4e1f-cc8c-4d09f2447277"
   },
   "outputs": [
    {
     "data": {
      "text/plain": [
       "tensor([[-13.4225,  11.8893]])"
      ]
     },
     "execution_count": 66,
     "metadata": {},
     "output_type": "execute_result"
    }
   ],
   "source": [
    "net.weight.grad"
   ]
  },
  {
   "cell_type": "markdown",
   "id": "1e6a2fa1-a70f-43b2-8c4f-83ceda16562b",
   "metadata": {
    "id": "1e6a2fa1-a70f-43b2-8c4f-83ceda16562b"
   },
   "source": [
    "`-` step4: update "
   ]
  },
  {
   "cell_type": "code",
   "execution_count": 67,
   "id": "da91d533-fd3f-4acc-bacb-2ef7058e0f46",
   "metadata": {
    "id": "da91d533-fd3f-4acc-bacb-2ef7058e0f46",
    "outputId": "c0716088-5495-4060-8d46-d14e43531697"
   },
   "outputs": [
    {
     "data": {
      "text/plain": [
       "tensor([[-3.6577,  8.8111]])"
      ]
     },
     "execution_count": 67,
     "metadata": {},
     "output_type": "execute_result"
    }
   ],
   "source": [
    "net.weight.data = net.weight.data - 1/10 * net.weight.grad \n",
    "net.weight.data"
   ]
  },
  {
   "cell_type": "markdown",
   "id": "49324193-94ce-434c-8584-dd21afca0081",
   "metadata": {
    "id": "49324193-94ce-434c-8584-dd21afca0081"
   },
   "source": [
    "`-` 반복 "
   ]
  },
  {
   "cell_type": "markdown",
   "id": "f4bb8241-5a17-44ef-8840-f898d9b44166",
   "metadata": {
    "id": "f4bb8241-5a17-44ef-8840-f898d9b44166"
   },
   "source": [
    "(code before) -- ver1과 같으므로 생략할게요"
   ]
  },
  {
   "cell_type": "markdown",
   "id": "f7d3af85-2971-4207-81c1-31a23f1f692d",
   "metadata": {
    "id": "f7d3af85-2971-4207-81c1-31a23f1f692d"
   },
   "source": [
    "(code after)"
   ]
  },
  {
   "cell_type": "code",
   "execution_count": 68,
   "id": "158636c4-6d42-4c80-854d-5c51f6379737",
   "metadata": {
    "id": "158636c4-6d42-4c80-854d-5c51f6379737"
   },
   "outputs": [],
   "source": [
    "net = torch.nn.Linear(in_features=2,out_features=1,bias=False)\n",
    "net.weight.data = torch.tensor([[-5.0, 10.0]]) "
   ]
  },
  {
   "cell_type": "code",
   "execution_count": 69,
   "id": "fac55ba0-d8cb-47ca-b959-264dfbbb858b",
   "metadata": {
    "id": "fac55ba0-d8cb-47ca-b959-264dfbbb858b",
    "outputId": "f5df1361-0393-4bb0-f991-a909ad292e97"
   },
   "outputs": [
    {
     "data": {
      "text/plain": [
       "[<matplotlib.lines.Line2D at 0x7fe5b0fa23a0>]"
      ]
     },
     "execution_count": 69,
     "metadata": {},
     "output_type": "execute_result"
    },
    {
     "data": {
      "image/png": "[encoded data removed]",
      "text/plain": [
       "<Figure size 432x288 with 1 Axes>"
      ]
     },
     "metadata": {
      "needs_background": "light"
     },
     "output_type": "display_data"
    }
   ],
   "source": [
    "plt.plot(x,y,'o')\n",
    "plt.plot(x,net(X).data,'--')"
   ]
  },
  {
   "cell_type": "code",
   "execution_count": 72,
   "id": "4a7c2502-7672-44df-8715-73c4136fcb68",
   "metadata": {
    "id": "4a7c2502-7672-44df-8715-73c4136fcb68"
   },
   "outputs": [],
   "source": [
    "for epoc in range(30): \n",
    "    ## step1 \n",
    "    yhat = net(X) \n",
    "    ## step2 \n",
    "    loss = torch.mean((y-yhat)**2)\n",
    "    ## step3 \n",
    "    loss.backward() \n",
    "    ## step4 \n",
    "    net.weight.data = net.weight.data - 1/10 * net.weight.grad\n",
    "    net.weight.grad = None"
   ]
  },
  {
   "cell_type": "code",
   "execution_count": 73,
   "id": "41aa3c85-c317-4508-ab0d-d40e13815c0e",
   "metadata": {
    "id": "41aa3c85-c317-4508-ab0d-d40e13815c0e",
    "outputId": "ee6dadb8-6930-45a1-84ec-8b756972a776"
   },
   "outputs": [
    {
     "data": {
      "text/plain": [
       "[<matplotlib.lines.Line2D at 0x7fe5a00b24c0>]"
      ]
     },
     "execution_count": 73,
     "metadata": {},
     "output_type": "execute_result"
    },
    {
     "data": {
      "image/png": "[encoded data removed]",
      "text/plain": [
       "<Figure size 432x288 with 1 Axes>"
      ]
     },
     "metadata": {
      "needs_background": "light"
     },
     "output_type": "display_data"
    }
   ],
   "source": [
    "plt.plot(x,y,'o')\n",
    "plt.plot(x,net(X).data,'--') "
   ]
  },
  {
   "cell_type": "markdown",
   "id": "9c29b1ad-d048-46af-9f12-92171005f277",
   "metadata": {
    "id": "9c29b1ad-d048-46af-9f12-92171005f277"
   },
   "source": [
    "## step4의 다른버전: 옵티마이저!"
   ]
  },
  {
   "cell_type": "markdown",
   "id": "42f4de2d-0a20-4ed8-ba4c-300afb40bed7",
   "metadata": {
    "id": "42f4de2d-0a20-4ed8-ba4c-300afb40bed7"
   },
   "source": [
    "### ver1: net = torch.nn.Linear(1,1,bias=True) "
   ]
  },
  {
   "cell_type": "markdown",
   "id": "f6471cfd-d6f6-4bae-9290-58c6c32f299d",
   "metadata": {
    "id": "f6471cfd-d6f6-4bae-9290-58c6c32f299d"
   },
   "source": [
    "`-` 준비 "
   ]
  },
  {
   "cell_type": "code",
   "execution_count": 74,
   "id": "685cdb80-9a81-414b-a5ff-aa3716e927f3",
   "metadata": {
    "id": "685cdb80-9a81-414b-a5ff-aa3716e927f3"
   },
   "outputs": [],
   "source": [
    "net = torch.nn.Linear(1,1) \n",
    "net.weight.data = torch.tensor([[10.0]]) \n",
    "net.bias.data = torch.tensor([[-5.0]]) "
   ]
  },
  {
   "cell_type": "code",
   "execution_count": 75,
   "id": "ca9efa25-53cd-4c75-958a-cf3545d79e57",
   "metadata": {
    "id": "ca9efa25-53cd-4c75-958a-cf3545d79e57"
   },
   "outputs": [],
   "source": [
    "optimizr = torch.optim.SGD(net.parameters(),lr=1/10) "
   ]
  },
  {
   "cell_type": "markdown",
   "id": "e8583485-5d6a-4e13-97fb-37e32450e565",
   "metadata": {
    "id": "e8583485-5d6a-4e13-97fb-37e32450e565"
   },
   "source": [
    "`-` step1~3"
   ]
  },
  {
   "cell_type": "code",
   "execution_count": 76,
   "id": "7299d901-8442-4cea-be7f-70e0bc501b21",
   "metadata": {
    "id": "7299d901-8442-4cea-be7f-70e0bc501b21"
   },
   "outputs": [],
   "source": [
    "yhat = net(x)     "
   ]
  },
  {
   "cell_type": "code",
   "execution_count": 77,
   "id": "8ef5120c-74e7-45d5-afef-817ebba01520",
   "metadata": {
    "id": "8ef5120c-74e7-45d5-afef-817ebba01520"
   },
   "outputs": [],
   "source": [
    "loss = torch.mean((y-yhat)**2) "
   ]
  },
  {
   "cell_type": "code",
   "execution_count": 78,
   "id": "4fed5c93-ddd4-4773-9719-2fd97869b3f2",
   "metadata": {
    "id": "4fed5c93-ddd4-4773-9719-2fd97869b3f2"
   },
   "outputs": [],
   "source": [
    "loss.backward() "
   ]
  },
  {
   "cell_type": "markdown",
   "id": "b1600b5d-d1c4-4f7a-b722-9fd48f9cc6a3",
   "metadata": {
    "id": "b1600b5d-d1c4-4f7a-b722-9fd48f9cc6a3"
   },
   "source": [
    "`-` step4 "
   ]
  },
  {
   "cell_type": "markdown",
   "id": "fbfbcf40-05bc-4f6a-90e1-cbf39f3e6531",
   "metadata": {
    "id": "fbfbcf40-05bc-4f6a-90e1-cbf39f3e6531"
   },
   "source": [
    "(update 전)"
   ]
  },
  {
   "cell_type": "code",
   "execution_count": 79,
   "id": "d1b99f08-2657-44d2-9d4e-ac4e03c7c526",
   "metadata": {
    "id": "d1b99f08-2657-44d2-9d4e-ac4e03c7c526",
    "outputId": "048f1142-72b4-44be-ea09-aef76bf8a492"
   },
   "outputs": [
    {
     "data": {
      "text/plain": [
       "(tensor([[10.]]), tensor([[-5.]]))"
      ]
     },
     "execution_count": 79,
     "metadata": {},
     "output_type": "execute_result"
    }
   ],
   "source": [
    "net.weight.data, net.bias.data ## 값은 업데이트 전"
   ]
  },
  {
   "cell_type": "code",
   "execution_count": 80,
   "id": "000289cf-526c-4af3-b4f2-2ea19d10dd37",
   "metadata": {
    "id": "000289cf-526c-4af3-b4f2-2ea19d10dd37",
    "outputId": "5ac5388a-4eb7-4e8c-a321-40ba1afc4ef3"
   },
   "outputs": [
    {
     "data": {
      "text/plain": [
       "(tensor([[11.8893]]), tensor([[-13.4225]]))"
      ]
     },
     "execution_count": 80,
     "metadata": {},
     "output_type": "execute_result"
    }
   ],
   "source": [
    "net.weight.grad, net.bias.grad ## 미분값은 청소전 "
   ]
  },
  {
   "cell_type": "markdown",
   "id": "42eaf5c5-011c-48ef-8b3a-a3d16c056fa8",
   "metadata": {
    "id": "42eaf5c5-011c-48ef-8b3a-a3d16c056fa8"
   },
   "source": [
    "(update) "
   ]
  },
  {
   "cell_type": "code",
   "execution_count": 81,
   "id": "4494cfe1-2df0-4a48-b09e-206e710e5dd1",
   "metadata": {
    "id": "4494cfe1-2df0-4a48-b09e-206e710e5dd1"
   },
   "outputs": [],
   "source": [
    "optimizr.step() \n",
    "optimizr.zero_grad() "
   ]
  },
  {
   "cell_type": "markdown",
   "id": "ae789e4a-b146-42ef-a2e0-77c971450a67",
   "metadata": {
    "id": "ae789e4a-b146-42ef-a2e0-77c971450a67"
   },
   "source": [
    "(update 후) "
   ]
  },
  {
   "cell_type": "code",
   "execution_count": 82,
   "id": "ae56cc7b-107a-4722-8879-cae65eb8a3ba",
   "metadata": {
    "id": "ae56cc7b-107a-4722-8879-cae65eb8a3ba",
    "outputId": "52c45119-09c4-4cde-e957-4730e689091d"
   },
   "outputs": [
    {
     "data": {
      "text/plain": [
       "(tensor([[8.8111]]), tensor([[-3.6577]]))"
      ]
     },
     "execution_count": 82,
     "metadata": {},
     "output_type": "execute_result"
    }
   ],
   "source": [
    "net.weight.data, net.bias.data ## 값은 업데이트 되었음 "
   ]
  },
  {
   "cell_type": "code",
   "execution_count": 83,
   "id": "8315a79e-f1cd-41ca-932b-1e8cf1d1210f",
   "metadata": {
    "id": "8315a79e-f1cd-41ca-932b-1e8cf1d1210f",
    "outputId": "ae1d0fcf-a469-4aae-bc4c-aaf5e4c70c56"
   },
   "outputs": [
    {
     "data": {
      "text/plain": [
       "(tensor([[0.]]), tensor([[0.]]))"
      ]
     },
     "execution_count": 83,
     "metadata": {},
     "output_type": "execute_result"
    }
   ],
   "source": [
    "net.weight.grad, net.bias.grad ## 미분값은 0으로 초기화하였음 "
   ]
  },
  {
   "cell_type": "markdown",
   "id": "790e3804-3070-40bf-985b-caf9c08cd136",
   "metadata": {
    "id": "790e3804-3070-40bf-985b-caf9c08cd136"
   },
   "source": [
    "`-` 반복 "
   ]
  },
  {
   "cell_type": "code",
   "execution_count": 84,
   "id": "e76d545f-b357-4c58-943a-dfd79eb27ae9",
   "metadata": {
    "id": "e76d545f-b357-4c58-943a-dfd79eb27ae9"
   },
   "outputs": [],
   "source": [
    "net = torch.nn.Linear(1,1) \n",
    "net.weight.data = torch.tensor([[10.0]])\n",
    "net.bias.data = torch.tensor([-5.0])\n",
    "optimizr = torch.optim.SGD(net.parameters(),lr=1/10) "
   ]
  },
  {
   "cell_type": "code",
   "execution_count": 85,
   "id": "599fa01c-e044-4d7f-be88-e1fa1bd62049",
   "metadata": {
    "id": "599fa01c-e044-4d7f-be88-e1fa1bd62049"
   },
   "outputs": [],
   "source": [
    "for epoc in range(30): \n",
    "    yhat = net(x)\n",
    "    loss = torch.mean((y-yhat)**2) \n",
    "    loss.backward() \n",
    "    optimizr.step(); optimizr.zero_grad() "
   ]
  },
  {
   "cell_type": "code",
   "execution_count": 86,
   "id": "a2858eae-e8bc-47d1-a5ce-638416b411cc",
   "metadata": {
    "id": "a2858eae-e8bc-47d1-a5ce-638416b411cc",
    "outputId": "5354529f-982f-4afc-813b-d9afd94ea211"
   },
   "outputs": [
    {
     "data": {
      "text/plain": [
       "[<matplotlib.lines.Line2D at 0x7fe5b15b45b0>]"
      ]
     },
     "execution_count": 86,
     "metadata": {},
     "output_type": "execute_result"
    },
    {
     "data": {
      "image/png": "[encoded data removed]",
      "text/plain": [
       "<Figure size 432x288 with 1 Axes>"
      ]
     },
     "metadata": {
      "needs_background": "light"
     },
     "output_type": "display_data"
    }
   ],
   "source": [
    "plt.plot(x,y,'o')\n",
    "plt.plot(x,net(x).data,'--')"
   ]
  },
  {
   "cell_type": "markdown",
   "id": "bdb4edb5-5922-4241-bbac-426ce5513462",
   "metadata": {
    "id": "bdb4edb5-5922-4241-bbac-426ce5513462"
   },
   "source": [
    "### ver2: net = torch.nn.Linear(2,1,bias=False) "
   ]
  },
  {
   "cell_type": "code",
   "execution_count": 87,
   "id": "fa46a27f-77fb-4abe-9a7a-590251ca42e9",
   "metadata": {
    "id": "fa46a27f-77fb-4abe-9a7a-590251ca42e9"
   },
   "outputs": [],
   "source": [
    "net = torch.nn.Linear(2,1,bias=False) \n",
    "net.weight.data = torch.tensor([[-5.0, 10.0]])\n",
    "optimizr = torch.optim.SGD(net.parameters(),lr=1/10) "
   ]
  },
  {
   "cell_type": "code",
   "execution_count": 88,
   "id": "f6bf419b-7ee8-4434-a1c3-4fa123a46900",
   "metadata": {
    "id": "f6bf419b-7ee8-4434-a1c3-4fa123a46900"
   },
   "outputs": [],
   "source": [
    "for epoc in range(30): \n",
    "    yhat = net(X)\n",
    "    loss = torch.mean((y-yhat)**2) \n",
    "    loss.backward() \n",
    "    optimizr.step(); optimizr.zero_grad() "
   ]
  },
  {
   "cell_type": "code",
   "execution_count": 89,
   "id": "46575ad9-9590-4559-a71e-2b53f83eaada",
   "metadata": {
    "id": "46575ad9-9590-4559-a71e-2b53f83eaada",
    "outputId": "0cffe8ea-db0a-43fb-f636-602857cf1bf0"
   },
   "outputs": [
    {
     "data": {
      "text/plain": [
       "[<matplotlib.lines.Line2D at 0x7fe58006c9d0>]"
      ]
     },
     "execution_count": 89,
     "metadata": {},
     "output_type": "execute_result"
    },
    {
     "data": {
      "image/png": "[encoded data removed]",
      "text/plain": [
       "<Figure size 432x288 with 1 Axes>"
      ]
     },
     "metadata": {
      "needs_background": "light"
     },
     "output_type": "display_data"
    }
   ],
   "source": [
    "plt.plot(x,y,'o')\n",
    "plt.plot(x,net(X).data,'--')"
   ]
  },
  {
   "cell_type": "markdown",
   "id": "cf2a5b9e-7c00-41e4-8dd5-c98acbcfe643",
   "metadata": {
    "id": "cf2a5b9e-7c00-41e4-8dd5-c98acbcfe643"
   },
   "source": [
    "--- "
   ]
  },
  {
   "cell_type": "markdown",
   "id": "47c8515b-8e81-4c00-9175-a5705c0461d3",
   "metadata": {
    "id": "47c8515b-8e81-4c00-9175-a5705c0461d3"
   },
   "source": [
    "## Appendix: `net.parameters()`의 의미? (선택학습)"
   ]
  },
  {
   "cell_type": "markdown",
   "id": "a0296bfa-0b54-407c-abdc-fc4829986148",
   "metadata": {
    "id": "a0296bfa-0b54-407c-abdc-fc4829986148"
   },
   "source": [
    "`-` iterator, generator의 개념필요 \n",
    "- https://guebin.github.io/IP2022/2022/06/06/(14주차)-6월6일.html, 클래스공부 8단계 참고 \n"
   ]
  },
  {
   "cell_type": "markdown",
   "id": "bf07a955-3d50-4b59-9816-2cd319402d95",
   "metadata": {
    "id": "bf07a955-3d50-4b59-9816-2cd319402d95"
   },
   "source": [
    "`-` 탐구시작: 네트워크 생성 "
   ]
  },
  {
   "cell_type": "code",
   "execution_count": 93,
   "id": "423d09db-8177-4994-b219-59a69a595906",
   "metadata": {
    "id": "423d09db-8177-4994-b219-59a69a595906",
    "outputId": "00e0dda3-8e4c-4397-feb9-0c458a6b7611"
   },
   "outputs": [
    {
     "data": {
      "text/plain": [
       "Parameter containing:\n",
       "tensor([[-0.2120]], requires_grad=True)"
      ]
     },
     "execution_count": 93,
     "metadata": {},
     "output_type": "execute_result"
    }
   ],
   "source": [
    "net = torch.nn.Linear(in_features=1,out_features=1)\n",
    "net.weight"
   ]
  },
  {
   "cell_type": "code",
   "execution_count": 94,
   "id": "a097b1d7-f508-4264-83fb-6b7180f08dc0",
   "metadata": {
    "id": "a097b1d7-f508-4264-83fb-6b7180f08dc0",
    "outputId": "009cc387-87cf-48ab-d0d6-d3fef70cb45b"
   },
   "outputs": [
    {
     "data": {
      "text/plain": [
       "Parameter containing:\n",
       "tensor([0.8670], requires_grad=True)"
      ]
     },
     "execution_count": 94,
     "metadata": {},
     "output_type": "execute_result"
    }
   ],
   "source": [
    "net.bias"
   ]
  },
  {
   "cell_type": "markdown",
   "id": "af341eb0-93af-468a-b762-5da108d2fc4a",
   "metadata": {
    "id": "af341eb0-93af-468a-b762-5da108d2fc4a"
   },
   "source": [
    "`-` torch.optim.SGD? 를 확인하면 params에 대한설명에 아래와 같이 되어있음 \n",
    "\n",
    "```\n",
    "params (iterable): iterable of parameters to optimize or dicts defining\n",
    "        parameter groups\n",
    "```"
   ]
  },
  {
   "cell_type": "markdown",
   "id": "9fe4beba-50a4-404d-ace9-e571bf7b6b7f",
   "metadata": {
    "id": "9fe4beba-50a4-404d-ace9-e571bf7b6b7f"
   },
   "source": [
    "`-` 설명을 읽어보면 params에 iterable object를 넣으라고 되어있음 (iterable object는 숨겨진 명령어로 `__iter__`를 가지고 있는 오브젝트를 의미)"
   ]
  },
  {
   "cell_type": "code",
   "execution_count": 95,
   "id": "4d41b19f-642b-4f04-80e9-caed040804f2",
   "metadata": {
    "id": "4d41b19f-642b-4f04-80e9-caed040804f2",
    "outputId": "3513d7e8-7d97-43e6-dde0-fc9257445288"
   },
   "outputs": [
    {
     "data": {
      "text/plain": [
       "set()"
      ]
     },
     "execution_count": 95,
     "metadata": {},
     "output_type": "execute_result"
    }
   ],
   "source": [
    "set(dir(net.parameters)) & {'__iter__'}"
   ]
  },
  {
   "cell_type": "code",
   "execution_count": 96,
   "id": "61c33a1b-eb7c-4272-9006-c071152ca3a2",
   "metadata": {
    "id": "61c33a1b-eb7c-4272-9006-c071152ca3a2",
    "outputId": "3a4ab5b2-9502-4478-b04e-1cf6e72f66cf"
   },
   "outputs": [
    {
     "data": {
      "text/plain": [
       "{'__iter__'}"
      ]
     },
     "execution_count": 96,
     "metadata": {},
     "output_type": "execute_result"
    }
   ],
   "source": [
    "set(dir(net.parameters())) & {'__iter__'}"
   ]
  },
  {
   "cell_type": "markdown",
   "id": "15f988e4-76fd-43ed-8bec-5a4db96a43dd",
   "metadata": {
    "id": "15f988e4-76fd-43ed-8bec-5a4db96a43dd"
   },
   "source": [
    "`-` 무슨의미? "
   ]
  },
  {
   "cell_type": "code",
   "execution_count": 97,
   "id": "9a34b213-524d-464a-ab54-229e30f98c71",
   "metadata": {
    "id": "9a34b213-524d-464a-ab54-229e30f98c71"
   },
   "outputs": [],
   "source": [
    "_generator = net.parameters()"
   ]
  },
  {
   "cell_type": "code",
   "execution_count": 98,
   "id": "121a706b-d18c-4697-ba98-eb1f3df74634",
   "metadata": {
    "id": "121a706b-d18c-4697-ba98-eb1f3df74634",
    "outputId": "24ff0af3-e092-4c37-c29b-341f161f6c06"
   },
   "outputs": [
    {
     "data": {
      "text/plain": [
       "Parameter containing:\n",
       "tensor([[-0.2120]], requires_grad=True)"
      ]
     },
     "execution_count": 98,
     "metadata": {},
     "output_type": "execute_result"
    }
   ],
   "source": [
    "_generator.__next__()"
   ]
  },
  {
   "cell_type": "code",
   "execution_count": 99,
   "id": "ebebe1c3-8497-45df-8fdd-29b1c8e3b512",
   "metadata": {
    "id": "ebebe1c3-8497-45df-8fdd-29b1c8e3b512",
    "outputId": "aadc414b-bcf8-48c1-9a20-91b074ccd6c6"
   },
   "outputs": [
    {
     "data": {
      "text/plain": [
       "Parameter containing:\n",
       "tensor([0.8670], requires_grad=True)"
      ]
     },
     "execution_count": 99,
     "metadata": {},
     "output_type": "execute_result"
    }
   ],
   "source": [
    "_generator.__next__()"
   ]
  },
  {
   "cell_type": "code",
   "execution_count": 100,
   "id": "0af61910-e9bc-4628-bdd0-b4bf5905ba1c",
   "metadata": {
    "id": "0af61910-e9bc-4628-bdd0-b4bf5905ba1c",
    "outputId": "7bc3611e-3863-4c25-98ef-c2eef34ccde5"
   },
   "outputs": [
    {
     "ename": "StopIteration",
     "evalue": "",
     "output_type": "error",
     "traceback": [
      "\u001b[0;31m---------------------------------------------------------------------------\u001b[0m",
      "\u001b[0;31mStopIteration\u001b[0m                             Traceback (most recent call last)",
      "Input \u001b[0;32mIn [100]\u001b[0m, in \u001b[0;36m<cell line: 1>\u001b[0;34m()\u001b[0m\n\u001b[0;32m----> 1\u001b[0m \u001b[43m_generator\u001b[49m\u001b[38;5;241;43m.\u001b[39;49m\u001b[38;5;21;43m__next__\u001b[39;49m\u001b[43m(\u001b[49m\u001b[43m)\u001b[49m\n",
      "\u001b[0;31mStopIteration\u001b[0m: "
     ]
    }
   ],
   "source": [
    "_generator.__next__()"
   ]
  },
  {
   "cell_type": "markdown",
   "id": "37b3ecbd-0363-4490-8a94-52dc0b1d51c7",
   "metadata": {
    "id": "37b3ecbd-0363-4490-8a94-52dc0b1d51c7"
   },
   "source": [
    "`-` 이건 이런느낌인데? "
   ]
  },
  {
   "cell_type": "code",
   "execution_count": 101,
   "id": "53a7a46d-9dc0-4625-aded-a797a1022207",
   "metadata": {
    "id": "53a7a46d-9dc0-4625-aded-a797a1022207"
   },
   "outputs": [],
   "source": [
    "_generator2 = iter([net.weight,net.bias])"
   ]
  },
  {
   "cell_type": "code",
   "execution_count": 102,
   "id": "d50b9a8f-ab64-4461-a8de-dae1024a0676",
   "metadata": {
    "id": "d50b9a8f-ab64-4461-a8de-dae1024a0676",
    "outputId": "a3e283db-f325-4efa-8356-bc899911ef72"
   },
   "outputs": [
    {
     "data": {
      "text/plain": [
       "<list_iterator at 0x7fa3b80bfe20>"
      ]
     },
     "execution_count": 102,
     "metadata": {},
     "output_type": "execute_result"
    }
   ],
   "source": [
    "_generator2"
   ]
  },
  {
   "cell_type": "code",
   "execution_count": 103,
   "id": "ac67e0e0-bc1f-4204-abb1-0294b0bc780c",
   "metadata": {
    "id": "ac67e0e0-bc1f-4204-abb1-0294b0bc780c",
    "outputId": "80c41b61-e739-460a-e164-532a5dea60de"
   },
   "outputs": [
    {
     "data": {
      "text/plain": [
       "Parameter containing:\n",
       "tensor([[-0.2120]], requires_grad=True)"
      ]
     },
     "execution_count": 103,
     "metadata": {},
     "output_type": "execute_result"
    }
   ],
   "source": [
    "_generator2.__next__()"
   ]
  },
  {
   "cell_type": "code",
   "execution_count": 104,
   "id": "2e684a49-6f19-4bb9-9474-8229cc3d3c05",
   "metadata": {
    "id": "2e684a49-6f19-4bb9-9474-8229cc3d3c05",
    "outputId": "93bc6ab5-d7ba-4d31-b9ff-43d25da7cb39"
   },
   "outputs": [
    {
     "data": {
      "text/plain": [
       "Parameter containing:\n",
       "tensor([0.8670], requires_grad=True)"
      ]
     },
     "execution_count": 104,
     "metadata": {},
     "output_type": "execute_result"
    }
   ],
   "source": [
    "_generator2.__next__()"
   ]
  },
  {
   "cell_type": "code",
   "execution_count": 105,
   "id": "de2aa287-a9a9-498e-8c09-e8cce510fca0",
   "metadata": {
    "id": "de2aa287-a9a9-498e-8c09-e8cce510fca0",
    "outputId": "154b6719-b382-4438-82a9-58b0244b5d84"
   },
   "outputs": [
    {
     "ename": "StopIteration",
     "evalue": "",
     "output_type": "error",
     "traceback": [
      "\u001b[0;31m---------------------------------------------------------------------------\u001b[0m",
      "\u001b[0;31mStopIteration\u001b[0m                             Traceback (most recent call last)",
      "Input \u001b[0;32mIn [105]\u001b[0m, in \u001b[0;36m<cell line: 1>\u001b[0;34m()\u001b[0m\n\u001b[0;32m----> 1\u001b[0m \u001b[43m_generator2\u001b[49m\u001b[38;5;241;43m.\u001b[39;49m\u001b[38;5;21;43m__next__\u001b[39;49m\u001b[43m(\u001b[49m\u001b[43m)\u001b[49m\n",
      "\u001b[0;31mStopIteration\u001b[0m: "
     ]
    }
   ],
   "source": [
    "_generator2.__next__()"
   ]
  },
  {
   "cell_type": "markdown",
   "id": "7160596d-8239-4a9f-894f-ffa64b05f534",
   "metadata": {
    "id": "7160596d-8239-4a9f-894f-ffa64b05f534"
   },
   "source": [
    "`-` 즉 아래는 같은코드이다. \n",
    "\n",
    "```python\n",
    "### 코드1\n",
    "_generator = net.parameters() \n",
    "torch.optim.SGD(_generator,lr=1/10) \n",
    "### 코드2\n",
    "_generator = iter([net.weight,net.bias])\n",
    "torch.optim.SGD(_generator,lr=1/10) \n",
    "### 코드3 (이렇게 써도 코드2가 실행된다고 이해할 수 있음)\n",
    "_iterator = [net.weight,net.bias]\n",
    "torch.optim.SGD(_iterator,lr=1/10) \n",
    "```"
   ]
  },
  {
   "cell_type": "markdown",
   "id": "fc7e9d0a-e24a-4ba5-95bd-27797aa542c2",
   "metadata": {
    "id": "fc7e9d0a-e24a-4ba5-95bd-27797aa542c2"
   },
   "source": [
    "결론: `net.parameters()`는 net오브젝트에서 학습할 파라메터를 모두 모아 리스트(iterable object)로 만드는 함수라 이해할 수 있다. "
   ]
  },
  {
   "cell_type": "markdown",
   "id": "f8c78e9d-4372-4f55-8a26-705d38fc8ab0",
   "metadata": {
    "id": "f8c78e9d-4372-4f55-8a26-705d38fc8ab0"
   },
   "source": [
    "`-` 응용예제1"
   ]
  },
  {
   "cell_type": "code",
   "execution_count": 106,
   "id": "2cf58ba7-604a-422a-a352-068435212e66",
   "metadata": {
    "id": "2cf58ba7-604a-422a-a352-068435212e66"
   },
   "outputs": [],
   "source": [
    "What = torch.tensor([[-5.0],[10.0]],requires_grad=True)\n",
    "optimizr = torch.optim.SGD([What],lr=1/10) "
   ]
  },
  {
   "cell_type": "code",
   "execution_count": 107,
   "id": "0e62b2ae-6f3c-4b77-a2c8-8360a0b95e43",
   "metadata": {
    "id": "0e62b2ae-6f3c-4b77-a2c8-8360a0b95e43",
    "outputId": "c0ded3e9-de8a-4788-9cce-d442caca8261"
   },
   "outputs": [
    {
     "data": {
      "text/plain": [
       "[<matplotlib.lines.Line2D at 0x7fa3b80dc160>]"
      ]
     },
     "execution_count": 107,
     "metadata": {},
     "output_type": "execute_result"
    },
    {
     "data": {
      "image/png": "[encoded data removed]",
      "text/plain": [
       "<Figure size 432x288 with 1 Axes>"
      ]
     },
     "metadata": {
      "needs_background": "light"
     },
     "output_type": "display_data"
    }
   ],
   "source": [
    "plt.plot(x,y,'o')\n",
    "plt.plot(x,(X@What).data,'--')"
   ]
  },
  {
   "cell_type": "code",
   "execution_count": 108,
   "id": "2cfc141d-c559-41cd-b685-853829212879",
   "metadata": {
    "id": "2cfc141d-c559-41cd-b685-853829212879"
   },
   "outputs": [],
   "source": [
    "for epoc in range(30):\n",
    "    yhat = X@What \n",
    "    loss = torch.mean((y-yhat)**2)\n",
    "    loss.backward()\n",
    "    optimizr.step();optimizr.zero_grad() "
   ]
  },
  {
   "cell_type": "code",
   "execution_count": 109,
   "id": "beb20632-1f16-4b53-b20a-19d8054957ba",
   "metadata": {
    "id": "beb20632-1f16-4b53-b20a-19d8054957ba",
    "outputId": "4232923d-9699-4ef3-fd0e-e385d53e5351"
   },
   "outputs": [
    {
     "data": {
      "text/plain": [
       "[<matplotlib.lines.Line2D at 0x7fa3e0ed8460>]"
      ]
     },
     "execution_count": 109,
     "metadata": {},
     "output_type": "execute_result"
    },
    {
     "data": {
      "image/png": "[encoded data removed]",
      "text/plain": [
       "<Figure size 432x288 with 1 Axes>"
      ]
     },
     "metadata": {
      "needs_background": "light"
     },
     "output_type": "display_data"
    }
   ],
   "source": [
    "plt.plot(x,y,'o')\n",
    "plt.plot(x,(X@What).data,'--')"
   ]
  },
  {
   "cell_type": "markdown",
   "id": "60eee166-ade5-4283-b8cf-4752f4f7ce8e",
   "metadata": {
    "id": "60eee166-ade5-4283-b8cf-4752f4f7ce8e"
   },
   "source": [
    "`-` 응용예제2"
   ]
  },
  {
   "cell_type": "code",
   "execution_count": 110,
   "id": "f1900319-c737-4a5d-9581-e423ed690923",
   "metadata": {
    "id": "f1900319-c737-4a5d-9581-e423ed690923"
   },
   "outputs": [],
   "source": [
    "b = torch.tensor(-5.0,requires_grad=True)\n",
    "w = torch.tensor(10.0,requires_grad=True)\n",
    "optimizr = torch.optim.SGD([b,w],lr=1/10)"
   ]
  },
  {
   "cell_type": "code",
   "execution_count": 111,
   "id": "b4931b51-c48e-4242-8306-06099ea5615b",
   "metadata": {
    "id": "b4931b51-c48e-4242-8306-06099ea5615b",
    "outputId": "d7a8135b-6494-4cb2-a1a2-c9c70ed0e5d3"
   },
   "outputs": [
    {
     "data": {
      "text/plain": [
       "[<matplotlib.lines.Line2D at 0x7fa3e0e03df0>]"
      ]
     },
     "execution_count": 111,
     "metadata": {},
     "output_type": "execute_result"
    },
    {
     "data": {
      "image/png": "[encoded data removed]",
      "text/plain": [
       "<Figure size 432x288 with 1 Axes>"
      ]
     },
     "metadata": {
      "needs_background": "light"
     },
     "output_type": "display_data"
    }
   ],
   "source": [
    "plt.plot(x,y,'o')\n",
    "plt.plot(x,(w*x+b).data,'--')"
   ]
  },
  {
   "cell_type": "code",
   "execution_count": 112,
   "id": "e0e57bac-f53a-4260-9355-16384ca20ae5",
   "metadata": {
    "id": "e0e57bac-f53a-4260-9355-16384ca20ae5"
   },
   "outputs": [],
   "source": [
    "for epoc in range(30):\n",
    "    yhat = b+ w*x \n",
    "    loss = torch.mean((y-yhat)**2)\n",
    "    loss.backward()\n",
    "    optimizr.step(); optimizr.zero_grad()"
   ]
  },
  {
   "cell_type": "code",
   "execution_count": 113,
   "id": "95a66051-2ba2-499b-9fa4-0ba96378eee1",
   "metadata": {
    "id": "95a66051-2ba2-499b-9fa4-0ba96378eee1",
    "outputId": "f09e9c98-464d-41ea-f0e1-753cee4ee1ec"
   },
   "outputs": [
    {
     "data": {
      "text/plain": [
       "[<matplotlib.lines.Line2D at 0x7fa3f09beb50>]"
      ]
     },
     "execution_count": 113,
     "metadata": {},
     "output_type": "execute_result"
    },
    {
     "data": {
      "image/png": "[encoded data removed]",
      "text/plain": [
       "<Figure size 432x288 with 1 Axes>"
      ]
     },
     "metadata": {
      "needs_background": "light"
     },
     "output_type": "display_data"
    }
   ],
   "source": [
    "plt.plot(x,y,'o')\n",
    "plt.plot(x,(w*x+b).data,'--')"
   ]
  },
  {
   "cell_type": "markdown",
   "id": "cda1e039-c225-4801-a569-4b22e5995f1f",
   "metadata": {},
   "source": [
    "---"
   ]
  },
  {
   "cell_type": "markdown",
   "id": "ea0c08df-705f-452d-929b-e8f3170984b4",
   "metadata": {},
   "source": [
    "---"
   ]
  },
  {
   "cell_type": "markdown",
   "id": "97614025-8fed-4b77-ad97-78766ee8546f",
   "metadata": {},
   "source": [
    "---"
   ]
  },
  {
   "cell_type": "markdown",
   "id": "e6c7e1fb-c9b2-4fe9-af4f-1191b738d92f",
   "metadata": {
    "id": "e6c7e1fb-c9b2-4fe9-af4f-1191b738d92f",
    "tags": []
   },
   "source": [
    "## Logistic regression "
   ]
  },
  {
   "cell_type": "markdown",
   "id": "2bee3c23-2a81-4d32-b09c-0c1a0f2db049",
   "metadata": {
    "id": "2bee3c23-2a81-4d32-b09c-0c1a0f2db049"
   },
   "source": [
    "- ### motive "
   ]
  },
  {
   "cell_type": "markdown",
   "id": "9bf513f9-2ef7-463d-bf3a-428d2b1a59e9",
   "metadata": {
    "id": "9bf513f9-2ef7-463d-bf3a-428d2b1a59e9"
   },
   "source": [
    "`-` 현실에서 이런 경우가 많음 \n",
    "- $x$가 커질수록 (혹은 작아질수록) 성공확률이 증가함. \n",
    "  - 예를 들면, 학점이나 토익 점수가 높아질수록 성공확률이 증가하는 것과 유사한 얘기"
   ]
  },
  {
   "cell_type": "markdown",
   "id": "6658bd7e-0316-4ae0-aac3-58162ab5047d",
   "metadata": {
    "id": "6658bd7e-0316-4ae0-aac3-58162ab5047d"
   },
   "source": [
    "`-` (X,y)는 어떤모양? "
   ]
  },
  {
   "cell_type": "code",
   "execution_count": 94,
   "id": "dce6ff9d-88f3-4a72-be79-e27f874c48f4",
   "metadata": {
    "colab": {
     "base_uri": "https://localhost:8080/",
     "height": 457
    },
    "id": "dce6ff9d-88f3-4a72-be79-e27f874c48f4",
    "outputId": "297d9766-36f0-4902-9b94-0d8bad4ebf9e"
   },
   "outputs": [
    {
     "data": {
      "text/html": [
       "<div>\n",
       "<style scoped>\n",
       "    .dataframe tbody tr th:only-of-type {\n",
       "        vertical-align: middle;\n",
       "    }\n",
       "\n",
       "    .dataframe tbody tr th {\n",
       "        vertical-align: top;\n",
       "    }\n",
       "\n",
       "    .dataframe thead th {\n",
       "        text-align: right;\n",
       "    }\n",
       "</style>\n",
       "<table border=\"1\" class=\"dataframe\">\n",
       "  <thead>\n",
       "    <tr style=\"text-align: right;\">\n",
       "      <th></th>\n",
       "      <th>x</th>\n",
       "      <th>y</th>\n",
       "    </tr>\n",
       "  </thead>\n",
       "  <tbody>\n",
       "    <tr>\n",
       "      <th>0</th>\n",
       "      <td>-6</td>\n",
       "      <td>0</td>\n",
       "    </tr>\n",
       "    <tr>\n",
       "      <th>1</th>\n",
       "      <td>-5</td>\n",
       "      <td>0</td>\n",
       "    </tr>\n",
       "    <tr>\n",
       "      <th>2</th>\n",
       "      <td>-4</td>\n",
       "      <td>0</td>\n",
       "    </tr>\n",
       "    <tr>\n",
       "      <th>3</th>\n",
       "      <td>-3</td>\n",
       "      <td>0</td>\n",
       "    </tr>\n",
       "    <tr>\n",
       "      <th>4</th>\n",
       "      <td>-2</td>\n",
       "      <td>0</td>\n",
       "    </tr>\n",
       "    <tr>\n",
       "      <th>5</th>\n",
       "      <td>-1</td>\n",
       "      <td>0</td>\n",
       "    </tr>\n",
       "    <tr>\n",
       "      <th>6</th>\n",
       "      <td>0</td>\n",
       "      <td>1</td>\n",
       "    </tr>\n",
       "    <tr>\n",
       "      <th>7</th>\n",
       "      <td>1</td>\n",
       "      <td>0</td>\n",
       "    </tr>\n",
       "    <tr>\n",
       "      <th>8</th>\n",
       "      <td>2</td>\n",
       "      <td>1</td>\n",
       "    </tr>\n",
       "    <tr>\n",
       "      <th>9</th>\n",
       "      <td>3</td>\n",
       "      <td>1</td>\n",
       "    </tr>\n",
       "    <tr>\n",
       "      <th>10</th>\n",
       "      <td>4</td>\n",
       "      <td>1</td>\n",
       "    </tr>\n",
       "    <tr>\n",
       "      <th>11</th>\n",
       "      <td>5</td>\n",
       "      <td>1</td>\n",
       "    </tr>\n",
       "    <tr>\n",
       "      <th>12</th>\n",
       "      <td>6</td>\n",
       "      <td>1</td>\n",
       "    </tr>\n",
       "  </tbody>\n",
       "</table>\n",
       "</div>"
      ],
      "text/plain": [
       "    x  y\n",
       "0  -6  0\n",
       "1  -5  0\n",
       "2  -4  0\n",
       "3  -3  0\n",
       "4  -2  0\n",
       "5  -1  0\n",
       "6   0  1\n",
       "7   1  0\n",
       "8   2  1\n",
       "9   3  1\n",
       "10  4  1\n",
       "11  5  1\n",
       "12  6  1"
      ]
     },
     "execution_count": 94,
     "metadata": {},
     "output_type": "execute_result"
    }
   ],
   "source": [
    "_df = pd.DataFrame({'x':range(-6,7),'y':[0,0,0,0,0,0,1,0,1,1,1,1,1]})\n",
    "_df "
   ]
  },
  {
   "cell_type": "code",
   "execution_count": 95,
   "id": "9bd41d74-8923-4cae-ab5e-8a61adf3b50e",
   "metadata": {
    "colab": {
     "base_uri": "https://localhost:8080/",
     "height": 283
    },
    "id": "9bd41d74-8923-4cae-ab5e-8a61adf3b50e",
    "outputId": "01614b39-3f2b-4bb3-9161-e44ed3ab2a34"
   },
   "outputs": [
    {
     "data": {
      "text/plain": [
       "[<matplotlib.lines.Line2D at 0x7fe5a0117cd0>]"
      ]
     },
     "execution_count": 95,
     "metadata": {},
     "output_type": "execute_result"
    },
    {
     "data": {
      "image/png": "[encoded data removed]",
      "text/plain": [
       "<Figure size 432x288 with 1 Axes>"
      ]
     },
     "metadata": {
      "needs_background": "light"
     },
     "output_type": "display_data"
    }
   ],
   "source": [
    "plt.plot(_df.x,_df.y,'o')"
   ]
  },
  {
   "cell_type": "markdown",
   "id": "60068a1e-d503-4758-90fa-ad10fcfc2025",
   "metadata": {
    "id": "60068a1e-d503-4758-90fa-ad10fcfc2025"
   },
   "source": [
    "`-` (예비학습) 시그모이드라는 함수가 있음 "
   ]
  },
  {
   "cell_type": "code",
   "execution_count": 96,
   "id": "7f7b68e7-28c9-4ac5-8476-527d2c634518",
   "metadata": {
    "id": "7f7b68e7-28c9-4ac5-8476-527d2c634518"
   },
   "outputs": [],
   "source": [
    "xx = torch.linspace(-6,6,100)\n",
    "def f(x):\n",
    "    return torch.exp(x)/(1+torch.exp(x))\n",
    "\n",
    "f = lambda x : torch.exp(x)/(1+torch.exp(x))"
   ]
  },
  {
   "cell_type": "code",
   "execution_count": 97,
   "id": "1da1e7a8-5591-43ce-a179-f7b6bfd4ad56",
   "metadata": {
    "colab": {
     "base_uri": "https://localhost:8080/",
     "height": 283
    },
    "id": "1da1e7a8-5591-43ce-a179-f7b6bfd4ad56",
    "outputId": "49aeb907-0b6e-48f7-8eb3-b41752771fb0"
   },
   "outputs": [
    {
     "data": {
      "text/plain": [
       "[<matplotlib.lines.Line2D at 0x7fe5b1961df0>]"
      ]
     },
     "execution_count": 97,
     "metadata": {},
     "output_type": "execute_result"
    },
    {
     "data": {
      "image/png": "[encoded data removed]",
      "text/plain": [
       "<Figure size 432x288 with 1 Axes>"
      ]
     },
     "metadata": {
      "needs_background": "light"
     },
     "output_type": "display_data"
    }
   ],
   "source": [
    "plt.plot(_df.x,_df.y,'o')\n",
    "plt.plot(xx,f(xx))\n",
    "# 만약 f라는 함수에 xx가 아니라 2,3,4,,,등을 곱하면 xx의 영향력이 커진다..\n",
    "# 즉, outlier 개수가 줄어든다?,,"
   ]
  },
  {
   "cell_type": "code",
   "execution_count": 99,
   "id": "f8df4b0b-86bb-4da0-a4a2-715a7edf16b3",
   "metadata": {},
   "outputs": [
    {
     "data": {
      "text/plain": [
       "tensor([-60.0000, -58.7879, -57.5758, -56.3636, -55.1515, -53.9394, -52.7273,\n",
       "        -51.5152, -50.3030, -49.0909, -47.8788, -46.6667, -45.4545, -44.2424,\n",
       "        -43.0303, -41.8182, -40.6061, -39.3939, -38.1818, -36.9697, -35.7576,\n",
       "        -34.5455, -33.3333, -32.1212, -30.9091, -29.6970, -28.4848, -27.2727,\n",
       "        -26.0606, -24.8485, -23.6364, -22.4242, -21.2121, -20.0000, -18.7879,\n",
       "        -17.5758, -16.3636, -15.1515, -13.9394, -12.7273, -11.5152, -10.3030,\n",
       "         -9.0909,  -7.8788,  -6.6667,  -5.4545,  -4.2424,  -3.0303,  -1.8182,\n",
       "         -0.6061,   0.6061,   1.8182,   3.0303,   4.2424,   5.4545,   6.6667,\n",
       "          7.8788,   9.0909,  10.3030,  11.5151,  12.7273,  13.9394,  15.1515,\n",
       "         16.3636,  17.5758,  18.7879,  20.0000,  21.2121,  22.4242,  23.6364,\n",
       "         24.8485,  26.0606,  27.2727,  28.4848,  29.6970,  30.9091,  32.1212,\n",
       "         33.3333,  34.5455,  35.7576,  36.9697,  38.1818,  39.3939,  40.6061,\n",
       "         41.8182,  43.0303,  44.2424,  45.4545,  46.6667,  47.8788,  49.0909,\n",
       "         50.3030,  51.5152,  52.7273,  53.9394,  55.1515,  56.3636,  57.5758,\n",
       "         58.7879,  60.0000])"
      ]
     },
     "execution_count": 99,
     "metadata": {},
     "output_type": "execute_result"
    }
   ],
   "source": [
    "10*xx"
   ]
  },
  {
   "cell_type": "code",
   "execution_count": 98,
   "id": "833d21d9-00a8-4846-86f8-ba4f5d36ae62",
   "metadata": {},
   "outputs": [
    {
     "data": {
      "text/plain": [
       "[<matplotlib.lines.Line2D at 0x7fe5d1156580>]"
      ]
     },
     "execution_count": 98,
     "metadata": {},
     "output_type": "execute_result"
    },
    {
     "data": {
      "image/png": "[encoded data removed]",
      "text/plain": [
       "<Figure size 432x288 with 1 Axes>"
      ]
     },
     "metadata": {
      "needs_background": "light"
     },
     "output_type": "display_data"
    }
   ],
   "source": [
    "plt.plot(_df.x,_df.y,'o')\n",
    "plt.plot(xx,f(10*xx))\n",
    "# 만약 f라는 함수에 xx가 아니라 2,3,4,,,등을 곱하면 xx의 영향력이 커진다..\n",
    "# 즉, outlier 개수가 줄어든다?,,\n",
    "\n",
    "# 시그모이드가 좀 더 과적합...???????>......,,,,,,"
   ]
  },
  {
   "cell_type": "code",
   "execution_count": 121,
   "id": "rQ0llLFKkl7O",
   "metadata": {
    "colab": {
     "base_uri": "https://localhost:8080/",
     "height": 283
    },
    "id": "rQ0llLFKkl7O",
    "outputId": "93fd7b01-7fea-4aeb-d510-8dde883d5143"
   },
   "outputs": [
    {
     "data": {
      "text/plain": [
       "[<matplotlib.lines.Line2D at 0x7fa3c00a0af0>]"
      ]
     },
     "execution_count": 121,
     "metadata": {},
     "output_type": "execute_result"
    },
    {
     "data": {
      "image/png": "[encoded data removed]",
      "text/plain": [
       "<Figure size 432x288 with 1 Axes>"
      ]
     },
     "metadata": {
      "needs_background": "light"
     },
     "output_type": "display_data"
    }
   ],
   "source": [
    "plt.plot(_df.x,_df.y,'o')\n",
    "plt.plot(xx,f(10*xx+10))\n",
    "# 만약 f라는 함수에 xx가 아니라 2,3,4,,,등을 곱하면 xx의 영향력이 커진다..\n",
    "# 즉, outlier 개수가 줄어든다?,,"
   ]
  },
  {
   "cell_type": "markdown",
   "id": "7618f2d1-6bbb-4c44-894d-36d416ecf824",
   "metadata": {
    "id": "7618f2d1-6bbb-4c44-894d-36d416ecf824"
   },
   "source": [
    "- 그럴싸하다? "
   ]
  },
  {
   "cell_type": "markdown",
   "id": "3f055133-37f2-4612-8dc3-c2420aed35c0",
   "metadata": {
    "id": "3f055133-37f2-4612-8dc3-c2420aed35c0"
   },
   "source": [
    "### model"
   ]
  },
  {
   "cell_type": "markdown",
   "id": "2b9bf9e2-28d7-4a01-b33b-78cbff88c94e",
   "metadata": {
    "id": "2b9bf9e2-28d7-4a01-b33b-78cbff88c94e"
   },
   "source": [
    "`-` $x$가 커질수록 $y=1$이 잘나오는 모형은 아래와 같이 설계할 수 있음 <--- 외우세요!!!\n",
    "\n",
    "- $y_i \\sim Ber(\\pi_i),\\quad $ where $\\pi_i = \\frac{\\exp(w_0+w_1x_i)}{1+\\exp(w_0+w_1x_i)}$\n",
    "\n",
    "- $\\hat{y}_i= \\frac{\\exp(\\hat{w}_0+\\hat{w}_1x_i)}{1+\\exp(\\hat{w}_0+\\hat{w}_1x_i)}=\\frac{1}{1+\\exp(-\\hat{w}_0-\\hat{w}_1x_i)}$ \n",
    "\n",
    "- $loss= - \\sum_{i=1}^{n} \\big(y_i\\log(\\hat{y}_i)+(1-y_i)\\log(1-\\hat{y}_i)\\big)$ <--- 외우세요!!"
   ]
  },
  {
   "cell_type": "markdown",
   "id": "570c0597-5be1-451f-b8ce-79e3ddf4d2bf",
   "metadata": {
    "id": "570c0597-5be1-451f-b8ce-79e3ddf4d2bf"
   },
   "source": [
    "### toy example"
   ]
  },
  {
   "cell_type": "markdown",
   "id": "7631632f-6210-4c97-accd-d1dad7451d15",
   "metadata": {
    "id": "7631632f-6210-4c97-accd-d1dad7451d15"
   },
   "source": [
    "`-` 예제시작 "
   ]
  },
  {
   "cell_type": "code",
   "execution_count": 102,
   "id": "f63b7e9c-1a17-4d62-b629-f3d71ce392e0",
   "metadata": {
    "id": "f63b7e9c-1a17-4d62-b629-f3d71ce392e0"
   },
   "outputs": [],
   "source": [
    "x=torch.linspace(-1,1,2000).reshape(2000,1)\n",
    "w0= - 1 \n",
    "w1= 5 \n",
    "u = w0+x*w1 \n",
    "v = torch.exp(u)/(1+torch.exp(u)) # v=πi, 즉 확률을 의미함\n",
    "y = torch.bernoulli(v) "
   ]
  },
  {
   "cell_type": "code",
   "execution_count": 123,
   "id": "c5fb2121-3d2c-4be0-a3d9-255fba0b4877",
   "metadata": {
    "colab": {
     "base_uri": "https://localhost:8080/",
     "height": 283
    },
    "id": "c5fb2121-3d2c-4be0-a3d9-255fba0b4877",
    "outputId": "8f73db41-e5d0-448c-a9f8-216c166b1708"
   },
   "outputs": [
    {
     "data": {
      "text/plain": [
       "[<matplotlib.lines.Line2D at 0x7fa3e100c310>]"
      ]
     },
     "execution_count": 123,
     "metadata": {},
     "output_type": "execute_result"
    },
    {
     "data": {
      "image/png": "[encoded data removed]",
      "text/plain": [
       "<Figure size 432x288 with 1 Axes>"
      ]
     },
     "metadata": {
      "needs_background": "light"
     },
     "output_type": "display_data"
    }
   ],
   "source": [
    "plt.scatter(x,y,alpha=0.05)\n",
    "plt.plot(x,v,'--r') # true....."
   ]
  },
  {
   "cell_type": "markdown",
   "id": "4c18e0ff-360b-4990-8aaa-566660cbc36c",
   "metadata": {
    "id": "4c18e0ff-360b-4990-8aaa-566660cbc36c"
   },
   "source": [
    "- 우리의 목적: $x$가 들어가면 빨간선 $\\hat{y}$의 값을 만들어주는 mapping을 학습해보자. "
   ]
  },
  {
   "cell_type": "markdown",
   "id": "52e2350c-44e6-4958-905a-1517b879c951",
   "metadata": {
    "id": "52e2350c-44e6-4958-905a-1517b879c951"
   },
   "source": [
    "### net 설계 "
   ]
  },
  {
   "cell_type": "markdown",
   "id": "c59ec344-82c4-4ba0-84b5-33f2dde4dbc0",
   "metadata": {
    "id": "c59ec344-82c4-4ba0-84b5-33f2dde4dbc0"
   },
   "source": [
    "`-` 최초곡선 "
   ]
  },
  {
   "cell_type": "code",
   "execution_count": 105,
   "id": "e76331fa-c5ac-4808-959b-09138659f6a8",
   "metadata": {
    "id": "e76331fa-c5ac-4808-959b-09138659f6a8",
    "outputId": "69a84c85-d2ad-4ba0-8e26-da31233aec2a"
   },
   "outputs": [
    {
     "data": {
      "text/plain": [
       "[<matplotlib.lines.Line2D at 0x7fe5b1ae6be0>]"
      ]
     },
     "execution_count": 105,
     "metadata": {},
     "output_type": "execute_result"
    },
    {
     "data": {
      "image/png": "[encoded data removed]",
      "text/plain": [
       "<Figure size 432x288 with 1 Axes>"
      ]
     },
     "metadata": {
      "needs_background": "light"
     },
     "output_type": "display_data"
    }
   ],
   "source": [
    "plt.scatter(x,y,alpha=0.05)\n",
    "plt.plot(x,v,'--r')\n",
    "w0hat = -0.8470\n",
    "w1hat = -0.3467 \n",
    "plt.plot(x,f(x*w1hat+w0hat),'--b')\n",
    "# 파란선을 학습을 통해 빨간선에 적합시키는 것이 목표?"
   ]
  },
  {
   "cell_type": "markdown",
   "id": "01000a61-025d-4891-a2b3-a85c487bc073",
   "metadata": {
    "id": "01000a61-025d-4891-a2b3-a85c487bc073"
   },
   "source": [
    "`-` f 대신에 torch.nn.Sigmoid() 사용해서 함수만들어도 무방 "
   ]
  },
  {
   "cell_type": "code",
   "execution_count": 106,
   "id": "d62c9e79-c298-422e-a9f2-a609be9e6916",
   "metadata": {
    "id": "d62c9e79-c298-422e-a9f2-a609be9e6916"
   },
   "outputs": [],
   "source": [
    "a1 = torch.nn.Sigmoid()"
   ]
  },
  {
   "cell_type": "code",
   "execution_count": 107,
   "id": "b8efd79c-da9e-4290-b766-35dd0c6e709e",
   "metadata": {
    "id": "b8efd79c-da9e-4290-b766-35dd0c6e709e",
    "outputId": "1d745724-f3d8-4284-9e6f-30e606ee6b21"
   },
   "outputs": [
    {
     "data": {
      "text/plain": [
       "[<matplotlib.lines.Line2D at 0x7fe5800d75b0>]"
      ]
     },
     "execution_count": 107,
     "metadata": {},
     "output_type": "execute_result"
    },
    {
     "data": {
      "image/png": "[encoded data removed]",
      "text/plain": [
       "<Figure size 432x288 with 1 Axes>"
      ]
     },
     "metadata": {
      "needs_background": "light"
     },
     "output_type": "display_data"
    }
   ],
   "source": [
    "plt.scatter(x,y,alpha=0.05)\n",
    "plt.plot(x,v,'--r')\n",
    "w0hat = -0.8470\n",
    "w1hat = -0.3467 \n",
    "plt.plot(x,a1(x*w1hat+w0hat),'--b')"
   ]
  },
  {
   "cell_type": "markdown",
   "id": "c2dc72cc-70d5-4c98-a25c-3b9438a8eaaf",
   "metadata": {
    "id": "c2dc72cc-70d5-4c98-a25c-3b9438a8eaaf"
   },
   "source": [
    "`-` x*w1hat + w0hat 대신에 torch.nn.Linear() 로 써도 무방 "
   ]
  },
  {
   "cell_type": "code",
   "execution_count": 108,
   "id": "640255f8-a817-4e04-a7ce-5ae151dd1eb3",
   "metadata": {
    "id": "640255f8-a817-4e04-a7ce-5ae151dd1eb3"
   },
   "outputs": [],
   "source": [
    "torch.manual_seed(43052) \n",
    "l1=torch.nn.Linear(in_features=1,out_features=1,bias=True) "
   ]
  },
  {
   "cell_type": "code",
   "execution_count": 109,
   "id": "3617c37f-9074-4e06-b1da-91218655ea5c",
   "metadata": {
    "id": "3617c37f-9074-4e06-b1da-91218655ea5c",
    "outputId": "d8695463-cb06-4b86-d345-e73fd9e3f223"
   },
   "outputs": [
    {
     "data": {
      "text/plain": [
       "Parameter containing:\n",
       "tensor([[-0.3467]], requires_grad=True)"
      ]
     },
     "execution_count": 109,
     "metadata": {},
     "output_type": "execute_result"
    }
   ],
   "source": [
    "l1.weight"
   ]
  },
  {
   "cell_type": "code",
   "execution_count": 110,
   "id": "d2c2b65d-2160-494e-975b-76d4fff69512",
   "metadata": {
    "id": "d2c2b65d-2160-494e-975b-76d4fff69512",
    "outputId": "aa611316-5ca8-4631-9720-c1761accfe2b"
   },
   "outputs": [
    {
     "data": {
      "text/plain": [
       "Parameter containing:\n",
       "tensor([-0.8470], requires_grad=True)"
      ]
     },
     "execution_count": 110,
     "metadata": {},
     "output_type": "execute_result"
    }
   ],
   "source": [
    "l1.bias"
   ]
  },
  {
   "cell_type": "code",
   "execution_count": 111,
   "id": "b58b8a4d-835c-4a50-8013-831954ae6ce6",
   "metadata": {
    "id": "b58b8a4d-835c-4a50-8013-831954ae6ce6",
    "outputId": "fb2e0b89-44ef-45a9-9dee-0eb987a4dd90"
   },
   "outputs": [
    {
     "data": {
      "text/plain": [
       "[<matplotlib.lines.Line2D at 0x7fe5c467be20>]"
      ]
     },
     "execution_count": 111,
     "metadata": {},
     "output_type": "execute_result"
    },
    {
     "data": {
      "image/png": "[encoded data removed]",
      "text/plain": [
       "<Figure size 432x288 with 1 Axes>"
      ]
     },
     "metadata": {
      "needs_background": "light"
     },
     "output_type": "display_data"
    }
   ],
   "source": [
    "plt.scatter(x,y,alpha=0.05)\n",
    "plt.plot(x,v,'--r')\n",
    "plt.plot(x,a1(l1(x)).data,'--b')"
   ]
  },
  {
   "cell_type": "markdown",
   "id": "c4882318-40da-4912-beec-66a3184a931d",
   "metadata": {
    "id": "c4882318-40da-4912-beec-66a3184a931d"
   },
   "source": [
    "`-` 지금 $x \\overset{l1}{\\to} u \\overset{a1}{\\to} v = \\hat{y}$ 구조임 "
   ]
  },
  {
   "cell_type": "markdown",
   "id": "d749a505-6b92-4f4c-baf4-d605fd59fd84",
   "metadata": {
    "id": "d749a505-6b92-4f4c-baf4-d605fd59fd84"
   },
   "source": [
    "`-` l1,a1 을 sequential 하게 (직렬로) 엮어서 $ x \\overset{net}{\\to} \\hat{y}$ 로 만들수 없을까? "
   ]
  },
  {
   "cell_type": "code",
   "execution_count": 112,
   "id": "ae9604eb-6971-479e-8637-2c0745aef038",
   "metadata": {
    "id": "ae9604eb-6971-479e-8637-2c0745aef038"
   },
   "outputs": [],
   "source": [
    "net = torch.nn.Sequential(l1,a1) "
   ]
  },
  {
   "cell_type": "code",
   "execution_count": 113,
   "id": "cdb379ba-6a7f-4239-aafa-62737800d86a",
   "metadata": {
    "id": "cdb379ba-6a7f-4239-aafa-62737800d86a",
    "outputId": "d3136d5a-0130-4f1c-c190-103f9f6aea07"
   },
   "outputs": [
    {
     "data": {
      "text/plain": [
       "[<matplotlib.lines.Line2D at 0x7fe5b1b4d760>]"
      ]
     },
     "execution_count": 113,
     "metadata": {},
     "output_type": "execute_result"
    },
    {
     "data": {
      "image/png": "[encoded data removed]",
      "text/plain": [
       "<Figure size 432x288 with 1 Axes>"
      ]
     },
     "metadata": {
      "needs_background": "light"
     },
     "output_type": "display_data"
    }
   ],
   "source": [
    "plt.scatter(x,y,alpha=0.05)\n",
    "plt.plot(x,v,'--r')\n",
    "plt.plot(x,net(x).data,'--b')"
   ]
  },
  {
   "cell_type": "markdown",
   "id": "4c8ca16e-8361-4c81-b022-8b9350c168b2",
   "metadata": {
    "id": "4c8ca16e-8361-4c81-b022-8b9350c168b2"
   },
   "source": [
    "### 학습"
   ]
  },
  {
   "cell_type": "markdown",
   "id": "0bdbea3f-9d14-44ec-a99c-6ff5c72f1d3f",
   "metadata": {
    "id": "0bdbea3f-9d14-44ec-a99c-6ff5c72f1d3f"
   },
   "source": [
    "`-` 이제 옵티마이저 설계하고 학습하자. "
   ]
  },
  {
   "cell_type": "code",
   "execution_count": 114,
   "id": "93c6dc47-608d-49e8-b156-ca3d6483940a",
   "metadata": {
    "id": "93c6dc47-608d-49e8-b156-ca3d6483940a"
   },
   "outputs": [],
   "source": [
    "optimizr = torch.optim.SGD(net.parameters(),lr=0.05) "
   ]
  },
  {
   "cell_type": "markdown",
   "id": "a8d76f5a-eb1b-43a9-b478-0793557a2a32",
   "metadata": {
    "id": "a8d76f5a-eb1b-43a9-b478-0793557a2a32"
   },
   "source": [
    "`-` step1~4 "
   ]
  },
  {
   "cell_type": "markdown",
   "id": "a26c14c5-7697-4032-b60d-ee5f14a5a859",
   "metadata": {
    "id": "a26c14c5-7697-4032-b60d-ee5f14a5a859"
   },
   "source": [
    "(1000번 학습)"
   ]
  },
  {
   "cell_type": "code",
   "execution_count": 115,
   "id": "f5fb7d96-fb74-48b1-ad3a-1882c3432ed6",
   "metadata": {
    "id": "f5fb7d96-fb74-48b1-ad3a-1882c3432ed6"
   },
   "outputs": [],
   "source": [
    "for epoc in range(1000): \n",
    "    ## 1 \n",
    "    yhat= net(x) \n",
    "    ## 2 \n",
    "    loss= torch.mean((y-yhat)**2) ## loss가 사실 이러면 안됩니다.. ㅠㅠ \n",
    "    ## 3 \n",
    "    loss.backward() \n",
    "    ## 4 \n",
    "    optimizr.step()\n",
    "    optimizr.zero_grad()"
   ]
  },
  {
   "cell_type": "code",
   "execution_count": 116,
   "id": "d6e9f04c-ed2b-4716-ad7c-c1da091528a1",
   "metadata": {
    "id": "d6e9f04c-ed2b-4716-ad7c-c1da091528a1",
    "outputId": "4ae68afd-4dfa-4f4d-db8b-a0e8f0a66e99"
   },
   "outputs": [
    {
     "data": {
      "text/plain": [
       "[<matplotlib.lines.Line2D at 0x7fe5b1b851f0>]"
      ]
     },
     "execution_count": 116,
     "metadata": {},
     "output_type": "execute_result"
    },
    {
     "data": {
      "image/png": "[encoded data removed]",
      "text/plain": [
       "<Figure size 432x288 with 1 Axes>"
      ]
     },
     "metadata": {
      "needs_background": "light"
     },
     "output_type": "display_data"
    }
   ],
   "source": [
    "plt.scatter(x,y,alpha=0.05)\n",
    "plt.plot(x,v,'--r') # 정답값\n",
    "plt.plot(x,net(x).data,'--b')"
   ]
  },
  {
   "cell_type": "markdown",
   "id": "8f3159bb-49e9-4d1f-a274-979fd25c2dd2",
   "metadata": {
    "id": "8f3159bb-49e9-4d1f-a274-979fd25c2dd2"
   },
   "source": [
    "(5000번 추가학습)"
   ]
  },
  {
   "cell_type": "code",
   "execution_count": 117,
   "id": "8db5e8fa-4353-44dc-b328-3830ce2d5e7c",
   "metadata": {
    "id": "8db5e8fa-4353-44dc-b328-3830ce2d5e7c"
   },
   "outputs": [],
   "source": [
    "for epoc in range(5000): \n",
    "    ## 1 \n",
    "    yhat= net(x) \n",
    "    ## 2 \n",
    "    loss= torch.mean((y-yhat)**2) ## 사실 이러면 안됩니다.. ㅠㅠ \n",
    "    ## 3 \n",
    "    loss.backward() \n",
    "    ## 4 \n",
    "    optimizr.step()\n",
    "    optimizr.zero_grad()"
   ]
  },
  {
   "cell_type": "code",
   "execution_count": 118,
   "id": "1df24128-4b60-460f-baae-6614d13da0f9",
   "metadata": {
    "id": "1df24128-4b60-460f-baae-6614d13da0f9",
    "outputId": "e1379bf1-0fb9-4e6c-ab18-3b452fe55f11"
   },
   "outputs": [
    {
     "data": {
      "text/plain": [
       "[<matplotlib.lines.Line2D at 0x7fe5e0a47940>]"
      ]
     },
     "execution_count": 118,
     "metadata": {},
     "output_type": "execute_result"
    },
    {
     "data": {
      "image/png": "[encoded data removed]",
      "text/plain": [
       "<Figure size 432x288 with 1 Axes>"
      ]
     },
     "metadata": {
      "needs_background": "light"
     },
     "output_type": "display_data"
    }
   ],
   "source": [
    "plt.scatter(x,y,alpha=0.05)\n",
    "plt.plot(x,v,'--r')\n",
    "plt.plot(x,net(x).data,'--b')"
   ]
  }
 ],
 "metadata": {
  "accelerator": "GPU",
  "colab": {
   "provenance": []
  },
  "kernelspec": {
   "display_name": "Python 3 (ipykernel)",
   "language": "python",
   "name": "python3"
  },
  "language_info": {
   "codemirror_mode": {
    "name": "ipython",
    "version": 3
   },
   "file_extension": ".py",
   "mimetype": "text/x-python",
   "name": "python",
   "nbconvert_exporter": "python",
   "pygments_lexer": "ipython3",
   "version": "3.9.12"
  }
 },
 "nbformat": 4,
 "nbformat_minor": 5
}
