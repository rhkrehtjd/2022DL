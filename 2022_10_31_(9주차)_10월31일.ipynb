{
  "cells": [
    {
      "cell_type": "markdown",
      "id": "7719d563-3bf1-4cdc-a468-fa97bb108655",
      "metadata": {
        "tags": [],
        "id": "7719d563-3bf1-4cdc-a468-fa97bb108655"
      },
      "source": [
        "# (9주차) 10월31일 -- draft\n",
        "> 순환신경망 -- \n",
        "\n",
        "- toc:true\n",
        "- branch: master\n",
        "- badges: true\n",
        "- comments: true\n",
        "- author: 최규빈"
      ]
    },
    {
      "cell_type": "code",
      "execution_count": null,
      "id": "d659a70a-0787-4b44-9f4d-cfd3229de778",
      "metadata": {
        "id": "d659a70a-0787-4b44-9f4d-cfd3229de778"
      },
      "outputs": [],
      "source": [
        "import torch\n",
        "import matplotlib.pyplot as plt"
      ]
    },
    {
      "cell_type": "code",
      "execution_count": null,
      "id": "1ab88425-9f1e-47ef-8e66-d81d9705726b",
      "metadata": {
        "id": "1ab88425-9f1e-47ef-8e66-d81d9705726b"
      },
      "outputs": [],
      "source": [
        "def f(txt,mapping):\n",
        "    return [mapping[key] for key in txt] "
      ]
    },
    {
      "cell_type": "code",
      "execution_count": null,
      "id": "0b484a5d-6a33-4185-9207-021c75e63be0",
      "metadata": {
        "id": "0b484a5d-6a33-4185-9207-021c75e63be0"
      },
      "outputs": [],
      "source": [
        "sig = torch.nn.Sigmoid()\n",
        "soft = torch.nn.Softmax(dim=1)\n",
        "tanh = torch.nn.Tanh()"
      ]
    },
    {
      "cell_type": "markdown",
      "id": "d9aeb71e-50b5-4785-9a70-657ff7a5b9ce",
      "metadata": {
        "id": "d9aeb71e-50b5-4785-9a70-657ff7a5b9ce"
      },
      "source": [
        "## 순환신경망 motivation -- abab"
      ]
    },
    {
      "cell_type": "markdown",
      "id": "55626436-9752-48b9-b7ea-83c8c762123b",
      "metadata": {
        "id": "55626436-9752-48b9-b7ea-83c8c762123b"
      },
      "source": [
        "### data"
      ]
    },
    {
      "cell_type": "code",
      "execution_count": null,
      "id": "57f00d79-bcbb-4228-b8c6-c061aad1db63",
      "metadata": {
        "id": "57f00d79-bcbb-4228-b8c6-c061aad1db63",
        "outputId": "f9f37229-eaf2-4ee6-d6ef-3a9d176310e2"
      },
      "outputs": [
        {
          "data": {
            "text/plain": [
              "['a', 'b', 'a', 'b', 'a', 'b', 'a', 'b', 'a', 'b']"
            ]
          },
          "execution_count": 4,
          "metadata": {},
          "output_type": "execute_result"
        }
      ],
      "source": [
        "txt = list('ab')*100\n",
        "txt[:10]"
      ]
    },
    {
      "cell_type": "code",
      "execution_count": null,
      "id": "1550b90c-b546-4200-a90e-789bdd7d7f65",
      "metadata": {
        "id": "1550b90c-b546-4200-a90e-789bdd7d7f65"
      },
      "outputs": [],
      "source": [
        "txt_x = txt[:-1]\n",
        "txt_y = txt[1:]"
      ]
    },
    {
      "cell_type": "code",
      "execution_count": null,
      "id": "eb6a094e-ee9f-4f06-b384-3d486a4b43b8",
      "metadata": {
        "id": "eb6a094e-ee9f-4f06-b384-3d486a4b43b8",
        "outputId": "5cc914e4-2e88-4338-b7dc-2f61da04f3d7"
      },
      "outputs": [
        {
          "data": {
            "text/plain": [
              "(['a', 'b', 'a', 'b', 'a'], ['b', 'a', 'b', 'a', 'b'])"
            ]
          },
          "execution_count": 6,
          "metadata": {},
          "output_type": "execute_result"
        }
      ],
      "source": [
        "txt_x[:5],txt_y[:5]"
      ]
    },
    {
      "cell_type": "markdown",
      "id": "d0bc6411-2d04-4e10-ac2d-d94a96a06fa2",
      "metadata": {
        "id": "d0bc6411-2d04-4e10-ac2d-d94a96a06fa2"
      },
      "source": [
        "### arch1 (last layer = linear)"
      ]
    },
    {
      "cell_type": "markdown",
      "id": "070ddec1-4057-477c-bae9-5351ac000d74",
      "metadata": {
        "id": "070ddec1-4057-477c-bae9-5351ac000d74"
      },
      "source": [
        "#### (풀이1) 1개의 파라메터 -- 실패"
      ]
    },
    {
      "cell_type": "code",
      "execution_count": null,
      "id": "97a17769-a4ce-4e83-9d7c-7f932464249f",
      "metadata": {
        "id": "97a17769-a4ce-4e83-9d7c-7f932464249f"
      },
      "outputs": [],
      "source": [
        "x = torch.tensor(f(txt_x,{'a':0,'b':1})).float().reshape(-1,1)\n",
        "y = torch.tensor(f(txt_y,{'a':0,'b':1})).float().reshape(-1,1)"
      ]
    },
    {
      "cell_type": "code",
      "execution_count": null,
      "id": "0d0a4184-9e4e-4e3a-9705-ce95ade1dd8b",
      "metadata": {
        "id": "0d0a4184-9e4e-4e3a-9705-ce95ade1dd8b",
        "outputId": "8f407a2f-a599-415f-d354-98f21cbab71d"
      },
      "outputs": [
        {
          "data": {
            "text/plain": [
              "(tensor([[0.],\n",
              "         [1.],\n",
              "         [0.],\n",
              "         [1.],\n",
              "         [0.]]),\n",
              " tensor([[1.],\n",
              "         [0.],\n",
              "         [1.],\n",
              "         [0.],\n",
              "         [1.]]))"
            ]
          },
          "execution_count": 8,
          "metadata": {},
          "output_type": "execute_result"
        }
      ],
      "source": [
        "x[:5],y[:5]"
      ]
    },
    {
      "cell_type": "code",
      "execution_count": null,
      "id": "b2e8b79d-6031-4e4e-a6f2-9304df4063fc",
      "metadata": {
        "id": "b2e8b79d-6031-4e4e-a6f2-9304df4063fc"
      },
      "outputs": [],
      "source": [
        "net = torch.nn.Sequential(\n",
        "    torch.nn.Linear(in_features=1,out_features=1,bias=False)\n",
        ")\n",
        "loss_fn = torch.nn.MSELoss()\n",
        "optimizr = torch.optim.Adam(net.parameters())"
      ]
    },
    {
      "cell_type": "code",
      "execution_count": null,
      "id": "d7150914-376c-4fed-a1b1-e0e60f730556",
      "metadata": {
        "id": "d7150914-376c-4fed-a1b1-e0e60f730556"
      },
      "outputs": [],
      "source": [
        "for epoc in range(1000):\n",
        "    ## 1\n",
        "    yhat = net(x) \n",
        "    ## 2 \n",
        "    loss = loss_fn(yhat,y)\n",
        "    ## 3 \n",
        "    loss.backward()\n",
        "    ## 4 \n",
        "    optimizr.step()\n",
        "    optimizr.zero_grad()"
      ]
    },
    {
      "cell_type": "code",
      "execution_count": null,
      "id": "8db2a7d6-f6ad-47f0-9c72-34045c3901cd",
      "metadata": {
        "id": "8db2a7d6-f6ad-47f0-9c72-34045c3901cd",
        "outputId": "ccba512f-0391-48aa-c1d9-996f7676617b"
      },
      "outputs": [
        {
          "data": {
            "text/plain": [
              "[<matplotlib.lines.Line2D at 0x7fa97da6fe90>]"
            ]
          },
          "execution_count": 11,
          "metadata": {},
          "output_type": "execute_result"
        },
        {
          "data": {
            "image/png": "[encoded data removed]",
            "text/plain": [
              "<Figure size 432x288 with 1 Axes>"
            ]
          },
          "metadata": {
            "needs_background": "light"
          },
          "output_type": "display_data"
        }
      ],
      "source": [
        "plt.plot(y[:5],'o')\n",
        "plt.plot(net(x).data[:5])"
      ]
    },
    {
      "cell_type": "markdown",
      "id": "fa65f106-5929-4bed-aac0-3cb742976575",
      "metadata": {
        "id": "fa65f106-5929-4bed-aac0-3cb742976575"
      },
      "source": [
        "- 이건 못해.."
      ]
    },
    {
      "cell_type": "markdown",
      "id": "fa2bcfaf-a54e-4b74-9995-efd22de1e688",
      "metadata": {
        "id": "fa2bcfaf-a54e-4b74-9995-efd22de1e688"
      },
      "source": [
        "#### (풀이2) 1개의 파라메터 -- 성공, 그런데 오늘만 살꺼야? "
      ]
    },
    {
      "cell_type": "code",
      "execution_count": null,
      "id": "01784e97-2b06-4495-a028-ec7c129579a9",
      "metadata": {
        "id": "01784e97-2b06-4495-a028-ec7c129579a9"
      },
      "outputs": [],
      "source": [
        "x = torch.tensor(f(txt_x,{'a':-1,'b':1})).float().reshape(-1,1) \n",
        "y = torch.tensor(f(txt_y,{'a':-1,'b':1})).float().reshape(-1,1)"
      ]
    },
    {
      "cell_type": "markdown",
      "id": "fca89cda-4ceb-41db-93d3-129ff51a3919",
      "metadata": {
        "id": "fca89cda-4ceb-41db-93d3-129ff51a3919"
      },
      "source": [
        "- 족보도 없는 인코딩"
      ]
    },
    {
      "cell_type": "code",
      "execution_count": null,
      "id": "d968c60c-57c9-49a5-86ce-52cfa6a5bb3d",
      "metadata": {
        "id": "d968c60c-57c9-49a5-86ce-52cfa6a5bb3d",
        "outputId": "625d868d-009e-4b0c-db60-d4efe06b5a3f"
      },
      "outputs": [
        {
          "data": {
            "text/plain": [
              "(tensor([[-1.],\n",
              "         [ 1.],\n",
              "         [-1.],\n",
              "         [ 1.],\n",
              "         [-1.]]),\n",
              " tensor([[ 1.],\n",
              "         [-1.],\n",
              "         [ 1.],\n",
              "         [-1.],\n",
              "         [ 1.]]))"
            ]
          },
          "execution_count": 13,
          "metadata": {},
          "output_type": "execute_result"
        }
      ],
      "source": [
        "x[:5],y[:5]"
      ]
    },
    {
      "cell_type": "code",
      "execution_count": null,
      "id": "79441c58-1aff-4d51-83fe-46135843a68b",
      "metadata": {
        "id": "79441c58-1aff-4d51-83fe-46135843a68b"
      },
      "outputs": [],
      "source": [
        "net = torch.nn.Sequential(\n",
        "    torch.nn.Linear(in_features=1,out_features=1,bias=False)\n",
        ")\n",
        "loss_fn = torch.nn.MSELoss()\n",
        "optimizr = torch.optim.Adam(net.parameters())"
      ]
    },
    {
      "cell_type": "code",
      "execution_count": null,
      "id": "a33f2e8a-a7d6-4b47-8171-434c9e9aa48f",
      "metadata": {
        "id": "a33f2e8a-a7d6-4b47-8171-434c9e9aa48f"
      },
      "outputs": [],
      "source": [
        "for epoc in range(2000):\n",
        "    ## 1\n",
        "    yhat = net(x) \n",
        "    ## 2 \n",
        "    loss = loss_fn(yhat,y)\n",
        "    ## 3 \n",
        "    loss.backward()\n",
        "    ## 4 \n",
        "    optimizr.step()\n",
        "    optimizr.zero_grad()"
      ]
    },
    {
      "cell_type": "code",
      "execution_count": null,
      "id": "15f7c281-8fce-4b62-8ba8-af1e40ea5e7f",
      "metadata": {
        "id": "15f7c281-8fce-4b62-8ba8-af1e40ea5e7f",
        "outputId": "b452c19f-2585-44e7-c175-3d40137e888e"
      },
      "outputs": [
        {
          "data": {
            "text/plain": [
              "[<matplotlib.lines.Line2D at 0x7fa97d932fd0>]"
            ]
          },
          "execution_count": 16,
          "metadata": {},
          "output_type": "execute_result"
        },
        {
          "data": {
            "image/png": "[encoded data removed]",
            "text/plain": [
              "<Figure size 432x288 with 1 Axes>"
            ]
          },
          "metadata": {
            "needs_background": "light"
          },
          "output_type": "display_data"
        }
      ],
      "source": [
        "plt.plot(y[:5],'o')\n",
        "plt.plot(net(x).data[:5])"
      ]
    },
    {
      "cell_type": "markdown",
      "id": "b69a83a2-b2c5-4de8-9876-a7d9913ace5a",
      "metadata": {
        "id": "b69a83a2-b2c5-4de8-9876-a7d9913ace5a"
      },
      "source": [
        "- 딱봐도 클래스가 3개일 경우 확장이 어려워 보인다. "
      ]
    },
    {
      "cell_type": "markdown",
      "id": "367c16d4-4ad9-4e3e-8a2c-e59ffbac13db",
      "metadata": {
        "id": "367c16d4-4ad9-4e3e-8a2c-e59ffbac13db"
      },
      "source": [
        "### arch2 (last layer = sigmoid)"
      ]
    },
    {
      "cell_type": "markdown",
      "id": "5c273137-56f8-4128-8026-4e1a899de624",
      "metadata": {
        "id": "5c273137-56f8-4128-8026-4e1a899de624"
      },
      "source": [
        "#### (풀이1) 1개의 파라메터 -- 실패"
      ]
    },
    {
      "cell_type": "code",
      "execution_count": null,
      "id": "81773a8d-91b8-45f7-9d27-e6e741e1bb13",
      "metadata": {
        "id": "81773a8d-91b8-45f7-9d27-e6e741e1bb13"
      },
      "outputs": [],
      "source": [
        "mapping = {'a':0,'b':1}\n",
        "x = torch.tensor(f(txt_x,mapping)).float().reshape(-1,1)\n",
        "y = torch.tensor(f(txt_y,mapping)).float().reshape(-1,1)"
      ]
    },
    {
      "cell_type": "code",
      "execution_count": null,
      "id": "512372fc-2a66-4361-8e99-428722bfa67b",
      "metadata": {
        "id": "512372fc-2a66-4361-8e99-428722bfa67b",
        "outputId": "7d3c4529-82df-409e-a12e-0facc9e3484d"
      },
      "outputs": [
        {
          "data": {
            "text/plain": [
              "(tensor([[0.],\n",
              "         [1.],\n",
              "         [0.],\n",
              "         [1.],\n",
              "         [0.]]),\n",
              " tensor([[1.],\n",
              "         [0.],\n",
              "         [1.],\n",
              "         [0.],\n",
              "         [1.]]))"
            ]
          },
          "execution_count": 18,
          "metadata": {},
          "output_type": "execute_result"
        }
      ],
      "source": [
        "x[:5],y[:5]"
      ]
    },
    {
      "cell_type": "code",
      "execution_count": null,
      "id": "6e4654a4-39bb-4b68-bfb7-10406da4557a",
      "metadata": {
        "id": "6e4654a4-39bb-4b68-bfb7-10406da4557a"
      },
      "outputs": [],
      "source": [
        "net = torch.nn.Sequential(\n",
        "    torch.nn.Linear(in_features=1,out_features=1,bias=False)\n",
        ")\n",
        "loss_fn = torch.nn.BCEWithLogitsLoss()\n",
        "optimizr = torch.optim.Adam(net.parameters())"
      ]
    },
    {
      "cell_type": "code",
      "execution_count": null,
      "id": "161378a6-1094-481c-bbce-824c2031eb97",
      "metadata": {
        "id": "161378a6-1094-481c-bbce-824c2031eb97",
        "outputId": "a768bf9e-7053-42c7-f4e4-631e2f221b17"
      },
      "outputs": [
        {
          "data": {
            "text/plain": [
              "Parameter containing:\n",
              "tensor([[0.7078]], requires_grad=True)"
            ]
          },
          "execution_count": 20,
          "metadata": {},
          "output_type": "execute_result"
        }
      ],
      "source": [
        "net[0].weight"
      ]
    },
    {
      "cell_type": "code",
      "execution_count": null,
      "id": "07ff4472-c67c-41fa-aa43-797f482fb03c",
      "metadata": {
        "id": "07ff4472-c67c-41fa-aa43-797f482fb03c",
        "outputId": "d43867b5-069b-400b-e389-c6d9806333c0"
      },
      "outputs": [
        {
          "data": {
            "text/plain": [
              "tensor([0.])"
            ]
          },
          "execution_count": 21,
          "metadata": {},
          "output_type": "execute_result"
        }
      ],
      "source": [
        "net[0].weight.data @ x[0] "
      ]
    },
    {
      "cell_type": "code",
      "execution_count": null,
      "id": "81e91d27-707f-4954-a094-d453dadfcc89",
      "metadata": {
        "id": "81e91d27-707f-4954-a094-d453dadfcc89",
        "outputId": "adc661cb-0666-4fc4-ef06-bdfab3f0c529"
      },
      "outputs": [
        {
          "data": {
            "text/plain": [
              "tensor([0.], grad_fn=<SelectBackward0>)"
            ]
          },
          "execution_count": 22,
          "metadata": {},
          "output_type": "execute_result"
        }
      ],
      "source": [
        "net(x)[0]"
      ]
    },
    {
      "cell_type": "code",
      "execution_count": null,
      "id": "0e8eda36-0bdf-4a66-b11e-8a54ffe047d5",
      "metadata": {
        "id": "0e8eda36-0bdf-4a66-b11e-8a54ffe047d5"
      },
      "outputs": [],
      "source": [
        "for epoc in range(5000):\n",
        "    ## 1\n",
        "    yhat = net(x) \n",
        "    ## 2 \n",
        "    loss = loss_fn(yhat,y)\n",
        "    ## 3 \n",
        "    loss.backward()\n",
        "    ## 4 \n",
        "    optimizr.step()\n",
        "    optimizr.zero_grad()"
      ]
    },
    {
      "cell_type": "code",
      "execution_count": null,
      "id": "2e7448e1-6c37-4da9-b2a5-e563e8f03f2a",
      "metadata": {
        "id": "2e7448e1-6c37-4da9-b2a5-e563e8f03f2a",
        "outputId": "450f3241-20ed-476a-f0db-3c07badc4786"
      },
      "outputs": [
        {
          "data": {
            "text/plain": [
              "[<matplotlib.lines.Line2D at 0x7fa97d7f3e50>]"
            ]
          },
          "execution_count": 24,
          "metadata": {},
          "output_type": "execute_result"
        },
        {
          "data": {
            "image/png": "[encoded data removed]",
            "text/plain": [
              "<Figure size 432x288 with 1 Axes>"
            ]
          },
          "metadata": {
            "needs_background": "light"
          },
          "output_type": "display_data"
        }
      ],
      "source": [
        "plt.plot(y[:10],'o')\n",
        "plt.plot(sig(net(x)).data[:10],'--o')"
      ]
    },
    {
      "cell_type": "markdown",
      "id": "c6730c3f-890e-4225-b097-7b3ef6e82b76",
      "metadata": {
        "id": "c6730c3f-890e-4225-b097-7b3ef6e82b76"
      },
      "source": [
        "- 이게 한계"
      ]
    },
    {
      "cell_type": "markdown",
      "id": "3bb65e4f-61db-4484-b84b-b33837cfc7cd",
      "metadata": {
        "id": "3bb65e4f-61db-4484-b84b-b33837cfc7cd"
      },
      "source": [
        "#### (풀이2) 2개의 파라메터 + 좋은 초기값 -- 성공"
      ]
    },
    {
      "cell_type": "code",
      "execution_count": null,
      "id": "371121bb-aaeb-47c3-9f44-a93bf6ad1bfb",
      "metadata": {
        "id": "371121bb-aaeb-47c3-9f44-a93bf6ad1bfb"
      },
      "outputs": [],
      "source": [
        "mapping = {'a':0,'b':1}\n",
        "x = torch.tensor(f(txt_x,mapping)).float().reshape(-1,1)\n",
        "y = torch.tensor(f(txt_y,mapping)).float().reshape(-1,1)"
      ]
    },
    {
      "cell_type": "code",
      "execution_count": null,
      "id": "479cf0a4-153d-4fc9-948f-a9e222aa4394",
      "metadata": {
        "id": "479cf0a4-153d-4fc9-948f-a9e222aa4394",
        "outputId": "4636cd82-baa2-4a0c-a53d-53c1b53521e3"
      },
      "outputs": [
        {
          "data": {
            "text/plain": [
              "(tensor([[0.],\n",
              "         [1.],\n",
              "         [0.],\n",
              "         [1.],\n",
              "         [0.]]),\n",
              " tensor([[1.],\n",
              "         [0.],\n",
              "         [1.],\n",
              "         [0.],\n",
              "         [1.]]))"
            ]
          },
          "execution_count": 26,
          "metadata": {},
          "output_type": "execute_result"
        }
      ],
      "source": [
        "x[:5],y[:5]"
      ]
    },
    {
      "cell_type": "code",
      "execution_count": null,
      "id": "45345a34-e370-4fab-8574-f5c1cfb848af",
      "metadata": {
        "id": "45345a34-e370-4fab-8574-f5c1cfb848af"
      },
      "outputs": [],
      "source": [
        "net = torch.nn.Sequential(\n",
        "    torch.nn.Linear(in_features=1,out_features=1,bias=True)\n",
        ")\n",
        "loss_fn = torch.nn.BCEWithLogitsLoss()\n",
        "optimizr = torch.optim.Adam(net.parameters())"
      ]
    },
    {
      "cell_type": "code",
      "execution_count": null,
      "id": "b068c892-79d9-45c9-b807-9969959c4cfc",
      "metadata": {
        "id": "b068c892-79d9-45c9-b807-9969959c4cfc"
      },
      "outputs": [],
      "source": [
        "net[0].weight.data = torch.tensor([[-5.00]])\n",
        "net[0].bias.data = torch.tensor([+2.500])"
      ]
    },
    {
      "cell_type": "code",
      "execution_count": null,
      "id": "140bfd30-2264-4874-9dea-11eec603eb44",
      "metadata": {
        "id": "140bfd30-2264-4874-9dea-11eec603eb44",
        "outputId": "42115151-8927-4e1e-ae15-75b3373188cf"
      },
      "outputs": [
        {
          "data": {
            "text/plain": [
              "tensor([[ 2.5000],\n",
              "        [-2.5000],\n",
              "        [ 2.5000],\n",
              "        [-2.5000],\n",
              "        [ 2.5000],\n",
              "        [-2.5000],\n",
              "        [ 2.5000],\n",
              "        [-2.5000],\n",
              "        [ 2.5000],\n",
              "        [-2.5000]], grad_fn=<SliceBackward0>)"
            ]
          },
          "execution_count": 29,
          "metadata": {},
          "output_type": "execute_result"
        }
      ],
      "source": [
        "net(x)[:10]"
      ]
    },
    {
      "cell_type": "code",
      "execution_count": null,
      "id": "dce3fd6d-6190-41f2-b179-9b4812afbf31",
      "metadata": {
        "id": "dce3fd6d-6190-41f2-b179-9b4812afbf31",
        "outputId": "97877f30-c412-445b-ebf7-3e2288a5ae27"
      },
      "outputs": [
        {
          "data": {
            "text/plain": [
              "[<matplotlib.lines.Line2D at 0x7fa97d78c290>]"
            ]
          },
          "execution_count": 30,
          "metadata": {},
          "output_type": "execute_result"
        },
        {
          "data": {
            "image/png": "[encoded data removed]",
            "text/plain": [
              "<Figure size 432x288 with 1 Axes>"
            ]
          },
          "metadata": {
            "needs_background": "light"
          },
          "output_type": "display_data"
        }
      ],
      "source": [
        "plt.plot(y[:10],'o')\n",
        "plt.plot(sig(net(x)).data[:10],'--o')"
      ]
    },
    {
      "cell_type": "code",
      "execution_count": null,
      "id": "3ef90562-2118-4f0b-9de5-1fbc0ce573a9",
      "metadata": {
        "id": "3ef90562-2118-4f0b-9de5-1fbc0ce573a9"
      },
      "outputs": [],
      "source": [
        "for epoc in range(2000):\n",
        "    ## 1\n",
        "    yhat = net(x) \n",
        "    ## 2 \n",
        "    loss = loss_fn(yhat,y)\n",
        "    ## 3 \n",
        "    loss.backward()\n",
        "    ## 4 \n",
        "    optimizr.step()\n",
        "    optimizr.zero_grad()"
      ]
    },
    {
      "cell_type": "code",
      "execution_count": null,
      "id": "e0f8c849-5005-49ce-ae6b-de60e28d303a",
      "metadata": {
        "id": "e0f8c849-5005-49ce-ae6b-de60e28d303a",
        "outputId": "460ec60c-e1c9-45b6-bd9f-c6aacbb4c56a"
      },
      "outputs": [
        {
          "data": {
            "text/plain": [
              "[<matplotlib.lines.Line2D at 0x7fa97d70a6d0>]"
            ]
          },
          "execution_count": 32,
          "metadata": {},
          "output_type": "execute_result"
        },
        {
          "data": {
            "image/png": "[encoded data removed]",
            "text/plain": [
              "<Figure size 432x288 with 1 Axes>"
            ]
          },
          "metadata": {
            "needs_background": "light"
          },
          "output_type": "display_data"
        }
      ],
      "source": [
        "plt.plot(y[:10],'o')\n",
        "plt.plot(sig(net(x)).data[:10],'--o')"
      ]
    },
    {
      "cell_type": "markdown",
      "id": "ccd9de11-7b8b-4837-9b38-ced73f094636",
      "metadata": {
        "id": "ccd9de11-7b8b-4837-9b38-ced73f094636"
      },
      "source": [
        "#### (풀이3) 2개의 파라메터 + 나쁜초기값 -> 성공..??"
      ]
    },
    {
      "cell_type": "code",
      "execution_count": null,
      "id": "9c70484d-cded-47b1-8ce4-4678d97b2080",
      "metadata": {
        "id": "9c70484d-cded-47b1-8ce4-4678d97b2080"
      },
      "outputs": [],
      "source": [
        "mapping = {'a':0,'b':1}\n",
        "x = torch.tensor(f(txt_x,mapping)).float().reshape(-1,1)\n",
        "y = torch.tensor(f(txt_y,mapping)).float().reshape(-1,1)"
      ]
    },
    {
      "cell_type": "code",
      "execution_count": null,
      "id": "9e396160-da57-48e3-88e8-2a822e7ff50c",
      "metadata": {
        "id": "9e396160-da57-48e3-88e8-2a822e7ff50c",
        "outputId": "135bc225-d168-4b82-9476-20f682a5e7fb"
      },
      "outputs": [
        {
          "data": {
            "text/plain": [
              "(tensor([[0.],\n",
              "         [1.],\n",
              "         [0.],\n",
              "         [1.],\n",
              "         [0.]]),\n",
              " tensor([[1.],\n",
              "         [0.],\n",
              "         [1.],\n",
              "         [0.],\n",
              "         [1.]]))"
            ]
          },
          "execution_count": 34,
          "metadata": {},
          "output_type": "execute_result"
        }
      ],
      "source": [
        "x[:5],y[:5]"
      ]
    },
    {
      "cell_type": "code",
      "execution_count": null,
      "id": "611103bf-177a-41f9-abaf-44eff857ba04",
      "metadata": {
        "id": "611103bf-177a-41f9-abaf-44eff857ba04"
      },
      "outputs": [],
      "source": [
        "net = torch.nn.Sequential(\n",
        "    torch.nn.Linear(in_features=1,out_features=1,bias=True)\n",
        ")\n",
        "loss_fn = torch.nn.BCEWithLogitsLoss()\n",
        "optimizr = torch.optim.Adam(net.parameters())"
      ]
    },
    {
      "cell_type": "code",
      "execution_count": null,
      "id": "586cddc3-5703-4699-a929-10c132e34a7b",
      "metadata": {
        "id": "586cddc3-5703-4699-a929-10c132e34a7b"
      },
      "outputs": [],
      "source": [
        "net[0].weight.data = torch.tensor([[+5.00]])\n",
        "net[0].bias.data = torch.tensor([-2.500])"
      ]
    },
    {
      "cell_type": "code",
      "execution_count": null,
      "id": "48fdc2d5-b1d3-48f7-a629-4c8666f20cae",
      "metadata": {
        "id": "48fdc2d5-b1d3-48f7-a629-4c8666f20cae",
        "outputId": "26df3a58-efcf-4e1b-e0c5-156ccad56699"
      },
      "outputs": [
        {
          "data": {
            "text/plain": [
              "tensor([[-2.5000],\n",
              "        [ 2.5000],\n",
              "        [-2.5000],\n",
              "        [ 2.5000],\n",
              "        [-2.5000],\n",
              "        [ 2.5000],\n",
              "        [-2.5000],\n",
              "        [ 2.5000],\n",
              "        [-2.5000],\n",
              "        [ 2.5000]], grad_fn=<SliceBackward0>)"
            ]
          },
          "execution_count": 37,
          "metadata": {},
          "output_type": "execute_result"
        }
      ],
      "source": [
        "net(x)[:10]"
      ]
    },
    {
      "cell_type": "code",
      "execution_count": null,
      "id": "d445dade-9e35-4d6f-b4b6-66b8eecd42ec",
      "metadata": {
        "id": "d445dade-9e35-4d6f-b4b6-66b8eecd42ec",
        "outputId": "4655199f-4aac-442a-c1a3-4bb305bb2b48"
      },
      "outputs": [
        {
          "data": {
            "text/plain": [
              "[<matplotlib.lines.Line2D at 0x7fa97d68e950>]"
            ]
          },
          "execution_count": 38,
          "metadata": {},
          "output_type": "execute_result"
        },
        {
          "data": {
            "image/png": "[encoded data removed]",
            "text/plain": [
              "<Figure size 432x288 with 1 Axes>"
            ]
          },
          "metadata": {
            "needs_background": "light"
          },
          "output_type": "display_data"
        }
      ],
      "source": [
        "plt.plot(y[:10],'o')\n",
        "plt.plot(sig(net(x)).data[:10],'--o')"
      ]
    },
    {
      "cell_type": "code",
      "execution_count": null,
      "id": "aa6495fe-fc26-485d-9f16-74c6929b7315",
      "metadata": {
        "id": "aa6495fe-fc26-485d-9f16-74c6929b7315"
      },
      "outputs": [],
      "source": [
        "for epoc in range(5000):\n",
        "    ## 1\n",
        "    yhat = net(x) \n",
        "    ## 2 \n",
        "    loss = loss_fn(yhat,y)\n",
        "    ## 3 \n",
        "    loss.backward()\n",
        "    ## 4 \n",
        "    optimizr.step()\n",
        "    optimizr.zero_grad()"
      ]
    },
    {
      "cell_type": "code",
      "execution_count": null,
      "id": "84794892-38b9-4e32-b393-0ccc87635f4a",
      "metadata": {
        "id": "84794892-38b9-4e32-b393-0ccc87635f4a",
        "outputId": "15a9b7cb-5e58-4566-edd9-a8a528183697"
      },
      "outputs": [
        {
          "data": {
            "text/plain": [
              "[<matplotlib.lines.Line2D at 0x7fa97d607ed0>]"
            ]
          },
          "execution_count": 40,
          "metadata": {},
          "output_type": "execute_result"
        },
        {
          "data": {
            "image/png": "[encoded data removed]",
            "text/plain": [
              "<Figure size 432x288 with 1 Axes>"
            ]
          },
          "metadata": {
            "needs_background": "light"
          },
          "output_type": "display_data"
        }
      ],
      "source": [
        "plt.plot(y[:10],'o')\n",
        "plt.plot(sig(net(x)).data[:10],'--o')"
      ]
    },
    {
      "cell_type": "markdown",
      "id": "d280e2ec-94c9-466d-866a-f88d3fe4d1c9",
      "metadata": {
        "id": "d280e2ec-94c9-466d-866a-f88d3fe4d1c9"
      },
      "source": [
        "- 될거같긴한데.. 느릴것 같다. "
      ]
    },
    {
      "cell_type": "markdown",
      "id": "f356bee3-b7f6-49a5-ad0c-071ee3884efd",
      "metadata": {
        "id": "f356bee3-b7f6-49a5-ad0c-071ee3884efd"
      },
      "source": [
        "---"
      ]
    },
    {
      "cell_type": "markdown",
      "id": "3b23650e-c938-4af9-8750-68f3fa33cb6c",
      "metadata": {
        "id": "3b23650e-c938-4af9-8750-68f3fa33cb6c"
      },
      "source": [
        "(예비학습)"
      ]
    },
    {
      "cell_type": "code",
      "execution_count": null,
      "id": "c0135738-6864-48fd-bdef-e2ab8db9ff99",
      "metadata": {
        "id": "c0135738-6864-48fd-bdef-e2ab8db9ff99",
        "outputId": "b44e75a3-cb66-413e-b325-ed9de0300296"
      },
      "outputs": [
        {
          "data": {
            "text/plain": [
              "tensor([[-0.1584],\n",
              "        [ 0.1797],\n",
              "        [-0.1584],\n",
              "        [ 0.1797],\n",
              "        [-0.1584]], grad_fn=<SliceBackward0>)"
            ]
          },
          "execution_count": 41,
          "metadata": {},
          "output_type": "execute_result"
        }
      ],
      "source": [
        "net(x)[:5]"
      ]
    },
    {
      "cell_type": "code",
      "execution_count": null,
      "id": "d9db661f-0b7e-4dc8-82d6-941d691bf280",
      "metadata": {
        "id": "d9db661f-0b7e-4dc8-82d6-941d691bf280",
        "outputId": "1013f4dd-85c1-4ccd-83b5-3cc3a067f95c"
      },
      "outputs": [
        {
          "data": {
            "text/plain": [
              "tensor([[-0.1584],\n",
              "        [ 0.1797],\n",
              "        [-0.1584],\n",
              "        [ 0.1797],\n",
              "        [-0.1584]], grad_fn=<SliceBackward0>)"
            ]
          },
          "execution_count": 42,
          "metadata": {},
          "output_type": "execute_result"
        }
      ],
      "source": [
        "net.forward(x)[:5]"
      ]
    },
    {
      "cell_type": "markdown",
      "id": "cc05de52-d843-49b4-8caa-703360c1303d",
      "metadata": {
        "id": "cc05de52-d843-49b4-8caa-703360c1303d"
      },
      "source": [
        "---"
      ]
    },
    {
      "cell_type": "markdown",
      "id": "2fdafdde-6fb8-4448-bc29-1915c3e69990",
      "metadata": {
        "id": "2fdafdde-6fb8-4448-bc29-1915c3e69990"
      },
      "source": [
        "#### (풀이4) 3개의 파라메터를 쓴다면? "
      ]
    },
    {
      "cell_type": "code",
      "execution_count": null,
      "id": "c62dc63b-f7e0-4fe0-b0d0-b7b02cdfec5d",
      "metadata": {
        "id": "c62dc63b-f7e0-4fe0-b0d0-b7b02cdfec5d"
      },
      "outputs": [],
      "source": [
        "mapping = {'a':0,'b':1}\n",
        "x = torch.tensor(f(txt_x,mapping)).float().reshape(-1,1)\n",
        "y = torch.tensor(f(txt_y,mapping)).float().reshape(-1,1)"
      ]
    },
    {
      "cell_type": "code",
      "execution_count": null,
      "id": "30f06e15-6138-4cc1-affa-639435c7d085",
      "metadata": {
        "id": "30f06e15-6138-4cc1-affa-639435c7d085",
        "outputId": "58324917-1ad0-4327-fbf0-676f718c89a8"
      },
      "outputs": [
        {
          "data": {
            "text/plain": [
              "(tensor([[0.],\n",
              "         [1.],\n",
              "         [0.],\n",
              "         [1.],\n",
              "         [0.]]),\n",
              " tensor([[1.],\n",
              "         [0.],\n",
              "         [1.],\n",
              "         [0.],\n",
              "         [1.]]))"
            ]
          },
          "execution_count": 44,
          "metadata": {},
          "output_type": "execute_result"
        }
      ],
      "source": [
        "x[:5],y[:5]"
      ]
    },
    {
      "cell_type": "code",
      "execution_count": null,
      "id": "4f162a11-ac70-4c10-a97d-a2129fc35464",
      "metadata": {
        "id": "4f162a11-ac70-4c10-a97d-a2129fc35464"
      },
      "outputs": [],
      "source": [
        "class Mynet1(torch.nn.Module):\n",
        "    def __init__(self):\n",
        "        super().__init__()\n",
        "        self.l1 = torch.nn.Linear(in_features=1,out_features=1,bias=True)\n",
        "        self.a1 = torch.nn.Sigmoid()\n",
        "        self.l2 = torch.nn.Linear(in_features=1,out_features=1,bias=False)\n",
        "    def forward(self,x):\n",
        "        yhat = self.l2(self.a1(self.l1(x)))\n",
        "        return yhat"
      ]
    },
    {
      "cell_type": "code",
      "execution_count": null,
      "id": "70f4d1df-e484-42dc-91ed-c397576c062f",
      "metadata": {
        "id": "70f4d1df-e484-42dc-91ed-c397576c062f"
      },
      "outputs": [],
      "source": [
        "class Mynet2(torch.nn.Module):\n",
        "    def __init__(self):\n",
        "        super().__init__()\n",
        "        self.l1 = torch.nn.Linear(in_features=1,out_features=1,bias=True)\n",
        "        self.a1 = torch.nn.ReLU()\n",
        "        self.l2 = torch.nn.Linear(in_features=1,out_features=1,bias=False)\n",
        "    def forward(self,x):\n",
        "        yhat = self.l2(self.a1(self.l1(x)))\n",
        "        return yhat"
      ]
    },
    {
      "cell_type": "code",
      "execution_count": null,
      "id": "90a7a3a1-546e-4788-b44b-0173e849ba5b",
      "metadata": {
        "id": "90a7a3a1-546e-4788-b44b-0173e849ba5b"
      },
      "outputs": [],
      "source": [
        "class Mynet3(torch.nn.Module):\n",
        "    def __init__(self):\n",
        "        super().__init__()\n",
        "        self.l1 = torch.nn.Linear(in_features=1,out_features=1,bias=True)\n",
        "        self.a1 = torch.nn.Tanh()\n",
        "        self.l2 = torch.nn.Linear(in_features=1,out_features=1,bias=False)\n",
        "    def forward(self,x):\n",
        "        yhat = self.l2(self.a1(self.l1(x)))\n",
        "        return yhat"
      ]
    },
    {
      "cell_type": "markdown",
      "id": "7354bc0c-0eff-4309-9525-10d2b92a7fab",
      "metadata": {
        "id": "7354bc0c-0eff-4309-9525-10d2b92a7fab"
      },
      "source": [
        "`-` Sigmoid"
      ]
    },
    {
      "cell_type": "code",
      "execution_count": null,
      "id": "d1e5a7f1-5f43-45d7-ab91-93d6e84605d8",
      "metadata": {
        "id": "d1e5a7f1-5f43-45d7-ab91-93d6e84605d8",
        "outputId": "a5ccfddb-9cd6-4064-d804-0c1bebbb8528"
      },
      "outputs": [
        {
          "data": {
            "image/png": "[encoded data removed]",
            "text/plain": [
              "<Figure size 720x720 with 25 Axes>"
            ]
          },
          "metadata": {
            "needs_background": "light"
          },
          "output_type": "display_data"
        }
      ],
      "source": [
        "fig, ax = plt.subplots(5,5,figsize=(10,10))\n",
        "for i in range(5):\n",
        "    for j in range(5):\n",
        "        net = Mynet1()\n",
        "        optimizr = torch.optim.Adam(net.parameters())\n",
        "        for epoc in range(1000):\n",
        "            ## 1\n",
        "            yhat = net(x)\n",
        "            ## 2\n",
        "            loss = loss_fn(yhat,y)\n",
        "            ## 3\n",
        "            loss.backward()\n",
        "            ## 4 \n",
        "            optimizr.step()\n",
        "            optimizr.zero_grad()\n",
        "        ax[i][j].plot(y[:5],'o')\n",
        "        ax[i][j].plot(sig(net(x[:5])).data,'--o')\n",
        "fig.suptitle(r\"$a_1(x):=Sigmoid(x)$\",size=20)\n",
        "fig.tight_layout()"
      ]
    },
    {
      "cell_type": "markdown",
      "id": "efdcfc1a-6761-4f72-a5ba-01c00de48ef2",
      "metadata": {
        "id": "efdcfc1a-6761-4f72-a5ba-01c00de48ef2"
      },
      "source": [
        "`-` ReLU"
      ]
    },
    {
      "cell_type": "code",
      "execution_count": null,
      "id": "52392546-c7c6-45a5-be50-86c602c44442",
      "metadata": {
        "id": "52392546-c7c6-45a5-be50-86c602c44442",
        "outputId": "89442968-2e5e-4528-dbe1-089017e8fdd4"
      },
      "outputs": [
        {
          "data": {
            "image/png": "[encoded data removed]",
            "text/plain": [
              "<Figure size 720x720 with 25 Axes>"
            ]
          },
          "metadata": {
            "needs_background": "light"
          },
          "output_type": "display_data"
        }
      ],
      "source": [
        "fig, ax = plt.subplots(5,5,figsize=(10,10))\n",
        "for i in range(5):\n",
        "    for j in range(5):\n",
        "        net = Mynet2()\n",
        "        optimizr = torch.optim.Adam(net.parameters())\n",
        "        for epoc in range(1000):\n",
        "            ## 1\n",
        "            yhat = net(x)\n",
        "            ## 2\n",
        "            loss = loss_fn(yhat,y)\n",
        "            ## 3\n",
        "            loss.backward()\n",
        "            ## 4 \n",
        "            optimizr.step()\n",
        "            optimizr.zero_grad()\n",
        "        ax[i][j].plot(y[:5],'o')\n",
        "        ax[i][j].plot(sig(net(x[:5])).data,'--o')\n",
        "fig.suptitle(r\"$a_2(x):=ReLU(x)$\",size=20)\n",
        "fig.tight_layout()"
      ]
    },
    {
      "cell_type": "markdown",
      "id": "31f66479-752a-4792-8edd-5422cd92d792",
      "metadata": {
        "id": "31f66479-752a-4792-8edd-5422cd92d792"
      },
      "source": [
        "`-` Tanh"
      ]
    },
    {
      "cell_type": "code",
      "execution_count": null,
      "id": "921b3bda-0678-4366-b2b4-f8ba1e3b008d",
      "metadata": {
        "id": "921b3bda-0678-4366-b2b4-f8ba1e3b008d",
        "outputId": "816c2a54-374d-460c-89ec-f7c96fa2c357"
      },
      "outputs": [
        {
          "data": {
            "image/png": "[encoded data removed]",
            "text/plain": [
              "<Figure size 720x720 with 25 Axes>"
            ]
          },
          "metadata": {
            "needs_background": "light"
          },
          "output_type": "display_data"
        }
      ],
      "source": [
        "fig, ax = plt.subplots(5,5,figsize=(10,10))\n",
        "for i in range(5):\n",
        "    for j in range(5):\n",
        "        net = Mynet3()\n",
        "        optimizr = torch.optim.Adam(net.parameters())\n",
        "        for epoc in range(1000):\n",
        "            ## 1\n",
        "            yhat = net(x)\n",
        "            ## 2\n",
        "            loss = loss_fn(yhat,y)\n",
        "            ## 3\n",
        "            loss.backward()\n",
        "            ## 4 \n",
        "            optimizr.step()\n",
        "            optimizr.zero_grad()\n",
        "        ax[i][j].plot(y[:5],'o')\n",
        "        ax[i][j].plot(sig(net(x[:5])).data,'--o')\n",
        "fig.suptitle(r\"$a_2(x):=Tanh(x)$\",size=20)        \n",
        "fig.tight_layout()"
      ]
    },
    {
      "cell_type": "markdown",
      "id": "9faf722a-a953-40f2-b997-761dc0cec0db",
      "metadata": {
        "id": "9faf722a-a953-40f2-b997-761dc0cec0db"
      },
      "source": [
        "### arch3 (last layer = softmax)"
      ]
    },
    {
      "cell_type": "markdown",
      "id": "38fb5c72-9ca2-4fb7-8008-b6106b53ca91",
      "metadata": {
        "id": "38fb5c72-9ca2-4fb7-8008-b6106b53ca91"
      },
      "source": [
        "#### (풀이1) "
      ]
    },
    {
      "cell_type": "code",
      "execution_count": null,
      "id": "291734a9-9c8b-48b2-abaf-99007f2b9140",
      "metadata": {
        "id": "291734a9-9c8b-48b2-abaf-99007f2b9140",
        "outputId": "43c57ebb-756e-45af-ea01-8be056a1c17c"
      },
      "outputs": [
        {
          "data": {
            "text/plain": [
              "(tensor([[1., 0.],\n",
              "         [0., 1.],\n",
              "         [1., 0.],\n",
              "         [0., 1.],\n",
              "         [1., 0.]]),\n",
              " tensor([[0., 1.],\n",
              "         [1., 0.],\n",
              "         [0., 1.],\n",
              "         [1., 0.],\n",
              "         [0., 1.]]))"
            ]
          },
          "execution_count": 51,
          "metadata": {},
          "output_type": "execute_result"
        }
      ],
      "source": [
        "mapping = {'a':[1,0],'b':[0,1]}\n",
        "x = torch.tensor(f(txt_x,mapping)).float().reshape(-1,2)\n",
        "y = torch.tensor(f(txt_y,mapping)).float().reshape(-1,2)\n",
        "x[:5],y[:5]"
      ]
    },
    {
      "cell_type": "code",
      "execution_count": null,
      "id": "38564446-4fe9-4b8d-b334-289f6e9e672c",
      "metadata": {
        "id": "38564446-4fe9-4b8d-b334-289f6e9e672c"
      },
      "outputs": [],
      "source": [
        "net = torch.nn.Sequential(\n",
        "    torch.nn.Linear(in_features=2,out_features=1),\n",
        "    torch.nn.Tanh(),\n",
        "    torch.nn.Linear(in_features=1,out_features=2)\n",
        ")\n",
        "loss_fn = torch.nn.CrossEntropyLoss()\n",
        "optimizr = torch.optim.Adam(net.parameters())"
      ]
    },
    {
      "cell_type": "code",
      "execution_count": null,
      "id": "b269ac28-2825-460d-81d8-b37f6ea0178d",
      "metadata": {
        "id": "b269ac28-2825-460d-81d8-b37f6ea0178d"
      },
      "outputs": [],
      "source": [
        "for epoc in range(5000):\n",
        "    ## 1\n",
        "    yhat = net(x)\n",
        "    ## 2 \n",
        "    loss = loss_fn(yhat,y)\n",
        "    ## 3 \n",
        "    loss.backward()\n",
        "    ## 4 \n",
        "    optimizr.step()\n",
        "    optimizr.zero_grad()"
      ]
    },
    {
      "cell_type": "code",
      "execution_count": null,
      "id": "0fe5e4bc-0e7b-480d-99fe-0ee832ecd321",
      "metadata": {
        "id": "0fe5e4bc-0e7b-480d-99fe-0ee832ecd321",
        "outputId": "93dd73af-2cf4-4c92-cecc-19e2ce9a64e5"
      },
      "outputs": [
        {
          "data": {
            "text/plain": [
              "tensor([0., 1., 0., 1., 0.])"
            ]
          },
          "execution_count": 54,
          "metadata": {},
          "output_type": "execute_result"
        }
      ],
      "source": [
        "y[:5][:,0]"
      ]
    },
    {
      "cell_type": "code",
      "execution_count": null,
      "id": "b85ed162-2250-4e24-b55d-062d217d66f6",
      "metadata": {
        "id": "b85ed162-2250-4e24-b55d-062d217d66f6",
        "outputId": "23f7f4a6-370c-42e1-8acf-753ab29e8a91"
      },
      "outputs": [
        {
          "data": {
            "text/plain": [
              "[<matplotlib.lines.Line2D at 0x7fa97ceaf710>]"
            ]
          },
          "execution_count": 55,
          "metadata": {},
          "output_type": "execute_result"
        },
        {
          "data": {
            "image/png": "[encoded data removed]",
            "text/plain": [
              "<Figure size 432x288 with 1 Axes>"
            ]
          },
          "metadata": {
            "needs_background": "light"
          },
          "output_type": "display_data"
        }
      ],
      "source": [
        "plt.plot(y[:5][:,1],'o')\n",
        "plt.plot(soft(net(x[:5]))[:,1].data,'--r')"
      ]
    },
    {
      "cell_type": "code",
      "execution_count": null,
      "id": "143abd08-4c11-4816-89a9-87515db62d6e",
      "metadata": {
        "id": "143abd08-4c11-4816-89a9-87515db62d6e",
        "outputId": "91a3cfb4-b6bb-4cfb-9e63-9d3a9e1fbcb5"
      },
      "outputs": [
        {
          "data": {
            "text/plain": [
              "<matplotlib.image.AxesImage at 0x7fa97d550990>"
            ]
          },
          "execution_count": 56,
          "metadata": {},
          "output_type": "execute_result"
        },
        {
          "data": {
            "image/png": "[encoded data removed]",
            "text/plain": [
              "<Figure size 432x288 with 2 Axes>"
            ]
          },
          "metadata": {
            "needs_background": "light"
          },
          "output_type": "display_data"
        }
      ],
      "source": [
        "fig,ax = plt.subplots(1,2)\n",
        "ax[0].imshow(y[:5])\n",
        "ax[1].imshow(soft(net(x[:5])).data)"
      ]
    },
    {
      "cell_type": "markdown",
      "id": "e63021a0-d867-46d5-a10e-8962d3262f88",
      "metadata": {
        "id": "e63021a0-d867-46d5-a10e-8962d3262f88"
      },
      "source": [
        "#### (풀이2) Embedding 이용 "
      ]
    },
    {
      "cell_type": "code",
      "execution_count": null,
      "id": "a1c63d9c-28bf-488d-a52d-468ef1a7ac21",
      "metadata": {
        "id": "a1c63d9c-28bf-488d-a52d-468ef1a7ac21",
        "outputId": "04ee043a-c1f4-4dd1-c26a-6d7aeeec3438"
      },
      "outputs": [
        {
          "data": {
            "text/plain": [
              "(tensor([0, 1, 0, 1, 0]), tensor([1, 0, 1, 0, 1]))"
            ]
          },
          "execution_count": 57,
          "metadata": {},
          "output_type": "execute_result"
        }
      ],
      "source": [
        "mapping = {'a':0,'b':1}\n",
        "x = torch.tensor(f(txt_x,mapping))\n",
        "y = torch.tensor(f(txt_y,mapping))\n",
        "x[:5],y[:5]"
      ]
    },
    {
      "cell_type": "code",
      "execution_count": null,
      "id": "ec3ab48f-35b1-47f6-a2c1-78c16e2fd783",
      "metadata": {
        "id": "ec3ab48f-35b1-47f6-a2c1-78c16e2fd783"
      },
      "outputs": [],
      "source": [
        "e1 = torch.nn.Embedding(num_embeddings=2,embedding_dim=1)"
      ]
    },
    {
      "cell_type": "code",
      "execution_count": null,
      "id": "3e0e90e9-1f59-497c-a7de-97cff0119cf1",
      "metadata": {
        "id": "3e0e90e9-1f59-497c-a7de-97cff0119cf1",
        "outputId": "41baccf0-b56f-41ea-96e1-09d16089fb74"
      },
      "outputs": [
        {
          "data": {
            "text/plain": [
              "Parameter containing:\n",
              "tensor([[-0.5432],\n",
              "        [ 0.2588]], requires_grad=True)"
            ]
          },
          "execution_count": 59,
          "metadata": {},
          "output_type": "execute_result"
        }
      ],
      "source": [
        "e1.weight"
      ]
    },
    {
      "cell_type": "code",
      "execution_count": null,
      "id": "8d430d70-af4f-49d7-9e6f-6ebf03a90124",
      "metadata": {
        "id": "8d430d70-af4f-49d7-9e6f-6ebf03a90124",
        "outputId": "d8c59438-a6b3-4d65-e9bb-cc29ae04eb7b"
      },
      "outputs": [
        {
          "data": {
            "text/plain": [
              "tensor([[-0.5432],\n",
              "        [ 0.2588],\n",
              "        [-0.5432],\n",
              "        [ 0.2588]], grad_fn=<SliceBackward0>)"
            ]
          },
          "execution_count": 60,
          "metadata": {},
          "output_type": "execute_result"
        }
      ],
      "source": [
        "e1(x)[0:4]"
      ]
    },
    {
      "cell_type": "code",
      "execution_count": null,
      "id": "18c03a78-c694-41e7-9a5e-b7db5aedd838",
      "metadata": {
        "id": "18c03a78-c694-41e7-9a5e-b7db5aedd838",
        "outputId": "8a4caaa8-b607-49a4-82c5-fd0fb8683344"
      },
      "outputs": [
        {
          "data": {
            "text/plain": [
              "tensor([[1, 0],\n",
              "        [0, 1]])"
            ]
          },
          "execution_count": 61,
          "metadata": {},
          "output_type": "execute_result"
        }
      ],
      "source": [
        "torch.tensor([[1,0],[0,1]])"
      ]
    },
    {
      "cell_type": "code",
      "execution_count": null,
      "id": "dbd064c4-5700-475a-8269-4b4a5853468f",
      "metadata": {
        "id": "dbd064c4-5700-475a-8269-4b4a5853468f"
      },
      "outputs": [],
      "source": [
        "net = torch.nn.Sequential(\n",
        "    torch.nn.Embedding(num_embeddings=2,embedding_dim=1),\n",
        "    torch.nn.Tanh(),\n",
        "    torch.nn.Linear(in_features=1,out_features=2)\n",
        ")\n",
        "loss_fn = torch.nn.CrossEntropyLoss()\n",
        "optimizr = torch.optim.Adam(net.parameters())"
      ]
    },
    {
      "cell_type": "code",
      "execution_count": null,
      "id": "45db07fb-626b-4bc3-a2a1-77b9ba012a81",
      "metadata": {
        "id": "45db07fb-626b-4bc3-a2a1-77b9ba012a81",
        "outputId": "2539df1a-bdf7-404c-9458-f5b67ba70a00"
      },
      "outputs": [
        {
          "data": {
            "text/plain": [
              "torch.Size([199, 2])"
            ]
          },
          "execution_count": 63,
          "metadata": {},
          "output_type": "execute_result"
        }
      ],
      "source": [
        "net(x).shape"
      ]
    },
    {
      "cell_type": "code",
      "execution_count": null,
      "id": "257e9836-e4ab-46d7-adfc-334ba69f07c7",
      "metadata": {
        "id": "257e9836-e4ab-46d7-adfc-334ba69f07c7"
      },
      "outputs": [],
      "source": [
        "for epoc in range(5000):\n",
        "    ## 1\n",
        "    yhat = net(x)\n",
        "    ## 2 \n",
        "    loss = loss_fn(yhat,y)\n",
        "    ## 3 \n",
        "    loss.backward()\n",
        "    ## 4 \n",
        "    optimizr.step()\n",
        "    optimizr.zero_grad()"
      ]
    },
    {
      "cell_type": "code",
      "execution_count": null,
      "id": "8e78e767-5ff6-4059-b064-72b7ea87f4b4",
      "metadata": {
        "id": "8e78e767-5ff6-4059-b064-72b7ea87f4b4",
        "outputId": "b5d8ae23-ce90-4908-f3c8-c494ee1489dc"
      },
      "outputs": [
        {
          "data": {
            "text/plain": [
              "[<matplotlib.lines.Line2D at 0x7fa97d066590>]"
            ]
          },
          "execution_count": 65,
          "metadata": {},
          "output_type": "execute_result"
        },
        {
          "data": {
            "image/png": "[encoded data removed]",
            "text/plain": [
              "<Figure size 432x288 with 1 Axes>"
            ]
          },
          "metadata": {
            "needs_background": "light"
          },
          "output_type": "display_data"
        }
      ],
      "source": [
        "plt.plot(y[:5],'o')\n",
        "plt.plot(soft(net(x[:5]))[:,1].data,'--r')"
      ]
    },
    {
      "cell_type": "code",
      "execution_count": null,
      "id": "60c25b5a-8932-404f-af26-ccb221b76014",
      "metadata": {
        "id": "60c25b5a-8932-404f-af26-ccb221b76014",
        "outputId": "2eb52b2b-59a1-4035-d13b-021745633514"
      },
      "outputs": [
        {
          "data": {
            "text/plain": [
              "<matplotlib.image.AxesImage at 0x7fa97d4ba950>"
            ]
          },
          "execution_count": 66,
          "metadata": {},
          "output_type": "execute_result"
        },
        {
          "data": {
            "image/png": "[encoded data removed]",
            "text/plain": [
              "<Figure size 432x288 with 1 Axes>"
            ]
          },
          "metadata": {
            "needs_background": "light"
          },
          "output_type": "display_data"
        }
      ],
      "source": [
        "plt.imshow(soft(net(x[:5])).data)"
      ]
    },
    {
      "cell_type": "markdown",
      "id": "82718114-50ff-4fe7-bba3-1ef35043bef0",
      "metadata": {
        "id": "82718114-50ff-4fe7-bba3-1ef35043bef0"
      },
      "source": [
        "## 순환신경망 motivation -- abcabc"
      ]
    },
    {
      "cell_type": "markdown",
      "id": "9cca9c0e-cf42-4f88-b03e-5ccf82d8ab13",
      "metadata": {
        "id": "9cca9c0e-cf42-4f88-b03e-5ccf82d8ab13"
      },
      "source": [
        "### data"
      ]
    },
    {
      "cell_type": "code",
      "execution_count": null,
      "id": "bbff91b9-ccee-4101-8439-6352a9de424f",
      "metadata": {
        "id": "bbff91b9-ccee-4101-8439-6352a9de424f",
        "outputId": "1ab726d1-db02-4793-b591-a464f01d8422"
      },
      "outputs": [
        {
          "data": {
            "text/plain": [
              "['a', 'b', 'c', 'a', 'b', 'c', 'a', 'b', 'c', 'a']"
            ]
          },
          "execution_count": 67,
          "metadata": {},
          "output_type": "execute_result"
        }
      ],
      "source": [
        "txt = list('abc')*100\n",
        "txt[:10]"
      ]
    },
    {
      "cell_type": "code",
      "execution_count": null,
      "id": "f260cc46-ec03-4cfc-ab33-0bc4a557159a",
      "metadata": {
        "id": "f260cc46-ec03-4cfc-ab33-0bc4a557159a"
      },
      "outputs": [],
      "source": [
        "txt_x = txt[:-1]\n",
        "txt_y = txt[1:]"
      ]
    },
    {
      "cell_type": "code",
      "execution_count": null,
      "id": "fc5bddec-25d3-4fd0-8c5e-8e4514dea6dc",
      "metadata": {
        "id": "fc5bddec-25d3-4fd0-8c5e-8e4514dea6dc",
        "outputId": "3ba71b9e-03e0-47d5-94f5-e3a4c09a7e14"
      },
      "outputs": [
        {
          "data": {
            "text/plain": [
              "(['a', 'b', 'c', 'a', 'b'], ['b', 'c', 'a', 'b', 'c'])"
            ]
          },
          "execution_count": 69,
          "metadata": {},
          "output_type": "execute_result"
        }
      ],
      "source": [
        "txt_x[:5],txt_y[:5]"
      ]
    },
    {
      "cell_type": "markdown",
      "id": "ab83ae31-33ae-401c-8f87-a4212a96a1d9",
      "metadata": {
        "id": "ab83ae31-33ae-401c-8f87-a4212a96a1d9"
      },
      "source": [
        "### sol"
      ]
    },
    {
      "cell_type": "code",
      "execution_count": null,
      "id": "dc8e4a17-3dae-4087-b526-5f4e9fd1ee73",
      "metadata": {
        "id": "dc8e4a17-3dae-4087-b526-5f4e9fd1ee73",
        "outputId": "158b4f8e-aad6-49c1-93ae-7ae7a72b37dd"
      },
      "outputs": [
        {
          "data": {
            "text/plain": [
              "(tensor([0, 1, 2, 0, 1]), tensor([1, 2, 0, 1, 2]))"
            ]
          },
          "execution_count": 70,
          "metadata": {},
          "output_type": "execute_result"
        }
      ],
      "source": [
        "mapping = {'a':0,'b':1,'c':2}\n",
        "x = torch.tensor(f(txt_x,mapping))\n",
        "y = torch.tensor(f(txt_y,mapping))\n",
        "x[:5],y[:5]"
      ]
    },
    {
      "cell_type": "code",
      "execution_count": null,
      "id": "58660971-5832-42fe-8f5b-1d6ec28d2b3b",
      "metadata": {
        "id": "58660971-5832-42fe-8f5b-1d6ec28d2b3b"
      },
      "outputs": [],
      "source": [
        "net = torch.nn.Sequential(\n",
        "    torch.nn.Embedding(num_embeddings=3,embedding_dim=1),\n",
        "    torch.nn.Tanh(),\n",
        "    torch.nn.Linear(in_features=1,out_features=3)\n",
        ")\n",
        "loss_fn = torch.nn.CrossEntropyLoss()\n",
        "optimizr = torch.optim.Adam(net.parameters())"
      ]
    },
    {
      "cell_type": "code",
      "execution_count": null,
      "id": "980576f4-56a2-4377-b196-8a8a34df35e5",
      "metadata": {
        "id": "980576f4-56a2-4377-b196-8a8a34df35e5",
        "outputId": "fa70fa53-1000-4758-a11c-24db661bc715"
      },
      "outputs": [
        {
          "data": {
            "text/plain": [
              "torch.Size([299, 3])"
            ]
          },
          "execution_count": 72,
          "metadata": {},
          "output_type": "execute_result"
        }
      ],
      "source": [
        "net(x).shape"
      ]
    },
    {
      "cell_type": "code",
      "execution_count": null,
      "id": "888345bb-0fb2-4ee1-9bcb-7adc1f57359f",
      "metadata": {
        "id": "888345bb-0fb2-4ee1-9bcb-7adc1f57359f"
      },
      "outputs": [],
      "source": [
        "for epoc in range(5000):\n",
        "    ## 1\n",
        "    yhat = net(x)\n",
        "    ## 2 \n",
        "    loss = loss_fn(yhat,y)\n",
        "    ## 3 \n",
        "    loss.backward()\n",
        "    ## 4 \n",
        "    optimizr.step()\n",
        "    optimizr.zero_grad()"
      ]
    },
    {
      "cell_type": "code",
      "execution_count": null,
      "id": "8486fa46-204f-4870-b866-a41daa61c75c",
      "metadata": {
        "id": "8486fa46-204f-4870-b866-a41daa61c75c",
        "outputId": "33b006d9-0a8d-4719-bc2d-3aadf543abff"
      },
      "outputs": [
        {
          "data": {
            "text/plain": [
              "[<matplotlib.lines.Line2D at 0x7fa97d44d9d0>]"
            ]
          },
          "execution_count": 74,
          "metadata": {},
          "output_type": "execute_result"
        },
        {
          "data": {
            "image/png": "[encoded data removed]",
            "text/plain": [
              "<Figure size 432x288 with 1 Axes>"
            ]
          },
          "metadata": {
            "needs_background": "light"
          },
          "output_type": "display_data"
        }
      ],
      "source": [
        "plt.plot(net[0:2](x[:9]).data,'--o')"
      ]
    },
    {
      "cell_type": "code",
      "execution_count": null,
      "id": "1093a341-dc13-45f8-bf5c-7a241bb8ac30",
      "metadata": {
        "id": "1093a341-dc13-45f8-bf5c-7a241bb8ac30",
        "outputId": "402eb0e1-3921-4a9b-8655-16b1954efd48"
      },
      "outputs": [
        {
          "data": {
            "text/plain": [
              "[<matplotlib.lines.Line2D at 0x7fa97d3dbe50>,\n",
              " <matplotlib.lines.Line2D at 0x7fa97d3c0f50>,\n",
              " <matplotlib.lines.Line2D at 0x7fa97d3dbf50>]"
            ]
          },
          "execution_count": 75,
          "metadata": {},
          "output_type": "execute_result"
        },
        {
          "data": {
            "image/png": "[encoded data removed]",
            "text/plain": [
              "<Figure size 432x288 with 1 Axes>"
            ]
          },
          "metadata": {
            "needs_background": "light"
          },
          "output_type": "display_data"
        }
      ],
      "source": [
        "plt.plot(net[0:3](x[:9]).data,'--o')"
      ]
    },
    {
      "cell_type": "markdown",
      "id": "25e5ed99-145e-4450-abd8-6e0f33ab6d19",
      "metadata": {
        "id": "25e5ed99-145e-4450-abd8-6e0f33ab6d19"
      },
      "source": [
        "- 억지로 맞추고있긴한데 파라메터가 부족해보인다. "
      ]
    },
    {
      "cell_type": "code",
      "execution_count": null,
      "id": "b7a92b64-8761-418c-beee-81d0882a8d54",
      "metadata": {
        "id": "b7a92b64-8761-418c-beee-81d0882a8d54",
        "outputId": "66838e76-0232-480a-8d64-c94d65fc3efe"
      },
      "outputs": [
        {
          "data": {
            "text/plain": [
              "<matplotlib.image.AxesImage at 0x7fa97d364410>"
            ]
          },
          "execution_count": 76,
          "metadata": {},
          "output_type": "execute_result"
        },
        {
          "data": {
            "image/png": "[encoded data removed]",
            "text/plain": [
              "<Figure size 432x288 with 1 Axes>"
            ]
          },
          "metadata": {
            "needs_background": "light"
          },
          "output_type": "display_data"
        }
      ],
      "source": [
        "plt.imshow(soft(net(x[:9])).data)"
      ]
    },
    {
      "cell_type": "markdown",
      "id": "f9b72d92-804d-4fe6-a82a-beb5bdf68205",
      "metadata": {
        "id": "f9b72d92-804d-4fe6-a82a-beb5bdf68205"
      },
      "source": [
        "## 순환신경망 motivation -- abcdabcd"
      ]
    },
    {
      "cell_type": "markdown",
      "id": "b6c19c4a-76e5-4f6c-be0d-a35b26191c6e",
      "metadata": {
        "id": "b6c19c4a-76e5-4f6c-be0d-a35b26191c6e"
      },
      "source": [
        "### data"
      ]
    },
    {
      "cell_type": "code",
      "execution_count": null,
      "id": "7a1af91e-329f-48c2-8b93-90970069a420",
      "metadata": {
        "id": "7a1af91e-329f-48c2-8b93-90970069a420",
        "outputId": "7103037c-7721-46c7-d11b-139890f4023e"
      },
      "outputs": [
        {
          "data": {
            "text/plain": [
              "['a', 'b', 'c', 'd', 'a', 'b', 'c', 'd', 'a', 'b']"
            ]
          },
          "execution_count": 77,
          "metadata": {},
          "output_type": "execute_result"
        }
      ],
      "source": [
        "txt = list('abcd')*100\n",
        "txt[:10]"
      ]
    },
    {
      "cell_type": "code",
      "execution_count": null,
      "id": "c014f5f0-cc81-4b06-9e58-87fc13fddcca",
      "metadata": {
        "id": "c014f5f0-cc81-4b06-9e58-87fc13fddcca"
      },
      "outputs": [],
      "source": [
        "txt_x = txt[:-1]\n",
        "txt_y = txt[1:]"
      ]
    },
    {
      "cell_type": "code",
      "execution_count": null,
      "id": "a0c3c77f-b304-418b-8e29-63e223571acb",
      "metadata": {
        "id": "a0c3c77f-b304-418b-8e29-63e223571acb",
        "outputId": "baf843b6-680a-4ff6-ef59-4f5ac6d0299c"
      },
      "outputs": [
        {
          "data": {
            "text/plain": [
              "(['a', 'b', 'c', 'd', 'a'], ['b', 'c', 'd', 'a', 'b'])"
            ]
          },
          "execution_count": 79,
          "metadata": {},
          "output_type": "execute_result"
        }
      ],
      "source": [
        "txt_x[:5],txt_y[:5]"
      ]
    },
    {
      "cell_type": "markdown",
      "id": "17b9e196-14a2-48bb-9350-8869b8c0af49",
      "metadata": {
        "id": "17b9e196-14a2-48bb-9350-8869b8c0af49"
      },
      "source": [
        "### sol -- 실패"
      ]
    },
    {
      "cell_type": "code",
      "execution_count": null,
      "id": "59b23faf-b906-4b1a-a741-f7eb3e461eb6",
      "metadata": {
        "id": "59b23faf-b906-4b1a-a741-f7eb3e461eb6",
        "outputId": "71ca4666-8e58-4a8f-8c34-f7d604ffcf62"
      },
      "outputs": [
        {
          "data": {
            "text/plain": [
              "(tensor([0, 1, 2, 3, 0]), tensor([1, 2, 3, 0, 1]))"
            ]
          },
          "execution_count": 80,
          "metadata": {},
          "output_type": "execute_result"
        }
      ],
      "source": [
        "mapping = {'a':0,'b':1,'c':2,'d':3}\n",
        "x = torch.tensor(f(txt_x,mapping))\n",
        "y = torch.tensor(f(txt_y,mapping))\n",
        "x[:5],y[:5]"
      ]
    },
    {
      "cell_type": "code",
      "execution_count": null,
      "id": "aa50d625-537b-4379-b0aa-55ae38fb56bc",
      "metadata": {
        "id": "aa50d625-537b-4379-b0aa-55ae38fb56bc"
      },
      "outputs": [],
      "source": [
        "net = torch.nn.Sequential(\n",
        "    torch.nn.Embedding(num_embeddings=4,embedding_dim=1),\n",
        "    torch.nn.Tanh(),\n",
        "    torch.nn.Linear(in_features=1,out_features=4)\n",
        ")\n",
        "loss_fn = torch.nn.CrossEntropyLoss()\n",
        "optimizr = torch.optim.Adam(net.parameters())"
      ]
    },
    {
      "cell_type": "code",
      "execution_count": null,
      "id": "8bf2df9e-303d-4901-93bb-e8f83337a0e6",
      "metadata": {
        "id": "8bf2df9e-303d-4901-93bb-e8f83337a0e6",
        "outputId": "207aeff3-d1dc-45c6-f0c0-53dff976c47f"
      },
      "outputs": [
        {
          "data": {
            "text/plain": [
              "torch.Size([399, 4])"
            ]
          },
          "execution_count": 82,
          "metadata": {},
          "output_type": "execute_result"
        }
      ],
      "source": [
        "net(x).shape"
      ]
    },
    {
      "cell_type": "code",
      "execution_count": null,
      "id": "8ae03a2e-8cdf-43eb-9402-a1e83aad1e30",
      "metadata": {
        "id": "8ae03a2e-8cdf-43eb-9402-a1e83aad1e30"
      },
      "outputs": [],
      "source": [
        "for epoc in range(5000):\n",
        "    ## 1\n",
        "    yhat = net(x)\n",
        "    ## 2 \n",
        "    loss = loss_fn(yhat,y)\n",
        "    ## 3 \n",
        "    loss.backward()\n",
        "    ## 4 \n",
        "    optimizr.step()\n",
        "    optimizr.zero_grad()"
      ]
    },
    {
      "cell_type": "code",
      "execution_count": null,
      "id": "578ae98f-2282-456e-a020-07e63b90ea1b",
      "metadata": {
        "id": "578ae98f-2282-456e-a020-07e63b90ea1b",
        "outputId": "90f7344e-c5cf-44e8-cf0d-5c9ad7231b12"
      },
      "outputs": [
        {
          "data": {
            "text/plain": [
              "[<matplotlib.lines.Line2D at 0x7fa97d211490>]"
            ]
          },
          "execution_count": 84,
          "metadata": {},
          "output_type": "execute_result"
        },
        {
          "data": {
            "image/png": "[encoded data removed]",
            "text/plain": [
              "<Figure size 432x288 with 1 Axes>"
            ]
          },
          "metadata": {
            "needs_background": "light"
          },
          "output_type": "display_data"
        }
      ],
      "source": [
        "plt.plot(net[0:2](x[:9]).data,'--o')"
      ]
    },
    {
      "cell_type": "code",
      "execution_count": null,
      "id": "b583fe95-c87e-4e95-bafb-9bbe307d7ecb",
      "metadata": {
        "id": "b583fe95-c87e-4e95-bafb-9bbe307d7ecb",
        "outputId": "5e3a1366-456f-40a4-92fd-c66972a7694a"
      },
      "outputs": [
        {
          "data": {
            "text/plain": [
              "[<matplotlib.lines.Line2D at 0x7fa97d1a4710>,\n",
              " <matplotlib.lines.Line2D at 0x7fa97d189890>,\n",
              " <matplotlib.lines.Line2D at 0x7fa97d1a4810>,\n",
              " <matplotlib.lines.Line2D at 0x7fa97d1a48d0>]"
            ]
          },
          "execution_count": 85,
          "metadata": {},
          "output_type": "execute_result"
        },
        {
          "data": {
            "image/png": "[encoded data removed]",
            "text/plain": [
              "<Figure size 432x288 with 1 Axes>"
            ]
          },
          "metadata": {
            "needs_background": "light"
          },
          "output_type": "display_data"
        }
      ],
      "source": [
        "plt.plot(net[0:3](x[:9]).data,'--o')"
      ]
    },
    {
      "cell_type": "markdown",
      "id": "8496860e-0c5d-4fbf-814b-730e2b9c3c69",
      "metadata": {
        "id": "8496860e-0c5d-4fbf-814b-730e2b9c3c69"
      },
      "source": [
        "- 이제 못함"
      ]
    },
    {
      "cell_type": "code",
      "execution_count": null,
      "id": "c2abe80c-725c-4b31-a747-c1ff6ea525d7",
      "metadata": {
        "id": "c2abe80c-725c-4b31-a747-c1ff6ea525d7",
        "outputId": "25ed36ce-2f64-422c-bb29-eb096927f31e"
      },
      "outputs": [
        {
          "data": {
            "text/plain": [
              "<matplotlib.image.AxesImage at 0x7fa97d124c10>"
            ]
          },
          "execution_count": 86,
          "metadata": {},
          "output_type": "execute_result"
        },
        {
          "data": {
            "image/png": "[encoded data removed]",
            "text/plain": [
              "<Figure size 432x288 with 1 Axes>"
            ]
          },
          "metadata": {
            "needs_background": "light"
          },
          "output_type": "display_data"
        }
      ],
      "source": [
        "plt.imshow(soft(net(x[:9])).data)"
      ]
    },
    {
      "cell_type": "markdown",
      "id": "a78cc7b2-5dea-46da-aa27-e3d930fd91cc",
      "metadata": {
        "id": "a78cc7b2-5dea-46da-aa27-e3d930fd91cc"
      },
      "source": [
        "### sol -- 성공"
      ]
    },
    {
      "cell_type": "code",
      "execution_count": null,
      "id": "b177b299-a05b-4d37-902a-9f434674e4aa",
      "metadata": {
        "id": "b177b299-a05b-4d37-902a-9f434674e4aa",
        "outputId": "7b561d42-3308-4444-fd88-af8fe13ec94f"
      },
      "outputs": [
        {
          "data": {
            "text/plain": [
              "(tensor([0, 1, 2, 3, 0]), tensor([1, 2, 3, 0, 1]))"
            ]
          },
          "execution_count": 87,
          "metadata": {},
          "output_type": "execute_result"
        }
      ],
      "source": [
        "mapping = {'a':0,'b':1,'c':2,'d':3}\n",
        "x = torch.tensor(f(txt_x,mapping))\n",
        "y = torch.tensor(f(txt_y,mapping))\n",
        "x[:5],y[:5]"
      ]
    },
    {
      "cell_type": "code",
      "execution_count": null,
      "id": "afa573b6-f75b-462d-8c33-7e74a8ff9960",
      "metadata": {
        "id": "afa573b6-f75b-462d-8c33-7e74a8ff9960"
      },
      "outputs": [],
      "source": [
        "net = torch.nn.Sequential(\n",
        "    torch.nn.Embedding(num_embeddings=4,embedding_dim=2),\n",
        "    torch.nn.Tanh(),\n",
        "    torch.nn.Linear(in_features=2,out_features=4)\n",
        ")\n",
        "loss_fn = torch.nn.CrossEntropyLoss()\n",
        "optimizr = torch.optim.Adam(net.parameters())"
      ]
    },
    {
      "cell_type": "code",
      "execution_count": null,
      "id": "f9772351-f52b-46e9-8fed-3942b6f129dd",
      "metadata": {
        "id": "f9772351-f52b-46e9-8fed-3942b6f129dd",
        "outputId": "337afe1a-523b-4259-b03a-4b6228dd1c22"
      },
      "outputs": [
        {
          "data": {
            "text/plain": [
              "torch.Size([399, 4])"
            ]
          },
          "execution_count": 89,
          "metadata": {},
          "output_type": "execute_result"
        }
      ],
      "source": [
        "net(x).shape"
      ]
    },
    {
      "cell_type": "code",
      "execution_count": null,
      "id": "6d65a506-278c-4e43-86aa-c30f6a3a2931",
      "metadata": {
        "id": "6d65a506-278c-4e43-86aa-c30f6a3a2931"
      },
      "outputs": [],
      "source": [
        "for epoc in range(5000):\n",
        "    ## 1\n",
        "    yhat = net(x)\n",
        "    ## 2 \n",
        "    loss = loss_fn(yhat,y)\n",
        "    ## 3 \n",
        "    loss.backward()\n",
        "    ## 4 \n",
        "    optimizr.step()\n",
        "    optimizr.zero_grad()"
      ]
    },
    {
      "cell_type": "code",
      "execution_count": null,
      "id": "388f57e7-14b2-41a1-9db2-f469f1421b1d",
      "metadata": {
        "id": "388f57e7-14b2-41a1-9db2-f469f1421b1d",
        "outputId": "225d96dc-ec1f-433b-84fb-8e13341a19b6"
      },
      "outputs": [
        {
          "data": {
            "text/plain": [
              "[<matplotlib.lines.Line2D at 0x7fa97c789d90>,\n",
              " <matplotlib.lines.Line2D at 0x7fa97c7eebd0>]"
            ]
          },
          "execution_count": 91,
          "metadata": {},
          "output_type": "execute_result"
        },
        {
          "data": {
            "image/png": "[encoded data removed]",
            "text/plain": [
              "<Figure size 432x288 with 1 Axes>"
            ]
          },
          "metadata": {
            "needs_background": "light"
          },
          "output_type": "display_data"
        }
      ],
      "source": [
        "plt.plot(net[0:2](x[:9]).data,'--o')"
      ]
    },
    {
      "cell_type": "code",
      "execution_count": null,
      "id": "9a4ceea7-47a1-4143-ac6e-9b13dc6318d7",
      "metadata": {
        "id": "9a4ceea7-47a1-4143-ac6e-9b13dc6318d7",
        "outputId": "1f43df4a-8b7a-415b-fca1-565fd2abb9a2"
      },
      "outputs": [
        {
          "data": {
            "text/plain": [
              "[<matplotlib.lines.Line2D at 0x7fa97cf4e790>,\n",
              " <matplotlib.lines.Line2D at 0x7fa97cf39490>,\n",
              " <matplotlib.lines.Line2D at 0x7fa97cf43f50>,\n",
              " <matplotlib.lines.Line2D at 0x7fa97cf43350>]"
            ]
          },
          "execution_count": 92,
          "metadata": {},
          "output_type": "execute_result"
        },
        {
          "data": {
            "image/png": "[encoded data removed]",
            "text/plain": [
              "<Figure size 432x288 with 1 Axes>"
            ]
          },
          "metadata": {
            "needs_background": "light"
          },
          "output_type": "display_data"
        }
      ],
      "source": [
        "plt.plot(net[0:3](x[:9]).data,'--o')"
      ]
    },
    {
      "cell_type": "markdown",
      "id": "f8561d03-e23a-4bf5-bc2a-77edd7aa855b",
      "metadata": {
        "id": "f8561d03-e23a-4bf5-bc2a-77edd7aa855b"
      },
      "source": [
        "- 성공"
      ]
    },
    {
      "cell_type": "code",
      "execution_count": null,
      "id": "b899320a-6412-487b-8235-21b2d96b57f3",
      "metadata": {
        "id": "b899320a-6412-487b-8235-21b2d96b57f3",
        "outputId": "caefb59e-29a5-4e57-b3f4-77d749ec6b3d"
      },
      "outputs": [
        {
          "data": {
            "text/plain": [
              "<matplotlib.image.AxesImage at 0x7fa97cbaea90>"
            ]
          },
          "execution_count": 93,
          "metadata": {},
          "output_type": "execute_result"
        },
        {
          "data": {
            "image/png": "[encoded data removed]",
            "text/plain": [
              "<Figure size 432x288 with 1 Axes>"
            ]
          },
          "metadata": {
            "needs_background": "light"
          },
          "output_type": "display_data"
        }
      ],
      "source": [
        "plt.imshow(soft(net(x[:9])).data) ## 깔끔한 성공"
      ]
    },
    {
      "cell_type": "markdown",
      "id": "1d2acc2e-c594-4a3a-a96e-d2e6d05a3f4a",
      "metadata": {
        "id": "1d2acc2e-c594-4a3a-a96e-d2e6d05a3f4a"
      },
      "source": [
        "## 순환신경망 motivation -- AbAcAdAbAcAd"
      ]
    },
    {
      "cell_type": "markdown",
      "id": "d7978c1f-11f7-4a43-a3a0-5d0de0b8130d",
      "metadata": {
        "id": "d7978c1f-11f7-4a43-a3a0-5d0de0b8130d"
      },
      "source": [
        "### data"
      ]
    },
    {
      "cell_type": "code",
      "execution_count": null,
      "id": "22879cf4-ec2a-4b35-bfe3-cae09b8524eb",
      "metadata": {
        "id": "22879cf4-ec2a-4b35-bfe3-cae09b8524eb",
        "outputId": "4469bd5f-a7ee-49d7-f8aa-f01f1ca8b7b4"
      },
      "outputs": [
        {
          "data": {
            "text/plain": [
              "['A', 'b', 'A', 'c', 'A', 'd', 'A', 'b', 'A', 'c']"
            ]
          },
          "execution_count": 94,
          "metadata": {},
          "output_type": "execute_result"
        }
      ],
      "source": [
        "txt = list('AbAcAd')*100\n",
        "txt[:10]"
      ]
    },
    {
      "cell_type": "code",
      "execution_count": null,
      "id": "3d5a9efe-eee3-4091-81eb-5cbd71bf5c42",
      "metadata": {
        "id": "3d5a9efe-eee3-4091-81eb-5cbd71bf5c42"
      },
      "outputs": [],
      "source": [
        "txt_x = txt[:-1]\n",
        "txt_y = txt[1:]"
      ]
    },
    {
      "cell_type": "code",
      "execution_count": null,
      "id": "67f4ff6c-409a-4f87-9b7a-775e011e8be8",
      "metadata": {
        "id": "67f4ff6c-409a-4f87-9b7a-775e011e8be8",
        "outputId": "3eea6bd1-5686-4b47-8fc3-7cbb173eef75"
      },
      "outputs": [
        {
          "data": {
            "text/plain": [
              "(['A', 'b', 'A', 'c', 'A'], ['b', 'A', 'c', 'A', 'd'])"
            ]
          },
          "execution_count": 96,
          "metadata": {},
          "output_type": "execute_result"
        }
      ],
      "source": [
        "txt_x[:5],txt_y[:5]"
      ]
    },
    {
      "cell_type": "markdown",
      "id": "20519eb6-21dd-42b7-8086-06c6986fcdaf",
      "metadata": {
        "id": "20519eb6-21dd-42b7-8086-06c6986fcdaf"
      },
      "source": [
        "### sol -- 예상한 실패"
      ]
    },
    {
      "cell_type": "code",
      "execution_count": null,
      "id": "672b470f-1f57-4927-aac3-409d9753fab2",
      "metadata": {
        "id": "672b470f-1f57-4927-aac3-409d9753fab2",
        "outputId": "57d31daa-729c-46ac-de3f-cc144ac6b7ec"
      },
      "outputs": [
        {
          "data": {
            "text/plain": [
              "(tensor([0, 1, 0, 2, 0]), tensor([1, 0, 2, 0, 3]))"
            ]
          },
          "execution_count": 97,
          "metadata": {},
          "output_type": "execute_result"
        }
      ],
      "source": [
        "mapping = {'A':0,'b':1,'c':2,'d':3}\n",
        "x = torch.tensor(f(txt_x,mapping))\n",
        "y = torch.tensor(f(txt_y,mapping))\n",
        "x[:5],y[:5]"
      ]
    },
    {
      "cell_type": "code",
      "execution_count": null,
      "id": "6fba2843-c19a-4fb1-b6f3-298f3da5d030",
      "metadata": {
        "id": "6fba2843-c19a-4fb1-b6f3-298f3da5d030"
      },
      "outputs": [],
      "source": [
        "net = torch.nn.Sequential(\n",
        "    torch.nn.Embedding(num_embeddings=4,embedding_dim=1),\n",
        "    torch.nn.Tanh(),\n",
        "    torch.nn.Linear(in_features=1,out_features=4)\n",
        ")\n",
        "loss_fn = torch.nn.CrossEntropyLoss()\n",
        "optimizr = torch.optim.Adam(net.parameters())"
      ]
    },
    {
      "cell_type": "code",
      "execution_count": null,
      "id": "f9f75057-1516-436d-8053-94ba7e007e5a",
      "metadata": {
        "id": "f9f75057-1516-436d-8053-94ba7e007e5a",
        "outputId": "0c665549-eae6-4f33-cb4c-9b3c6fea95dd"
      },
      "outputs": [
        {
          "data": {
            "text/plain": [
              "torch.Size([599, 4])"
            ]
          },
          "execution_count": 99,
          "metadata": {},
          "output_type": "execute_result"
        }
      ],
      "source": [
        "net(x).shape"
      ]
    },
    {
      "cell_type": "code",
      "execution_count": null,
      "id": "80c3fe76-e1a7-43c0-a1b1-f92c17ad4e45",
      "metadata": {
        "id": "80c3fe76-e1a7-43c0-a1b1-f92c17ad4e45"
      },
      "outputs": [],
      "source": [
        "for epoc in range(5000):\n",
        "    ## 1\n",
        "    yhat = net(x)\n",
        "    ## 2 \n",
        "    loss = loss_fn(yhat,y)\n",
        "    ## 3 \n",
        "    loss.backward()\n",
        "    ## 4 \n",
        "    optimizr.step()\n",
        "    optimizr.zero_grad()"
      ]
    },
    {
      "cell_type": "code",
      "execution_count": null,
      "id": "572486eb-5c1d-48ec-8223-9b87296a9b15",
      "metadata": {
        "id": "572486eb-5c1d-48ec-8223-9b87296a9b15",
        "outputId": "018362fc-4d92-4c42-9b00-88c6adce068b"
      },
      "outputs": [
        {
          "data": {
            "text/plain": [
              "<matplotlib.image.AxesImage at 0x7fa97cb81510>"
            ]
          },
          "execution_count": 101,
          "metadata": {},
          "output_type": "execute_result"
        },
        {
          "data": {
            "image/png": "[encoded data removed]",
            "text/plain": [
              "<Figure size 432x288 with 1 Axes>"
            ]
          },
          "metadata": {
            "needs_background": "light"
          },
          "output_type": "display_data"
        }
      ],
      "source": [
        "plt.imshow(soft(net(x[:9])).data) "
      ]
    },
    {
      "cell_type": "markdown",
      "id": "cb778bfe-bd18-45bd-ac0f-902ccf00f824",
      "metadata": {
        "id": "cb778bfe-bd18-45bd-ac0f-902ccf00f824"
      },
      "source": [
        "- b,c,d는 사실 소문자라는 측면에서 공통점이 있음 \n",
        "- b,c,d는 퉁쳐서 한 문자로 취급"
      ]
    },
    {
      "cell_type": "markdown",
      "id": "d62d0055-8058-4911-aa72-189ddd9267ff",
      "metadata": {
        "id": "d62d0055-8058-4911-aa72-189ddd9267ff"
      },
      "source": [
        "### sol -- 예상못한실패"
      ]
    },
    {
      "cell_type": "code",
      "execution_count": null,
      "id": "8e714a89-808a-44f7-b7b2-da8cbb4e6ce5",
      "metadata": {
        "id": "8e714a89-808a-44f7-b7b2-da8cbb4e6ce5",
        "outputId": "6cebd9c2-26fc-4242-995a-f05e53fef8d4"
      },
      "outputs": [
        {
          "data": {
            "text/plain": [
              "(tensor([0, 1, 0, 2, 0]), tensor([1, 0, 2, 0, 3]))"
            ]
          },
          "execution_count": 102,
          "metadata": {},
          "output_type": "execute_result"
        }
      ],
      "source": [
        "mapping = {'A':0,'b':1,'c':2,'d':3}\n",
        "x = torch.tensor(f(txt_x,mapping))\n",
        "y = torch.tensor(f(txt_y,mapping))\n",
        "x[:5],y[:5]"
      ]
    },
    {
      "cell_type": "code",
      "execution_count": null,
      "id": "939681e0-b071-4deb-8e17-bba4c0dc40d7",
      "metadata": {
        "id": "939681e0-b071-4deb-8e17-bba4c0dc40d7"
      },
      "outputs": [],
      "source": [
        "net = torch.nn.Sequential(\n",
        "    torch.nn.Embedding(num_embeddings=4,embedding_dim=2),\n",
        "    torch.nn.Tanh(),\n",
        "    torch.nn.Linear(in_features=2,out_features=4)\n",
        ")\n",
        "loss_fn = torch.nn.CrossEntropyLoss()\n",
        "optimizr = torch.optim.Adam(net.parameters())"
      ]
    },
    {
      "cell_type": "code",
      "execution_count": null,
      "id": "31590ca0-288a-4e75-8fbe-34ee2ecf7d75",
      "metadata": {
        "id": "31590ca0-288a-4e75-8fbe-34ee2ecf7d75",
        "outputId": "0bccc437-3cbf-4c1f-d49e-680983b95140"
      },
      "outputs": [
        {
          "data": {
            "text/plain": [
              "torch.Size([599, 4])"
            ]
          },
          "execution_count": 104,
          "metadata": {},
          "output_type": "execute_result"
        }
      ],
      "source": [
        "net(x).shape"
      ]
    },
    {
      "cell_type": "code",
      "execution_count": null,
      "id": "39efdd2d-0fbc-442c-805c-fbbd1bdafc44",
      "metadata": {
        "id": "39efdd2d-0fbc-442c-805c-fbbd1bdafc44"
      },
      "outputs": [],
      "source": [
        "for epoc in range(5000):\n",
        "    ## 1\n",
        "    yhat = net(x)\n",
        "    ## 2 \n",
        "    loss = loss_fn(yhat,y)\n",
        "    ## 3 \n",
        "    loss.backward()\n",
        "    ## 4 \n",
        "    optimizr.step()\n",
        "    optimizr.zero_grad()"
      ]
    },
    {
      "cell_type": "code",
      "execution_count": null,
      "id": "d6f18bca-fa6d-4dad-a503-ad6c6488f726",
      "metadata": {
        "id": "d6f18bca-fa6d-4dad-a503-ad6c6488f726",
        "outputId": "77e2145b-7331-488f-959e-4307e297308f"
      },
      "outputs": [
        {
          "data": {
            "text/plain": [
              "<matplotlib.image.AxesImage at 0x7fa97d5cf0d0>"
            ]
          },
          "execution_count": 106,
          "metadata": {},
          "output_type": "execute_result"
        },
        {
          "data": {
            "image/png": "[encoded data removed]",
            "text/plain": [
              "<Figure size 432x288 with 1 Axes>"
            ]
          },
          "metadata": {
            "needs_background": "light"
          },
          "output_type": "display_data"
        }
      ],
      "source": [
        "plt.imshow(soft(net(x[:9])).data) ## 한계상황"
      ]
    },
    {
      "cell_type": "markdown",
      "id": "6b8c9eee-a70e-4c49-afdd-45473abd4ca2",
      "metadata": {
        "id": "6b8c9eee-a70e-4c49-afdd-45473abd4ca2"
      },
      "source": [
        "- 파라메터 더 많이 써봤자 안될듯 "
      ]
    },
    {
      "cell_type": "markdown",
      "id": "e91f0168-3863-4d27-b7a4-3f5f69c39251",
      "metadata": {
        "id": "e91f0168-3863-4d27-b7a4-3f5f69c39251"
      },
      "source": [
        "### 조금 낯선 표현 "
      ]
    },
    {
      "cell_type": "code",
      "execution_count": null,
      "id": "1851fc12-2319-4689-ab48-0d47c87a22b8",
      "metadata": {
        "id": "1851fc12-2319-4689-ab48-0d47c87a22b8"
      },
      "outputs": [],
      "source": [
        "## net \n",
        "i2h = torch.nn.Embedding(num_embeddings=4,embedding_dim=2)\n",
        "    # 4 is input size, 2 is hidden size \n",
        "tanh = torch.nn.Tanh()\n",
        "h2o = torch.nn.Linear(in_features=2,out_features=4)\n",
        "    # 2 is hidden size, 4 is output size \n",
        "    \n",
        "## loss_fn\n",
        "loss_fn = torch.nn.CrossEntropyLoss()\n",
        "## optimizr \n",
        "# optimizr = torch.optim.Adam(net.parameters())"
      ]
    },
    {
      "cell_type": "markdown",
      "id": "c0cdc077-eb5f-461b-9742-18fbfe7278f2",
      "metadata": {
        "id": "c0cdc077-eb5f-461b-9742-18fbfe7278f2"
      },
      "source": [
        "`-` step1~2"
      ]
    },
    {
      "cell_type": "markdown",
      "id": "3b34e65c-2673-49a0-91d6-a40594150116",
      "metadata": {
        "id": "3b34e65c-2673-49a0-91d6-a40594150116"
      },
      "source": [
        "(for문을 이용하여 loss구하기)"
      ]
    },
    {
      "cell_type": "code",
      "execution_count": null,
      "id": "96f16c1f-2509-4fa5-9a37-641486d76660",
      "metadata": {
        "id": "96f16c1f-2509-4fa5-9a37-641486d76660"
      },
      "outputs": [],
      "source": [
        "T = len(x)"
      ]
    },
    {
      "cell_type": "code",
      "execution_count": null,
      "id": "7a50372b-e472-41c9-99bb-853a169a57c7",
      "metadata": {
        "id": "7a50372b-e472-41c9-99bb-853a169a57c7",
        "outputId": "039c0e7a-f6c6-4ce2-8c67-3334de3a4dc6"
      },
      "outputs": [
        {
          "data": {
            "text/plain": [
              "tensor(1.2807, grad_fn=<DivBackward0>)"
            ]
          },
          "execution_count": 109,
          "metadata": {},
          "output_type": "execute_result"
        }
      ],
      "source": [
        "loss = 0 \n",
        "for t in range(T):\n",
        "    x_t = x[[t]]\n",
        "    y_t = y[[t]]\n",
        "    h_t = tanh(i2h(x_t))\n",
        "    yhat_t = h2o(h_t) # softmax 전 \n",
        "    loss += loss_fn(yhat_t,y_t) \n",
        "loss = loss/T\n",
        "loss"
      ]
    },
    {
      "cell_type": "markdown",
      "id": "6e4eb827-dfc3-451f-b148-cd908a934403",
      "metadata": {
        "id": "6e4eb827-dfc3-451f-b148-cd908a934403"
      },
      "source": [
        "(하던대로 loss구하기)"
      ]
    },
    {
      "cell_type": "code",
      "execution_count": null,
      "id": "812d65bb-1401-40ac-9c05-0e52be96291f",
      "metadata": {
        "id": "812d65bb-1401-40ac-9c05-0e52be96291f",
        "outputId": "3a6e83e0-2a28-4b23-b5de-23cdea88a072"
      },
      "outputs": [
        {
          "data": {
            "text/plain": [
              "tensor(1.2807, grad_fn=<NllLossBackward0>)"
            ]
          },
          "execution_count": 110,
          "metadata": {},
          "output_type": "execute_result"
        }
      ],
      "source": [
        "net = torch.nn.Sequential(i2h,tanh,h2o)\n",
        "loss_fn(net(x),y)"
      ]
    },
    {
      "cell_type": "markdown",
      "id": "bae64358-765a-444b-beb8-5452842a1712",
      "metadata": {
        "id": "bae64358-765a-444b-beb8-5452842a1712"
      },
      "source": [
        "`-` step3"
      ]
    },
    {
      "cell_type": "code",
      "execution_count": null,
      "id": "e37a7d37-4238-484c-b611-cc7c36dbfb5b",
      "metadata": {
        "id": "e37a7d37-4238-484c-b611-cc7c36dbfb5b"
      },
      "outputs": [],
      "source": [
        "loss.backward()"
      ]
    },
    {
      "cell_type": "markdown",
      "id": "cd0cc47f-4eec-424c-847f-3921e9626167",
      "metadata": {
        "id": "cd0cc47f-4eec-424c-847f-3921e9626167"
      },
      "source": [
        "`-` step4"
      ]
    },
    {
      "cell_type": "code",
      "execution_count": null,
      "id": "8bbb6814-1bca-4918-afbf-396fca708112",
      "metadata": {
        "id": "8bbb6814-1bca-4918-afbf-396fca708112"
      },
      "outputs": [],
      "source": [
        "# \n",
        "# optimizr = torch.optim.Adam(net.parameters()) <-- 여기서 막힌다.."
      ]
    },
    {
      "cell_type": "markdown",
      "id": "4c56d330-949a-4d87-8ced-a9e4f55edbb6",
      "metadata": {
        "id": "4c56d330-949a-4d87-8ced-a9e4f55edbb6"
      },
      "source": [
        "---"
      ]
    },
    {
      "cell_type": "markdown",
      "id": "24b1bcde-fbd4-43b2-81ca-4f059a7308a3",
      "metadata": {
        "id": "24b1bcde-fbd4-43b2-81ca-4f059a7308a3"
      },
      "source": [
        "완성하려면?"
      ]
    },
    {
      "cell_type": "markdown",
      "id": "0761a390-180e-484c-a633-ef9106b62717",
      "metadata": {
        "id": "0761a390-180e-484c-a633-ef9106b62717"
      },
      "source": [
        "`-` step1~2"
      ]
    },
    {
      "cell_type": "code",
      "execution_count": null,
      "id": "b667d2a6-6b82-4f5a-b97e-d376e8257153",
      "metadata": {
        "id": "b667d2a6-6b82-4f5a-b97e-d376e8257153"
      },
      "outputs": [],
      "source": [
        "class RNN0(torch.nn.Module): ## RNN을 이해하기 위한 네트워크, 실제로 순환신경망은 아님\n",
        "    def __init__(self):\n",
        "        super().__init__()\n",
        "        self.i2h = torch.nn.Embedding(num_embeddings=4,embedding_dim=2)\n",
        "        self.tanh = torch.nn.Tanh()\n",
        "        self.h2o = torch.nn.Linear(in_features=2,out_features=4)\n",
        "    def forward(self,x_t):\n",
        "        h_t = self.tanh(self.i2h(x_t))\n",
        "        yhat_t = self.h2o(h_t)\n",
        "        return yhat_t "
      ]
    },
    {
      "cell_type": "code",
      "execution_count": null,
      "id": "735586a7-0527-4cda-8b56-06a024c316d8",
      "metadata": {
        "id": "735586a7-0527-4cda-8b56-06a024c316d8"
      },
      "outputs": [],
      "source": [
        "rnn0 = RNN0()"
      ]
    },
    {
      "cell_type": "code",
      "execution_count": null,
      "id": "530a5d00-d15e-499f-bccb-fad7632d80a3",
      "metadata": {
        "id": "530a5d00-d15e-499f-bccb-fad7632d80a3",
        "outputId": "15addb5c-1386-4b4c-bb1c-50e1673c2652"
      },
      "outputs": [
        {
          "data": {
            "text/plain": [
              "tensor(1.5341, grad_fn=<DivBackward0>)"
            ]
          },
          "execution_count": 115,
          "metadata": {},
          "output_type": "execute_result"
        }
      ],
      "source": [
        "loss = 0 \n",
        "for t in range(T):\n",
        "    x_t = x[[t]]\n",
        "    y_t = y[[t]]\n",
        "    yhat_t = rnn0(x_t)\n",
        "    loss += loss_fn(yhat_t,y_t) \n",
        "loss = loss/T\n",
        "loss"
      ]
    },
    {
      "cell_type": "markdown",
      "id": "aec2a83a-b6fb-4fd0-a050-73b889ce567a",
      "metadata": {
        "id": "aec2a83a-b6fb-4fd0-a050-73b889ce567a"
      },
      "source": [
        "(잘 코딩했나 확인)"
      ]
    },
    {
      "cell_type": "code",
      "execution_count": null,
      "id": "64148c7e-a206-4c88-8e19-9ae0a1ba588e",
      "metadata": {
        "id": "64148c7e-a206-4c88-8e19-9ae0a1ba588e"
      },
      "outputs": [],
      "source": [
        "net = torch.nn.Sequential(\n",
        "    rnn0.i2h,\n",
        "    rnn0.tanh,\n",
        "    rnn0.h2o\n",
        ")"
      ]
    },
    {
      "cell_type": "code",
      "execution_count": null,
      "id": "f8616969-a4d2-40e0-9357-d47cfd4e779b",
      "metadata": {
        "id": "f8616969-a4d2-40e0-9357-d47cfd4e779b",
        "outputId": "8be6e6da-c28c-4980-bc27-9ee2137b9e22"
      },
      "outputs": [
        {
          "data": {
            "text/plain": [
              "tensor(1.5341, grad_fn=<NllLossBackward0>)"
            ]
          },
          "execution_count": 117,
          "metadata": {},
          "output_type": "execute_result"
        }
      ],
      "source": [
        "loss_fn(net(x),y)"
      ]
    },
    {
      "cell_type": "markdown",
      "id": "6506f25e-8e0c-4c49-90b8-8267b8814fb9",
      "metadata": {
        "id": "6506f25e-8e0c-4c49-90b8-8267b8814fb9"
      },
      "source": [
        "`-` step3"
      ]
    },
    {
      "cell_type": "code",
      "execution_count": null,
      "id": "ba61d359-136c-44e9-ba34-79d57bb34645",
      "metadata": {
        "id": "ba61d359-136c-44e9-ba34-79d57bb34645"
      },
      "outputs": [],
      "source": [
        "loss.backward()"
      ]
    },
    {
      "cell_type": "markdown",
      "id": "329dd2e6-e801-461b-a02e-cfadf1c3fe17",
      "metadata": {
        "id": "329dd2e6-e801-461b-a02e-cfadf1c3fe17"
      },
      "source": [
        "`-` step4"
      ]
    },
    {
      "cell_type": "code",
      "execution_count": null,
      "id": "217ef8a3-5b56-4358-8577-299de836a312",
      "metadata": {
        "id": "217ef8a3-5b56-4358-8577-299de836a312"
      },
      "outputs": [],
      "source": [
        "optimizr = torch.optim.Adam(rnn0.parameters())"
      ]
    },
    {
      "cell_type": "code",
      "execution_count": null,
      "id": "2b43e034-6538-4fe6-bdb5-a11d8d8fd712",
      "metadata": {
        "id": "2b43e034-6538-4fe6-bdb5-a11d8d8fd712"
      },
      "outputs": [],
      "source": [
        "optimizr.step()\n",
        "optimizr.zero_grad()"
      ]
    },
    {
      "cell_type": "markdown",
      "id": "24fc1e64-6f7b-4903-a5cb-a5d90981b7d3",
      "metadata": {
        "id": "24fc1e64-6f7b-4903-a5cb-a5d90981b7d3"
      },
      "source": [
        "`-` 반복"
      ]
    },
    {
      "cell_type": "code",
      "execution_count": null,
      "id": "c00e08f3-27e4-4886-a1fd-71d134b25cc0",
      "metadata": {
        "id": "c00e08f3-27e4-4886-a1fd-71d134b25cc0"
      },
      "outputs": [],
      "source": [
        "torch.manual_seed(43052)\n",
        "rnn0 = RNN0()\n",
        "loss_fn = torch.nn.CrossEntropyLoss()\n",
        "optimizr = torch.optim.Adam(rnn0.parameters())"
      ]
    },
    {
      "cell_type": "code",
      "execution_count": null,
      "id": "83b6d670-681b-449f-8ae3-3e64c561b02e",
      "metadata": {
        "id": "83b6d670-681b-449f-8ae3-3e64c561b02e"
      },
      "outputs": [],
      "source": [
        "for epoc in range(5):\n",
        "    ## 1 ~ 2 \n",
        "    loss = 0 \n",
        "    for t in range(T):\n",
        "        x_t = x[[t]]\n",
        "        y_t = y[[t]]\n",
        "        yhat_t = rnn0(x_t)\n",
        "        loss += loss_fn(yhat_t,y_t) \n",
        "    loss = loss/T\n",
        "    ## 3 \n",
        "    loss.backward()\n",
        "    ## 4 \n",
        "    optimizr.step()\n",
        "    optimizr.zero_grad()"
      ]
    },
    {
      "cell_type": "code",
      "execution_count": null,
      "id": "fac5b5cc-1856-49a2-9115-4e74bd2be3fe",
      "metadata": {
        "id": "fac5b5cc-1856-49a2-9115-4e74bd2be3fe",
        "outputId": "0201127a-a711-4791-b3d5-1e13e4ca2b08"
      },
      "outputs": [
        {
          "data": {
            "text/plain": [
              "tensor([ 0.0196, -0.8627,  0.4574,  0.4201], grad_fn=<SelectBackward0>)"
            ]
          },
          "execution_count": 123,
          "metadata": {},
          "output_type": "execute_result"
        }
      ],
      "source": [
        "rnn0(x)[0]"
      ]
    },
    {
      "cell_type": "markdown",
      "id": "ec66b88d-ec2f-4984-9edd-e987fe4c9a00",
      "metadata": {
        "id": "ec66b88d-ec2f-4984-9edd-e987fe4c9a00"
      },
      "source": [
        "(확인)"
      ]
    },
    {
      "cell_type": "code",
      "execution_count": null,
      "id": "18b9eb6c-f665-467b-91f6-fb717487d008",
      "metadata": {
        "id": "18b9eb6c-f665-467b-91f6-fb717487d008"
      },
      "outputs": [],
      "source": [
        "torch.manual_seed(43052)\n",
        "rnn0 = RNN0()\n",
        "net = torch.nn.Sequential(\n",
        "    rnn0.i2h,\n",
        "    rnn0.tanh,\n",
        "    rnn0.h2o\n",
        ")\n",
        "loss_fn = torch.nn.CrossEntropyLoss()\n",
        "optimizr = torch.optim.Adam(net.parameters())"
      ]
    },
    {
      "cell_type": "code",
      "execution_count": null,
      "id": "245aa3ac-340d-4743-b3ab-7a5e9b0d358c",
      "metadata": {
        "id": "245aa3ac-340d-4743-b3ab-7a5e9b0d358c"
      },
      "outputs": [],
      "source": [
        "for epoc in range(5):\n",
        "    ## 1 ~ 2 \n",
        "    loss = loss_fn(net(x),y)\n",
        "    ## 3 \n",
        "    loss.backward()\n",
        "    ## 4 \n",
        "    optimizr.step()\n",
        "    optimizr.zero_grad()"
      ]
    },
    {
      "cell_type": "code",
      "execution_count": null,
      "id": "73b3ad6a-0b52-4ba9-b20c-d8803c052717",
      "metadata": {
        "id": "73b3ad6a-0b52-4ba9-b20c-d8803c052717",
        "outputId": "c4be2a84-7694-4ec2-f718-30dfc9cde365"
      },
      "outputs": [
        {
          "data": {
            "text/plain": [
              "tensor([ 0.0196, -0.8627,  0.4574,  0.4201], grad_fn=<SelectBackward0>)"
            ]
          },
          "execution_count": 126,
          "metadata": {},
          "output_type": "execute_result"
        }
      ],
      "source": [
        "net(x)[0]"
      ]
    },
    {
      "cell_type": "markdown",
      "id": "8d5c02a5-cf09-401e-b5e1-c344d1a7dd5c",
      "metadata": {
        "id": "8d5c02a5-cf09-401e-b5e1-c344d1a7dd5c"
      },
      "source": [
        "### sol -- 순환신경망"
      ]
    },
    {
      "cell_type": "code",
      "execution_count": null,
      "id": "090d7f93-807b-4ce2-b5b8-c2f255b2026b",
      "metadata": {
        "id": "090d7f93-807b-4ce2-b5b8-c2f255b2026b"
      },
      "outputs": [],
      "source": [
        "torch.manual_seed(43052)\n",
        "rnn = torch.nn.RNN(input_size=4,hidden_size=2)\n",
        "loss_fn = torch.nn.CrossEntropyLoss()\n",
        "optimizr = torch.optim.Adam(rnn.parameters())"
      ]
    },
    {
      "cell_type": "code",
      "execution_count": null,
      "id": "c34152f6-5d38-4f97-817b-ac773af76f95",
      "metadata": {
        "id": "c34152f6-5d38-4f97-817b-ac773af76f95",
        "outputId": "3ec98183-bbed-4418-b299-9dc22e1e4f47"
      },
      "outputs": [
        {
          "data": {
            "text/plain": [
              "torch.Size([599])"
            ]
          },
          "execution_count": 128,
          "metadata": {},
          "output_type": "execute_result"
        }
      ],
      "source": [
        "x.shape"
      ]
    },
    {
      "cell_type": "code",
      "execution_count": null,
      "id": "9b18bebf-766a-4565-9aa8-c32df58a47cb",
      "metadata": {
        "id": "9b18bebf-766a-4565-9aa8-c32df58a47cb",
        "outputId": "19670873-05ef-4270-9911-2ac7de42e6d5"
      },
      "outputs": [
        {
          "data": {
            "text/plain": [
              "torch.Size([599, 4])"
            ]
          },
          "execution_count": 129,
          "metadata": {},
          "output_type": "execute_result"
        }
      ],
      "source": [
        "torch.nn.functional.one_hot(x).shape"
      ]
    },
    {
      "cell_type": "code",
      "execution_count": null,
      "id": "d105610a-9c86-4df0-9e50-41c95da48897",
      "metadata": {
        "id": "d105610a-9c86-4df0-9e50-41c95da48897",
        "outputId": "413f6382-49a4-4846-d366-000e4e5d739f"
      },
      "outputs": [
        {
          "data": {
            "text/plain": [
              "tensor([1., 0., 0., 0.])"
            ]
          },
          "execution_count": 130,
          "metadata": {},
          "output_type": "execute_result"
        }
      ],
      "source": [
        "torch.nn.functional.one_hot(x).float()[0]"
      ]
    },
    {
      "cell_type": "code",
      "execution_count": null,
      "id": "51b48b3e-6b2b-40c3-82f3-dce72cd07298",
      "metadata": {
        "id": "51b48b3e-6b2b-40c3-82f3-dce72cd07298"
      },
      "outputs": [],
      "source": [
        "output,hnn = rnn(torch.nn.functional.one_hot(x).float()[[0]])"
      ]
    },
    {
      "cell_type": "code",
      "execution_count": null,
      "id": "708ef9ce-523b-4cfb-99fa-b31ba3ee176c",
      "metadata": {
        "id": "708ef9ce-523b-4cfb-99fa-b31ba3ee176c",
        "outputId": "8cb5a8e1-4356-4160-e84d-3fbc6d7e5bf1"
      },
      "outputs": [
        {
          "data": {
            "text/plain": [
              "(torch.Size([1, 2]), torch.Size([1, 2]))"
            ]
          },
          "execution_count": 132,
          "metadata": {},
          "output_type": "execute_result"
        }
      ],
      "source": [
        "output.shape, hnn.shape"
      ]
    }
  ],
  "metadata": {
    "kernelspec": {
      "display_name": "Python 3 (ipykernel)",
      "language": "python",
      "name": "python3"
    },
    "language_info": {
      "codemirror_mode": {
        "name": "ipython",
        "version": 3
      },
      "file_extension": ".py",
      "mimetype": "text/x-python",
      "name": "python",
      "nbconvert_exporter": "python",
      "pygments_lexer": "ipython3",
      "version": "3.7.13"
    },
    "colab": {
      "provenance": []
    }
  },
  "nbformat": 4,
  "nbformat_minor": 5
}