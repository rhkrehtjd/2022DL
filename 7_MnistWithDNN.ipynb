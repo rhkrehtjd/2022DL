{
 "cells": [
  {
   "cell_type": "code",
   "execution_count": 1,
   "id": "d3060dd4-df1d-4c54-8751-605c6eef573a",
   "metadata": {
    "id": "d3060dd4-df1d-4c54-8751-605c6eef573a"
   },
   "outputs": [],
   "source": [
    "import torch\n",
    "import matplotlib.pyplot as plt\n",
    "from fastai.data.all import * \n",
    "import torchvision"
   ]
  },
  {
   "cell_type": "markdown",
   "id": "e8e7e909-cf6d-44be-9d90-4d707982690a",
   "metadata": {
    "id": "e8e7e909-cf6d-44be-9d90-4d707982690a"
   },
   "source": [
    "## 시벤코정리 "
   ]
  },
  {
   "cell_type": "markdown",
   "id": "57153845-100b-417b-ad37-bb1befef7e9a",
   "metadata": {
    "id": "57153845-100b-417b-ad37-bb1befef7e9a"
   },
   "source": [
    "`-` 아이디어: linear -> relu -> linear (-> sigmoid) 조합으로 꺾은선으로 표현되는 underlying 을 표현할 수 있었다. \n",
    "- 아이디어의 실용성: 실제자료에서 꺾은선으로 표현되는 underlying은 몇개 없을 것 같음. \n",
    "  - 그건 맞는데 꺾이는 점을 많이 설정하면 얼추 비슷하게는 \"근사\" 시킬 수 있음. \n",
    "- 아이디어의 확장성: 이러한 논리전개는 X: n x 2인 경우도 가능했음. (이 경우 꺾인평면이 된다)\n",
    "- 아이디어에 해당하는 용어정리: : 이 구조가 x->y 로 바로 가는 것이 아니라 x->(u1->v1)->(u2->v2)=y 의 구조인데 \n",
    "  - 이러한 네트워크를 하나의 은닉층을 포함하는 네트워크라고 표현한다. "
   ]
  },
  {
   "cell_type": "markdown",
   "id": "2ad75880-52bf-4dc2-9446-10ade3f43563",
   "metadata": {
    "id": "2ad75880-52bf-4dc2-9446-10ade3f43563"
   },
   "source": [
    "### 시벤코정리"
   ]
  },
  {
   "cell_type": "markdown",
   "id": "b364b9d4-3738-404e-a8f6-ba34a05f03d1",
   "metadata": {
    "id": "b364b9d4-3738-404e-a8f6-ba34a05f03d1"
   },
   "source": [
    "**universal approximation thm: (범용근사정리,보편근사정리,시벤코정리)**, 1989\n",
    "\n",
    "> 하나의 은닉층을 가지는 \"linear -> sigmoid -> linear\" 꼴의 네트워크를 이용하여 세상에 존재하는 모든 (다차원) 연속함수를 원하는 정확도로 근사시킬 수 있다. (계수를 잘 추정한다면)\n"
   ]
  },
  {
   "cell_type": "markdown",
   "id": "72ce1337-f601-4bb8-8ba6-b37245cea176",
   "metadata": {
    "id": "72ce1337-f601-4bb8-8ba6-b37245cea176"
   },
   "source": [
    "`-` 사실 엄청 이해안되는 정리임. 왜냐햐면,\n",
    "- 그렇게 잘 맞추면 1989년에 세상의 모든 문제를 다 풀어야 한거 아니야? \n",
    "- 요즘은 \"linear -> sigmoid -> linear\" 가 아니라 \"linear -> relu -> linear\" 조합으로 많이 쓰던데? \n",
    "- 요즘은 하나의 은닉층을 포함하는 네트워크는 잘 안쓰지 않나? 은닉층이 여러개일수록 좋다고 어디서 본 것 같은데?"
   ]
  },
  {
   "cell_type": "markdown",
   "id": "f5c79e3f-c491-4e05-ac00-2419cd58369a",
   "metadata": {
    "id": "f5c79e3f-c491-4e05-ac00-2419cd58369a"
   },
   "source": [
    "`-` 약간의 의구심이 있지만 아무튼 universal approximation thm에 따르면 우리는 아래와 같은 무기를 가진 꼴이 된다. \n",
    "- 우리의 무기: ${\\bf X}: (n,p)$ 꼴의 입력에서 ${\\bf y}:(n,1)$ 꼴의 출력으로 향하는 맵핑을 \"linear -> relu -> linear\"와 같은 네트워크를 이용해서 \"근사\"시킬 수 있다."
   ]
  },
  {
   "cell_type": "markdown",
   "id": "5a2daeb2-cccc-4056-b16f-daa9d6b2852f",
   "metadata": {
    "id": "5a2daeb2-cccc-4056-b16f-daa9d6b2852f"
   },
   "source": [
    "## MNIST with DNN"
   ]
  },
  {
   "cell_type": "markdown",
   "id": "952952f3-1c31-430e-ab8f-4a21d0e51354",
   "metadata": {
    "id": "952952f3-1c31-430e-ab8f-4a21d0e51354"
   },
   "source": [
    "### 목표 "
   ]
  },
  {
   "cell_type": "markdown",
   "id": "1d906dd0-2397-4f66-98a8-d4a0764ff218",
   "metadata": {
    "id": "1d906dd0-2397-4f66-98a8-d4a0764ff218"
   },
   "source": [
    "`-` 목표: \n",
    "- ${\\bf X}:(n,1,28,28)$ 에서 $y:(n,1)$ 로 가는 맵핑을 학습하자 \n",
    "- --> 배운적이 없는데? \n",
    "- --> ${\\bf X}:(n,784)$ 에서 $y:(n,1)$ 로 가는 맵핑을 학습하자.. "
   ]
  },
  {
   "cell_type": "markdown",
   "id": "100c09e2-a036-41d4-930c-5f49a645fbf1",
   "metadata": {
    "id": "100c09e2-a036-41d4-930c-5f49a645fbf1",
    "tags": []
   },
   "source": [
    "### 예비학습1: Path"
   ]
  },
  {
   "cell_type": "code",
   "execution_count": 2,
   "id": "cb0bb8e1-5446-4e28-bbb7-525c8160dbda",
   "metadata": {
    "id": "cb0bb8e1-5446-4e28-bbb7-525c8160dbda",
    "outputId": "7331aa4e-3c26-4013-e73f-1bb1bb6e22b9"
   },
   "outputs": [
    {
     "data": {
      "text/html": [
       "\n",
       "<style>\n",
       "    /* Turns off some styling */\n",
       "    progress {\n",
       "        /* gets rid of default border in Firefox and Opera. */\n",
       "        border: none;\n",
       "        /* Needs to be in here for Safari polyfill so background images work as expected. */\n",
       "        background-size: auto;\n",
       "    }\n",
       "    progress:not([value]), progress:not([value])::-webkit-progress-bar {\n",
       "        background: repeating-linear-gradient(45deg, #7e7e7e, #7e7e7e 10px, #5c5c5c 10px, #5c5c5c 20px);\n",
       "    }\n",
       "    .progress-bar-interrupted, .progress-bar-interrupted::-webkit-progress-bar {\n",
       "        background: #F44336;\n",
       "    }\n",
       "</style>\n"
      ],
      "text/plain": [
       "<IPython.core.display.HTML object>"
      ]
     },
     "metadata": {},
     "output_type": "display_data"
    },
    {
     "data": {
      "text/html": [
       "\n",
       "    <div>\n",
       "      <progress value='15687680' class='' max='15683414' style='width:300px; height:20px; vertical-align: middle;'></progress>\n",
       "      100.03% [15687680/15683414 00:24&lt;00:00]\n",
       "    </div>\n",
       "    "
      ],
      "text/plain": [
       "<IPython.core.display.HTML object>"
      ]
     },
     "metadata": {},
     "output_type": "display_data"
    },
    {
     "data": {
      "text/plain": [
       "Path('/Users/gwagdoseong/.fastai/data/mnist_png')"
      ]
     },
     "execution_count": 2,
     "metadata": {},
     "output_type": "execute_result"
    }
   ],
   "source": [
    "path = untar_data(URLs.MNIST) \n",
    "path"
   ]
  },
  {
   "cell_type": "markdown",
   "id": "996bec2e-9099-44d6-bc1b-0286f4ac42cc",
   "metadata": {
    "id": "996bec2e-9099-44d6-bc1b-0286f4ac42cc"
   },
   "source": [
    "- path 도 오브젝트임\n",
    "- path 도 정보+기능이 있음 "
   ]
  },
  {
   "cell_type": "markdown",
   "id": "e18fd206-af39-4770-a744-d43a1c0d1e2f",
   "metadata": {
    "id": "e18fd206-af39-4770-a744-d43a1c0d1e2f"
   },
   "source": [
    "`-` path의 정보"
   ]
  },
  {
   "cell_type": "code",
   "execution_count": 5,
   "id": "fe96d16c-274e-4673-839b-a9b8ecdc4041",
   "metadata": {
    "id": "fe96d16c-274e-4673-839b-a9b8ecdc4041",
    "outputId": "788091a7-fe2f-4df8-c5d3-24850af82d3a"
   },
   "outputs": [
    {
     "data": {
      "text/plain": [
       "'/Users/gwagdoseong/.fastai/data/mnist_png'"
      ]
     },
     "execution_count": 5,
     "metadata": {},
     "output_type": "execute_result"
    }
   ],
   "source": [
    "path._str # 숨겨놓았네?"
   ]
  },
  {
   "cell_type": "markdown",
   "id": "eeecefd7-a73e-4c4b-848e-255156051e86",
   "metadata": {
    "id": "eeecefd7-a73e-4c4b-848e-255156051e86"
   },
   "source": [
    "`-` 기능1"
   ]
  },
  {
   "cell_type": "code",
   "execution_count": 6,
   "id": "d379a793-762c-437a-be75-c305ca55f626",
   "metadata": {
    "id": "d379a793-762c-437a-be75-c305ca55f626",
    "outputId": "565509e3-b67e-4027-e967-cf09ae9f482a"
   },
   "outputs": [
    {
     "data": {
      "text/plain": [
       "(#2) [Path('/Users/gwagdoseong/.fastai/data/mnist_png/training'),Path('/Users/gwagdoseong/.fastai/data/mnist_png/testing')]"
      ]
     },
     "execution_count": 6,
     "metadata": {},
     "output_type": "execute_result"
    }
   ],
   "source": [
    "path.ls()"
   ]
  },
  {
   "cell_type": "code",
   "execution_count": 7,
   "id": "de64e05d-648f-46d3-b06e-8b4f42a92b27",
   "metadata": {},
   "outputs": [
    {
     "data": {
      "text/plain": [
       "2"
      ]
     },
     "execution_count": 7,
     "metadata": {},
     "output_type": "execute_result"
    }
   ],
   "source": [
    "len(path.ls())"
   ]
  },
  {
   "cell_type": "code",
   "execution_count": 8,
   "id": "cb699000-3e22-461e-a6e2-af40236fd30e",
   "metadata": {},
   "outputs": [
    {
     "data": {
      "text/plain": [
       "Path('/Users/gwagdoseong/.fastai/data/mnist_png/training')"
      ]
     },
     "execution_count": 8,
     "metadata": {},
     "output_type": "execute_result"
    }
   ],
   "source": [
    "path.ls()[0]"
   ]
  },
  {
   "cell_type": "code",
   "execution_count": 9,
   "id": "b8278e7b-86e1-4a0b-bbc0-cac099d72357",
   "metadata": {},
   "outputs": [
    {
     "data": {
      "text/plain": [
       "Path('/Users/gwagdoseong/.fastai/data/mnist_png/testing')"
      ]
     },
     "execution_count": 9,
     "metadata": {},
     "output_type": "execute_result"
    }
   ],
   "source": [
    "path.ls()[1]"
   ]
  },
  {
   "cell_type": "markdown",
   "id": "4ac2f743-b4be-4973-8041-715bc73b9548",
   "metadata": {
    "id": "4ac2f743-b4be-4973-8041-715bc73b9548"
   },
   "source": [
    "`-` 기능2"
   ]
  },
  {
   "cell_type": "code",
   "execution_count": 10,
   "id": "5492dd53-02fd-4f49-9e7a-16e7ad6b1793",
   "metadata": {
    "id": "5492dd53-02fd-4f49-9e7a-16e7ad6b1793",
    "outputId": "111daf0a-0af5-4ef2-db70-508999ffe10b"
   },
   "outputs": [
    {
     "data": {
      "text/plain": [
       "Path('/Users/gwagdoseong/.fastai/data/mnist_png/training')"
      ]
     },
     "execution_count": 10,
     "metadata": {},
     "output_type": "execute_result"
    }
   ],
   "source": [
    "path/'training'"
   ]
  },
  {
   "cell_type": "code",
   "execution_count": 12,
   "id": "35427a5e-6196-4882-9d3d-098de9b918a0",
   "metadata": {
    "id": "35427a5e-6196-4882-9d3d-098de9b918a0",
    "outputId": "f480341a-1a45-417f-8e1d-32834e183c45"
   },
   "outputs": [
    {
     "data": {
      "text/plain": [
       "Path('/Users/gwagdoseong/.fastai/data/mnist_png/testing')"
      ]
     },
     "execution_count": 12,
     "metadata": {},
     "output_type": "execute_result"
    }
   ],
   "source": [
    "path/'testing'"
   ]
  },
  {
   "cell_type": "markdown",
   "id": "819aa5b8-1295-47c5-bc8b-e2704f4bcfc4",
   "metadata": {
    "id": "819aa5b8-1295-47c5-bc8b-e2704f4bcfc4"
   },
   "source": [
    "`-` 기능1과 기능2의 결합"
   ]
  },
  {
   "cell_type": "code",
   "execution_count": 14,
   "id": "ed02e822-7acf-432b-b9ad-b11f9c78b7f1",
   "metadata": {},
   "outputs": [
    {
     "data": {
      "text/plain": [
       "(#10) [Path('/Users/gwagdoseong/.fastai/data/mnist_png/testing/9'),Path('/Users/gwagdoseong/.fastai/data/mnist_png/testing/0'),Path('/Users/gwagdoseong/.fastai/data/mnist_png/testing/7'),Path('/Users/gwagdoseong/.fastai/data/mnist_png/testing/6'),Path('/Users/gwagdoseong/.fastai/data/mnist_png/testing/1'),Path('/Users/gwagdoseong/.fastai/data/mnist_png/testing/8'),Path('/Users/gwagdoseong/.fastai/data/mnist_png/testing/4'),Path('/Users/gwagdoseong/.fastai/data/mnist_png/testing/3'),Path('/Users/gwagdoseong/.fastai/data/mnist_png/testing/2'),Path('/Users/gwagdoseong/.fastai/data/mnist_png/testing/5')]"
      ]
     },
     "execution_count": 14,
     "metadata": {},
     "output_type": "execute_result"
    }
   ],
   "source": [
    "(path/'testing').ls()"
   ]
  },
  {
   "cell_type": "code",
   "execution_count": 15,
   "id": "c0291137-a31d-42b1-9349-4214fbc5ea67",
   "metadata": {
    "id": "c0291137-a31d-42b1-9349-4214fbc5ea67",
    "outputId": "c67044f6-b756-4a42-fcad-329148afb3e9"
   },
   "outputs": [
    {
     "data": {
      "text/plain": [
       "(#6131) [Path('/Users/gwagdoseong/.fastai/data/mnist_png/training/3/49081.png'),Path('/Users/gwagdoseong/.fastai/data/mnist_png/training/3/51816.png'),Path('/Users/gwagdoseong/.fastai/data/mnist_png/training/3/39566.png'),Path('/Users/gwagdoseong/.fastai/data/mnist_png/training/3/24251.png'),Path('/Users/gwagdoseong/.fastai/data/mnist_png/training/3/20989.png'),Path('/Users/gwagdoseong/.fastai/data/mnist_png/training/3/29013.png'),Path('/Users/gwagdoseong/.fastai/data/mnist_png/training/3/58832.png'),Path('/Users/gwagdoseong/.fastai/data/mnist_png/training/3/9294.png'),Path('/Users/gwagdoseong/.fastai/data/mnist_png/training/3/20023.png'),Path('/Users/gwagdoseong/.fastai/data/mnist_png/training/3/36899.png')...]"
      ]
     },
     "execution_count": 15,
     "metadata": {},
     "output_type": "execute_result"
    }
   ],
   "source": [
    "(path/'training/3').ls()"
   ]
  },
  {
   "cell_type": "markdown",
   "id": "f758519f-8c9a-4815-9b68-f9ddc9f489d0",
   "metadata": {},
   "source": [
    "- 3이라는 폴더에 6131개의 이미지 파일이 들어있음"
   ]
  },
  {
   "cell_type": "markdown",
   "id": "a6eb0b83-1af7-4a57-a314-bb2dfa75e081",
   "metadata": {
    "id": "a6eb0b83-1af7-4a57-a314-bb2dfa75e081"
   },
   "source": [
    "### 예비학습2: plt.imshow "
   ]
  },
  {
   "cell_type": "code",
   "execution_count": 17,
   "id": "ba7e2daa-28fa-4ff9-85b5-517bee67a65c",
   "metadata": {
    "id": "ba7e2daa-28fa-4ff9-85b5-517bee67a65c",
    "outputId": "400eca24-b4fd-4c2d-bcaf-44658632211c"
   },
   "outputs": [
    {
     "data": {
      "text/plain": [
       "tensor([[1., 2.],\n",
       "        [2., 4.]])"
      ]
     },
     "execution_count": 17,
     "metadata": {},
     "output_type": "execute_result"
    }
   ],
   "source": [
    "imgtsr = torch.tensor([[1.0,2],[2.0,4.0]])\n",
    "imgtsr # 2x2의 행렬"
   ]
  },
  {
   "cell_type": "code",
   "execution_count": 18,
   "id": "79012294-ff6c-49c8-85cd-53f32282498f",
   "metadata": {
    "id": "79012294-ff6c-49c8-85cd-53f32282498f",
    "outputId": "ed7a54d7-4505-44f4-cacc-3dce99b4bc4f"
   },
   "outputs": [
    {
     "data": {
      "text/plain": [
       "<matplotlib.colorbar.Colorbar at 0x7feb14e29dc0>"
      ]
     },
     "execution_count": 18,
     "metadata": {},
     "output_type": "execute_result"
    },
    {
     "data": {
      "image/png": "[encoded data removed]",
      "text/plain": [
       "<Figure size 432x288 with 2 Axes>"
      ]
     },
     "metadata": {
      "needs_background": "light"
     },
     "output_type": "display_data"
    }
   ],
   "source": [
    "plt.imshow(imgtsr,cmap='gray')\n",
    "plt.colorbar()"
   ]
  },
  {
   "cell_type": "markdown",
   "id": "2074cbfb-db4a-4de0-85fc-d9d9ed97dfb2",
   "metadata": {
    "id": "2074cbfb-db4a-4de0-85fc-d9d9ed97dfb2"
   },
   "source": [
    "### 예비학습3: torchvision"
   ]
  },
  {
   "cell_type": "markdown",
   "id": "208d7fe7-2a93-4752-85a5-356ba6482a55",
   "metadata": {
    "id": "208d7fe7-2a93-4752-85a5-356ba6482a55"
   },
   "source": [
    "`-` 이미지파일을 torchvision.io.read_image 를 이용하여 텐서로 만듦"
   ]
  },
  {
   "cell_type": "code",
   "execution_count": 21,
   "id": "701e8745-c573-4e9f-94d2-76976cab4878",
   "metadata": {
    "id": "701e8745-c573-4e9f-94d2-76976cab4878",
    "outputId": "69e19b42-543f-4451-a171-76eece986c1e"
   },
   "outputs": [
    {
     "data": {
      "text/plain": [
       "tensor([[[  0,   0,   0,   0,   0,   0,   0,   0,   0,   0,   0,   0,   0,   0,\n",
       "            0,   0,   0,   0,   0,   0,   0,   0,   0,   0,   0,   0,   0,   0],\n",
       "         [  0,   0,   0,   0,   0,   0,   0,   0,   0,   0,   0,   0,   0,   0,\n",
       "            0,   0,   0,   0,   0,   0,   0,   0,   0,   0,   0,   0,   0,   0],\n",
       "         [  0,   0,   0,   0,   0,   0,   0,   0,   0,   0,   0,   0,   0,   0,\n",
       "            0,   0,   0,   0,   0,   0,   0,   0,   0,   0,   0,   0,   0,   0],\n",
       "         [  0,   0,   0,   0,   0,   0,   0,   0,   0,   0,   0,   0,   0,   0,\n",
       "            0,   0,   0,   0,   0,   0,   0,   0,   0,   0,   0,   0,   0,   0],\n",
       "         [  0,   0,   0,   0,   0,   0,   0,   0,   0, 104, 253, 253, 253, 121,\n",
       "          121,  76,   0,   0,   0,   0,   0,   0,   0,   0,   0,   0,   0,   0],\n",
       "         [  0,   0,   0,   0,   0,   0,   0,   0,   0,  30, 156, 252, 252, 253,\n",
       "          252, 247, 240, 240, 240, 148,  39,   0,   0,   0,   0,   0,   0,   0],\n",
       "         [  0,   0,   0,   0,   0,   0,   0,   0,   0,   0,   3,  26,  26, 159,\n",
       "          158, 158, 158, 233, 252, 252, 212,   0,   0,   0,   0,   0,   0,   0],\n",
       "         [  0,   0,   0,   0,   0,   0,   0,   0,   0,   0,   0,   0,   0,   0,\n",
       "            0,   0,   0,  31,  99, 210, 239,  56,   0,   0,   0,   0,   0,   0],\n",
       "         [  0,   0,   0,   0,   0,   0,   0,   0,   0,   0,   0,   0,   0,   0,\n",
       "            0,   0,   0,  53, 204, 252, 204,  56,   0,   0,   0,   0,   0,   0],\n",
       "         [  0,   0,   0,   0,   0,   0,   0,   0,   0,   0,   0,   0,   0,   0,\n",
       "            0,  49, 166, 238, 241, 198, 143,   0,   0,   0,   0,   0,   0,   0],\n",
       "         [  0,   0,   0,   0,   0,   0,   0,   0,   0,   0,   0,   0,   0,  20,\n",
       "           97, 244, 252, 252, 205,  42,   0,   0,   0,   0,   0,   0,   0,   0],\n",
       "         [  0,   0,   0,   0,   0,   0,   0,   0,   0,   0,   0,   2,  27, 204,\n",
       "          252, 252, 229, 190,  24,   0,   0,   0,   0,   0,   0,   0,   0,   0],\n",
       "         [  0,   0,   0,   0,   0,   0,   0,   0,   0,   0,   2,  26, 252, 253,\n",
       "          246, 238,  37,   0,   0,   0,   0,   0,   0,   0,   0,   0,   0,   0],\n",
       "         [  0,   0,   0,   0,   0,   0,   0,   0,   0,   0,  13, 196, 252, 253,\n",
       "          145,   0,   0,   0,   0,   0,   0,   0,   0,   0,   0,   0,   0,   0],\n",
       "         [  0,   0,   0,   0,   0,   0,   0,   0,   0,   0,   0,  78, 197, 255,\n",
       "          253, 133,  83,   0,   0,   0,   0,   0,   0,   0,   0,   0,   0,   0],\n",
       "         [  0,   0,   0,   0,   0,   0,   0,   0,   0,   0,   0,   0,  77, 146,\n",
       "          247, 252, 248, 134,  85,   0,   0,   0,   0,   0,   0,   0,   0,   0],\n",
       "         [  0,   0,   0,   0,   0,   0,   0,   0,   0,   0,   0,   0,   0,   0,\n",
       "          151, 158, 237, 252, 218,  30,   0,   0,   0,   0,   0,   0,   0,   0],\n",
       "         [  0,   0,   0,   0,   0,   0,   0,   0,   0,   0,   0,   0,   0,   0,\n",
       "            0,   0, 145, 193, 252, 133,  30,   0,   0,   0,   0,   0,   0,   0],\n",
       "         [  0,   0,   0,   0,   0,   0,   0,   0,   0,   0,   0,   0,   0,   0,\n",
       "            0,   0,   0, 137, 252, 231,  44,   0,   0,   0,   0,   0,   0,   0],\n",
       "         [  0,   0,   0,   0,   0,   0,   0,   0,   0,   0,   0,   0,   0,   0,\n",
       "            0,   0,  88, 204, 252, 222,  24,   0,   0,   0,   0,   0,   0,   0],\n",
       "         [  0,   0,   0,   0,   0,  15,  28,   0,   0,   0,   0,   0,   0,   0,\n",
       "           17, 160, 240, 252, 194,  67,   0,   0,   0,   0,   0,   0,   0,   0],\n",
       "         [  0,   0,   0,   0,  57, 191, 111,  27,  27,  27,  27,  27,  98, 161,\n",
       "          199, 252, 243, 120,  24,   0,   0,   0,   0,   0,   0,   0,   0,   0],\n",
       "         [  0,   0,   0,   0,  57, 240, 252, 252, 252, 252, 252, 252, 252, 253,\n",
       "          252, 190,  72,   0,   0,   0,   0,   0,   0,   0,   0,   0,   0,   0],\n",
       "         [  0,   0,   0,   0,   0, 156, 252, 252, 252, 252, 252, 252, 181, 120,\n",
       "          119,  12,   0,   0,   0,   0,   0,   0,   0,   0,   0,   0,   0,   0],\n",
       "         [  0,   0,   0,   0,   0,   0,   0,   0,   0,   0,   0,   0,   0,   0,\n",
       "            0,   0,   0,   0,   0,   0,   0,   0,   0,   0,   0,   0,   0,   0],\n",
       "         [  0,   0,   0,   0,   0,   0,   0,   0,   0,   0,   0,   0,   0,   0,\n",
       "            0,   0,   0,   0,   0,   0,   0,   0,   0,   0,   0,   0,   0,   0],\n",
       "         [  0,   0,   0,   0,   0,   0,   0,   0,   0,   0,   0,   0,   0,   0,\n",
       "            0,   0,   0,   0,   0,   0,   0,   0,   0,   0,   0,   0,   0,   0],\n",
       "         [  0,   0,   0,   0,   0,   0,   0,   0,   0,   0,   0,   0,   0,   0,\n",
       "            0,   0,   0,   0,   0,   0,   0,   0,   0,   0,   0,   0,   0,   0]]],\n",
       "       dtype=torch.uint8)"
      ]
     },
     "execution_count": 21,
     "metadata": {},
     "output_type": "execute_result"
    }
   ],
   "source": [
    "imgtsr = torchvision.io.read_image('/Users/gwagdoseong/.fastai/data/mnist_png/training/3/49081.png')\n",
    "imgtsr"
   ]
  },
  {
   "cell_type": "markdown",
   "id": "dcdf6e38-2cc6-4b9b-a51a-4bcfe4fd039d",
   "metadata": {
    "id": "dcdf6e38-2cc6-4b9b-a51a-4bcfe4fd039d"
   },
   "source": [
    "`-` 이 텐서는 (1,28,28)의 shape을 가짐"
   ]
  },
  {
   "cell_type": "code",
   "execution_count": 25,
   "id": "89e964e8-7622-4f82-8362-21cf2b9cf063",
   "metadata": {
    "id": "89e964e8-7622-4f82-8362-21cf2b9cf063",
    "outputId": "c55ecdb7-b51d-430f-ea64-cc3d41a601a6"
   },
   "outputs": [
    {
     "data": {
      "text/plain": [
       "torch.Size([1, 28, 28])"
      ]
     },
     "execution_count": 25,
     "metadata": {},
     "output_type": "execute_result"
    }
   ],
   "source": [
    "imgtsr.shape\n",
    "# 맨 앞의 1은 RGB가 아니라 흑백이라서 1인 것"
   ]
  },
  {
   "cell_type": "code",
   "execution_count": 31,
   "id": "e5069bde-8833-4451-a6e5-8c9eb085af2a",
   "metadata": {},
   "outputs": [
    {
     "data": {
      "text/plain": [
       "torch.Size([28, 28])"
      ]
     },
     "execution_count": 31,
     "metadata": {},
     "output_type": "execute_result"
    }
   ],
   "source": [
    "imgtsr.reshape(28,28).shape"
   ]
  },
  {
   "cell_type": "markdown",
   "id": "25c590b0-5419-4c40-9c51-64ae074528fe",
   "metadata": {
    "id": "25c590b0-5419-4c40-9c51-64ae074528fe"
   },
   "source": [
    "`-` imgtsr를 plt.imshow 로 시각화"
   ]
  },
  {
   "cell_type": "code",
   "execution_count": 32,
   "id": "c40c7061-c5a7-4ef7-b4a5-58116f719206",
   "metadata": {
    "id": "c40c7061-c5a7-4ef7-b4a5-58116f719206",
    "outputId": "1c894f5f-202c-4be1-9c36-a21108901c19"
   },
   "outputs": [
    {
     "data": {
      "text/plain": [
       "<matplotlib.image.AxesImage at 0x7feac0074400>"
      ]
     },
     "execution_count": 32,
     "metadata": {},
     "output_type": "execute_result"
    },
    {
     "data": {
      "image/png": "[encoded data removed]",
      "text/plain": [
       "<Figure size 432x288 with 1 Axes>"
      ]
     },
     "metadata": {
      "needs_background": "light"
     },
     "output_type": "display_data"
    }
   ],
   "source": [
    "plt.imshow(imgtsr.reshape(28,28),cmap='gray')"
   ]
  },
  {
   "cell_type": "markdown",
   "id": "3d594702-e8e3-40fb-aa63-89c26c5401ba",
   "metadata": {
    "id": "3d594702-e8e3-40fb-aa63-89c26c5401ba"
   },
   "source": [
    "### 데이터정리 "
   ]
  },
  {
   "cell_type": "code",
   "execution_count": 33,
   "id": "6f3c24d5-404d-4824-9460-828ab094217d",
   "metadata": {
    "id": "6f3c24d5-404d-4824-9460-828ab094217d",
    "outputId": "9878abb1-6c58-4885-8400-2351b20d327b"
   },
   "outputs": [
    {
     "data": {
      "text/plain": [
       "(6131, 6265)"
      ]
     },
     "execution_count": 33,
     "metadata": {},
     "output_type": "execute_result"
    }
   ],
   "source": [
    "threes = (path/'training/3').ls()\n",
    "sevens = (path/'training/7').ls()\n",
    "len(threes),len(sevens)"
   ]
  },
  {
   "cell_type": "code",
   "execution_count": 35,
   "id": "8396b19b-a8e2-451c-ae1d-5281bdecf674",
   "metadata": {
    "id": "8396b19b-a8e2-451c-ae1d-5281bdecf674"
   },
   "outputs": [],
   "source": [
    "X3 = torch.stack([torchvision.io.read_image(str(threes[i])) for i in range(6131)])\n",
    "X7 = torch.stack([torchvision.io.read_image(str(sevens[i])) for i in range(6265)])\n",
    "\n",
    "# 숫자 3과 숫자 7의 tensor를 저장"
   ]
  },
  {
   "cell_type": "code",
   "execution_count": 36,
   "id": "c2ddd836-0828-4fad-9d10-21975f5dcb0c",
   "metadata": {
    "id": "c2ddd836-0828-4fad-9d10-21975f5dcb0c",
    "outputId": "711807b4-11d2-4a0c-8c49-266d4a28ab7e"
   },
   "outputs": [
    {
     "data": {
      "text/plain": [
       "(torch.Size([6131, 1, 28, 28]), torch.Size([6265, 1, 28, 28]))"
      ]
     },
     "execution_count": 36,
     "metadata": {},
     "output_type": "execute_result"
    }
   ],
   "source": [
    "X3.shape,X7.shape"
   ]
  },
  {
   "cell_type": "code",
   "execution_count": 37,
   "id": "c293984b-8562-4e6e-a843-223c38aa5672",
   "metadata": {
    "id": "c293984b-8562-4e6e-a843-223c38aa5672",
    "outputId": "f78a8235-dec2-4753-a8a1-a46a45c4d6d0"
   },
   "outputs": [
    {
     "data": {
      "text/plain": [
       "torch.Size([12396, 1, 28, 28])"
      ]
     },
     "execution_count": 37,
     "metadata": {},
     "output_type": "execute_result"
    }
   ],
   "source": [
    "X=torch.concat([X3,X7])\n",
    "X.shape"
   ]
  },
  {
   "cell_type": "code",
   "execution_count": 39,
   "id": "915f0a23-0f0b-424e-a575-1454590455d1",
   "metadata": {
    "id": "915f0a23-0f0b-424e-a575-1454590455d1",
    "outputId": "34b82bfe-abf8-4837-cec3-c111ffa56306"
   },
   "outputs": [
    {
     "data": {
      "text/plain": [
       "torch.Size([12396, 784])"
      ]
     },
     "execution_count": 39,
     "metadata": {},
     "output_type": "execute_result"
    }
   ],
   "source": [
    "Xnp = X.reshape(-1,1*28*28).float()\n",
    "Xnp.shape\n",
    "# 12396장을 782개의 feature로 바꿨음"
   ]
  },
  {
   "cell_type": "code",
   "execution_count": 41,
   "id": "66752d2d-4e9e-4dc6-8359-90979004e18c",
   "metadata": {
    "id": "66752d2d-4e9e-4dc6-8359-90979004e18c",
    "outputId": "f69d7556-c92e-44f6-abc2-99b5cf49f03d"
   },
   "outputs": [
    {
     "data": {
      "text/plain": [
       "torch.Size([12396, 1])"
      ]
     },
     "execution_count": 41,
     "metadata": {},
     "output_type": "execute_result"
    }
   ],
   "source": [
    "y = torch.tensor([0.0]*6131 + [1.0]*6265).reshape(-1,1) \n",
    "y.shape\n",
    "# 0은 숫자 3의 label, 1은 숫자 7의 label"
   ]
  },
  {
   "cell_type": "code",
   "execution_count": 42,
   "id": "e9fb0802-9036-4c90-a311-f26c666cdb96",
   "metadata": {
    "id": "e9fb0802-9036-4c90-a311-f26c666cdb96",
    "outputId": "3b3138cf-53ec-4d5f-cd54-dde9cca6a2ac"
   },
   "outputs": [
    {
     "data": {
      "text/plain": [
       "[<matplotlib.lines.Line2D at 0x7feb01fd86d0>]"
      ]
     },
     "execution_count": 42,
     "metadata": {},
     "output_type": "execute_result"
    },
    {
     "data": {
      "image/png": "[encoded data removed]",
      "text/plain": [
       "<Figure size 432x288 with 1 Axes>"
      ]
     },
     "metadata": {
      "needs_background": "light"
     },
     "output_type": "display_data"
    }
   ],
   "source": [
    "plt.plot(y,'o')"
   ]
  },
  {
   "cell_type": "markdown",
   "id": "f2ee045f-fb01-4213-95fb-caec31f6f6cc",
   "metadata": {
    "id": "1b59f936-7105-4f78-aab9-66a24bdab5f6"
   },
   "source": [
    "### 학습 (숙제: 스스로 확인해 볼 것) "
   ]
  },
  {
   "cell_type": "markdown",
   "id": "644bc722-d7ae-4763-b8f1-3c47dc261fb6",
   "metadata": {
    "id": "5488ddf3-9eef-4a8c-aa8a-286f325b89af"
   },
   "source": [
    "`-` 네트워크의 설계"
   ]
  },
  {
   "cell_type": "code",
   "execution_count": null,
   "id": "8aac658c-fe00-47db-b531-d0095dcf1e38",
   "metadata": {
    "id": "bf14609c-73a1-4b1d-9ab8-f81e03fb5f37"
   },
   "outputs": [],
   "source": [
    "torch.manual_seed(43052)\n",
    "net = torch.nn.Sequential(\n",
    "    torch.nn.Linear(in_features=1*28*28,out_features=30),\n",
    "    torch.nn.ReLU(),\n",
    "    torch.nn.Linear(in_features=30,out_features=1),\n",
    "    torch.nn.Sigmoid()\n",
    ")"
   ]
  },
  {
   "cell_type": "markdown",
   "id": "af1a6c27-9255-4c52-90d1-f39e849412db",
   "metadata": {
    "id": "18b5ccb9-5aee-4028-9b58-d1858bfdc0b7"
   },
   "source": [
    "- $\\underset{(n,784)}{\\bf X} \\overset{l_1}{\\to} \\underset{(n,30)}{\\boldsymbol u^{(1)}} \\overset{a_1}{\\to} \\underset{(n,30)}{\\boldsymbol v^{(1)}} \\overset{l_1}{\\to} \\underset{(n,1)}{\\boldsymbol u^{(2)}} \\overset{a_2}{\\to} \\underset{(n,1)}{\\boldsymbol v^{(2)}}=\\underset{(n,1)}{\\hat{\\boldsymbol y}}$"
   ]
  },
  {
   "cell_type": "code",
   "execution_count": null,
   "id": "63f19453-3a84-42e7-a4af-a028ba45601a",
   "metadata": {
    "id": "a1be035b-cd0a-44dd-98a6-d2be7f70d335"
   },
   "outputs": [],
   "source": [
    "loss_fn = torch.nn.BCELoss()"
   ]
  },
  {
   "cell_type": "code",
   "execution_count": null,
   "id": "4e7bdc62-96b3-4d48-a671-237a04089940",
   "metadata": {
    "id": "ade76557-f3ae-4a72-95af-5369fcafd8ce"
   },
   "outputs": [],
   "source": [
    "optimizr = torch.optim.Adam(net.parameters())"
   ]
  },
  {
   "cell_type": "code",
   "execution_count": null,
   "id": "47afe2a4-6a68-4f3b-a577-e1c740368ff3",
   "metadata": {
    "id": "65cf6536-69c7-4f23-bc69-ce3c44e2717e"
   },
   "outputs": [],
   "source": [
    "for epoc in range(200):\n",
    "    ## 1\n",
    "    yhat = net(Xnp) \n",
    "    ## 2\n",
    "    loss = loss_fn(yhat,y) \n",
    "    ## 3 \n",
    "    loss.backward()\n",
    "    ## 4 \n",
    "    optimizr.step()\n",
    "    optimizr.zero_grad()"
   ]
  },
  {
   "cell_type": "code",
   "execution_count": null,
   "id": "9c0e9a7f-1ffd-4067-a75f-19fb7e077194",
   "metadata": {
    "id": "70508810-c906-46cf-84c3-ad413c7f0c2a",
    "outputId": "3fc11929-c2d8-4fc6-bc7a-f7941fedc8fa"
   },
   "outputs": [
    {
     "data": {
      "text/plain": [
       "[<matplotlib.lines.Line2D at 0x7f8c0ee53f10>]"
      ]
     },
     "execution_count": 191,
     "metadata": {},
     "output_type": "execute_result"
    },
    {
     "data": {
      "image/png": "[encoded data removed]",
      "text/plain": [
       "<Figure size 432x288 with 1 Axes>"
      ]
     },
     "metadata": {
      "needs_background": "light"
     },
     "output_type": "display_data"
    }
   ],
   "source": [
    "plt.plot(y,'o')\n",
    "plt.plot(net(Xnp).data,'.',alpha=0.2)"
   ]
  },
  {
   "cell_type": "markdown",
   "id": "8b58ceb8-8036-4bc2-9e32-0985b73ddffc",
   "metadata": {
    "id": "2b60e35d-108b-46c1-81e7-bd0a7530d9cd"
   },
   "source": [
    "- 대부분 잘 적합되었음 "
   ]
  },
  {
   "cell_type": "markdown",
   "id": "deb3f85d-898c-473d-a8ca-da0e9a3a19d2",
   "metadata": {},
   "source": [
    "---"
   ]
  },
  {
   "cell_type": "markdown",
   "id": "1e963452-0ff3-4200-857d-ae505c055a39",
   "metadata": {
    "id": "1e963452-0ff3-4200-857d-ae505c055a39"
   },
   "source": [
    "## 숙제 "
   ]
  },
  {
   "cell_type": "markdown",
   "id": "88b19e4f-ab49-4fa0-a4dc-1ae6f0318e16",
   "metadata": {
    "id": "88b19e4f-ab49-4fa0-a4dc-1ae6f0318e16"
   },
   "source": [
    "(1) 숫자0과 숫자1을 구분하는 네트워크를 아래와 같은 구조로 설계하라\n",
    "\n",
    "$$\\underset{(n,784)}{\\bf X} \\overset{l_1}{\\to} \\underset{(n,64)}{\\boldsymbol u^{(1)}} \\overset{a_1}{\\to} \\underset{(n,64)}{\\boldsymbol v^{(1)}} \\overset{l_1}{\\to} \\underset{(n,1)}{\\boldsymbol u^{(2)}} \\overset{a_2}{\\to} \\underset{(n,1)}{\\boldsymbol v^{(2)}}=\\underset{(n,1)}{\\hat{\\boldsymbol y}}$$\n",
    "\n",
    "위에서 $a_1$은 relu를, $a_2$는 sigmoid를 의미한다. "
   ]
  },
  {
   "cell_type": "markdown",
   "id": "c6abcaba-8159-4820-95d4-314c418893d4",
   "metadata": {
    "id": "c6abcaba-8159-4820-95d4-314c418893d4"
   },
   "source": [
    "- \"y=0\"은 숫자0을 의미하도록 하고 \"y=1\"은 숫자1을 의미하도록 설정하라. "
   ]
  },
  {
   "cell_type": "code",
   "execution_count": 116,
   "id": "131bdb2f-a799-4e39-9f9f-2693d85a4950",
   "metadata": {
    "id": "bf14609c-73a1-4b1d-9ab8-f81e03fb5f37"
   },
   "outputs": [],
   "source": [
    "zeros = (path/'training/0').ls()\n",
    "ones = (path/'training/1').ls()\n",
    "\n",
    "X0 = torch.stack([torchvision.io.read_image(str(zeros[i])) for i in range(len(zeros))])\n",
    "X1 = torch.stack([torchvision.io.read_image(str(ones[i])) for i in range(len(ones))])\n",
    "\n",
    "\n",
    "X=torch.concat([X0,X1])\n",
    "\n",
    "\n",
    "Xnp = X.reshape(-1,1*28*28).float()\n",
    "\n",
    "\n",
    "y = torch.tensor([0.0]*len(zeros) + [1.0]*len(ones)).reshape(-1,1) \n",
    "\n",
    "\n",
    "net = torch.nn.Sequential(\n",
    "    torch.nn.Linear(in_features=1*28*28,out_features=64),\n",
    "    torch.nn.ReLU(),\n",
    "    torch.nn.Linear(in_features=64,out_features=1),\n",
    "    torch.nn.Sigmoid()\n",
    ")"
   ]
  },
  {
   "cell_type": "markdown",
   "id": "0eb66b3a-0ca8-469d-998b-525aca132f4e",
   "metadata": {
    "id": "0eb66b3a-0ca8-469d-998b-525aca132f4e"
   },
   "source": [
    "(2) 아래의 지침에 따라 200 epoch 학습을 진행하라.\n",
    "- 손실함수는 BECLoss를 이용할 것. torch.nn.BCELoss() 를 이용할 것. \n",
    "- 옵티마이저는 아담으로 설정할 것. 학습률은 lr=0.002로 설정할 것. "
   ]
  },
  {
   "cell_type": "code",
   "execution_count": 117,
   "id": "d7e19c7a-f7a8-4f3b-a923-fe9139b59122",
   "metadata": {
    "id": "ade76557-f3ae-4a72-95af-5369fcafd8ce"
   },
   "outputs": [],
   "source": [
    "loss_fn = torch.nn.BCELoss()\n",
    "optimizr = torch.optim.Adam(net.parameters(),lr=0.002)"
   ]
  },
  {
   "cell_type": "code",
   "execution_count": 118,
   "id": "11ba4bdd-06f5-42a0-b0e6-9d174a4febbe",
   "metadata": {
    "id": "65cf6536-69c7-4f23-bc69-ce3c44e2717e",
    "tags": []
   },
   "outputs": [],
   "source": [
    "for epoc in range(200):\n",
    "    ## 1\n",
    "    yhat = net(Xnp) \n",
    "    ## 2\n",
    "    loss = loss_fn(yhat,y) \n",
    "    ## 3 \n",
    "    loss.backward()\n",
    "    ## 4 \n",
    "    optimizr.step()\n",
    "    optimizr.zero_grad()"
   ]
  },
  {
   "cell_type": "code",
   "execution_count": 126,
   "id": "75676e0b-3015-4137-baab-eb82cb531674",
   "metadata": {
    "id": "70508810-c906-46cf-84c3-ad413c7f0c2a",
    "outputId": "3fc11929-c2d8-4fc6-bc7a-f7941fedc8fa"
   },
   "outputs": [
    {
     "data": {
      "text/plain": [
       "[<matplotlib.lines.Line2D at 0x7feaf0c663a0>]"
      ]
     },
     "execution_count": 126,
     "metadata": {},
     "output_type": "execute_result"
    },
    {
     "data": {
      "image/png": "[encoded data removed]",
      "text/plain": [
       "<Figure size 432x288 with 1 Axes>"
      ]
     },
     "metadata": {
      "needs_background": "light"
     },
     "output_type": "display_data"
    }
   ],
   "source": [
    "plt.plot(y,'o')\n",
    "plt.plot(net(Xnp).data,'.',alpha=0.2)"
   ]
  },
  {
   "cell_type": "markdown",
   "id": "7a6a3311-6637-40ec-8173-dae3119d22e6",
   "metadata": {
    "id": "7a6a3311-6637-40ec-8173-dae3119d22e6"
   },
   "source": [
    "(3) 아래의 지침에 따라 200 epoch 학습을 진행하라. 학습이 잘 되는가? \n",
    "- 손실함수는 BECLoss를 이용할 것. torch.nn.BCELoss()를 사용하지 않고 수식을 직접 입력할 것.\n",
    "- 옵티마이저는 아담으로 설정할 것. 학습률은 lr=0.002로 설정할 것. "
   ]
  },
  {
   "cell_type": "code",
   "execution_count": 110,
   "id": "b1ba7e55-5274-46c7-a04f-c5de8cf1c373",
   "metadata": {
    "id": "7ab907e5-3e84-4c5a-a1c8-0c07bbfd3d94"
   },
   "outputs": [],
   "source": [
    "def loss_fn(y,yhat):\n",
    "    return -torch.mean(y*torch.log(yhat) + (1-y)*torch.log(1-yhat))\n",
    "\n",
    "optimizr = torch.optim.Adam(net.parameters(),lr=0.002)"
   ]
  },
  {
   "cell_type": "code",
   "execution_count": 111,
   "id": "027c0735-248b-4a82-969d-ec5677bebf7f",
   "metadata": {
    "id": "65cf6536-69c7-4f23-bc69-ce3c44e2717e",
    "tags": []
   },
   "outputs": [],
   "source": [
    "for epoc in range(200):\n",
    "    ## 1\n",
    "    yhat = net(Xnp) \n",
    "    ## 2\n",
    "    loss = loss_fn(yhat,y) \n",
    "    ## 3 \n",
    "    loss.backward()\n",
    "    ## 4 \n",
    "    optimizr.step()\n",
    "    optimizr.zero_grad()"
   ]
  },
  {
   "cell_type": "code",
   "execution_count": 112,
   "id": "17bd71e7-47fb-4227-9594-7a2294137503",
   "metadata": {
    "id": "70508810-c906-46cf-84c3-ad413c7f0c2a",
    "outputId": "3fc11929-c2d8-4fc6-bc7a-f7941fedc8fa"
   },
   "outputs": [
    {
     "data": {
      "text/plain": [
       "[<matplotlib.lines.Line2D at 0x7feaf08d9340>]"
      ]
     },
     "execution_count": 112,
     "metadata": {},
     "output_type": "execute_result"
    },
    {
     "data": {
      "image/png": "[encoded data removed]",
      "text/plain": [
       "<Figure size 432x288 with 1 Axes>"
      ]
     },
     "metadata": {
      "needs_background": "light"
     },
     "output_type": "display_data"
    }
   ],
   "source": [
    "plt.plot(y,'o')\n",
    "plt.plot(net(Xnp).data,'.',alpha=0.2)"
   ]
  },
  {
   "cell_type": "markdown",
   "id": "f1b676a7-cbfd-4e9a-9975-167426a135f4",
   "metadata": {
    "id": "f1b676a7-cbfd-4e9a-9975-167426a135f4"
   },
   "source": [
    "(4) 아래의 지침에 따라 200 epoch 학습을 진행하라. 학습이 잘 되는가? \n",
    "- 이미지의 값을 0과 1사이로 규격화 하라. (Xnp = Xnp/255 를 이용하세요!)\n",
    "- 손실함수는 BECLoss를 이용할 것. torch.nn.BCELoss()를 사용하지 않고 수식을 직접 입력할 것.\n",
    "- 옵티마이저는 아담으로 설정할 것. 학습률은 lr=0.002로 설정할 것. "
   ]
  },
  {
   "cell_type": "code",
   "execution_count": 113,
   "id": "eae9224f-4e5e-430d-992e-4aadfaedcdef",
   "metadata": {},
   "outputs": [],
   "source": [
    "Xnp = Xnp/255"
   ]
  },
  {
   "cell_type": "code",
   "execution_count": 114,
   "id": "6ad2b344-8975-40d0-b948-0d1adf648492",
   "metadata": {
    "id": "65cf6536-69c7-4f23-bc69-ce3c44e2717e",
    "tags": []
   },
   "outputs": [],
   "source": [
    "for epoc in range(200):\n",
    "    ## 1\n",
    "    yhat = net(Xnp) \n",
    "    ## 2\n",
    "    loss = loss_fn(yhat,y) \n",
    "    ## 3 \n",
    "    loss.backward()\n",
    "    ## 4 \n",
    "    optimizr.step()\n",
    "    optimizr.zero_grad()"
   ]
  },
  {
   "cell_type": "code",
   "execution_count": 115,
   "id": "3f29f5b3-ed93-44d4-8434-dfe5f388bd2a",
   "metadata": {
    "id": "70508810-c906-46cf-84c3-ad413c7f0c2a",
    "outputId": "3fc11929-c2d8-4fc6-bc7a-f7941fedc8fa"
   },
   "outputs": [
    {
     "data": {
      "text/plain": [
       "[<matplotlib.lines.Line2D at 0x7feb17e88b20>]"
      ]
     },
     "execution_count": 115,
     "metadata": {},
     "output_type": "execute_result"
    },
    {
     "data": {
      "image/png": "[encoded data removed]",
      "text/plain": [
       "<Figure size 432x288 with 1 Axes>"
      ]
     },
     "metadata": {
      "needs_background": "light"
     },
     "output_type": "display_data"
    }
   ],
   "source": [
    "plt.plot(y,'o')\n",
    "plt.plot(net(Xnp).data,'.',alpha=0.2)"
   ]
  },
  {
   "cell_type": "markdown",
   "id": "3fdb16a4-61e3-4eb0-8961-1b0131d8af43",
   "metadata": {
    "id": "3fdb16a4-61e3-4eb0-8961-1b0131d8af43"
   },
   "source": [
    "(5) 아래와 같은 수식을 이용하여 accuracy를 계산하라. "
   ]
  },
  {
   "cell_type": "markdown",
   "id": "bd3c67fe-56bf-4dfc-a71c-cdcab1047417",
   "metadata": {
    "id": "bd3c67fe-56bf-4dfc-a71c-cdcab1047417"
   },
   "source": [
    "$\\text{accuracy}=\\frac{1}{n}\\sum_{i=1}^n I(\\tilde{y}_i=y_i)$\n",
    "- $\\tilde{y}_i = \\begin{cases}\n",
    " 1 & \\hat{y}_i > 0.5 \\\\ \n",
    " 0 & \\hat{y}_i \\leq 0.5 \n",
    "\\end{cases}$ \n",
    "- $I(\\tilde{y}_i=y_i) = \\begin{cases} 1 & \\tilde{y}_i=y_i \\\\ 0 & \\tilde{y}_i \\neq y_i \\end{cases}$"
   ]
  },
  {
   "cell_type": "markdown",
   "id": "f38eecbe-dff1-4bac-9b9d-aa61d33212f3",
   "metadata": {
    "id": "f38eecbe-dff1-4bac-9b9d-aa61d33212f3"
   },
   "source": [
    "단, $n$은 0과 1을 의미하는 이미지의 수 "
   ]
  },
  {
   "cell_type": "code",
   "execution_count": 147,
   "id": "fa8bba0c-e7c8-47f6-b223-9cf26c8a073e",
   "metadata": {},
   "outputs": [
    {
     "data": {
      "text/plain": [
       "0.990525069088038"
      ]
     },
     "execution_count": 147,
     "metadata": {},
     "output_type": "execute_result"
    }
   ],
   "source": [
    "np.array(y==net(Xnp)).mean()"
   ]
  }
 ],
 "metadata": {
  "colab": {
   "provenance": []
  },
  "kernelspec": {
   "display_name": "Python 3 (ipykernel)",
   "language": "python",
   "name": "python3"
  },
  "language_info": {
   "codemirror_mode": {
    "name": "ipython",
    "version": 3
   },
   "file_extension": ".py",
   "mimetype": "text/x-python",
   "name": "python",
   "nbconvert_exporter": "python",
   "pygments_lexer": "ipython3",
   "version": "3.9.12"
  }
 },
 "nbformat": 4,
 "nbformat_minor": 5
}
