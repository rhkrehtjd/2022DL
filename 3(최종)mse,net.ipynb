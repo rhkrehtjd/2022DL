{
 "cells": [
  {
   "cell_type": "code",
   "execution_count": 2,
   "id": "1d22fd0a-eff2-4384-8cdd-08899421e72b",
   "metadata": {
    "id": "1d22fd0a-eff2-4384-8cdd-08899421e72b"
   },
   "outputs": [],
   "source": [
    "import torch\n",
    "import pandas as pd\n",
    "import numpy as np\n",
    "import matplotlib.pyplot as plt "
   ]
  },
  {
   "cell_type": "code",
   "execution_count": 3,
   "id": "658afac4-6903-4391-9b36-5d6004dde83b",
   "metadata": {
    "colab": {
     "base_uri": "https://localhost:8080/",
     "height": 423
    },
    "id": "658afac4-6903-4391-9b36-5d6004dde83b",
    "outputId": "631b9ef9-bbec-4a97-c62e-f27b38cf226a"
   },
   "outputs": [
    {
     "data": {
      "text/html": [
       "<div>\n",
       "<style scoped>\n",
       "    .dataframe tbody tr th:only-of-type {\n",
       "        vertical-align: middle;\n",
       "    }\n",
       "\n",
       "    .dataframe tbody tr th {\n",
       "        vertical-align: top;\n",
       "    }\n",
       "\n",
       "    .dataframe thead th {\n",
       "        text-align: right;\n",
       "    }\n",
       "</style>\n",
       "<table border=\"1\" class=\"dataframe\">\n",
       "  <thead>\n",
       "    <tr style=\"text-align: right;\">\n",
       "      <th></th>\n",
       "      <th>x</th>\n",
       "      <th>y</th>\n",
       "    </tr>\n",
       "  </thead>\n",
       "  <tbody>\n",
       "    <tr>\n",
       "      <th>0</th>\n",
       "      <td>-2.482113</td>\n",
       "      <td>-8.542024</td>\n",
       "    </tr>\n",
       "    <tr>\n",
       "      <th>1</th>\n",
       "      <td>-2.362146</td>\n",
       "      <td>-6.576713</td>\n",
       "    </tr>\n",
       "    <tr>\n",
       "      <th>2</th>\n",
       "      <td>-1.997295</td>\n",
       "      <td>-5.949576</td>\n",
       "    </tr>\n",
       "  </tbody>\n",
       "</table>\n",
       "</div>"
      ],
      "text/plain": [
       "          x         y\n",
       "0 -2.482113 -8.542024\n",
       "1 -2.362146 -6.576713\n",
       "2 -1.997295 -5.949576"
      ]
     },
     "execution_count": 3,
     "metadata": {},
     "output_type": "execute_result"
    }
   ],
   "source": [
    "df = pd.read_csv(\"https://raw.githubusercontent.com/guebin/DL2022/master/_notebooks/2022-09-22-regression.csv\") \n",
    "df.head(3)# 주어진 data"
   ]
  },
  {
   "cell_type": "code",
   "execution_count": 4,
   "id": "baf04b41-6262-4d3d-889d-ab652e22ebf6",
   "metadata": {
    "id": "piaMb1mq9pg3"
   },
   "outputs": [],
   "source": [
    "x= torch.tensor(df.x,dtype=torch.float32).reshape(100,1)\n",
    "y= torch.tensor(df.y,dtype=torch.float32).reshape(100,1)\n",
    "X= torch.tensor([[1]*100,x]).T # 100x2"
   ]
  },
  {
   "cell_type": "code",
   "execution_count": 5,
   "id": "4fc9a1dc-6d63-4b9e-9b87-cd6784234a54",
   "metadata": {
    "colab": {
     "base_uri": "https://localhost:8080/"
    },
    "id": "4fc9a1dc-6d63-4b9e-9b87-cd6784234a54",
    "outputId": "273614f6-ae86-4375-b7c2-6c569a2788c3"
   },
   "outputs": [
    {
     "data": {
      "text/plain": [
       "tensor([[-5.],\n",
       "        [10.]], requires_grad=True)"
      ]
     },
     "execution_count": 5,
     "metadata": {},
     "output_type": "execute_result"
    }
   ],
   "source": [
    "What= torch.tensor([[-5.0],[10.0]],requires_grad=True)\n",
    "What # 2x1"
   ]
  },
  {
   "cell_type": "code",
   "execution_count": 6,
   "id": "28b05b36-37e6-412c-b8bc-16d2f2fd5399",
   "metadata": {
    "id": "28b05b36-37e6-412c-b8bc-16d2f2fd5399",
    "outputId": "03a62fcc-2931-4a13-b8fb-ff24c980e534"
   },
   "outputs": [
    {
     "data": {
      "text/plain": [
       "[<matplotlib.lines.Line2D at 0x7fe5085fb8e0>]"
      ]
     },
     "execution_count": 6,
     "metadata": {},
     "output_type": "execute_result"
    },
    {
     "data": {
      "image/png": "[encoded data removed]",
      "text/plain": [
       "<Figure size 432x288 with 1 Axes>"
      ]
     },
     "metadata": {
      "needs_background": "light"
     },
     "output_type": "display_data"
    }
   ],
   "source": [
    "plt.plot(x,y,'o') # 관측 데이터\n",
    "plt.plot(x,X@What.data,'--') # (100x2)(2x1) = 100x1"
   ]
  },
  {
   "cell_type": "markdown",
   "id": "f17fd13a-0dd0-4f36-af7c-af14172c1aff",
   "metadata": {
    "id": "f17fd13a-0dd0-4f36-af7c-af14172c1aff"
   },
   "source": [
    "## review "
   ]
  },
  {
   "cell_type": "markdown",
   "id": "e90cb640-bd49-4d5d-ae5b-8da9fa3637ff",
   "metadata": {
    "id": "e90cb640-bd49-4d5d-ae5b-8da9fa3637ff"
   },
   "source": [
    "###  `(ver1) loss = sum of squares error`"
   ]
  },
  {
   "cell_type": "code",
   "execution_count": 7,
   "id": "c7edbb27-6075-4046-990c-5a7ebd4c9c1b",
   "metadata": {
    "id": "c7edbb27-6075-4046-990c-5a7ebd4c9c1b"
   },
   "outputs": [],
   "source": [
    "alpha = 1/1000  # mse면 1/10 사용\n",
    "What= torch.tensor([[-5.0],[10.0]],requires_grad=True)\n",
    "for epoc in range(30):\n",
    "    ## step1\n",
    "    yhat = X@What # 100x1\n",
    "    ## step2 \n",
    "    loss = torch.sum((y-yhat)**2) # loss = (y-yhat).T@(y-yhat) -> (1x100)(100x1) = 1 = loss\n",
    "    ## step3\n",
    "    loss.backward() # 미분된 값 저장은 What.grad에 되어있음\n",
    "    ## step4 \n",
    "    What.data = What.data - alpha*What.grad \n",
    "    What.grad = None # 미분값 누적되지 않게 청소\n",
    "    \n",
    "# 왜 What = What - alpha*What.grad는 안되는지?\n",
    "# 미분꼬리표가 파생된 함수로 변함\n",
    "# .data를 이용해줘야 미분꼬리표가 원조로 유지됨"
   ]
  },
  {
   "cell_type": "code",
   "execution_count": 8,
   "id": "92353bdf-ca07-4472-bedc-b67139d64a9f",
   "metadata": {
    "id": "92353bdf-ca07-4472-bedc-b67139d64a9f",
    "outputId": "9cc9e8df-1e1e-4bb2-e3ab-b21e8bd26b6b"
   },
   "outputs": [
    {
     "data": {
      "text/plain": [
       "tensor([[2.4290],\n",
       "        [4.0144]], requires_grad=True)"
      ]
     },
     "execution_count": 8,
     "metadata": {},
     "output_type": "execute_result"
    }
   ],
   "source": [
    "What"
   ]
  },
  {
   "cell_type": "markdown",
   "id": "26851594-92ba-40aa-98c0-8f5d5cd6ed61",
   "metadata": {
    "id": "26851594-92ba-40aa-98c0-8f5d5cd6ed61"
   },
   "source": [
    "### `(ver2) loss = mean squared error = MSE `"
   ]
  },
  {
   "cell_type": "code",
   "execution_count": 9,
   "id": "398ca281-d354-4fce-91d2-2b11c218cc2a",
   "metadata": {
    "id": "398ca281-d354-4fce-91d2-2b11c218cc2a"
   },
   "outputs": [],
   "source": [
    "alpha = 1/10 \n",
    "What= torch.tensor([[-5.0],[10.0]],requires_grad=True)\n",
    "for epoc in range(30):\n",
    "    ## step1: yhat을 구한다.  \n",
    "    yhat = X@What \n",
    "    ## step2: loss를 계산한다. \n",
    "    loss = torch.mean((y-yhat)**2) # loss = (y-yhat).T@(y-yhat)\n",
    "    ## step3: 미분\n",
    "    loss.backward()\n",
    "    ## step4: update  \n",
    "    What.data = What.data - alpha*What.grad \n",
    "    What.grad = None"
   ]
  },
  {
   "cell_type": "code",
   "execution_count": 10,
   "id": "f9000f75-aea6-4326-b4c0-698a342ae667",
   "metadata": {
    "id": "f9000f75-aea6-4326-b4c0-698a342ae667",
    "outputId": "1401c38e-661b-472f-cef5-593735e53e7e"
   },
   "outputs": [
    {
     "data": {
      "text/plain": [
       "tensor([[2.4290],\n",
       "        [4.0144]], requires_grad=True)"
      ]
     },
     "execution_count": 10,
     "metadata": {},
     "output_type": "execute_result"
    }
   ],
   "source": [
    "What"
   ]
  },
  {
   "cell_type": "markdown",
   "id": "2be46ae2-2472-45f4-9f02-d25631343333",
   "metadata": {},
   "source": [
    "---"
   ]
  },
  {
   "cell_type": "markdown",
   "id": "cc12e3a8-aa1e-4ef1-9ae7-5681e236a042",
   "metadata": {
    "id": "cc12e3a8-aa1e-4ef1-9ae7-5681e236a042"
   },
   "source": [
    "## step1의 다른버전: torch.nn.Linear()"
   ]
  },
  {
   "cell_type": "markdown",
   "id": "339afb30-83c3-447b-af30-7b754adb2653",
   "metadata": {
    "id": "339afb30-83c3-447b-af30-7b754adb2653"
   },
   "source": [
    "### ver1"
   ]
  },
  {
   "cell_type": "code",
   "execution_count": 11,
   "id": "ffd1d746-0b46-40a2-b5f9-d2c183a5bf06",
   "metadata": {
    "id": "ffd1d746-0b46-40a2-b5f9-d2c183a5bf06"
   },
   "outputs": [],
   "source": [
    "torch.manual_seed(43052)\n",
    "\n",
    "net = torch.nn.Linear(1,1)"
   ]
  },
  {
   "cell_type": "code",
   "execution_count": 12,
   "id": "ba6ac603-1a6c-4e1f-9138-13a62995dac7",
   "metadata": {
    "id": "ba6ac603-1a6c-4e1f-9138-13a62995dac7",
    "outputId": "65b4d1ac-2e21-45eb-a544-3597bcaa2279"
   },
   "outputs": [
    {
     "data": {
      "text/plain": [
       "[<matplotlib.lines.Line2D at 0x7fe4c803c190>]"
      ]
     },
     "execution_count": 12,
     "metadata": {},
     "output_type": "execute_result"
    },
    {
     "data": {
      "image/png": "[encoded data removed]",
      "text/plain": [
       "<Figure size 432x288 with 1 Axes>"
      ]
     },
     "metadata": {
      "needs_background": "light"
     },
     "output_type": "display_data"
    }
   ],
   "source": [
    "plt.plot(x,y,'o') # 정답 데이터\n",
    "plt.plot(x,net(x).data,'--')"
   ]
  },
  {
   "cell_type": "markdown",
   "id": "58d54ead-4480-48da-856f-d3bd531b79ec",
   "metadata": {
    "id": "58d54ead-4480-48da-856f-d3bd531b79ec"
   },
   "source": [
    "`-` net에서 $\\hat{w}_0, \\hat{w}_1$ 의 값은? "
   ]
  },
  {
   "cell_type": "code",
   "execution_count": 13,
   "id": "591846ec-ac3e-4989-9504-0c9ad410eeb0",
   "metadata": {
    "id": "591846ec-ac3e-4989-9504-0c9ad410eeb0",
    "outputId": "a4152f99-2422-4cb7-c9a4-520be7393695"
   },
   "outputs": [
    {
     "data": {
      "text/plain": [
       "Parameter containing:\n",
       "tensor([[-0.3467]], requires_grad=True)"
      ]
     },
     "execution_count": 13,
     "metadata": {},
     "output_type": "execute_result"
    }
   ],
   "source": [
    "net.weight # w1 "
   ]
  },
  {
   "cell_type": "code",
   "execution_count": 14,
   "id": "5dd2d680-f688-45eb-a649-5ce15616acff",
   "metadata": {
    "id": "5dd2d680-f688-45eb-a649-5ce15616acff",
    "outputId": "7a76d79e-ab0e-48b7-c614-8266524272b6"
   },
   "outputs": [
    {
     "data": {
      "text/plain": [
       "Parameter containing:\n",
       "tensor([-0.8470], requires_grad=True)"
      ]
     },
     "execution_count": 14,
     "metadata": {},
     "output_type": "execute_result"
    }
   ],
   "source": [
    "net.bias # w0 "
   ]
  },
  {
   "cell_type": "code",
   "execution_count": 16,
   "id": "976fe9ba-9675-439d-8243-112561b1bcaa",
   "metadata": {
    "id": "976fe9ba-9675-439d-8243-112561b1bcaa"
   },
   "outputs": [],
   "source": [
    "_yhat = -0.8470 + -0.3467*x "
   ]
  },
  {
   "cell_type": "code",
   "execution_count": 18,
   "id": "bc56b4ac-6e34-44e7-9e80-711169b93b55",
   "metadata": {
    "id": "bc56b4ac-6e34-44e7-9e80-711169b93b55",
    "outputId": "90762ffb-428d-4dc0-ca49-c287ab7df6af"
   },
   "outputs": [
    {
     "data": {
      "text/plain": [
       "[<matplotlib.lines.Line2D at 0x7fe4e8084e20>]"
      ]
     },
     "execution_count": 18,
     "metadata": {},
     "output_type": "execute_result"
    },
    {
     "data": {
      "image/png": "[encoded data removed]",
      "text/plain": [
       "<Figure size 432x288 with 1 Axes>"
      ]
     },
     "metadata": {
      "needs_background": "light"
     },
     "output_type": "display_data"
    }
   ],
   "source": [
    "plt.plot(x,y,'o')\n",
    "plt.plot(x, _yhat,'--') \n",
    "plt.plot(x,net(x).data,'-.')"
   ]
  },
  {
   "cell_type": "markdown",
   "id": "5020662c-8e2d-4784-8411-dbf86a33a93d",
   "metadata": {
    "id": "5020662c-8e2d-4784-8411-dbf86a33a93d"
   },
   "source": [
    "`-` 수식표현: $\\hat{y}_i = \\hat{w}_0 + \\hat{w}_1 x_i = \\hat{b} + \\hat{w}x_i =  -0.8470 + -0.3467 x_i$ for all $i=1,2,\\dots,100$. "
   ]
  },
  {
   "cell_type": "markdown",
   "id": "b8d119d2-f3d7-4f5e-b89c-813bf7d7738f",
   "metadata": {
    "id": "b8d119d2-f3d7-4f5e-b89c-813bf7d7738f"
   },
   "source": [
    "### ver2"
   ]
  },
  {
   "cell_type": "markdown",
   "id": "86c220bb-8f4b-4cde-9eaa-c78ca1872f41",
   "metadata": {
    "id": "86c220bb-8f4b-4cde-9eaa-c78ca1872f41"
   },
   "source": [
    "`-` 입력이 x가 아닌 X를 넣고 싶다면? (보통 잘 안하긴 해요, 왜? bias=False로 주는게 귀찮거든요)"
   ]
  },
  {
   "cell_type": "code",
   "execution_count": 21,
   "id": "a5f13274-9651-41b3-8e1b-8de3d4edbf64",
   "metadata": {
    "id": "a5f13274-9651-41b3-8e1b-8de3d4edbf64"
   },
   "outputs": [],
   "source": [
    "torch.manual_seed(43052)\n",
    "net = torch.nn.Linear(2,1, bias=False) "
   ]
  },
  {
   "cell_type": "code",
   "execution_count": 22,
   "id": "b0e42ec4-3bc3-4807-9d73-e1f10a7f21e7",
   "metadata": {
    "id": "b0e42ec4-3bc3-4807-9d73-e1f10a7f21e7",
    "outputId": "4c34b707-d545-4008-fbe9-8944608fd714"
   },
   "outputs": [
    {
     "data": {
      "text/plain": [
       "Parameter containing:\n",
       "tensor([[-0.2451, -0.5989]], requires_grad=True)"
      ]
     },
     "execution_count": 22,
     "metadata": {},
     "output_type": "execute_result"
    }
   ],
   "source": [
    "net.weight\n",
    "# ver1에서는 입력이 1차원이었으니까 weight가 하나만 나왔음\n",
    "# X.shape = (100,2)"
   ]
  },
  {
   "cell_type": "code",
   "execution_count": 23,
   "id": "23c61037-bc81-476f-a7c1-51538b66fb95",
   "metadata": {
    "id": "23c61037-bc81-476f-a7c1-51538b66fb95"
   },
   "outputs": [],
   "source": [
    "net.bias\n",
    "# 안 나옴\n",
    "# bias=False"
   ]
  },
  {
   "cell_type": "code",
   "execution_count": 24,
   "id": "66cb80fb-e68f-4b1a-85fa-f4e13533cf6c",
   "metadata": {
    "id": "66cb80fb-e68f-4b1a-85fa-f4e13533cf6c",
    "outputId": "34371ff4-e7e8-4c11-e406-c0fad97a12d7"
   },
   "outputs": [
    {
     "data": {
      "text/plain": [
       "[<matplotlib.lines.Line2D at 0x7fe52aa79400>]"
      ]
     },
     "execution_count": 24,
     "metadata": {},
     "output_type": "execute_result"
    },
    {
     "data": {
      "image/png": "[encoded data removed]",
      "text/plain": [
       "<Figure size 432x288 with 1 Axes>"
      ]
     },
     "metadata": {
      "needs_background": "light"
     },
     "output_type": "display_data"
    }
   ],
   "source": [
    "plt.plot(x,y,'o') \n",
    "plt.plot(x,net(X).data, '--')\n",
    "plt.plot(x,X@torch.tensor([[-0.2451],[-0.5989]]), '--')"
   ]
  },
  {
   "cell_type": "markdown",
   "id": "95687f28-d5c2-4347-ac25-25b0b6994fd9",
   "metadata": {
    "id": "95687f28-d5c2-4347-ac25-25b0b6994fd9"
   },
   "source": [
    "`-` 수식표현: $\\hat{\\bf y} = {\\bf X} {\\bf \\hat W} = \\begin{bmatrix} 1 & x_1 \\\\ 1 & x_2 \\\\ \\dots & \\dots \\\\ 1 & x_{100} \\end{bmatrix}  \\begin{bmatrix} -0.2451 \\\\ -0.5989  \\end{bmatrix}$"
   ]
  },
  {
   "cell_type": "markdown",
   "id": "83704007-584f-4c41-8358-aef2408d6b22",
   "metadata": {
    "id": "83704007-584f-4c41-8358-aef2408d6b22"
   },
   "source": [
    "### 잘못된사용1"
   ]
  },
  {
   "cell_type": "code",
   "execution_count": 25,
   "id": "628348e9-1f1b-4e81-9144-1937dd481984",
   "metadata": {
    "id": "628348e9-1f1b-4e81-9144-1937dd481984"
   },
   "outputs": [],
   "source": [
    "_x = x.reshape(-1)"
   ]
  },
  {
   "cell_type": "code",
   "execution_count": 26,
   "id": "b30da651-09c8-4735-956e-08716aa7fafc",
   "metadata": {
    "id": "b30da651-09c8-4735-956e-08716aa7fafc",
    "outputId": "7dac752e-e8e7-47a4-b942-60472f486412"
   },
   "outputs": [
    {
     "data": {
      "text/plain": [
       "torch.Size([100])"
      ]
     },
     "execution_count": 26,
     "metadata": {},
     "output_type": "execute_result"
    }
   ],
   "source": [
    "# 열벡터,행벡터도 아니고 그냥 수들의 집합인 vector\n",
    "_x.size()"
   ]
  },
  {
   "cell_type": "code",
   "execution_count": 27,
   "id": "15209f3e-1562-4bbf-9410-fabe25d4d842",
   "metadata": {
    "id": "15209f3e-1562-4bbf-9410-fabe25d4d842"
   },
   "outputs": [],
   "source": [
    "torch.manual_seed(43052)\n",
    "net = torch.nn.Linear(in_features=1,out_features=1) "
   ]
  },
  {
   "cell_type": "code",
   "execution_count": 37,
   "id": "e8468d6b-f0a8-4d4a-9021-0d04fbae1147",
   "metadata": {
    "id": "e8468d6b-f0a8-4d4a-9021-0d04fbae1147",
    "outputId": "f454a44f-8c3b-458a-dc68-16d2a95bdbee"
   },
   "outputs": [
    {
     "ename": "RuntimeError",
     "evalue": "mat1 and mat2 shapes cannot be multiplied (1x100 and 1x1)",
     "output_type": "error",
     "traceback": [
      "\u001b[0;31m---------------------------------------------------------------------------\u001b[0m",
      "\u001b[0;31mRuntimeError\u001b[0m                              Traceback (most recent call last)",
      "Input \u001b[0;32mIn [37]\u001b[0m, in \u001b[0;36m<cell line: 1>\u001b[0;34m()\u001b[0m\n\u001b[0;32m----> 1\u001b[0m \u001b[43mnet\u001b[49m\u001b[43m(\u001b[49m\u001b[43m_x\u001b[49m\u001b[43m)\u001b[49m\n",
      "File \u001b[0;32m~/opt/anaconda3/lib/python3.9/site-packages/torch/nn/modules/module.py:1130\u001b[0m, in \u001b[0;36mModule._call_impl\u001b[0;34m(self, *input, **kwargs)\u001b[0m\n\u001b[1;32m   1126\u001b[0m \u001b[38;5;66;03m# If we don't have any hooks, we want to skip the rest of the logic in\u001b[39;00m\n\u001b[1;32m   1127\u001b[0m \u001b[38;5;66;03m# this function, and just call forward.\u001b[39;00m\n\u001b[1;32m   1128\u001b[0m \u001b[38;5;28;01mif\u001b[39;00m \u001b[38;5;129;01mnot\u001b[39;00m (\u001b[38;5;28mself\u001b[39m\u001b[38;5;241m.\u001b[39m_backward_hooks \u001b[38;5;129;01mor\u001b[39;00m \u001b[38;5;28mself\u001b[39m\u001b[38;5;241m.\u001b[39m_forward_hooks \u001b[38;5;129;01mor\u001b[39;00m \u001b[38;5;28mself\u001b[39m\u001b[38;5;241m.\u001b[39m_forward_pre_hooks \u001b[38;5;129;01mor\u001b[39;00m _global_backward_hooks\n\u001b[1;32m   1129\u001b[0m         \u001b[38;5;129;01mor\u001b[39;00m _global_forward_hooks \u001b[38;5;129;01mor\u001b[39;00m _global_forward_pre_hooks):\n\u001b[0;32m-> 1130\u001b[0m     \u001b[38;5;28;01mreturn\u001b[39;00m \u001b[43mforward_call\u001b[49m\u001b[43m(\u001b[49m\u001b[38;5;241;43m*\u001b[39;49m\u001b[38;5;28;43minput\u001b[39;49m\u001b[43m,\u001b[49m\u001b[43m \u001b[49m\u001b[38;5;241;43m*\u001b[39;49m\u001b[38;5;241;43m*\u001b[39;49m\u001b[43mkwargs\u001b[49m\u001b[43m)\u001b[49m\n\u001b[1;32m   1131\u001b[0m \u001b[38;5;66;03m# Do not call functions when jit is used\u001b[39;00m\n\u001b[1;32m   1132\u001b[0m full_backward_hooks, non_full_backward_hooks \u001b[38;5;241m=\u001b[39m [], []\n",
      "File \u001b[0;32m~/opt/anaconda3/lib/python3.9/site-packages/torch/nn/modules/linear.py:114\u001b[0m, in \u001b[0;36mLinear.forward\u001b[0;34m(self, input)\u001b[0m\n\u001b[1;32m    113\u001b[0m \u001b[38;5;28;01mdef\u001b[39;00m \u001b[38;5;21mforward\u001b[39m(\u001b[38;5;28mself\u001b[39m, \u001b[38;5;28minput\u001b[39m: Tensor) \u001b[38;5;241m-\u001b[39m\u001b[38;5;241m>\u001b[39m Tensor:\n\u001b[0;32m--> 114\u001b[0m     \u001b[38;5;28;01mreturn\u001b[39;00m \u001b[43mF\u001b[49m\u001b[38;5;241;43m.\u001b[39;49m\u001b[43mlinear\u001b[49m\u001b[43m(\u001b[49m\u001b[38;5;28;43minput\u001b[39;49m\u001b[43m,\u001b[49m\u001b[43m \u001b[49m\u001b[38;5;28;43mself\u001b[39;49m\u001b[38;5;241;43m.\u001b[39;49m\u001b[43mweight\u001b[49m\u001b[43m,\u001b[49m\u001b[43m \u001b[49m\u001b[38;5;28;43mself\u001b[39;49m\u001b[38;5;241;43m.\u001b[39;49m\u001b[43mbias\u001b[49m\u001b[43m)\u001b[49m\n",
      "\u001b[0;31mRuntimeError\u001b[0m: mat1 and mat2 shapes cannot be multiplied (1x100 and 1x1)"
     ]
    }
   ],
   "source": [
    "net(_x)"
   ]
  },
  {
   "cell_type": "markdown",
   "id": "5ddd658f-208f-4a6e-861f-c0b779d158b3",
   "metadata": {
    "id": "5ddd658f-208f-4a6e-861f-c0b779d158b3"
   },
   "source": [
    "### 잘못된사용2"
   ]
  },
  {
   "cell_type": "code",
   "execution_count": 38,
   "id": "d40c6840-3d55-4dba-92f3-4e366e55767e",
   "metadata": {
    "id": "d40c6840-3d55-4dba-92f3-4e366e55767e"
   },
   "outputs": [],
   "source": [
    "torch.manual_seed(43052)\n",
    "net = torch.nn.Linear(in_features=2,out_features=1) \n",
    "# bias=False를 깜빡..\n",
    "#에러는 안 나지만 잘못된 방식임"
   ]
  },
  {
   "cell_type": "code",
   "execution_count": 39,
   "id": "4b5584dc-56ad-45dc-b55b-33c9c69747a3",
   "metadata": {
    "id": "4b5584dc-56ad-45dc-b55b-33c9c69747a3",
    "outputId": "c18122d7-a5be-45ee-cf29-d78c82e333e3"
   },
   "outputs": [
    {
     "data": {
      "text/plain": [
       "Parameter containing:\n",
       "tensor([[-0.2451, -0.5989]], requires_grad=True)"
      ]
     },
     "execution_count": 39,
     "metadata": {},
     "output_type": "execute_result"
    }
   ],
   "source": [
    "net.weight"
   ]
  },
  {
   "cell_type": "code",
   "execution_count": 40,
   "id": "17e4d297-e319-4847-8824-f5610d3644db",
   "metadata": {
    "id": "17e4d297-e319-4847-8824-f5610d3644db",
    "outputId": "19bd72b2-33d5-4379-c5df-5788291e4af2"
   },
   "outputs": [
    {
     "data": {
      "text/plain": [
       "Parameter containing:\n",
       "tensor([0.2549], requires_grad=True)"
      ]
     },
     "execution_count": 40,
     "metadata": {},
     "output_type": "execute_result"
    }
   ],
   "source": [
    "net.bias"
   ]
  },
  {
   "cell_type": "markdown",
   "id": "c447ba13-35bc-4cd0-9c27-fbfa9bbd62d4",
   "metadata": {},
   "source": [
    "- bias가 두번 할당된 셈"
   ]
  },
  {
   "cell_type": "code",
   "execution_count": 41,
   "id": "d5cce3d7-248d-481c-9e2e-6281c362f5aa",
   "metadata": {
    "id": "d5cce3d7-248d-481c-9e2e-6281c362f5aa",
    "outputId": "c4661407-fd9f-4811-aab3-ef1d956db580"
   },
   "outputs": [
    {
     "data": {
      "text/plain": [
       "[<matplotlib.lines.Line2D at 0x7fd0fb670250>]"
      ]
     },
     "execution_count": 41,
     "metadata": {},
     "output_type": "execute_result"
    },
    {
     "data": {
      "image/png": "[encoded data removed]",
      "text/plain": [
       "<Figure size 432x288 with 1 Axes>"
      ]
     },
     "metadata": {
      "needs_background": "light"
     },
     "output_type": "display_data"
    }
   ],
   "source": [
    "plt.plot(x,y,'o')\n",
    "plt.plot(x,net(X).data,'--')\n",
    "plt.plot(x,X@torch.tensor([[-0.2451],[-0.5989]])+0.2549,'-.')\n",
    "# bias가 두번 더해진 꼴\n",
    "# 원래는 -0.2451에서 끝났어야 함"
   ]
  },
  {
   "cell_type": "markdown",
   "id": "ead2fd9f-6bb5-48ba-9828-b5e45ecc830e",
   "metadata": {
    "id": "ead2fd9f-6bb5-48ba-9828-b5e45ecc830e"
   },
   "source": [
    "- 수식표현: $\\hat{\\bf y} = {\\bf X} {\\bf \\hat W} + \\hat{b}= \\begin{bmatrix} 1 & x_1 \\\\ 1 & x_2 \\\\ \\dots & \\dots \\\\ 1 & x_{100} \\end{bmatrix}  \\begin{bmatrix} -0.2451 \\\\ -0.5989  \\end{bmatrix} + 0.2549$"
   ]
  },
  {
   "cell_type": "markdown",
   "id": "e2be7de9-4982-4f3e-96bf-4a871e8f2224",
   "metadata": {
    "id": "e2be7de9-4982-4f3e-96bf-4a871e8f2224"
   },
   "source": [
    "## step2의 다른버전: torch.nn.MSELoss()"
   ]
  },
  {
   "cell_type": "code",
   "execution_count": 28,
   "id": "1ab06d40-f114-4de9-97cd-468ea7db6968",
   "metadata": {
    "id": "1ab06d40-f114-4de9-97cd-468ea7db6968"
   },
   "outputs": [],
   "source": [
    "What = torch.tensor([[-5.0],[10.0]],requires_grad=True)\n",
    "yhat = X@What"
   ]
  },
  {
   "cell_type": "markdown",
   "id": "b2a33653-e834-4e73-b5a1-42850d4262a2",
   "metadata": {
    "id": "b2a33653-e834-4e73-b5a1-42850d4262a2"
   },
   "source": [
    "### ver1"
   ]
  },
  {
   "cell_type": "code",
   "execution_count": 29,
   "id": "bb44deb2-a71b-4e58-8f54-4f9d20a4ec99",
   "metadata": {
    "id": "d5015b1c-c518-48a3-8cc8-5fe87b821468",
    "outputId": "b0b80627-a031-435e-b362-f3c466eee619"
   },
   "outputs": [
    {
     "data": {
      "text/plain": [
       "tensor(85.8769, grad_fn=<MseLossBackward0>)"
      ]
     },
     "execution_count": 29,
     "metadata": {},
     "output_type": "execute_result"
    }
   ],
   "source": [
    "loss_fn = torch.nn.MSELoss()\n",
    "\n",
    "loss = loss_fn(y,yhat)\n",
    "loss"
   ]
  },
  {
   "cell_type": "code",
   "execution_count": 30,
   "id": "6841f6a3-1336-4521-9706-7f57aac70c85",
   "metadata": {},
   "outputs": [
    {
     "data": {
      "text/plain": [
       "torch.Size([100, 1])"
      ]
     },
     "execution_count": 30,
     "metadata": {},
     "output_type": "execute_result"
    }
   ],
   "source": [
    "y.shape"
   ]
  },
  {
   "cell_type": "code",
   "execution_count": 31,
   "id": "9558fcf3-12b2-481d-9713-7955c2421247",
   "metadata": {},
   "outputs": [
    {
     "data": {
      "text/plain": [
       "torch.Size([100, 1])"
      ]
     },
     "execution_count": 31,
     "metadata": {},
     "output_type": "execute_result"
    }
   ],
   "source": [
    "yhat.shape"
   ]
  },
  {
   "cell_type": "markdown",
   "id": "85014475-5bee-4b16-a176-fe25fdcd3694",
   "metadata": {
    "id": "85014475-5bee-4b16-a176-fe25fdcd3694"
   },
   "source": [
    "### 잘못된사용1 "
   ]
  },
  {
   "cell_type": "code",
   "execution_count": 32,
   "id": "b1c088aa-990e-41e1-b9d9-2e0004c060ff",
   "metadata": {},
   "outputs": [
    {
     "data": {
      "text/plain": [
       "torch.Size([100, 1])"
      ]
     },
     "execution_count": 32,
     "metadata": {},
     "output_type": "execute_result"
    }
   ],
   "source": [
    "y.shape"
   ]
  },
  {
   "cell_type": "code",
   "execution_count": 33,
   "id": "8c4d9e39-3550-4849-a416-86717790fa8a",
   "metadata": {
    "id": "8c4d9e39-3550-4849-a416-86717790fa8a",
    "outputId": "fc839b5e-310a-448f-d334-512bcbfeb6bf"
   },
   "outputs": [
    {
     "data": {
      "text/plain": [
       "torch.Size([100])"
      ]
     },
     "execution_count": 33,
     "metadata": {},
     "output_type": "execute_result"
    }
   ],
   "source": [
    "_y = y.reshape(-1)\n",
    "_y.shape"
   ]
  },
  {
   "cell_type": "code",
   "execution_count": 35,
   "id": "a4d0ecbf-d369-4211-ba87-49c66e0b10dd",
   "metadata": {
    "id": "a4d0ecbf-d369-4211-ba87-49c66e0b10dd",
    "outputId": "97804aaf-f1fa-4fc3-b239-78d785c2d66d"
   },
   "outputs": [
    {
     "data": {
      "text/plain": [
       "tensor(176.2661, grad_fn=<MseLossBackward0>)"
      ]
     },
     "execution_count": 35,
     "metadata": {},
     "output_type": "execute_result"
    }
   ],
   "source": [
    "loss_fn(_y,yhat)\n",
    "# 틀린 loss임\n",
    "# 차원 조심하자"
   ]
  },
  {
   "cell_type": "markdown",
   "id": "e44a5a9b-2415-4a71-8384-2ccd662e9daa",
   "metadata": {
    "id": "e44a5a9b-2415-4a71-8384-2ccd662e9daa"
   },
   "source": [
    "> 미분은 무조건 `loss.backward()`로 하면된다. "
   ]
  },
  {
   "cell_type": "markdown",
   "id": "468c1fec-a4a8-4585-b687-087f958cdb17",
   "metadata": {
    "id": "468c1fec-a4a8-4585-b687-087f958cdb17"
   },
   "source": [
    "`-` 그런데 step1에서 정의한 다른 방식들에 의해서 미분된값이 저장되는 루트는 다름 "
   ]
  },
  {
   "cell_type": "markdown",
   "id": "c7462d50-29bf-4def-8040-635dc00fc28f",
   "metadata": {
    "id": "c7462d50-29bf-4def-8040-635dc00fc28f"
   },
   "source": [
    "`-` net를 생성 "
   ]
  },
  {
   "cell_type": "code",
   "execution_count": 36,
   "id": "d435efe7-ac07-4a79-bb1f-cef2407c3335",
   "metadata": {
    "id": "d435efe7-ac07-4a79-bb1f-cef2407c3335"
   },
   "outputs": [],
   "source": [
    "torch.manual_seed(43052)\n",
    "net = torch.nn.Linear(1,1) "
   ]
  },
  {
   "cell_type": "markdown",
   "id": "fa2aa899-5f62-410f-ae09-e14ab3ac0c0f",
   "metadata": {
    "id": "fa2aa899-5f62-410f-ae09-e14ab3ac0c0f"
   },
   "source": [
    "`-` net의 weight와 bias가 $y_i=\\hat{w}x_i + \\hat{b}=10x_i - 5$와 같이 되도록 설정 "
   ]
  },
  {
   "cell_type": "code",
   "execution_count": 37,
   "id": "949d9c7d-178b-4b83-a53f-f998afaa78a2",
   "metadata": {
    "id": "949d9c7d-178b-4b83-a53f-f998afaa78a2",
    "outputId": "297ea5fd-37ad-4b90-ade0-c2e531060ebf"
   },
   "outputs": [
    {
     "data": {
      "text/plain": [
       "Parameter containing:\n",
       "tensor([[-0.3467]], requires_grad=True)"
      ]
     },
     "execution_count": 37,
     "metadata": {},
     "output_type": "execute_result"
    }
   ],
   "source": [
    "net.weight # what = -0.3467 "
   ]
  },
  {
   "cell_type": "code",
   "execution_count": 38,
   "id": "c3dbcf8a-5da0-4904-b933-9b845709b72e",
   "metadata": {
    "id": "c3dbcf8a-5da0-4904-b933-9b845709b72e"
   },
   "outputs": [],
   "source": [
    "net.weight.data = torch.tensor([[10.00]]) "
   ]
  },
  {
   "cell_type": "code",
   "execution_count": 39,
   "id": "16769740-cee6-4cee-b284-7ef3a93c7215",
   "metadata": {
    "id": "16769740-cee6-4cee-b284-7ef3a93c7215",
    "outputId": "ede7fa57-59fd-43dd-9ff8-8ecc2c13c13b"
   },
   "outputs": [
    {
     "data": {
      "text/plain": [
       "Parameter containing:\n",
       "tensor([[10.]], requires_grad=True)"
      ]
     },
     "execution_count": 39,
     "metadata": {},
     "output_type": "execute_result"
    }
   ],
   "source": [
    "net.weight # 이제 what = 10.00 "
   ]
  },
  {
   "cell_type": "code",
   "execution_count": 40,
   "id": "3fdcf7b2-df73-4048-96a0-baf928cfc7be",
   "metadata": {
    "id": "3fdcf7b2-df73-4048-96a0-baf928cfc7be",
    "outputId": "ae65ef8a-0568-495b-94bf-3c13ac7a705f"
   },
   "outputs": [
    {
     "data": {
      "text/plain": [
       "Parameter containing:\n",
       "tensor([-0.8470], requires_grad=True)"
      ]
     },
     "execution_count": 40,
     "metadata": {},
     "output_type": "execute_result"
    }
   ],
   "source": [
    "net.bias # 지금 bhat = -0.8470"
   ]
  },
  {
   "cell_type": "code",
   "execution_count": 41,
   "id": "19547111-d422-44ee-b0e7-11bc8e9f9f92",
   "metadata": {
    "id": "19547111-d422-44ee-b0e7-11bc8e9f9f92"
   },
   "outputs": [],
   "source": [
    "net.bias.data = torch.tensor([-5.0]) # 이제 bhat = -5.0"
   ]
  },
  {
   "cell_type": "code",
   "execution_count": 42,
   "id": "24367e8d-9a09-43fb-af9f-5899d39357cf",
   "metadata": {
    "id": "24367e8d-9a09-43fb-af9f-5899d39357cf",
    "outputId": "252676d7-fb0a-4ef5-efeb-1db6a85f0ecb"
   },
   "outputs": [
    {
     "data": {
      "text/plain": [
       "Parameter containing:\n",
       "tensor([-5.], requires_grad=True)"
      ]
     },
     "execution_count": 42,
     "metadata": {},
     "output_type": "execute_result"
    }
   ],
   "source": [
    "net.bias"
   ]
  },
  {
   "cell_type": "markdown",
   "id": "5122a1b5-0ee0-43fc-9c02-b5e49258462c",
   "metadata": {
    "id": "5122a1b5-0ee0-43fc-9c02-b5e49258462c"
   },
   "source": [
    "`-` yhat계산 $\\to$ loss계산 $\\to$ 미분 $\\to$ 미분값확인 "
   ]
  },
  {
   "cell_type": "code",
   "execution_count": 43,
   "id": "6ccf0414-65c5-4ae2-a498-f1d8cb56410c",
   "metadata": {
    "id": "6ccf0414-65c5-4ae2-a498-f1d8cb56410c"
   },
   "outputs": [],
   "source": [
    "yhat = net(x) "
   ]
  },
  {
   "cell_type": "code",
   "execution_count": 44,
   "id": "311ea285-3b5e-4b81-9c92-93f313fcd183",
   "metadata": {
    "id": "311ea285-3b5e-4b81-9c92-93f313fcd183",
    "outputId": "0afd92e8-ce65-4df0-fe53-2bd60b51049d"
   },
   "outputs": [],
   "source": [
    "loss = loss_fn(y,yhat)"
   ]
  },
  {
   "cell_type": "code",
   "execution_count": 45,
   "id": "eece6b6b-0890-4a9a-805a-e74da8a05a00",
   "metadata": {
    "id": "eece6b6b-0890-4a9a-805a-e74da8a05a00"
   },
   "outputs": [],
   "source": [
    "loss.backward()"
   ]
  },
  {
   "cell_type": "code",
   "execution_count": 46,
   "id": "200c258d-055c-41cf-8436-ce25f1235d3f",
   "metadata": {
    "id": "200c258d-055c-41cf-8436-ce25f1235d3f",
    "outputId": "b3ec3571-7b36-42a9-f729-6a88fe9bf204"
   },
   "outputs": [
    {
     "data": {
      "text/plain": [
       "(tensor([-13.4225]), tensor([[11.8893]]))"
      ]
     },
     "execution_count": 46,
     "metadata": {},
     "output_type": "execute_result"
    }
   ],
   "source": [
    "net.bias.grad,net.weight.grad"
   ]
  },
  {
   "cell_type": "markdown",
   "id": "36a20eeb-fa69-40b2-8ac5-8b407c20bdde",
   "metadata": {},
   "source": [
    "- 전 파일에선 미분 값을 What.grad로 확인했었음\n",
    "  - 그 파일에선 net를 사용하지 않고 수작업으로 What에 미분꼬리표를 설정하였기 때문에 가능"
   ]
  },
  {
   "cell_type": "markdown",
   "id": "189c3baf-4a20-4b59-b72d-9345370506df",
   "metadata": {
    "id": "189c3baf-4a20-4b59-b72d-9345370506df",
    "tags": []
   },
   "source": [
    "### 예시3: (ver2) "
   ]
  },
  {
   "cell_type": "markdown",
   "id": "d98fb2bf-d52c-4f4d-98e6-e01fc09e812d",
   "metadata": {
    "id": "d98fb2bf-d52c-4f4d-98e6-e01fc09e812d"
   },
   "source": [
    "`-` net를 생성 "
   ]
  },
  {
   "cell_type": "code",
   "execution_count": 47,
   "id": "02d73bbd-6191-4550-bed7-ac69a9227d67",
   "metadata": {
    "id": "02d73bbd-6191-4550-bed7-ac69a9227d67"
   },
   "outputs": [],
   "source": [
    "torch.manual_seed(43052)\n",
    "net = torch.nn.Linear(in_features=2, out_features=1, bias=False) "
   ]
  },
  {
   "cell_type": "markdown",
   "id": "db7159f6-b807-481d-b9ee-41e86c23027c",
   "metadata": {
    "id": "db7159f6-b807-481d-b9ee-41e86c23027c"
   },
   "source": [
    "`-` net의 weight와 bias가 $y_i=\\hat{w}x_i + \\hat{b}=10x_i - 5$와 같이 되도록 설정 "
   ]
  },
  {
   "cell_type": "code",
   "execution_count": 48,
   "id": "5d0d5785-cc2e-4552-ab38-c7ae9e5f85b3",
   "metadata": {
    "id": "5d0d5785-cc2e-4552-ab38-c7ae9e5f85b3",
    "outputId": "afb028b7-36ff-4863-d67d-ce0d19994176"
   },
   "outputs": [
    {
     "data": {
      "text/plain": [
       "Parameter containing:\n",
       "tensor([[-0.2451, -0.5989]], requires_grad=True)"
      ]
     },
     "execution_count": 48,
     "metadata": {},
     "output_type": "execute_result"
    }
   ],
   "source": [
    "net.weight "
   ]
  },
  {
   "cell_type": "code",
   "execution_count": 49,
   "id": "7dfe68c5-50a8-4106-9898-e7d253f07f8a",
   "metadata": {
    "id": "7dfe68c5-50a8-4106-9898-e7d253f07f8a"
   },
   "outputs": [],
   "source": [
    "net.weight.data = torch.tensor([[-5.00,10.00]]) \n",
    "# 수정해줄 때 net.weight에서 반환하는 결과대로 반환을 해줘야 함\n",
    "\n",
    "# 그런데 사실 입력이 100x2\n",
    "# 따라서 weight도 2x1이어야 함\n",
    "# 즉 torch.tensor([[-5.0],[10.0]])이래야 함\n",
    "\n",
    "# 그런데 그냥 torch 설계상 그런 것 뿐\n",
    "# 따라서 net.weight보고 반환된 형식대로 값을 변경해주면 된다"
   ]
  },
  {
   "cell_type": "code",
   "execution_count": 50,
   "id": "bacba36c-acee-4a39-a422-474ea4092fde",
   "metadata": {
    "id": "bacba36c-acee-4a39-a422-474ea4092fde",
    "outputId": "623292b9-6b47-4d3d-a746-a39b19367030"
   },
   "outputs": [
    {
     "data": {
      "text/plain": [
       "Parameter containing:\n",
       "tensor([[-5., 10.]], requires_grad=True)"
      ]
     },
     "execution_count": 50,
     "metadata": {},
     "output_type": "execute_result"
    }
   ],
   "source": [
    "net.weight "
   ]
  },
  {
   "cell_type": "markdown",
   "id": "a4ade463-f5fe-4d1d-a7dc-7fceca1b75b4",
   "metadata": {
    "id": "a4ade463-f5fe-4d1d-a7dc-7fceca1b75b4"
   },
   "source": [
    "`-` yhat계산 $\\to$ loss계산 $\\to$ 미분 $\\to$ 미분값확인 "
   ]
  },
  {
   "cell_type": "code",
   "execution_count": 51,
   "id": "0938e164-2c99-427b-88dc-d396867b1015",
   "metadata": {
    "id": "0938e164-2c99-427b-88dc-d396867b1015"
   },
   "outputs": [],
   "source": [
    "yhat = net(X) "
   ]
  },
  {
   "cell_type": "code",
   "execution_count": 52,
   "id": "c0bf3bc1-3509-4141-b96d-7cd4ab852b88",
   "metadata": {
    "id": "c0bf3bc1-3509-4141-b96d-7cd4ab852b88",
    "outputId": "499e4d79-49ba-4aed-be51-9a77c5bfe09d"
   },
   "outputs": [],
   "source": [
    "loss = loss_fn(y,yhat) "
   ]
  },
  {
   "cell_type": "code",
   "execution_count": 53,
   "id": "93c5281e-ac68-4e65-8d10-a31984275054",
   "metadata": {
    "id": "93c5281e-ac68-4e65-8d10-a31984275054"
   },
   "outputs": [],
   "source": [
    "loss.backward()"
   ]
  },
  {
   "cell_type": "code",
   "execution_count": 109,
   "id": "9c4dd180-e553-4d05-b32e-3f902c180304",
   "metadata": {
    "id": "9c4dd180-e553-4d05-b32e-3f902c180304",
    "outputId": "c133217a-a789-4448-960a-74be71736f8d"
   },
   "outputs": [
    {
     "data": {
      "text/plain": [
       "tensor([[-13.4225,  11.8893]])"
      ]
     },
     "execution_count": 109,
     "metadata": {},
     "output_type": "execute_result"
    }
   ],
   "source": [
    "net.weight.grad\n",
    "# 미분값 확인"
   ]
  }
 ],
 "metadata": {
  "accelerator": "GPU",
  "colab": {
   "provenance": []
  },
  "kernelspec": {
   "display_name": "Python 3 (ipykernel)",
   "language": "python",
   "name": "python3"
  },
  "language_info": {
   "codemirror_mode": {
    "name": "ipython",
    "version": 3
   },
   "file_extension": ".py",
   "mimetype": "text/x-python",
   "name": "python",
   "nbconvert_exporter": "python",
   "pygments_lexer": "ipython3",
   "version": "3.9.12"
  }
 },
 "nbformat": 4,
 "nbformat_minor": 5
}
