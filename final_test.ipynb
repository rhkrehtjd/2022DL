{
  "cells": [
    {
      "cell_type": "markdown",
      "id": "e3d3e2fe-9bb6-4e05-9c61-335daa8c6a32",
      "metadata": {
        "id": "e3d3e2fe-9bb6-4e05-9c61-335daa8c6a32"
      },
      "source": [
        "> ### preparation"
      ]
    },
    {
      "cell_type": "code",
      "execution_count": null,
      "id": "5579a609-c332-428d-a003-307ca5262b4d",
      "metadata": {
        "id": "5579a609-c332-428d-a003-307ca5262b4d"
      },
      "outputs": [],
      "source": [
        "import torch\n",
        "import matplotlib.pyplot as plt\n",
        "sig = torch.nn.Sigmoid()\n",
        "tanh = torch.nn.Tanh()\n",
        "soft = torch.nn.Softmax(dim=1)\n",
        "\n",
        "def f(txt,mapping):\n",
        "    return [mapping[key] for key in txt] \n",
        "\n",
        "\n",
        "txt = list('hi?hello!!')*100 \n",
        "txt_x = txt[:-1]\n",
        "txt_y = txt[1:]\n",
        "\n",
        "x = torch.tensor(f(txt_x,{'h':0,'i':1,'e':2,'l':3,'o':4,'?':5,'!':6}))\n",
        "y = torch.tensor(f(txt_y,{'h':0,'i':1,'e':2,'l':3,'o':4,'?':5,'!':6}))\n",
        "\n",
        "x= torch.nn.functional.one_hot(x).float().to(\"cuda:0\")\n",
        "y= torch.nn.functional.one_hot(y).float().to(\"cuda:0\")"
      ]
    },
    {
      "cell_type": "markdown",
      "id": "4c5bae31-ab07-48ef-85be-847a733525f7",
      "metadata": {
        "id": "4c5bae31-ab07-48ef-85be-847a733525f7"
      },
      "source": [
        "-----"
      ]
    },
    {
      "cell_type": "markdown",
      "id": "2f60e6de-94db-4cda-b72c-fadd1e204da8",
      "metadata": {
        "id": "2f60e6de-94db-4cda-b72c-fadd1e204da8"
      },
      "source": [
        "> ###  (1)"
      ]
    },
    {
      "cell_type": "code",
      "execution_count": null,
      "id": "165d5662-c532-4776-b8de-1403e7b24433",
      "metadata": {
        "id": "165d5662-c532-4776-b8de-1403e7b24433"
      },
      "outputs": [],
      "source": [
        "rnn = torch.nn.RNN(7,8).to(\"cuda:0\") \n",
        "cook = torch.nn.Linear(8,7).to(\"cuda:0\")"
      ]
    },
    {
      "cell_type": "code",
      "execution_count": null,
      "id": "c196d7aa-2230-42fa-9442-41e725c416ce",
      "metadata": {
        "id": "c196d7aa-2230-42fa-9442-41e725c416ce"
      },
      "outputs": [],
      "source": [
        "loss_fn = torch.nn.CrossEntropyLoss()\n",
        "optimizr = torch.optim.Adam(list(rnn.parameters())+list(cook.parameters()))"
      ]
    },
    {
      "cell_type": "code",
      "execution_count": null,
      "id": "ac55b163-d87f-417a-841b-5f16b5dee034",
      "metadata": {
        "id": "ac55b163-d87f-417a-841b-5f16b5dee034"
      },
      "outputs": [],
      "source": [
        "_water = torch.zeros(1,8).to(\"cuda:0\")\n",
        "for epoc in range(5000):\n",
        "    hidden,hT = rnn(x,_water) \n",
        "    output = cook(hidden)\n",
        "    loss = loss_fn(output,y) \n",
        "    loss.backward()\n",
        "    optimizr.step()\n",
        "    optimizr.zero_grad()"
      ]
    },
    {
      "cell_type": "code",
      "execution_count": null,
      "id": "c5e83951-23d7-4271-ac7d-25ac4a0c542b",
      "metadata": {
        "id": "c5e83951-23d7-4271-ac7d-25ac4a0c542b"
      },
      "outputs": [],
      "source": [
        "yhat = soft(output).data.to(\"cpu\")"
      ]
    },
    {
      "cell_type": "code",
      "execution_count": null,
      "id": "091fb1ca-cadb-464d-b708-2dcbc80ff909",
      "metadata": {
        "colab": {
          "base_uri": "https://localhost:8080/",
          "height": 548
        },
        "id": "091fb1ca-cadb-464d-b708-2dcbc80ff909",
        "outputId": "31f8cc53-229c-4fca-e907-abe9d3f608af"
      },
      "outputs": [
        {
          "data": {
            "text/plain": [
              "<matplotlib.image.AxesImage at 0x7fafdc87ed90>"
            ]
          },
          "execution_count": 100,
          "metadata": {},
          "output_type": "execute_result"
        },
        {
          "data": {
            "image/png": "[encoded data removed]",
            "text/plain": [
              "<Figure size 288x617.143 with 1 Axes>"
            ]
          },
          "metadata": {
            "needs_background": "light"
          },
          "output_type": "display_data"
        }
      ],
      "source": [
        "plt.matshow(yhat[-15:].data,cmap='bwr')"
      ]
    },
    {
      "cell_type": "markdown",
      "id": "ee8ade5a-8fc8-4b0e-b5b5-41b15de08c96",
      "metadata": {
        "id": "ee8ade5a-8fc8-4b0e-b5b5-41b15de08c96"
      },
      "source": [
        "> ### (2)"
      ]
    },
    {
      "cell_type": "code",
      "execution_count": null,
      "id": "UjBsQg5uIKUa",
      "metadata": {
        "id": "UjBsQg5uIKUa"
      },
      "outputs": [],
      "source": [
        "txt = list('hi?hello!!')*100 \n",
        "txt_x = txt[:-1]\n",
        "txt_y = txt[1:]\n",
        "\n",
        "x = torch.tensor(f(txt_x,{'h':0,'i':1,'e':2,'l':3,'o':4,'?':5,'!':6}))\n",
        "y = torch.tensor(f(txt_y,{'h':0,'i':1,'e':2,'l':3,'o':4,'?':5,'!':6}))\n",
        "\n",
        "x= torch.nn.functional.one_hot(x).float()\n",
        "y= torch.nn.functional.one_hot(y).float()"
      ]
    },
    {
      "cell_type": "code",
      "execution_count": null,
      "id": "77696fd6-ccd9-4ca4-9503-5bac567d8107",
      "metadata": {
        "id": "77696fd6-ccd9-4ca4-9503-5bac567d8107"
      },
      "outputs": [],
      "source": [
        "rnncell = torch.nn.RNNCell(7,8)"
      ]
    },
    {
      "cell_type": "code",
      "execution_count": null,
      "id": "022b7d15-861e-4a9c-a958-39cf8fa13215",
      "metadata": {
        "id": "022b7d15-861e-4a9c-a958-39cf8fa13215"
      },
      "outputs": [],
      "source": [
        "cook = torch.nn.Linear(8,7)"
      ]
    },
    {
      "cell_type": "code",
      "execution_count": null,
      "id": "a859340b-2c65-4a4a-826b-a405ff4544d8",
      "metadata": {
        "id": "a859340b-2c65-4a4a-826b-a405ff4544d8"
      },
      "outputs": [],
      "source": [
        "loss_fn = torch.nn.CrossEntropyLoss() \n",
        "optimizr = torch.optim.Adam(list(rnncell.parameters())+list(cook.parameters()),lr=0.1)"
      ]
    },
    {
      "cell_type": "code",
      "execution_count": null,
      "id": "fe3a50c9-f529-46eb-adf6-2a342ff30af9",
      "metadata": {
        "id": "fe3a50c9-f529-46eb-adf6-2a342ff30af9"
      },
      "outputs": [],
      "source": [
        "T = len(x) \n",
        "for epoc in range(500):\n",
        "    loss = 0 \n",
        "    ht = torch.zeros(1,8)\n",
        "    for t in range(T):\n",
        "        xt,yt = x[[t]], y[[t]]\n",
        "        ht = rnncell(xt,ht) \n",
        "        ot = cook(ht) \n",
        "        loss = loss + loss_fn(ot,yt)\n",
        "    loss.backward()\n",
        "    optimizr.step()\n",
        "    optimizr.zero_grad()"
      ]
    },
    {
      "cell_type": "code",
      "execution_count": null,
      "id": "0382af77-8177-4f53-86d0-c5574a83ce16",
      "metadata": {
        "id": "0382af77-8177-4f53-86d0-c5574a83ce16"
      },
      "outputs": [],
      "source": [
        "T = len(x) \n",
        "hidden = torch.zeros(T,8)\n",
        "_water = torch.zeros(1,8)\n",
        "hidden[[0]] = rnncell(x[[0]],_water) \n",
        "for t in range(1,T):\n",
        "    hidden[[t]] = rnncell(x[[t]],hidden[[t-1]]) "
      ]
    },
    {
      "cell_type": "code",
      "execution_count": null,
      "id": "d02489bb-0489-40e9-bef4-4a9d0d238cc4",
      "metadata": {
        "id": "d02489bb-0489-40e9-bef4-4a9d0d238cc4"
      },
      "outputs": [],
      "source": [
        "yhat = soft(cook(hidden))"
      ]
    },
    {
      "cell_type": "code",
      "execution_count": null,
      "id": "b85dd737-493c-434e-a6ba-9b9825e76aa3",
      "metadata": {
        "colab": {
          "base_uri": "https://localhost:8080/",
          "height": 548
        },
        "id": "b85dd737-493c-434e-a6ba-9b9825e76aa3",
        "outputId": "0e01d7b6-fd46-4622-9e91-3396f43c96ff"
      },
      "outputs": [
        {
          "data": {
            "text/plain": [
              "<matplotlib.image.AxesImage at 0x7fafdc8b9850>"
            ]
          },
          "execution_count": 108,
          "metadata": {},
          "output_type": "execute_result"
        },
        {
          "data": {
            "image/png": "[encoded data removed]",
            "text/plain": [
              "<Figure size 288x617.143 with 1 Axes>"
            ]
          },
          "metadata": {
            "needs_background": "light"
          },
          "output_type": "display_data"
        }
      ],
      "source": [
        "plt.matshow(yhat.data[-15:])"
      ]
    },
    {
      "cell_type": "markdown",
      "id": "2069330a-74c2-441f-8c17-206b5b65ad37",
      "metadata": {
        "id": "2069330a-74c2-441f-8c17-206b5b65ad37",
        "tags": []
      },
      "source": [
        "> ### (3)"
      ]
    },
    {
      "cell_type": "code",
      "execution_count": null,
      "id": "cf8b618b-8171-4f2f-9462-d63d93530927",
      "metadata": {
        "id": "cf8b618b-8171-4f2f-9462-d63d93530927"
      },
      "outputs": [],
      "source": [
        "class rNNCell(torch.nn.Module):\n",
        "    def __init__(self):\n",
        "        super().__init__()\n",
        "        self.i2h = torch.nn.Linear(7,8)\n",
        "        self.h2h = torch.nn.Linear(8,8)\n",
        "        self.tanh = torch.nn.Tanh()\n",
        "    def forward(self,x,ht):\n",
        "        ht = self.tanh(self.i2h(x)+self.h2h(ht))\n",
        "        return ht\n",
        "\n",
        "_rnncell = rNNCell()"
      ]
    },
    {
      "cell_type": "code",
      "execution_count": null,
      "id": "b33b0dfc-8a19-4410-9d83-3cff5cd24bb0",
      "metadata": {
        "id": "b33b0dfc-8a19-4410-9d83-3cff5cd24bb0"
      },
      "outputs": [],
      "source": [
        "_rnncell.i2h.weight.data = rnncell.weight_ih.data\n",
        "_rnncell.h2h.weight.data = rnncell.weight_hh.data\n",
        "_rnncell.h2h.bias.data = rnncell.bias_hh.data\n",
        "_rnncell.i2h.bias.data = rnncell.bias_ih.data"
      ]
    },
    {
      "cell_type": "code",
      "execution_count": null,
      "id": "4e411657-af50-4a9a-b158-16ea6e476d93",
      "metadata": {
        "id": "4e411657-af50-4a9a-b158-16ea6e476d93"
      },
      "outputs": [],
      "source": [
        "cook = torch.nn.Linear(8,7)"
      ]
    },
    {
      "cell_type": "code",
      "execution_count": null,
      "id": "849d9b25-5b4d-43b6-b186-5278f90b649a",
      "metadata": {
        "id": "849d9b25-5b4d-43b6-b186-5278f90b649a"
      },
      "outputs": [],
      "source": [
        "loss_fn = torch.nn.CrossEntropyLoss() \n",
        "optimizr = torch.optim.Adam(list(_rnncell.parameters())+list(cook.parameters()),lr=0.1)"
      ]
    },
    {
      "cell_type": "code",
      "execution_count": null,
      "id": "58ddf624-260e-4a71-8062-10b54571245f",
      "metadata": {
        "id": "58ddf624-260e-4a71-8062-10b54571245f"
      },
      "outputs": [],
      "source": [
        "T = len(x) \n",
        "for epoc in range(500): \n",
        "    loss = 0 \n",
        "    ht = torch.zeros(1,8)\n",
        "    for t in range(T):\n",
        "        xt,yt = x[[t]], y[[t]]\n",
        "        ht = _rnncell(xt,ht) \n",
        "        ot = cook(ht)\n",
        "        loss = loss + loss_fn(ot,yt) \n",
        "    loss.backward()\n",
        "    optimizr.step()\n",
        "    optimizr.zero_grad()"
      ]
    },
    {
      "cell_type": "code",
      "execution_count": null,
      "id": "6e8c581b-8c85-47d7-85e0-fe62a5dbad42",
      "metadata": {
        "id": "6e8c581b-8c85-47d7-85e0-fe62a5dbad42"
      },
      "outputs": [],
      "source": [
        "T = len(x) \n",
        "hidden = torch.zeros(T,8)\n",
        "_water = torch.zeros(1,8)\n",
        "hidden[[0]] = _rnncell(x[[0]],_water) \n",
        "for t in range(1,T):\n",
        "    hidden[[t]] = _rnncell(x[[t]],hidden[[t-1]]) "
      ]
    },
    {
      "cell_type": "code",
      "execution_count": null,
      "id": "81e94762-e6c2-4aee-9344-bc5eeca1f577",
      "metadata": {
        "colab": {
          "base_uri": "https://localhost:8080/",
          "height": 548
        },
        "id": "81e94762-e6c2-4aee-9344-bc5eeca1f577",
        "outputId": "ead281cb-fb8c-4977-a55c-e0f8fd3b24bb"
      },
      "outputs": [
        {
          "data": {
            "text/plain": [
              "<matplotlib.image.AxesImage at 0x7fafdc82d990>"
            ]
          },
          "execution_count": 129,
          "metadata": {},
          "output_type": "execute_result"
        },
        {
          "data": {
            "image/png": "[encoded data removed]",
            "text/plain": [
              "<Figure size 288x617.143 with 1 Axes>"
            ]
          },
          "metadata": {
            "needs_background": "light"
          },
          "output_type": "display_data"
        }
      ],
      "source": [
        "yhat = soft(cook(hidden))\n",
        "plt.matshow(yhat.data[-15:])"
      ]
    },
    {
      "cell_type": "markdown",
      "id": "d7bf4258-3bd3-4e45-8218-bb1e646f2f54",
      "metadata": {
        "id": "d7bf4258-3bd3-4e45-8218-bb1e646f2f54"
      },
      "source": [
        "> ### (4)"
      ]
    },
    {
      "cell_type": "code",
      "execution_count": null,
      "id": "Wfv640ibI5JY",
      "metadata": {
        "id": "Wfv640ibI5JY"
      },
      "outputs": [],
      "source": [
        "txt = list('hi?hello!!')*100 \n",
        "txt_x = txt[:-1]\n",
        "txt_y = txt[1:]\n",
        "\n",
        "x = torch.tensor(f(txt_x,{'h':0,'i':1,'e':2,'l':3,'o':4,'?':5,'!':6}))\n",
        "y = torch.tensor(f(txt_y,{'h':0,'i':1,'e':2,'l':3,'o':4,'?':5,'!':6}))\n",
        "\n",
        "x= torch.nn.functional.one_hot(x).float().to(\"cuda:0\")\n",
        "y= torch.nn.functional.one_hot(y).float().to(\"cuda:0\")"
      ]
    },
    {
      "cell_type": "code",
      "execution_count": null,
      "id": "20f2c369-0b0c-4e8f-b7f2-583d67819752",
      "metadata": {
        "id": "20f2c369-0b0c-4e8f-b7f2-583d67819752"
      },
      "outputs": [],
      "source": [
        "lstm = torch.nn.LSTM(7,4).to(\"cuda:0\")\n",
        "linr = torch.nn.Linear(4,7).to(\"cuda:0\")\n",
        "loss_fn = torch.nn.CrossEntropyLoss()\n",
        "optimizr = torch.optim.Adam(list(lstm.parameters())+ list(linr.parameters()),lr=0.1)"
      ]
    },
    {
      "cell_type": "code",
      "execution_count": null,
      "id": "222e4865-a73d-46dc-88c9-86e788c01056",
      "metadata": {
        "id": "222e4865-a73d-46dc-88c9-86e788c01056"
      },
      "outputs": [],
      "source": [
        "for epoc in range(500):\n",
        "    _water = torch.zeros(1,4).to(\"cuda:0\")\n",
        "    hidden, (hT,cT) = lstm(x,(_water,_water)) \n",
        "    output = linr(hidden) \n",
        "    loss = loss_fn(output,y) \n",
        "    loss.backward()\n",
        "    optimizr.step()\n",
        "    optimizr.zero_grad()"
      ]
    },
    {
      "cell_type": "code",
      "execution_count": null,
      "id": "9a325231-d40f-438d-b2a4-13b8d10a8a4c",
      "metadata": {
        "colab": {
          "base_uri": "https://localhost:8080/",
          "height": 548
        },
        "id": "9a325231-d40f-438d-b2a4-13b8d10a8a4c",
        "outputId": "154a1a22-69f7-46fd-afd2-955855959ebf"
      },
      "outputs": [
        {
          "data": {
            "text/plain": [
              "<matplotlib.image.AxesImage at 0x7fafdc835f10>"
            ]
          },
          "execution_count": 133,
          "metadata": {},
          "output_type": "execute_result"
        },
        {
          "data": {
            "image/png": "[encoded data removed]",
            "text/plain": [
              "<Figure size 288x617.143 with 1 Axes>"
            ]
          },
          "metadata": {
            "needs_background": "light"
          },
          "output_type": "display_data"
        }
      ],
      "source": [
        "yhat = soft(output).data.to(\"cpu\")\n",
        "plt.matshow(yhat.data[-15:])"
      ]
    },
    {
      "cell_type": "markdown",
      "id": "0d12be72-0292-4763-8b9e-43ddc355c93c",
      "metadata": {
        "id": "0d12be72-0292-4763-8b9e-43ddc355c93c",
        "tags": []
      },
      "source": [
        "> ### (5)"
      ]
    },
    {
      "cell_type": "code",
      "execution_count": null,
      "id": "LM2SPqeGJBfF",
      "metadata": {
        "id": "LM2SPqeGJBfF"
      },
      "outputs": [],
      "source": [
        "txt = list('hi?hello!!')*100 \n",
        "txt_x = txt[:-1]\n",
        "txt_y = txt[1:]\n",
        "\n",
        "x = torch.tensor(f(txt_x,{'h':0,'i':1,'e':2,'l':3,'o':4,'?':5,'!':6}))\n",
        "y = torch.tensor(f(txt_y,{'h':0,'i':1,'e':2,'l':3,'o':4,'?':5,'!':6}))\n",
        "\n",
        "x= torch.nn.functional.one_hot(x).float()\n",
        "y= torch.nn.functional.one_hot(y).float()"
      ]
    },
    {
      "cell_type": "code",
      "execution_count": null,
      "id": "78b498ff-525c-4a35-ac74-663425c55571",
      "metadata": {
        "id": "78b498ff-525c-4a35-ac74-663425c55571"
      },
      "outputs": [],
      "source": [
        "lstm_cell = torch.nn.LSTMCell(7,4)\n",
        "linr = torch.nn.Linear(4,7)\n",
        "loss_fn = torch.nn.CrossEntropyLoss() \n",
        "optimizr = torch.optim.Adam(list(lstm_cell.parameters())+list(linr.parameters()),lr=0.1)"
      ]
    },
    {
      "cell_type": "code",
      "execution_count": null,
      "id": "262e7e1d-ca36-4e90-a5fe-1f80bc65509e",
      "metadata": {
        "id": "262e7e1d-ca36-4e90-a5fe-1f80bc65509e"
      },
      "outputs": [],
      "source": [
        "T = len(x) \n",
        "for epoc in range(500):\n",
        "    ht = torch.zeros(1,4)\n",
        "    ct = torch.zeros(1,4)\n",
        "    loss = 0 \n",
        "    for t in range(T):\n",
        "        xt,yt = x[[t]], y[[t]]\n",
        "        ht,ct = lstm_cell(xt,(ht,ct))\n",
        "        ot = linr(ht)\n",
        "        loss = loss + loss_fn(ot,yt)\n",
        "    loss = loss / T \n",
        "    loss.backward()\n",
        "    optimizr.step()\n",
        "    optimizr.zero_grad()"
      ]
    },
    {
      "cell_type": "code",
      "execution_count": null,
      "id": "021c15c8-4f67-49db-a4d3-d03477b426e0",
      "metadata": {
        "id": "021c15c8-4f67-49db-a4d3-d03477b426e0"
      },
      "outputs": [],
      "source": [
        "T = len(x) \n",
        "_water = torch.zeros(1,4)\n",
        "ht = torch.zeros(T,4)\n",
        "ct = torch.zeros(T,4)\n",
        "ht[[0]],ct[[0]]= lstm_cell(x[[0]],(_water,_water)) \n",
        "for t in range(1,T):\n",
        "    ht[[t]],ct[[t]] = lstm_cell(x[[t]],(ht[[t-1]],ct[[t-1]])) "
      ]
    },
    {
      "cell_type": "code",
      "execution_count": null,
      "id": "501bcba5-8f5c-41f0-8a53-2388fb9838ed",
      "metadata": {
        "colab": {
          "base_uri": "https://localhost:8080/",
          "height": 548
        },
        "id": "501bcba5-8f5c-41f0-8a53-2388fb9838ed",
        "outputId": "2474ee5a-7c4e-4c39-e853-40dcadee8364"
      },
      "outputs": [
        {
          "data": {
            "text/plain": [
              "<matplotlib.image.AxesImage at 0x7fafdc6c9b50>"
            ]
          },
          "execution_count": 138,
          "metadata": {},
          "output_type": "execute_result"
        },
        {
          "data": {
            "image/png": "[encoded data removed]",
            "text/plain": [
              "<Figure size 288x617.143 with 1 Axes>"
            ]
          },
          "metadata": {
            "needs_background": "light"
          },
          "output_type": "display_data"
        }
      ],
      "source": [
        "yhat = soft(linr(ht))\n",
        "plt.matshow(yhat.data[-15:])"
      ]
    },
    {
      "cell_type": "markdown",
      "id": "cc590c17-37bc-4db3-8431-ecb1de75d8c3",
      "metadata": {
        "id": "cc590c17-37bc-4db3-8431-ecb1de75d8c3",
        "tags": []
      },
      "source": [
        "> ### (6)"
      ]
    },
    {
      "cell_type": "code",
      "execution_count": null,
      "id": "556781cf-31d7-4ab4-846d-cebbe66eeca5",
      "metadata": {
        "id": "556781cf-31d7-4ab4-846d-cebbe66eeca5"
      },
      "outputs": [],
      "source": [
        "optimizr = torch.optim.Adam(list(lstm_cell.parameters())+list(linr.parameters()),lr=0.1)"
      ]
    },
    {
      "cell_type": "code",
      "execution_count": null,
      "id": "c82e352f-47d9-49c1-a633-cc61af31ef5b",
      "metadata": {
        "id": "c82e352f-47d9-49c1-a633-cc61af31ef5b"
      },
      "outputs": [],
      "source": [
        "T = len(x) \n",
        "for epoc in range(500):\n",
        "    ht = torch.zeros(1,4)\n",
        "    ct = torch.zeros(1,4)\n",
        "    loss = 0 \n",
        "    for t in range(T):\n",
        "        xt,yt = x[[t]], y[[t]]\n",
        "        \n",
        "        _ifgo = xt @ lstm_cell.weight_ih.T + ht @ lstm_cell.weight_hh.T + lstm_cell.bias_ih + lstm_cell.bias_hh\n",
        "        \n",
        "        input_gate = sig(_ifgo[:,0:4])\n",
        "        forget_gate = sig(_ifgo[:,4:8])\n",
        "        gt = tanh(_ifgo[:,8:12])\n",
        "        output_gate = sig(_ifgo[:,12:16])\n",
        "        \n",
        "        ct = forget_gate * ct + input_gate * gt\n",
        "        ht = output_gate * tanh(ct)\n",
        "        \n",
        "        ot = linr(ht)\n",
        "        loss = loss + loss_fn(ot,yt)\n",
        "    loss = loss / T\n",
        "        \n",
        "    loss.backward()\n",
        "        \n",
        "    optimizr.step()\n",
        "    optimizr.zero_grad()"
      ]
    },
    {
      "cell_type": "markdown",
      "source": [
        "-------------------------------------------------------------------------"
      ],
      "metadata": {
        "id": "qY__Fg5FsKd7"
      },
      "id": "qY__Fg5FsKd7"
    },
    {
      "cell_type": "markdown",
      "source": [
        "> # 2"
      ],
      "metadata": {
        "id": "IV3asLnpt538"
      },
      "id": "IV3asLnpt538"
    },
    {
      "cell_type": "markdown",
      "source": [
        "- 1)\n",
        "  - 참\n",
        "- 2)\n",
        "  - 참\n",
        "- 3)\n",
        "  - 참\n",
        "- 4)\n",
        "  - 거짓\n",
        "- 5)\n",
        "  - 거짓"
      ],
      "metadata": {
        "id": "3A4nBkUdsNjj"
      },
      "id": "3A4nBkUdsNjj"
    },
    {
      "cell_type": "markdown",
      "source": [],
      "metadata": {
        "id": "fyziEUf0sNcD"
      },
      "id": "fyziEUf0sNcD"
    },
    {
      "cell_type": "code",
      "source": [],
      "metadata": {
        "id": "R8gw2yJasJoa"
      },
      "id": "R8gw2yJasJoa",
      "execution_count": null,
      "outputs": []
    },
    {
      "cell_type": "code",
      "source": [],
      "metadata": {
        "id": "Tiz6_H9ksJbr"
      },
      "id": "Tiz6_H9ksJbr",
      "execution_count": null,
      "outputs": []
    },
    {
      "cell_type": "code",
      "source": [],
      "metadata": {
        "id": "e9paj_wlsJVL"
      },
      "id": "e9paj_wlsJVL",
      "execution_count": null,
      "outputs": []
    },
    {
      "cell_type": "code",
      "source": [],
      "metadata": {
        "id": "MMeNogjksJQr"
      },
      "id": "MMeNogjksJQr",
      "execution_count": null,
      "outputs": []
    },
    {
      "cell_type": "code",
      "source": [],
      "metadata": {
        "id": "AGTeDACnsJLL"
      },
      "id": "AGTeDACnsJLL",
      "execution_count": null,
      "outputs": []
    },
    {
      "cell_type": "code",
      "source": [],
      "metadata": {
        "id": "lNESxh1csI-T"
      },
      "id": "lNESxh1csI-T",
      "execution_count": null,
      "outputs": []
    }
  ],
  "metadata": {
    "accelerator": "GPU",
    "colab": {
      "provenance": []
    },
    "gpuClass": "standard",
    "kernelspec": {
      "display_name": "Python 3 (ipykernel)",
      "language": "python",
      "name": "python3"
    },
    "language_info": {
      "codemirror_mode": {
        "name": "ipython",
        "version": 3
      },
      "file_extension": ".py",
      "mimetype": "text/x-python",
      "name": "python",
      "nbconvert_exporter": "python",
      "pygments_lexer": "ipython3",
      "version": "3.9.12"
    }
  },
  "nbformat": 4,
  "nbformat_minor": 5
}